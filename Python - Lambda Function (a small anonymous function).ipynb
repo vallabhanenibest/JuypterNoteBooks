{
 "cells": [
  {
   "cell_type": "code",
   "execution_count": 1,
   "metadata": {},
   "outputs": [
    {
     "name": "stdout",
     "output_type": "stream",
     "text": [
      "15\n"
     ]
    }
   ],
   "source": [
    "\"\"\"\n",
    "Python Lambda\n",
    "\n",
    "A lambda function is a small anonymous function.\n",
    "\n",
    "A lambda function can take any number of arguments, but can only have one expression.\n",
    "\n",
    "Syntax\n",
    "lambda arguments : expression\n",
    "\n",
    "The expression is executed and the result is returned:\n",
    "\n",
    "\"\"\"\n",
    "#A lambda function that adds 10 to the number passed in as an argument, and print the result:\n",
    "x = lambda a : a + 10\n",
    "print(x(5)) \n"
   ]
  },
  {
   "cell_type": "code",
   "execution_count": 2,
   "metadata": {},
   "outputs": [
    {
     "name": "stdout",
     "output_type": "stream",
     "text": [
      "30\n"
     ]
    }
   ],
   "source": [
    "\"\"\"\n",
    "Lambda functions can take any number of arguments:\n",
    "Example\n",
    "\"\"\"\n",
    "#A lambda function that multiplies argument a with argument b and print the result:\n",
    "x = lambda a, b : a * b\n",
    "print(x(5, 6)) "
   ]
  },
  {
   "cell_type": "code",
   "execution_count": 3,
   "metadata": {},
   "outputs": [
    {
     "name": "stdout",
     "output_type": "stream",
     "text": [
      "13\n"
     ]
    }
   ],
   "source": [
    "#A lambda function that sums argument a, b, and c and print the result:\n",
    "x = lambda a, b, c : a + b + c\n",
    "print(x(5, 6, 2)) "
   ]
  },
  {
   "cell_type": "code",
   "execution_count": 4,
   "metadata": {},
   "outputs": [
    {
     "name": "stdout",
     "output_type": "stream",
     "text": [
      "22\n"
     ]
    }
   ],
   "source": [
    "\"\"\"\n",
    "Why Use Lambda Functions?\n",
    "\n",
    "The power of lambda is better shown when you use them as an anonymous function inside another function.\n",
    "\n",
    "Say you have a function definition that takes one argument, and that argument will be multiplied with an unknown number:\n",
    "def myfunc(n):\n",
    "  return lambda a : a * n\n",
    "\n",
    "Use that function definition to make a function that always doubles the number you send in:\n",
    "\n",
    "\"\"\"\n",
    "\n",
    "def myfunc(n):\n",
    "  return lambda a : a * n\n",
    "\n",
    "mydoubler = myfunc(2)\n",
    "\n",
    "print(mydoubler(11))"
   ]
  },
  {
   "cell_type": "code",
   "execution_count": 5,
   "metadata": {},
   "outputs": [
    {
     "name": "stdout",
     "output_type": "stream",
     "text": [
      "33\n"
     ]
    }
   ],
   "source": [
    "\"\"\"\n",
    "Or, use the same function definition to make a function that always triples the number you send in:\n",
    "Example\n",
    "\"\"\"\n",
    "def myfunc(n):\n",
    "  return lambda a : a * n\n",
    "\n",
    "mytripler = myfunc(3)\n",
    "\n",
    "print(mytripler(11))"
   ]
  },
  {
   "cell_type": "code",
   "execution_count": 6,
   "metadata": {},
   "outputs": [
    {
     "name": "stdout",
     "output_type": "stream",
     "text": [
      "22\n",
      "33\n"
     ]
    }
   ],
   "source": [
    "\"\"\"\n",
    "Or, use the same function definition to make both functions, in the same program:\n",
    "Example\n",
    "\"\"\"\n",
    "\n",
    "#Note : Use lambda functions when an anonymous function is required for a short period of time.\n",
    "\n",
    "def myfunc(n):\n",
    "  return lambda a : a * n\n",
    "\n",
    "mydoubler = myfunc(2)\n",
    "mytripler = myfunc(3)\n",
    "\n",
    "print(mydoubler(11))\n",
    "print(mytripler(11))\n"
   ]
  },
  {
   "cell_type": "code",
   "execution_count": 3,
   "metadata": {},
   "outputs": [
    {
     "name": "stdout",
     "output_type": "stream",
     "text": [
      "Print With Return, REGULAR CALL\n",
      "Print Only, REGULAR CALL \n",
      "\n",
      "Print With Return, LAMBDA CALL\n",
      "Print Only, LAMBDA CALL\n"
     ]
    }
   ],
   "source": [
    "#A REGULAR FUNCTION\n",
    "def regularFn( funct, *args ):\n",
    "    funct( *args )\n",
    "def printWithReturn( arg ):\n",
    "    return print (arg)\n",
    "def printOnly( arg ):\n",
    "    print(arg)\n",
    "#CALL A REGULAR FUNCTION \n",
    "regularFn( printWithReturn, 'Print With Return, REGULAR CALL' )\n",
    "regularFn( printOnly, 'Print Only, REGULAR CALL \\n' )\n",
    "#CALL A REGULAR FUNCTION THRU A LAMBDA\n",
    "regularFn(lambda: printWithReturn('Print With Return, LAMBDA CALL'))\n",
    "regularFn(lambda: printOnly('Print Only, LAMBDA CALL'))"
   ]
  },
  {
   "cell_type": "code",
   "execution_count": 5,
   "metadata": {},
   "outputs": [
    {
     "data": {
      "text/plain": [
       "4"
      ]
     },
     "execution_count": 5,
     "metadata": {},
     "output_type": "execute_result"
    }
   ],
   "source": [
    "# Using lambdas with Python built-ins : map(), filter(), reduce()\n",
    "# Lambda functions provide an elegant and powerful way to perform operations using built-in methods in Python. \n",
    "# It is possible because lambdas can be invoked immediately and passed as an argument to these functions. \n",
    "# IIFE in Python Lambda:\n",
    "#          IIFE stands for \"immediately invoked function execution\". It means that a lambda function is callable as \n",
    "# soon as it is defined. Let's understand this with an example; fire up your IDLE and type in the following: \n",
    "(lambda x: x + x)(2)"
   ]
  },
  {
   "cell_type": "code",
   "execution_count": 6,
   "metadata": {},
   "outputs": [
    {
     "name": "stdout",
     "output_type": "stream",
     "text": [
      "[10, 8, 7, 5, 11]\n"
     ]
    }
   ],
   "source": [
    "'''\n",
    "lambdas in filter()\n",
    "The filter function is used to select some particular elements from a sequence of elements. \n",
    "The sequence can be any iterator like lists, sets, tuples, etc. \n",
    "\n",
    "The elements which will be selected is based on some pre-defined constraint. It takes 2 parameters: \n",
    "1. A function that defines the filtering constraint\n",
    "2. A sequence (any iterator like lists, tuples, etc.)\n",
    "'''\n",
    "\n",
    "sequences = [10,2,8,7,5,4,3,11,0, 1]\n",
    "filtered_result = filter (lambda x: x > 4, sequences) \n",
    "print(list(filtered_result))\n",
    "\n",
    "\n",
    "# Code Explanation: \n",
    "# 1. In the first statement, we define a list called sequences which contains some numbers. \n",
    "# 2. Here, we declare a variable called filtered_result, which will store the filtered values \n",
    "#    returned by the filter() function. \n",
    "# 3. A lambda function which runs on each element of the list and returns true if it is greater than 4. \n",
    "# 4. Print the result returned by the filter function. "
   ]
  },
  {
   "cell_type": "code",
   "execution_count": 7,
   "metadata": {},
   "outputs": [
    {
     "name": "stdout",
     "output_type": "stream",
     "text": [
      "[100, 4, 64, 49, 25, 16, 9, 121, 0, 1]\n"
     ]
    }
   ],
   "source": [
    "'''\n",
    "lambdas in map()\n",
    "The map function is used to apply a particular operation to every element in a sequence. \n",
    "Like filter(), it also takes 2 parameters: \n",
    "1. A function that defines the op to perform on the elements\n",
    "2. One or more sequences\n",
    "'''\n",
    "sequences = [10,2,8,7,5,4,3,11,0, 1]\n",
    "filtered_result = map (lambda x: x*x, sequences) \n",
    "print(list(filtered_result))\n",
    "\n",
    "# Code Explanation: \n",
    "# 1. Here, we define a list called sequences which contains some numbers. \n",
    "# 2. We declare a variable called filtered_result which will store the mapped values \n",
    "# 3. A lambda function which runs on each element of the list and returns the square of that number. \n",
    "# 4. Print the result returned by the map function. "
   ]
  },
  {
   "cell_type": "code",
   "execution_count": 8,
   "metadata": {},
   "outputs": [
    {
     "name": "stdout",
     "output_type": "stream",
     "text": [
      "120\n"
     ]
    }
   ],
   "source": [
    "'''\n",
    "lambdas in reduce()\n",
    "The reduce function, like map(), is used to apply an operation to every element in a sequence. However, it differs \n",
    "from the map in its working. These are the steps followed by the reduce() function to compute an output: \n",
    "Step 1) Perform the defined operation on the first 2 elements of the sequence. \n",
    "Step 2) Save this result \n",
    "Step 3) Perform the operation with the saved result and the next element in the sequence. \n",
    "Step 4) Repeat until no more elements are left. \n",
    "It also takes two parameters: \n",
    "1. A function that defines the operation to be performed\n",
    "2. A sequence (any iterator like lists, tuples, etc.)\n",
    "'''\n",
    "\n",
    "from functools import reduce\n",
    "sequences = [1,2,3,4,5]\n",
    "product = reduce (lambda x, y: x*y, sequences)\n",
    "print(product)\n",
    "\n",
    "# Code Explanation: \n",
    "# 1. Import reduce from the functools module \n",
    "# 2. Here, we define a list called sequences which contains some numbers. \n",
    "# 3. We declare a variable called product which will store the reduced value \n",
    "# 4. A lambda function that runs on each element of the list. It will return the product of that number as \n",
    "#   per the previous result. \n",
    "# 5. Print the result returned by the reduce function."
   ]
  },
  {
   "cell_type": "code",
   "execution_count": 9,
   "metadata": {},
   "outputs": [
    {
     "name": "stdout",
     "output_type": "stream",
     "text": [
      "Lambda vs Regular, explanation\n"
     ]
    }
   ],
   "source": [
    "# Why (and why not) use lambda functions?\n",
    "'''\n",
    "lambdas are treated the same as regular functions at the interpreter level. In a way, you could say that lambdas \n",
    "provide compact syntax for writing functions which return a single expression. \n",
    "\n",
    "However, you should know when it is a good idea to use lambdas and when to avoid them. \n",
    "\n",
    "One of the most common use cases for lambdas is in functional programming as Python supports \n",
    "a paradigm (or style) of programming known as functional programming. \n",
    "\n",
    "It allows you to provide a function as a parameter to another function (for example, in map, filter, etc.). \n",
    "In such cases, using lambdas offer an elegant way to create a one-time function and pass it as the parameter. \n",
    "\n",
    "'''\n",
    "\n",
    "# When should you not use Lambda?\n",
    "'''\n",
    "You should never write complicated lambda functions in a production environment. It will be very difficult \n",
    "for coders who maintain your code to decrypt it. If you find yourself making complex one-liner expressions, \n",
    "it would be a much superior practice to define a proper function. As a best practice, you need to remember\n",
    "that simple code is always better than complex code. \n",
    "'''\n",
    "\n",
    "#Lambda vs Regular Functions\n",
    "\n",
    "'''\n",
    "1. Lambda functions can only have one expression in their body. \n",
    "2. Regular functions can have multiple expressions and statements in their body. \n",
    "3. Lambdas do not have a name associated with them. That's why they are also known as anonymous functions. \n",
    "4. Regular functions must have a name and signature. \n",
    "5. Lambdas do not contain a return statement because the body is automatically returned. \n",
    "6. Functions which need to return value should include a return statement. \n",
    "\n",
    "\n",
    "Without using Lambda : \n",
    "    Here, both of them returns the cube of a given number. But, while using def, we needed to define a function with \n",
    "    a name cube and needed to pass a value to it. After execution, we also needed to return the result from where the \n",
    "    function was called using the return keyword.\n",
    "Using Lambda : \n",
    "    Lambda definition does not include a “return” statement, it always contains an expression which is returned. \n",
    "    We can also put a lambda definition anywhere a function is expected, and we don’t have to assign it to a \n",
    "    variable at all. This is the simplicity of lambda functions.\n",
    "\n",
    "'''\n",
    "\n",
    "print('Lambda vs Regular, explanation')\n"
   ]
  },
  {
   "cell_type": "code",
   "execution_count": null,
   "metadata": {},
   "outputs": [],
   "source": []
  }
 ],
 "metadata": {
  "kernelspec": {
   "display_name": "Python 3",
   "language": "python",
   "name": "python3"
  },
  "language_info": {
   "codemirror_mode": {
    "name": "ipython",
    "version": 3
   },
   "file_extension": ".py",
   "mimetype": "text/x-python",
   "name": "python",
   "nbconvert_exporter": "python",
   "pygments_lexer": "ipython3",
   "version": "3.8.2"
  }
 },
 "nbformat": 4,
 "nbformat_minor": 2
}
