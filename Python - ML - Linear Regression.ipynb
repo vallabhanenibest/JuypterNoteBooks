{
 "cells": [
  {
   "cell_type": "code",
   "execution_count": 1,
   "metadata": {},
   "outputs": [
    {
     "data": {
      "image/png": "[encoded data removed]",
      "text/plain": [
       "<Figure size 432x288 with 1 Axes>"
      ]
     },
     "metadata": {
      "needs_background": "light"
     },
     "output_type": "display_data"
    }
   ],
   "source": [
    "\"\"\"\n",
    "Linear Regression\n",
    "*****************\n",
    "\n",
    "Regression\n",
    "----------\n",
    "The term regression is used when you try to find the relationship between variables.\n",
    "\n",
    "In Machine Learning, and in statistical modeling, that relationship is used to predict the outcome of future events.\n",
    "\n",
    "Linear Regression\n",
    "-----------------\n",
    "\n",
    "Linear regression uses the relationship between the data-points to draw a straight line through all them.\n",
    "\n",
    "In Machine Learning, predicting the future is very important.\n",
    "\n",
    "How Does it Work?\n",
    "----------------\n",
    "Python has methods for finding a relationship between data-points and to draw a line of linear regression. \n",
    "We will show you how to use these methods instead of going through the mathematic formula.\n",
    "\n",
    "In the example below, the x-axis represents age, and the y-axis represents speed. We have registered the \n",
    "age and speed of 13 cars as they were passing a tollbooth. Let us see if the data we collected could be used \n",
    "in a linear regression:\n",
    "\n",
    "Example\n",
    "-------\n",
    "\"\"\"\n",
    "#Start by drawing a scatter plot:\n",
    "import matplotlib.pyplot as plt\n",
    "\n",
    "x = [5,7,8,7,2,17,2,9,4,11,12,9,6]\n",
    "y = [99,86,87,88,111,86,103,87,94,78,77,85,86]\n",
    "\n",
    "plt.scatter(x, y)\n",
    "plt.show() \n"
   ]
  },
  {
   "cell_type": "code",
   "execution_count": 5,
   "metadata": {},
   "outputs": [
    {
     "data": {
      "image/png": "[encoded data removed]",
      "text/plain": [
       "<Figure size 432x288 with 1 Axes>"
      ]
     },
     "metadata": {
      "needs_background": "light"
     },
     "output_type": "display_data"
    },
    {
     "name": "stdout",
     "output_type": "stream",
     "text": [
      "Explanation in Comment\n"
     ]
    }
   ],
   "source": [
    "#Import scipy and draw the line of Linear Regression:\n",
    "import matplotlib.pyplot as plt\n",
    "from scipy import stats\n",
    "\n",
    "x = [5,7,8,7,2,17,2,9,4,11,12,9,6]\n",
    "y = [99,86,87,88,111,86,103,87,94,78,77,85,86]\n",
    "\n",
    "slope, intercept, r, p, std_err = stats.linregress(x, y)\n",
    "\n",
    "def myfunc(x):\n",
    "  return slope * x + intercept\n",
    "\n",
    "mymodel = list(map(myfunc, x))\n",
    "\n",
    "plt.scatter(x, y)\n",
    "plt.plot(x, mymodel)\n",
    "plt.show() \n",
    "\n",
    "\"\"\"\n",
    "Example Explained\n",
    "-----------------\n",
    "\n",
    "Import the modules you need:\n",
    "\n",
    "import matplotlib.pyplot as plt\n",
    "from scipy import stats\n",
    "\n",
    "Create the arrays that represents the values of the x and y axis:\n",
    "\n",
    "x = [5,7,8,7,2,17,2,9,4,11,12,9,6]\n",
    "y = [99,86,87,88,111,86,103,87,94,78,77,85,86]\n",
    "\n",
    "Execute a method that returns some important key values of Linear Regression:\n",
    "\n",
    "slope, intercept, r, p, std_err = stats.linregress(x, y)\n",
    "\n",
    "Create a function that uses the slope and intercept values to return a new value. This new value represents \n",
    "where on the y-axis the corresponding x value will be placed:\n",
    "\n",
    "def myfunc(x):\n",
    "  return slope * x + intercept\n",
    "\n",
    "Run each value of the x array through the function. This will result in a new array with new values for the y-axis:\n",
    "\n",
    "mymodel = list(map(myfunc, x))\n",
    "\n",
    "Draw the original scatter plot:\n",
    "\n",
    "plt.scatter(x, y)\n",
    "\n",
    "Draw the line of linear regression:\n",
    "\n",
    "plt.plot(x, mymodel)\n",
    "\n",
    "Display the diagram:\n",
    "\n",
    "plt.show()\n",
    "\n",
    "\n",
    "\"\"\"\n",
    "print(\"Explanation in Comment\")"
   ]
  },
  {
   "cell_type": "code",
   "execution_count": 6,
   "metadata": {},
   "outputs": [
    {
     "name": "stdout",
     "output_type": "stream",
     "text": [
      "-0.758591524376155\n"
     ]
    }
   ],
   "source": [
    "\"\"\"\n",
    "R-Squared\n",
    "\n",
    "It is important to know how well the relationship between the values of the x-axis and the values of the y-axis is, \n",
    "if there are no relationship the linear regression can not be used to predict anything.\n",
    "\n",
    "The relationship is measured with a value called the r-squared.\n",
    "\n",
    "The r-squared value ranges from 0 to 1, where 0 means no relationship, and 1 means 100% related.\n",
    "\n",
    "Python and the Scipy module will computed this value for you, all you have to do is feed it with the x and y values:\n",
    "Example\n",
    "\"\"\"\n",
    "#How well does my data fit in a linear regression?\n",
    "from scipy import stats\n",
    "\n",
    "x = [5,7,8,7,2,17,2,9,4,11,12,9,6]\n",
    "y = [99,86,87,88,111,86,103,87,94,78,77,85,86]\n",
    "\n",
    "slope, intercept, r, p, std_err = stats.linregress(x, y)\n",
    "\"\"\"\n",
    "Note: The result -076 shows that there are a relationship, not perfect, but it indicates that\n",
    "we could use linear regression in future predictions.\n",
    "\"\"\"\n",
    "print(r)"
   ]
  },
  {
   "cell_type": "code",
   "execution_count": 7,
   "metadata": {},
   "outputs": [
    {
     "name": "stdout",
     "output_type": "stream",
     "text": [
      "85.59308314937454\n"
     ]
    }
   ],
   "source": [
    "\"\"\"\n",
    "Predict Future Values\n",
    "\n",
    "Now we can use the information we have gathered to predict future values.\n",
    "\n",
    "Example: Let us try to predict the speed of a 10 years old car.\n",
    "\n",
    "To do so, we need the same myfunc() function from the example above:\n",
    "\n",
    "def myfunc(x):\n",
    "  return slope * x + intercept\n",
    "Example\n",
    "\"\"\"\n",
    "#Predict the speed of a 10 years old car:\n",
    "from scipy import stats\n",
    "\n",
    "x = [5,7,8,7,2,17,2,9,4,11,12,9,6]\n",
    "y = [99,86,87,88,111,86,103,87,94,78,77,85,86]\n",
    "\n",
    "slope, intercept, r, p, std_err = stats.linregress(x, y)\n",
    "\n",
    "def myfunc(x):\n",
    "  return slope * x + intercept\n",
    "\n",
    "speed = myfunc(10)\n",
    "#The example predicted a speed at 85.6, which we also could read from the diagram:\n",
    "print(speed) \n"
   ]
  },
  {
   "cell_type": "code",
   "execution_count": 8,
   "metadata": {},
   "outputs": [
    {
     "data": {
      "image/png": "[encoded data removed]",
      "text/plain": [
       "<Figure size 432x288 with 1 Axes>"
      ]
     },
     "metadata": {
      "needs_background": "light"
     },
     "output_type": "display_data"
    }
   ],
   "source": [
    "\"\"\"\n",
    "Bad Fit?\n",
    "\n",
    "Let us create an example where linear regression would not be the best method to predict future values.\n",
    "Example\n",
    "\"\"\"\n",
    "\n",
    "#These values for the x- and y-axis should result in a very bad fit for linear regression:\n",
    "\n",
    "import matplotlib.pyplot as plt\n",
    "from scipy import stats\n",
    "\n",
    "x = [89,43,36,36,95,10,66,34,38,20,26,29,48,64,6,5,36,66,72,40]\n",
    "y = [21,46,3,35,67,95,53,72,58,10,26,34,90,33,38,20,56,2,47,15]\n",
    "\n",
    "slope, intercept, r, p, std_err = stats.linregress(x, y)\n",
    "\n",
    "def myfunc(x):\n",
    "  return slope * x + intercept\n",
    "\n",
    "mymodel = list(map(myfunc, x))\n",
    "\n",
    "plt.scatter(x, y)\n",
    "plt.plot(x, mymodel)\n",
    "plt.show()\n"
   ]
  },
  {
   "cell_type": "code",
   "execution_count": 10,
   "metadata": {},
   "outputs": [
    {
     "name": "stdout",
     "output_type": "stream",
     "text": [
      "0.01331814154297491\n"
     ]
    }
   ],
   "source": [
    "\"\"\"\n",
    "And the r-squared value?\n",
    "Example\n",
    "\"\"\"\n",
    "#You should get a very low r-squared value.\n",
    "import numpy\n",
    "from scipy import stats\n",
    "\n",
    "x = [89,43,36,36,95,10,66,34,38,20,26,29,48,64,6,5,36,66,72,40]\n",
    "y = [21,46,3,35,67,95,53,72,58,10,26,34,90,33,38,20,56,2,47,15]\n",
    "\n",
    "slope, intercept, r, p, std_err = stats.linregress(x, y)\n",
    "\"\"\"\n",
    "The result: 0.013 indicates a very bad relationship, and tells us that this data set is \n",
    "not suitable for linear regression.\n",
    "\"\"\"\n",
    "print(r)"
   ]
  },
  {
   "cell_type": "code",
   "execution_count": null,
   "metadata": {},
   "outputs": [],
   "source": []
  }
 ],
 "metadata": {
  "kernelspec": {
   "display_name": "Python 3",
   "language": "python",
   "name": "python3"
  },
  "language_info": {
   "codemirror_mode": {
    "name": "ipython",
    "version": 3
   },
   "file_extension": ".py",
   "mimetype": "text/x-python",
   "name": "python",
   "nbconvert_exporter": "python",
   "pygments_lexer": "ipython3",
   "version": "3.7.5"
  }
 },
 "nbformat": 4,
 "nbformat_minor": 2
}
