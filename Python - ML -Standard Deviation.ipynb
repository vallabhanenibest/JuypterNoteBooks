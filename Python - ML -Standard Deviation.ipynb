{
 "cells": [
  {
   "cell_type": "code",
   "execution_count": 1,
   "metadata": {},
   "outputs": [
    {
     "name": "stdout",
     "output_type": "stream",
     "text": [
      "Explanation: Standard Deviation & Variance\n"
     ]
    }
   ],
   "source": [
    "\"\"\"\n",
    "Standard Deviation\n",
    "******************\n",
    "\n",
    "Standard deviation is a number that describes how spread out the values are.\n",
    "\n",
    "A low standard deviation means that most of the numbers are close to the mean (average) value.\n",
    "\n",
    "A high standard deviation means that the values are spread out over a wider range.\n",
    "\n",
    "Example: \n",
    "-------\n",
    "\n",
    "This time we have registered the speed of 7 cars:\n",
    "\n",
    "speed = [86,87,88,86,87,85,86]\n",
    "\n",
    "The standard deviation is:\n",
    "\n",
    "0.9\n",
    "\n",
    "Meaning that most of the values are within the range of 0.9 from the mean value, which is 86.4.\n",
    "\n",
    "Let us do the same with a selection of numbers with a wider range:\n",
    "\n",
    "speed = [32,111,138,28,59,77,97]\n",
    "\n",
    "The standard deviation is:\n",
    "\n",
    "37.85\n",
    "\n",
    "Meaning that most of the values are within the range of 37.85 from the mean value, which is 77.4.\n",
    "\n",
    "As you can see, a higher standard deviation indicates that the values are spread out over a wider range.\n",
    "\n",
    "Symbol\n",
    "-------\n",
    "Standard Deviation is often repesented by the symbol Sigma: σ\n",
    "\n",
    "Variance\n",
    "********\n",
    "\n",
    "Variance is another number that indicates how spread out the values are.\n",
    "\n",
    "In fact, if you take the square root of the variance, you get the standard variation!\n",
    "\n",
    "Or the other way around, if you multiply the standard deviation by itself, you get the variance!\n",
    "\n",
    "Symbol\n",
    "------\n",
    "Variance is often repesented by the symbol Sigma Square: σ2 \n",
    "\n",
    "To calculate the variance you have to do as follows:\n",
    "\n",
    "1. Find the mean:\n",
    "\n",
    "(32+111+138+28+59+77+97) = 77.4\n",
    "\n",
    "2. For each value: find the difference from the mean:\n",
    "\n",
    " 32 - 77.4 = -45.4\n",
    "111 - 77.4 =  33.6\n",
    "138 - 77.4 =  60.6\n",
    " 28 - 77.4 = -49.4\n",
    " 59 - 77.4 = -18.4\n",
    " 77 - 77.4 = - 0.4\n",
    " 97 - 77.4 =  19.6\n",
    "\n",
    "3. For each difference: find the square value:\n",
    "\n",
    "(-45.4)2 = 2061.16\n",
    " (33.6)2 = 1128.96\n",
    " (60.6)2 = 3672.36\n",
    "(-49.4)2 = 2440.36\n",
    "(-18.4)2 =  338.56\n",
    "(- 0.4)2 =    0.16\n",
    " (19.6)2 =  384.16\n",
    "\n",
    "4. The variance is the average number of these squared differences:\n",
    "\n",
    "(2061.16+1128.96+3672.36+2440.36+338.56+0.16+384.16) / 7 = 1432.2\n",
    "\n",
    "\n",
    "\n",
    "\"\"\"\n",
    "print(\"Explanation: Standard Deviation & Variance\")"
   ]
  },
  {
   "cell_type": "code",
   "execution_count": 2,
   "metadata": {},
   "outputs": [
    {
     "name": "stdout",
     "output_type": "stream",
     "text": [
      "0.9035079029052513\n"
     ]
    }
   ],
   "source": [
    "#Use the NumPy std() method to find the standard deviation:\n",
    "import numpy\n",
    "\n",
    "speed = [86,87,88,86,87,85,86]\n",
    "\n",
    "x = numpy.std(speed)\n",
    "\n",
    "print(x) "
   ]
  },
  {
   "cell_type": "code",
   "execution_count": 3,
   "metadata": {},
   "outputs": [
    {
     "name": "stdout",
     "output_type": "stream",
     "text": [
      "37.84501153334721\n"
     ]
    }
   ],
   "source": [
    "import numpy\n",
    "\n",
    "speed = [32,111,138,28,59,77,97]\n",
    "\n",
    "x = numpy.std(speed)\n",
    "\n",
    "print(x) "
   ]
  },
  {
   "cell_type": "code",
   "execution_count": 4,
   "metadata": {},
   "outputs": [
    {
     "name": "stdout",
     "output_type": "stream",
     "text": [
      "1432.2448979591834\n"
     ]
    }
   ],
   "source": [
    "#Use the NumPy var() method to find the variance:\n",
    "import numpy\n",
    "\n",
    "speed = [32,111,138,28,59,77,97]\n",
    "\n",
    "x = numpy.var(speed)\n",
    "\n",
    "print(x) "
   ]
  },
  {
   "cell_type": "code",
   "execution_count": 5,
   "metadata": {},
   "outputs": [
    {
     "name": "stdout",
     "output_type": "stream",
     "text": [
      "37.84501153334721\n"
     ]
    }
   ],
   "source": [
    "\"\"\"\n",
    "Standard Deviation\n",
    "\n",
    "As we have learned, the formula to find the standard deviation is the square root of the variance:\n",
    "\n",
    "√1432.25 = 37.85\n",
    "\n",
    "Or, as in the example from before, use the NumPy to calculate the standard deviation:\n",
    "Example\n",
    "\n",
    "Use the NumPy std() method to find the standard deviation:\n",
    "\"\"\"\n",
    "\n",
    "import numpy\n",
    "\n",
    "speed = [32,111,138,28,59,77,97]\n",
    "\n",
    "x = numpy.std(speed)\n",
    "\n",
    "print(x) "
   ]
  },
  {
   "cell_type": "code",
   "execution_count": null,
   "metadata": {},
   "outputs": [],
   "source": []
  }
 ],
 "metadata": {
  "kernelspec": {
   "display_name": "Python 3",
   "language": "python",
   "name": "python3"
  },
  "language_info": {
   "codemirror_mode": {
    "name": "ipython",
    "version": 3
   },
   "file_extension": ".py",
   "mimetype": "text/x-python",
   "name": "python",
   "nbconvert_exporter": "python",
   "pygments_lexer": "ipython3",
   "version": "3.7.5"
  }
 },
 "nbformat": 4,
 "nbformat_minor": 2
}
