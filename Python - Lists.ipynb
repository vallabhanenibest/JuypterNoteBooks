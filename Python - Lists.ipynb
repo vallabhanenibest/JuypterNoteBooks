{
 "cells": [
  {
   "cell_type": "code",
   "execution_count": 1,
   "metadata": {},
   "outputs": [
    {
     "name": "stdout",
     "output_type": "stream",
     "text": [
      "['apple', 'banana', 'cherry']\n"
     ]
    }
   ],
   "source": [
    "\"\"\"\n",
    "Python Lists\n",
    "\n",
    "Python Collections (Arrays)\n",
    "\n",
    "There are four collection data types in the Python programming language:\n",
    "\n",
    "    1. List is a collection which is ordered and changeable. Allows duplicate members.\n",
    "    2. Tuple is a collection which is ordered and unchangeable. Allows duplicate members.\n",
    "    3. Set is a collection which is unordered and unindexed. No duplicate members.\n",
    "    4. Dictionary is a collection which is unordered, changeable and indexed. No duplicate members.\n",
    "\n",
    "When choosing a collection type, it is useful to understand the properties of that type.\n",
    "Choosing the right type for a particular data set could mean retention of meaning, and, \n",
    "it could mean an increase in efficiency or security.\n",
    "\n",
    "List\n",
    "----\n",
    "A list is a collection which is ordered and changeable. In Python lists are written with square brackets.\n",
    "\n",
    "\"\"\"\n",
    "\n",
    "#Create a List:\n",
    "thislist = [\"apple\", \"banana\", \"cherry\"]\n",
    "print(thislist)"
   ]
  },
  {
   "cell_type": "code",
   "execution_count": 2,
   "metadata": {},
   "outputs": [
    {
     "name": "stdout",
     "output_type": "stream",
     "text": [
      "banana\n"
     ]
    }
   ],
   "source": [
    "\"\"\"\n",
    "\n",
    "Access Items\n",
    "\n",
    "You access the list items by referring to the index number:\n",
    "Example\n",
    "\"\"\"\n",
    "#Print the second item of the list:\n",
    "thislist = [\"apple\", \"banana\", \"cherry\"]\n",
    "print(thislist[1])"
   ]
  },
  {
   "cell_type": "code",
   "execution_count": 3,
   "metadata": {},
   "outputs": [
    {
     "name": "stdout",
     "output_type": "stream",
     "text": [
      "cherry\n"
     ]
    }
   ],
   "source": [
    "\"\"\"\n",
    "Negative Indexing\n",
    "\n",
    "Negative indexing means beginning from the end, -1 refers to the last item, -2 refers to the second last item etc.\n",
    "Example\n",
    "\"\"\"\n",
    "#Print the last item of the list:\n",
    "thislist = [\"apple\", \"banana\", \"cherry\"]\n",
    "print(thislist[-1])"
   ]
  },
  {
   "cell_type": "code",
   "execution_count": 4,
   "metadata": {},
   "outputs": [
    {
     "name": "stdout",
     "output_type": "stream",
     "text": [
      "['cherry', 'orange', 'kiwi']\n"
     ]
    }
   ],
   "source": [
    "\"\"\"\n",
    "Range of Indexes\n",
    "\n",
    "You can specify a range of indexes by specifying where to start and where to end the range.\n",
    "\n",
    "When specifying a range, the return value will be a new list with the specified items.\n",
    "Example\n",
    "\n",
    "\n",
    "Note: The search will start at index 2 (included) and end at index 5 (not included).\n",
    "\n",
    "Remember that the first item has index 0.\n",
    "\n",
    "\"\"\"\n",
    "#Return the third, fourth, and fifth item:\n",
    "thislist = [\"apple\", \"banana\", \"cherry\", \"orange\", \"kiwi\", \"melon\", \"mango\"]\n",
    "print(thislist[2:5])"
   ]
  },
  {
   "cell_type": "code",
   "execution_count": 5,
   "metadata": {},
   "outputs": [
    {
     "name": "stdout",
     "output_type": "stream",
     "text": [
      "['apple', 'banana', 'cherry', 'orange']\n"
     ]
    }
   ],
   "source": [
    "\"\"\"\n",
    "By leaving out the start value, the range will start at the first item:\n",
    "Example\n",
    "\"\"\"\n",
    "#This example returns the items from the beginning to \"orange\":\n",
    "thislist = [\"apple\", \"banana\", \"cherry\", \"orange\", \"kiwi\", \"melon\", \"mango\"]\n",
    "print(thislist[:4])"
   ]
  },
  {
   "cell_type": "code",
   "execution_count": 6,
   "metadata": {},
   "outputs": [
    {
     "name": "stdout",
     "output_type": "stream",
     "text": [
      "['cherry', 'orange', 'kiwi', 'melon', 'mango']\n"
     ]
    }
   ],
   "source": [
    "\"\"\"\n",
    "By leaving out the end value, the range will go on to the end of the list:\n",
    "Example\n",
    "\"\"\"\n",
    "#This example returns the items from \"cherry\" and to the end:\n",
    "thislist = [\"apple\", \"banana\", \"cherry\", \"orange\", \"kiwi\", \"melon\", \"mango\"]\n",
    "print(thislist[2:])"
   ]
  },
  {
   "cell_type": "code",
   "execution_count": 7,
   "metadata": {},
   "outputs": [
    {
     "name": "stdout",
     "output_type": "stream",
     "text": [
      "['orange', 'kiwi', 'melon']\n"
     ]
    }
   ],
   "source": [
    "\"\"\"\n",
    "Range of Negative Indexes\n",
    "\n",
    "Specify negative indexes if you want to start the search from the end of the list:\n",
    "Example\n",
    "\"\"\"\n",
    "#This example returns the items from index -4 (included) to index -1 (excluded)\n",
    "thislist = [\"apple\", \"banana\", \"cherry\", \"orange\", \"kiwi\", \"melon\", \"mango\"]\n",
    "print(thislist[-4:-1])"
   ]
  },
  {
   "cell_type": "code",
   "execution_count": 8,
   "metadata": {},
   "outputs": [
    {
     "name": "stdout",
     "output_type": "stream",
     "text": [
      "['apple', 'blackcurrant', 'cherry']\n"
     ]
    }
   ],
   "source": [
    "\"\"\"\n",
    "Change Item Value\n",
    "To change the value of a specific item, refer to the index number:\n",
    "Example\n",
    "\"\"\"\n",
    "#Change the second item:\n",
    "thislist = [\"apple\", \"banana\", \"cherry\"]\n",
    "thislist[1] = \"blackcurrant\"\n",
    "print(thislist)"
   ]
  },
  {
   "cell_type": "code",
   "execution_count": 9,
   "metadata": {},
   "outputs": [
    {
     "name": "stdout",
     "output_type": "stream",
     "text": [
      "apple\n",
      "banana\n",
      "cherry\n"
     ]
    }
   ],
   "source": [
    "\"\"\"\n",
    "\n",
    "Loop Through a List\n",
    "\n",
    "You can loop through the list items by using a for loop:\n",
    "Example\n",
    "\"\"\"\n",
    "#Print all items in the list, one by one:\n",
    "thislist = [\"apple\", \"banana\", \"cherry\"]\n",
    "for x in thislist:\n",
    "  print(x) "
   ]
  },
  {
   "cell_type": "code",
   "execution_count": 10,
   "metadata": {},
   "outputs": [
    {
     "name": "stdout",
     "output_type": "stream",
     "text": [
      "Yes, 'apple' is in the fruits list\n"
     ]
    }
   ],
   "source": [
    "\"\"\"\n",
    "Check if Item Exists\n",
    "\n",
    "To determine if a specified item is present in a list use the in keyword:\n",
    "Example\n",
    "\"\"\"\n",
    "#Check if \"apple\" is present in the list:\n",
    "thislist = [\"apple\", \"banana\", \"cherry\"]\n",
    "if \"apple\" in thislist:\n",
    "  print(\"Yes, 'apple' is in the fruits list\") "
   ]
  },
  {
   "cell_type": "code",
   "execution_count": 11,
   "metadata": {
    "scrolled": true
   },
   "outputs": [
    {
     "name": "stdout",
     "output_type": "stream",
     "text": [
      "3\n"
     ]
    }
   ],
   "source": [
    "\"\"\"\n",
    "List Length\n",
    "\n",
    "To determine how many items a list has, use the len() function:\n",
    "Example\n",
    "\"\"\"\n",
    "#Print the number of items in the list:\n",
    "thislist = [\"apple\", \"banana\", \"cherry\"]\n",
    "print(len(thislist))"
   ]
  },
  {
   "cell_type": "code",
   "execution_count": 12,
   "metadata": {},
   "outputs": [
    {
     "name": "stdout",
     "output_type": "stream",
     "text": [
      "['apple', 'banana', 'cherry', 'orange']\n",
      "[1, 2, 3, 4, 5, 6, 7, 7, [8, 9], 'hello world']\n"
     ]
    }
   ],
   "source": [
    "\"\"\"\n",
    "Add Items\n",
    "\n",
    "To add an item to the end of the list, use the append() method:\n",
    "Example\n",
    "\"\"\"\n",
    "#Using the append() method to append an item:\n",
    "thislist = [\"apple\", \"banana\", \"cherry\"]\n",
    "thislist.append(\"orange\")\n",
    "print(thislist)\n",
    "\n",
    "a = [1, 2, 3, 4, 5]\n",
    "#Append values 6, 7, and 7 to the list\n",
    "a.append(6)\n",
    "a.append(7)\n",
    "a.append(7)\n",
    "# a: [1, 2, 3, 4, 5, 6, 7, 7]\n",
    "# Append another list\n",
    "\"\"\"\n",
    "Note that the append() method only appends one new element to the end of the list. If you append a list to\n",
    "another list, the list that you append becomes a single element at the end of the first list.\n",
    "\"\"\"\n",
    "\n",
    "b = [8, 9]\n",
    "a.append(b)\n",
    "# a: [1, 2, 3, 4, 5, 6, 7, 7, [8, 9]]\n",
    "# Append an element of a different type, as list elements do not need to have the same type\n",
    "my_string = \"hello world\"\n",
    "a.append(my_string)\n",
    "# a: [1, 2, 3, 4, 5, 6, 7, 7, [8, 9], \"hello world\"]\n",
    "\n",
    "print(a)"
   ]
  },
  {
   "cell_type": "code",
   "execution_count": 13,
   "metadata": {},
   "outputs": [
    {
     "name": "stdout",
     "output_type": "stream",
     "text": [
      "['apple', 'orange', 'banana', 'cherry']\n"
     ]
    }
   ],
   "source": [
    "\"\"\"\n",
    "To add an item at the specified index, use the insert() method:\n",
    "Example\n",
    "\"\"\"\n",
    "#Insert an item as the second position:\n",
    "thislist = [\"apple\", \"banana\", \"cherry\"]\n",
    "thislist.insert(1, \"orange\")\n",
    "print(thislist)"
   ]
  },
  {
   "cell_type": "code",
   "execution_count": 14,
   "metadata": {},
   "outputs": [
    {
     "name": "stdout",
     "output_type": "stream",
     "text": [
      "['apple', 'cherry']\n"
     ]
    }
   ],
   "source": [
    "\"\"\"\n",
    "Remove Item\n",
    "\n",
    "There are several methods to remove items from a list:\n",
    "Example\n",
    "\"\"\"\n",
    "#The remove() method removes the specified item:\n",
    "thislist = [\"apple\", \"banana\", \"cherry\"]\n",
    "thislist.remove(\"banana\")\n",
    "print(thislist)\n"
   ]
  },
  {
   "cell_type": "code",
   "execution_count": 15,
   "metadata": {},
   "outputs": [
    {
     "name": "stdout",
     "output_type": "stream",
     "text": [
      "['apple', 'banana']\n"
     ]
    }
   ],
   "source": [
    "#The pop() method removes the specified index, (or the last item if index is not specified):\n",
    "thislist = [\"apple\", \"banana\", \"cherry\"]\n",
    "thislist.pop()\n",
    "print(thislist)"
   ]
  },
  {
   "cell_type": "code",
   "execution_count": 69,
   "metadata": {},
   "outputs": [
    {
     "name": "stdout",
     "output_type": "stream",
     "text": [
      "Initial List :  [0, 1, 2, 3, 4, 5, 6, 7, 8, 9]\n",
      "After del a[::2] operation :  [1, 3, 5, 7, 9]\n",
      "After del a[-1] operation :  [1, 3, 5, 7]\n",
      "After del a[:] operation :  []\n",
      "\n",
      "Fruits List :  ['apple', 'banana', 'cherry']\n",
      "\n",
      "After deleting 0 element :  ['banana', 'cherry']\n"
     ]
    }
   ],
   "source": [
    "#The del keyword removes the specified index:\n",
    "\"\"\"\n",
    "Element deletion – it is possible to delete multiple elements in the list using the del keyword and slice\n",
    "notation:\n",
    "\"\"\"\n",
    "a = list(range(10))\n",
    "print(\"Initial List : \", a)\n",
    "del a[::2]\n",
    "\n",
    "# a = [1, 3, 5, 7, 9]\n",
    "print(\"After del a[::2] operation : \", a)\n",
    "del a[-1]\n",
    "# a = [1, 3, 5, 7]\n",
    "print(\"After del a[-1] operation : \", a)\n",
    "del a[:]\n",
    "# a = []\n",
    "print(\"After del a[:] operation : \", a)\n",
    "\n",
    "thislist = [\"apple\", \"banana\", \"cherry\"]\n",
    "print(\"\\nFruits List : \", thislist)\n",
    "del thislist[0]\n",
    "print(\"\\nAfter deleting 0 element : \", thislist)"
   ]
  },
  {
   "cell_type": "code",
   "execution_count": 17,
   "metadata": {},
   "outputs": [
    {
     "ename": "NameError",
     "evalue": "name 'thislist' is not defined",
     "output_type": "error",
     "traceback": [
      "\u001b[1;31m---------------------------------------------------------------------------\u001b[0m",
      "\u001b[1;31mNameError\u001b[0m                                 Traceback (most recent call last)",
      "\u001b[1;32m<ipython-input-17-e8961da4748f>\u001b[0m in \u001b[0;36m<module>\u001b[1;34m\u001b[0m\n\u001b[0;32m      2\u001b[0m \u001b[0mthislist\u001b[0m \u001b[1;33m=\u001b[0m \u001b[1;33m[\u001b[0m\u001b[1;34m\"apple\"\u001b[0m\u001b[1;33m,\u001b[0m \u001b[1;34m\"banana\"\u001b[0m\u001b[1;33m,\u001b[0m \u001b[1;34m\"cherry\"\u001b[0m\u001b[1;33m]\u001b[0m\u001b[1;33m\u001b[0m\u001b[1;33m\u001b[0m\u001b[0m\n\u001b[0;32m      3\u001b[0m \u001b[1;32mdel\u001b[0m \u001b[0mthislist\u001b[0m\u001b[1;33m\u001b[0m\u001b[1;33m\u001b[0m\u001b[0m\n\u001b[1;32m----> 4\u001b[1;33m \u001b[0mprint\u001b[0m\u001b[1;33m(\u001b[0m\u001b[0mthislist\u001b[0m\u001b[1;33m)\u001b[0m\u001b[1;33m\u001b[0m\u001b[1;33m\u001b[0m\u001b[0m\n\u001b[0m",
      "\u001b[1;31mNameError\u001b[0m: name 'thislist' is not defined"
     ]
    }
   ],
   "source": [
    "#The del keyword can also delete the list completely:\n",
    "thislist = [\"apple\", \"banana\", \"cherry\"]\n",
    "del thislist \n",
    "print(thislist)"
   ]
  },
  {
   "cell_type": "code",
   "execution_count": 18,
   "metadata": {},
   "outputs": [
    {
     "name": "stdout",
     "output_type": "stream",
     "text": [
      "[]\n"
     ]
    }
   ],
   "source": [
    "#The clear() method empties or removes all elements from the list:\n",
    "thislist = [\"apple\", \"banana\", \"cherry\"]\n",
    "thislist.clear()\n",
    "print(thislist)"
   ]
  },
  {
   "cell_type": "code",
   "execution_count": 19,
   "metadata": {},
   "outputs": [
    {
     "name": "stdout",
     "output_type": "stream",
     "text": [
      "['apple', 'banana', 'cherry']\n"
     ]
    }
   ],
   "source": [
    "\"\"\"\n",
    "Copy a List\n",
    "\n",
    "You cannot copy a list simply by typing list2 = list1, because: list2 will only be a reference to list1, and changes made in list1 will automatically also be made in list2.\n",
    "\n",
    "There are ways to make a copy, one way is to use the built-in List method copy().\n",
    "Example\n",
    "\"\"\"\n",
    "#Make a copy of a list with the copy() method:\n",
    "thislist = [\"apple\", \"banana\", \"cherry\"]\n",
    "mylist = thislist.copy()\n",
    "print(mylist)"
   ]
  },
  {
   "cell_type": "code",
   "execution_count": 20,
   "metadata": {
    "scrolled": true
   },
   "outputs": [
    {
     "name": "stdout",
     "output_type": "stream",
     "text": [
      "['apple', 'banana', 'cherry']\n"
     ]
    }
   ],
   "source": [
    "\"\"\"\n",
    "Another way to make a copy is to use the built-in method list().\n",
    "Example\n",
    "\"\"\"\n",
    "#Make a copy of a list with the list() method:\n",
    "thislist = [\"apple\", \"banana\", \"cherry\"]\n",
    "mylist = list(thislist)\n",
    "print(mylist)"
   ]
  },
  {
   "cell_type": "code",
   "execution_count": 21,
   "metadata": {},
   "outputs": [
    {
     "name": "stdout",
     "output_type": "stream",
     "text": [
      "['a', 'b', 'c', 1, 2, 3]\n"
     ]
    }
   ],
   "source": [
    "\"\"\"\n",
    "Join Two Lists\n",
    "\n",
    "There are several ways to join, or concatenate, two or more lists in Python.\n",
    "\n",
    "One of the easiest ways are by using the + operator.\n",
    "Example\n",
    "\"\"\"\n",
    "#Join two list:\n",
    "list1 = [\"a\", \"b\" , \"c\"]\n",
    "list2 = [1, 2, 3]\n",
    "\n",
    "list3 = list1 + list2\n",
    "print(list3) "
   ]
  },
  {
   "cell_type": "code",
   "execution_count": 22,
   "metadata": {},
   "outputs": [
    {
     "name": "stdout",
     "output_type": "stream",
     "text": [
      "['a', 'b', 'c', 1, 2, 3]\n"
     ]
    }
   ],
   "source": [
    "\"\"\"\n",
    "Another way to join two lists are by appending all the items from list2 into list1, one by one:\n",
    "Example\n",
    "\"\"\"\n",
    "#Append list2 into list1:\n",
    "list1 = [\"a\", \"b\" , \"c\"]\n",
    "list2 = [1, 2, 3]\n",
    "\n",
    "for x in list2:\n",
    "  list1.append(x)\n",
    "\n",
    "print(list1) "
   ]
  },
  {
   "cell_type": "code",
   "execution_count": 38,
   "metadata": {},
   "outputs": [
    {
     "name": "stdout",
     "output_type": "stream",
     "text": [
      "['a', 'b', 'c', 1, 2, 3]\n",
      "[1, 2, 3, 4, 5, 6, 7, 7, 8, 9, 10, 0, 1, 2]\n"
     ]
    }
   ],
   "source": [
    "\"\"\"\n",
    "Or you can use the extend() method, which purpose is to add elements from one list to another list\n",
    "extend(enumerable) – extends the list by appending elements from another enumerable.\n",
    "Example\n",
    "\"\"\"\n",
    "#Use the extend() method to add list2 at the end of list1:\n",
    "list1 = [\"a\", \"b\" , \"c\"]\n",
    "list2 = [1, 2, 3]\n",
    "\n",
    "list1.extend(list2)\n",
    "print(list1) \n",
    "\n",
    "a = [1, 2, 3, 4, 5, 6, 7, 7]\n",
    "b = [8, 9, 10]\n",
    "# Extend list by appending all elements from b\n",
    "a.extend(b)\n",
    "# a: [1, 2, 3, 4, 5, 6, 7, 7, 8, 9, 10]\n",
    "# Extend list with elements from a non-list enumerable:\n",
    "a.extend(range(3))\n",
    "# a: [1, 2, 3, 4, 5, 6, 7, 7, 8, 9, 10, 0, 1, 2]\n",
    "\n",
    "print(a)"
   ]
  },
  {
   "cell_type": "code",
   "execution_count": 24,
   "metadata": {},
   "outputs": [
    {
     "name": "stdout",
     "output_type": "stream",
     "text": [
      "['apple', 'banana', 'cherry']\n"
     ]
    }
   ],
   "source": [
    "\"\"\"\n",
    "The list() Constructor\n",
    "\n",
    "It is also possible to use the list() constructor to make a new list.\n",
    "Example\n",
    "\"\"\"\n",
    "#Using the list() constructor to make a List:\n",
    "thislist = list((\"apple\", \"banana\", \"cherry\")) # note the double round-brackets\n",
    "print(thislist)"
   ]
  },
  {
   "cell_type": "code",
   "execution_count": 25,
   "metadata": {},
   "outputs": [
    {
     "name": "stdout",
     "output_type": "stream",
     "text": [
      "['apple', 'banana', 'cherry', 'orange']\n",
      "['apple', 'banana', 'cherry', ['Ford', 'BMW', 'Volvo']]\n"
     ]
    }
   ],
   "source": [
    "\"\"\"\n",
    "Python List append() Method\n",
    "\n",
    "The append() method appends an element to the end of the list.\n",
    "Syntax\n",
    "list.append(elmnt)\n",
    "Parameter Values\n",
    "----------------\n",
    "Parameter   Description\n",
    "elmnt       Required. An element of any type (string, number, object etc.)\n",
    "\n",
    "\"\"\"\n",
    "#Add an element to the fruits list:\n",
    "fruits = ['apple', 'banana', 'cherry']\n",
    "fruits.append(\"orange\")\n",
    "print(fruits)\n",
    "\n",
    "#Add a list to a list:\n",
    "a = [\"apple\", \"banana\", \"cherry\"]\n",
    "b = [\"Ford\", \"BMW\", \"Volvo\"]\n",
    "a.append(b)\n",
    "print(a)"
   ]
  },
  {
   "cell_type": "code",
   "execution_count": 26,
   "metadata": {},
   "outputs": [],
   "source": [
    "\"\"\"\n",
    "Python List clear() Method\n",
    "\n",
    "The clear() method removes all the elements from a list.\n",
    "Syntax\n",
    "list.clear()\n",
    "\n",
    "\"\"\"\n",
    "\n",
    "#Remove all elements from the fruits list:\n",
    "fruits = ['apple', 'banana', 'cherry', 'orange']\n",
    "\n",
    "fruits.clear()"
   ]
  },
  {
   "cell_type": "code",
   "execution_count": 27,
   "metadata": {},
   "outputs": [
    {
     "name": "stdout",
     "output_type": "stream",
     "text": [
      "['apple', 'banana', 'cherry', 'orange']  --> Using Builtin copy method\n"
     ]
    }
   ],
   "source": [
    "\"\"\"\n",
    "Python List copy() Method\n",
    "\n",
    "The copy() method returns a copy of the specified list.\n",
    "Syntax\n",
    "list.copy()\n",
    "\n",
    "\n",
    "\"\"\"\n",
    "\n",
    "#Copy the fruits list:\n",
    "fruits = ['apple', 'banana', 'cherry', 'orange']\n",
    "\n",
    "x = fruits.copy()\n",
    "print(x , \" --> Using Builtin copy method\")"
   ]
  },
  {
   "cell_type": "code",
   "execution_count": 28,
   "metadata": {},
   "outputs": [
    {
     "name": "stdout",
     "output_type": "stream",
     "text": [
      "1\n",
      "2\n"
     ]
    }
   ],
   "source": [
    "\"\"\"\n",
    "Python List count() Method\n",
    "The count() method returns the number of elements with the specified value.\n",
    "Syntax\n",
    "list.count(value)\n",
    "Parameter Values\n",
    "----------------\n",
    "Parameter   Description\n",
    "value       Required. Any type (string, number, list, tuple, etc.). The value to search for.\n",
    "\"\"\"\n",
    "\n",
    "#Return the number of times the value \"cherry\" appears int the fruits list:\n",
    "fruits = ['apple', 'banana', 'cherry']\n",
    "\n",
    "x = fruits.count(\"cherry\")\n",
    "print(x)\n",
    "\n",
    "#Return the number of times the value 9 appears int the list:\n",
    "points = [1, 4, 2, 9, 7, 8, 9, 3, 1]\n",
    "\n",
    "x = points.count(9)\n",
    "print(x)"
   ]
  },
  {
   "cell_type": "code",
   "execution_count": 29,
   "metadata": {},
   "outputs": [
    {
     "name": "stdout",
     "output_type": "stream",
     "text": [
      "['apple', 'banana', 'cherry', 'Ford', 'BMW', 'Volvo']\n",
      "['apple', 'banana', 'cherry', 1, 4, 5, 9]\n"
     ]
    }
   ],
   "source": [
    "\"\"\"\n",
    "Python List extend() Method\n",
    "\n",
    "The extend() method adds the specified list elements (or any iterable) to the end of the current list.\n",
    "Syntax\n",
    "list.extend(iterable)\n",
    "Parameter Values\n",
    "----------------\n",
    "Parameter   Description\n",
    "iterable    Required. Any iterable (list, set, tuple, etc.)\n",
    "\n",
    "\"\"\"\n",
    "\n",
    "#Add the elements of cars to the fruits list:\n",
    "fruits = ['apple', 'banana', 'cherry']\n",
    "\n",
    "cars = ['Ford', 'BMW', 'Volvo']\n",
    "\n",
    "fruits.extend(cars)\n",
    "print(fruits)\n",
    "\n",
    "#Add a tuple to the fruits list:\n",
    "fruits = ['apple', 'banana', 'cherry']\n",
    "\n",
    "points = (1, 4, 5, 9)\n",
    "\n",
    "fruits.extend(points)\n",
    "print(fruits)"
   ]
  },
  {
   "cell_type": "code",
   "execution_count": 40,
   "metadata": {},
   "outputs": [
    {
     "name": "stdout",
     "output_type": "stream",
     "text": [
      "2\n",
      "3\n",
      "List :  [1, 2, 3, 4, 5, 6, 7, 7, 8, 9, 10]\n",
      "6\n",
      "7\n"
     ]
    },
    {
     "ename": "ValueError",
     "evalue": "49 is not in list",
     "output_type": "error",
     "traceback": [
      "\u001b[1;31m---------------------------------------------------------------------------\u001b[0m",
      "\u001b[1;31mValueError\u001b[0m                                Traceback (most recent call last)",
      "\u001b[1;32m<ipython-input-40-fb8b2ee25677>\u001b[0m in \u001b[0;36m<module>\u001b[1;34m\u001b[0m\n\u001b[0;32m     33\u001b[0m \u001b[0mx\u001b[0m \u001b[1;33m=\u001b[0m \u001b[0ma\u001b[0m\u001b[1;33m.\u001b[0m\u001b[0mindex\u001b[0m\u001b[1;33m(\u001b[0m\u001b[1;36m7\u001b[0m\u001b[1;33m,\u001b[0m \u001b[1;36m7\u001b[0m\u001b[1;33m)\u001b[0m \u001b[1;31m# Returns: 7\u001b[0m\u001b[1;33m\u001b[0m\u001b[1;33m\u001b[0m\u001b[0m\n\u001b[0;32m     34\u001b[0m \u001b[0mprint\u001b[0m\u001b[1;33m(\u001b[0m\u001b[0mx\u001b[0m\u001b[1;33m)\u001b[0m\u001b[1;33m\u001b[0m\u001b[1;33m\u001b[0m\u001b[0m\n\u001b[1;32m---> 35\u001b[1;33m \u001b[0mx\u001b[0m \u001b[1;33m=\u001b[0m \u001b[0ma\u001b[0m\u001b[1;33m.\u001b[0m\u001b[0mindex\u001b[0m\u001b[1;33m(\u001b[0m\u001b[1;36m49\u001b[0m\u001b[1;33m)\u001b[0m \u001b[1;31m# ValueError, because 49 is not in a.\u001b[0m\u001b[1;33m\u001b[0m\u001b[1;33m\u001b[0m\u001b[0m\n\u001b[0m\u001b[0;32m     36\u001b[0m \u001b[1;33m\u001b[0m\u001b[0m\n\u001b[0;32m     37\u001b[0m \u001b[0my\u001b[0m \u001b[1;33m=\u001b[0m \u001b[0ma\u001b[0m\u001b[1;33m.\u001b[0m\u001b[0mindex\u001b[0m\u001b[1;33m(\u001b[0m\u001b[1;36m7\u001b[0m\u001b[1;33m,\u001b[0m \u001b[1;36m8\u001b[0m\u001b[1;33m)\u001b[0m \u001b[1;31m# ValueError, because there is no 7 starting at index 8\u001b[0m\u001b[1;33m\u001b[0m\u001b[1;33m\u001b[0m\u001b[0m\n",
      "\u001b[1;31mValueError\u001b[0m: 49 is not in list"
     ]
    }
   ],
   "source": [
    "\"\"\"\n",
    "Python List index() Method\n",
    "\n",
    "The index() method returns the position at the first occurrence of the specified value. \n",
    "If the input value is not in the list a ValueError exception is raised. If a second argument is provided,\n",
    "the search is started at that specified index.\n",
    "\n",
    "Syntax\n",
    "list.index(elmnt)\n",
    "Parameter Values\n",
    "----------------\n",
    "Parameter   Description\n",
    "elmnt       Required. Any type (string, number, list, etc.). The element to search for\n",
    "\"\"\"\n",
    "\n",
    "#What is the position of the value \"cherry\":\n",
    "fruits = ['apple', 'banana', 'cherry']\n",
    "\n",
    "x = fruits.index(\"cherry\") \n",
    "print(x)\n",
    "#What is the position of the value 32:\n",
    "#Note: The index() method only returns the first occurrence of the value.\n",
    "fruits = [4, 55, 64, 32, 16, 32]\n",
    "\n",
    "x = fruits.index(32)\n",
    "print(x)\n",
    "\n",
    "a = [1, 2, 3, 4, 5, 6, 7, 7, 8, 9, 10]\n",
    "print(\"List : \", a );\n",
    "x = a.index(7) # Returns: 6\n",
    "print(x)\n",
    "\n",
    "x = a.index(7, 7) # Returns: 7\n",
    "print(x) \n",
    "x = a.index(49) # ValueError, because 49 is not in a.\n",
    "\n",
    "y = a.index(7, 8) # ValueError, because there is no 7 starting at index 8\n",
    "print(x , y )"
   ]
  },
  {
   "cell_type": "code",
   "execution_count": 41,
   "metadata": {},
   "outputs": [
    {
     "name": "stdout",
     "output_type": "stream",
     "text": [
      "Initial Fruits List :  ['apple', 'banana', 'cherry']\n",
      "After Insertion :  ['apple', 'orange', 'banana', 'cherry']\n",
      "Initial Number List :  [1, 2, 3, 4, 5, 6, 7, 7, 8, 9, 10]\n",
      "After Insertion :  [0, 1, 5, 2, 3, 4, 5, 6, 7, 7, 8, 9, 10]\n"
     ]
    }
   ],
   "source": [
    "\"\"\"\n",
    "Python List insert() Method\n",
    "The insert() method inserts the specified value at the specified position. Thus after the insertion the new\n",
    "element occupies position index.\n",
    "Syntax\n",
    "list.insert(pos, elmnt)\n",
    "Parameter Values\n",
    "----------------\n",
    "Parameter  Description\n",
    "pos        Required. A number specifying in which position to insert the value\n",
    "elmnt      Required. An element of any type (string, number, object etc.)\n",
    "\"\"\"\n",
    "#Insert the value \"orange\" as the second element of the fruit list:\n",
    "fruits = ['apple', 'banana', 'cherry']\n",
    "\n",
    "print(\"Initial Fruits List : \", fruits)\n",
    "fruits.insert(1, \"orange\") \n",
    "print(\"After Insertion : \", fruits)\n",
    "\n",
    "numList = [1, 2, 3, 4, 5, 6, 7, 7, 8, 9, 10]\n",
    "print(\"Initial Number List : \", numList)\n",
    "numList.insert(0, 0) # insert 0 at position 0\n",
    "numList.insert(2, 5) # insert 5 at position 2\n",
    "# numList: [0, 1, 5, 2, 3, 4, 5, 6, 7, 7, 8, 9, 10]\n",
    "print(\"After Insertion : \", numList)"
   ]
  },
  {
   "cell_type": "code",
   "execution_count": 42,
   "metadata": {},
   "outputs": [
    {
     "name": "stdout",
     "output_type": "stream",
     "text": [
      "['apple', 'cherry']\n",
      "banana\n",
      "Initial Number List :  [0, 1, 5, 2, 3, 4, 5, 6, 7, 7, 8, 9, 10]\n",
      "After Popping 3 elements :  [0, 1, 2, 3, 4, 5, 6, 7, 8, 9]\n"
     ]
    }
   ],
   "source": [
    "\"\"\"\n",
    "Python List pop() Method \n",
    "\n",
    "The pop() method removes the element at the specified position. With no argument it removes and returns the last\n",
    "element of the list.\n",
    "\n",
    "Syntax\n",
    "list.pop(pos)\n",
    "Parameter Values\n",
    "----------------\n",
    "Parameter  Description\n",
    "pos        Optional. A number specifying the position of the element you want to remove, \n",
    "           default value is -1, which returns the last item\n",
    "\n",
    "\"\"\"\n",
    "\n",
    "#Remove the second element of the fruit list:\n",
    "fruits = ['apple', 'banana', 'cherry']\n",
    "\n",
    "fruits.pop(1) \n",
    "print(fruits)\n",
    "#Return the removed element:\n",
    "#Note: The pop() method returns removed value.\n",
    "fruits = ['apple', 'banana', 'cherry']\n",
    "\n",
    "x = fruits.pop(1) \n",
    "print(x)\n",
    "\n",
    "numList = [0, 1, 5, 2, 3, 4, 5, 6, 7, 7, 8, 9, 10]\n",
    "print(\"Initial Number List : \", numList)\n",
    "numList.pop(2)\n",
    "# Returns: 5\n",
    "# numList: [0, 1, 2, 3, 4, 5, 6, 7, 7, 8, 9, 10]\n",
    "numList.pop(8)\n",
    "# Returns: 7\n",
    "# numList: [0, 1, 2, 3, 4, 5, 6, 7, 8, 9, 10]\n",
    "# With no argument:\n",
    "numList.pop()\n",
    "# Returns: 10\n",
    "# numList: [0, 1, 2, 3, 4, 5, 6, 7, 8, 9]\n",
    "print(\"After Popping 3 elements : \", numList)"
   ]
  },
  {
   "cell_type": "code",
   "execution_count": 44,
   "metadata": {},
   "outputs": [
    {
     "name": "stdout",
     "output_type": "stream",
     "text": [
      "['apple', 'cherry']\n",
      "Initial List :  [0, 1, 2, 3, 4, 5, 6, 7, 8, 9]\n",
      "After removing 0 , List :  [1, 2, 3, 4, 5, 6, 7, 8, 9]\n",
      "After removing 9 , List :  [1, 2, 3, 4, 5, 6, 7, 8]\n"
     ]
    },
    {
     "ename": "ValueError",
     "evalue": "list.remove(x): x not in list",
     "output_type": "error",
     "traceback": [
      "\u001b[1;31m---------------------------------------------------------------------------\u001b[0m",
      "\u001b[1;31mValueError\u001b[0m                                Traceback (most recent call last)",
      "\u001b[1;32m<ipython-input-44-3b7662edbf23>\u001b[0m in \u001b[0;36m<module>\u001b[1;34m\u001b[0m\n\u001b[0;32m     25\u001b[0m \u001b[1;31m# a: [1, 2, 3, 4, 5, 6, 7, 8]\u001b[0m\u001b[1;33m\u001b[0m\u001b[1;33m\u001b[0m\u001b[1;33m\u001b[0m\u001b[0m\n\u001b[0;32m     26\u001b[0m \u001b[0mprint\u001b[0m\u001b[1;33m(\u001b[0m\u001b[1;34m\"After removing 9 , List : \"\u001b[0m\u001b[1;33m,\u001b[0m \u001b[0mnumList\u001b[0m\u001b[1;33m)\u001b[0m\u001b[1;33m;\u001b[0m\u001b[1;33m\u001b[0m\u001b[1;33m\u001b[0m\u001b[0m\n\u001b[1;32m---> 27\u001b[1;33m \u001b[0mnumList\u001b[0m\u001b[1;33m.\u001b[0m\u001b[0mremove\u001b[0m\u001b[1;33m(\u001b[0m\u001b[1;36m10\u001b[0m\u001b[1;33m)\u001b[0m\u001b[1;33m\u001b[0m\u001b[1;33m\u001b[0m\u001b[0m\n\u001b[0m\u001b[0;32m     28\u001b[0m \u001b[1;31m# ValueError, because 10 is not in a\u001b[0m\u001b[1;33m\u001b[0m\u001b[1;33m\u001b[0m\u001b[1;33m\u001b[0m\u001b[0m\n",
      "\u001b[1;31mValueError\u001b[0m: list.remove(x): x not in list"
     ]
    }
   ],
   "source": [
    "\"\"\"\n",
    "Python List remove() Method\n",
    "\n",
    "The remove() method removes the first occurrence of the element with the specified value. If the provided \n",
    "value cannot be found, a ValueError is raised.\n",
    "Syntax\n",
    "list.remove(elmnt)\n",
    "Parameter Values\n",
    "----------------\n",
    "Parameter   Description\n",
    "elmnt       Required. Any type (string, number, list etc.) The element you want to remove\n",
    "\"\"\"\n",
    "\n",
    "#Remove the \"banana\" element of the fruit list:\n",
    "fruits = ['apple', 'banana', 'cherry']\n",
    "\n",
    "fruits.remove(\"banana\") \n",
    "print(fruits)\n",
    "\n",
    "numList = [0, 1, 2, 3, 4, 5, 6, 7, 8, 9]\n",
    "print(\"Initial List : \", numList);\n",
    "numList.remove(0)\n",
    "print(\"After removing 0 , List : \", numList);\n",
    "numList.remove(9)\n",
    "# a: [1, 2, 3, 4, 5, 6, 7, 8]\n",
    "print(\"After removing 9 , List : \", numList);\n",
    "numList.remove(10)\n",
    "# ValueError, because 10 is not in a\n"
   ]
  },
  {
   "cell_type": "code",
   "execution_count": 34,
   "metadata": {},
   "outputs": [
    {
     "name": "stdout",
     "output_type": "stream",
     "text": [
      "Original List :  ['apple', 'banana', 'cherry']\n",
      "Reversed List :  ['cherry', 'banana', 'apple']\n"
     ]
    }
   ],
   "source": [
    "\"\"\"\n",
    "Python List reverse() Method\n",
    "\n",
    "The reverse() method reverses the sorting order of the elements.\n",
    "Syntax\n",
    "list.reverse()\n",
    "\n",
    "\"\"\"\n",
    "#Reverse the order of the fruit list:\n",
    "fruits = ['apple', 'banana', 'cherry']\n",
    "print(\"Original List : \" , fruits)\n",
    "fruits.reverse() \n",
    "print(\"Reversed List : \" , fruits)\n"
   ]
  },
  {
   "cell_type": "code",
   "execution_count": 77,
   "metadata": {},
   "outputs": [
    {
     "name": "stdout",
     "output_type": "stream",
     "text": [
      "d\n",
      "c\n",
      "b\n",
      "a\n",
      "[1, 2, 3, 4, 5, 6, 7, 8, 9]\n",
      "9\n",
      "8\n",
      "7\n",
      "6\n",
      "5\n",
      "4\n",
      "3\n",
      "2\n",
      "1\n",
      "Using [::-1]  [9, 8, 7, 6, 5, 4, 3, 2, 1]\n"
     ]
    }
   ],
   "source": [
    "\"\"\"\n",
    "Python reversed() Function\n",
    "\n",
    "The reversed() function returns a reversed iterator object.\n",
    "You can use the reversed function which returns an iterator to the reversed list\n",
    "\n",
    "Syntax\n",
    "reversed(sequence)\n",
    "Parameter Values\n",
    "-----------------\n",
    "Parameter   Description\n",
    "sequence    Required. Any iterable object\n",
    "\"\"\"\n",
    "\n",
    "#Reverse the sequence of a list, and print each item:\n",
    "alph = [\"a\", \"b\", \"c\", \"d\"]\n",
    "ralph = reversed(alph)\n",
    "for x in ralph:\n",
    "  print(x) \n",
    "numbers = [1, 2, 3, 4, 5, 6, 7, 8, 9]\n",
    "print(numbers)\n",
    "rev = reversed(numbers)\n",
    "for x in rev:\n",
    "  print(x) \n",
    "\n",
    "\"\"\"\n",
    "Note that the list \"numbers\" remains unchanged by this operation, and remains in the same order it was originally.\n",
    "To reverse in place, you can also use the reverse method.\n",
    "You can also reverse a list (actually obtaining a copy, the original list is unaffected) by using the slicing syntax,\n",
    "setting the third argument (the step) as -1:\n",
    "\"\"\"\n",
    "\n",
    "rev = numbers[::-1]\n",
    "print(\"Using [::-1] \", rev)\n",
    "\n",
    "\n"
   ]
  },
  {
   "cell_type": "code",
   "execution_count": 36,
   "metadata": {},
   "outputs": [
    {
     "name": "stdout",
     "output_type": "stream",
     "text": [
      "apple\n",
      "banana\n",
      "cherry\n"
     ]
    }
   ],
   "source": [
    "\"\"\"\n",
    "Python iter() Function\n",
    "\n",
    "The iter() function returns an iterator object.\n",
    "Syntax\n",
    "iter(object, sentinel)\n",
    "Parameter Values\n",
    "----------------\n",
    "Parameter   Description\n",
    "object      Required. An iterable object\n",
    "sentinel    Optional. If the object is a callable object the iteration will stop when the returned value is the \n",
    "            same as the sentinel\n",
    "\"\"\"\n",
    "\n",
    "#Create an iterator object, and print the items:\n",
    "x = iter([\"apple\", \"banana\", \"cherry\"])\n",
    "print(next(x))\n",
    "print(next(x))\n",
    "print(next(x)) "
   ]
  },
  {
   "cell_type": "code",
   "execution_count": 37,
   "metadata": {},
   "outputs": [
    {
     "name": "stdout",
     "output_type": "stream",
     "text": [
      "Original List :  ['Ford', 'BMW', 'Volvo']\n",
      "Sorted Alphabetically :  ['BMW', 'Ford', 'Volvo']\n",
      "Sorted descending :  ['Volvo', 'Ford', 'BMW']\n",
      "Sorted based on the length of values :  ['VW', 'BMW', 'Ford', 'Mitsubishi']\n",
      "Sorted based year value :  [{'car': 'Mitsubishi', 'year': 2000}, {'car': 'Ford', 'year': 2005}, {'car': 'VW', 'year': 2011}, {'car': 'BMW', 'year': 2019}]\n",
      "Sorted based on length of values and reversed :  ['Mitsubishi', 'Ford', 'BMW', 'VW']\n"
     ]
    }
   ],
   "source": [
    "\"\"\"\n",
    "Python List sort() Method\n",
    "\n",
    "The sort() method sorts the list ascending by default.\n",
    "\n",
    "You can also make a function to decide the sorting criteria(s).\n",
    "Syntax\n",
    "list.sort(reverse=True|False, key=myFunc)\n",
    "Parameter Values\n",
    "----------------\n",
    "Parameter   Description\n",
    "reverse     Optional. reverse=True will sort the list descending. Default is reverse=False\n",
    "key         Optional. A function to specify the sorting criteria(s)\n",
    "\"\"\"\n",
    "\n",
    "#Sort the list alphabetically:\n",
    "cars = ['Ford', 'BMW', 'Volvo']\n",
    "\n",
    "print(\"Original List : \", cars);\n",
    "cars.sort() \n",
    "print(\"Sorted Alphabetically : \", cars);\n",
    "\n",
    "#Sort the list descending:\n",
    "cars = ['Ford', 'BMW', 'Volvo']\n",
    "cars.sort(reverse=True) \n",
    "print(\"Sorted descending : \", cars);\n",
    "\n",
    "#Sort the list by the length of the values:\n",
    "# A function that returns the length of the value:\n",
    "def myFunc(e):\n",
    "  return len(e)\n",
    "\n",
    "cars = ['Ford', 'Mitsubishi', 'BMW', 'VW']\n",
    "\n",
    "cars.sort(key=myFunc)\n",
    "print(\"Sorted based on the length of values : \", cars);\n",
    "\n",
    "#Sort a list of dictionaries based on the \"year\" value of the dictionaries:\n",
    "# A function that returns the 'year' value:\n",
    "def myFunc(e):\n",
    "  return e['year']\n",
    "\n",
    "cars = [\n",
    "  {'car': 'Ford', 'year': 2005},\n",
    "  {'car': 'Mitsubishi', 'year': 2000},\n",
    "  {'car': 'BMW', 'year': 2019},\n",
    "  {'car': 'VW', 'year': 2011}\n",
    "]\n",
    "\n",
    "cars.sort(key=myFunc) \n",
    "print(\"Sorted based year value : \", cars);\n",
    "\n",
    "#Sort the list by the length of the values and reversed:\n",
    "# A function that returns the length of the value:\n",
    "def myFunc(e):\n",
    "  return len(e)\n",
    "\n",
    "cars = ['Ford', 'Mitsubishi', 'BMW', 'VW']\n",
    "\n",
    "cars.sort(reverse=True, key=myFunc)\n",
    "print(\"Sorted based on length of values and reversed : \", cars);\n"
   ]
  },
  {
   "cell_type": "code",
   "execution_count": 39,
   "metadata": {},
   "outputs": [
    {
     "name": "stdout",
     "output_type": "stream",
     "text": [
      "[1, 2, 3, 4, 5, 6, 7, 7, 8, 9, 10]\n"
     ]
    }
   ],
   "source": [
    "#Lists can also be concatenated with the + operator. Note that this does not modify any of the original lists:\n",
    "\n",
    "a = [1, 2, 3, 4, 5, 6] + [7, 7] + b\n",
    "# a: [1, 2, 3, 4, 5, 6, 7, 7, 8, 9, 10]\n",
    "print(a)"
   ]
  },
  {
   "cell_type": "code",
   "execution_count": 46,
   "metadata": {},
   "outputs": [
    {
     "name": "stdout",
     "output_type": "stream",
     "text": [
      "Initial List :  [1, 2, 3, 4, 5, 6, 7, 8]\n",
      "Reverse List :  [8, 7, 6, 5, 4, 3, 2, 1]\n"
     ]
    }
   ],
   "source": [
    "#reverse() – reverses the list in-place and returns None.\n",
    "numList = [1, 2, 3, 4, 5, 6, 7, 8]\n",
    "print(\"Initial List : \", numList)\n",
    "numList.reverse()\n",
    "# a: [8, 7, 6, 5, 4, 3, 2, 1]\n",
    "print(\"Reverse List : \", numList)"
   ]
  },
  {
   "cell_type": "code",
   "execution_count": 47,
   "metadata": {},
   "outputs": [
    {
     "name": "stdout",
     "output_type": "stream",
     "text": [
      "List :  [1, 2, 3, 4, 5, 6, 7, 7, 8, 9, 10]\n",
      "No.of Occurrence of 7 is  2\n"
     ]
    }
   ],
   "source": [
    "# count(value) – counts the number of occurrences of some value in the list.\n",
    "numList = [1, 2, 3, 4, 5, 6, 7, 7, 8, 9, 10]\n",
    "print(\"List : \", numList);\n",
    "c = numList.count(7)\n",
    "# Returns: 2\n",
    "print(\"No.of Occurrence of 7 is \", c)\n"
   ]
  },
  {
   "cell_type": "code",
   "execution_count": 58,
   "metadata": {},
   "outputs": [
    {
     "name": "stdout",
     "output_type": "stream",
     "text": [
      "Initial List :  [John Cena, Chuck Norris, Jon Skeet]\n",
      "Name :  John Cena , Birthday :  1992-09-12 , Height :  175\n",
      "Name :  Chuck Norris , Birthday :  1990-08-28 , Height :  180\n",
      "Name :  Jon Skeet , Birthday :  1991-07-06 , Height :  185\n",
      "Sorted Based on Name :  [Chuck Norris, John Cena, Jon Skeet]\n",
      "Sorted Based on Birthday :  [Chuck Norris, Jon Skeet, John Cena]\n",
      "Sorted Based on Height :  [John Cena, Chuck Norris, Jon Skeet]\n"
     ]
    }
   ],
   "source": [
    "#If you want to sort by attributes of items, you can use the key keyword argument\n",
    "\n",
    "import datetime\n",
    "class Person(object):\n",
    "    def __init__(self, name, birthday, height):\n",
    "        self.name = name\n",
    "        self.birthday = birthday\n",
    "        self.height = height\n",
    "    def __repr__(self):\n",
    "        return self.name\n",
    "l = [Person(\"John Cena\", datetime.date(1992, 9, 12), 175),\n",
    "Person(\"Chuck Norris\", datetime.date(1990, 8, 28), 180),\n",
    "Person(\"Jon Skeet\", datetime.date(1991, 7, 6), 185)]\n",
    "print(\"Initial List : \", l);\n",
    "for item in l:\n",
    "    print(\"Name : \", item.name, \", Birthday : \", item.birthday, \", Height : \", item.height)\n",
    "    \n",
    "l.sort(key=lambda item: item.name)\n",
    "# l: [Chuck Norris, John Cena, Jon Skeet]\n",
    "print(\"Sorted Based on Name : \", l)\n",
    "l.sort(key=lambda item: item.birthday)\n",
    "# l: [Chuck Norris, Jon Skeet, John Cena]\n",
    "print(\"Sorted Based on Birthday : \", l)\n",
    "l.sort(key=lambda item: item.height)\n",
    "# l: [John Cena, Chuck Norris, Jon Skeet]\n",
    "print(\"Sorted Based on Height : \", l)"
   ]
  },
  {
   "cell_type": "code",
   "execution_count": 59,
   "metadata": {},
   "outputs": [
    {
     "name": "stdout",
     "output_type": "stream",
     "text": [
      "Initial List :  [{'name': 'John Cena', 'birthday': datetime.date(1992, 9, 12), 'height': 175}, {'name': 'Chuck Norris', 'birthday': datetime.date(1990, 8, 28), 'height': 180}, {'name': 'Jon Skeet', 'birthday': datetime.date(1991, 7, 6), 'height': 185}]\n",
      "Sorted List Based on, name:   [{'name': 'Chuck Norris', 'birthday': datetime.date(1990, 8, 28), 'height': 180}, {'name': 'John Cena', 'birthday': datetime.date(1992, 9, 12), 'height': 175}, {'name': 'Jon Skeet', 'birthday': datetime.date(1991, 7, 6), 'height': 185}]\n",
      "Sorted List Based on, birthday:   [{'name': 'Chuck Norris', 'birthday': datetime.date(1990, 8, 28), 'height': 180}, {'name': 'Jon Skeet', 'birthday': datetime.date(1991, 7, 6), 'height': 185}, {'name': 'John Cena', 'birthday': datetime.date(1992, 9, 12), 'height': 175}]\n",
      "Sorted List Based on, height:   [{'name': 'John Cena', 'birthday': datetime.date(1992, 9, 12), 'height': 175}, {'name': 'Chuck Norris', 'birthday': datetime.date(1990, 8, 28), 'height': 180}, {'name': 'Jon Skeet', 'birthday': datetime.date(1991, 7, 6), 'height': 185}]\n"
     ]
    }
   ],
   "source": [
    "#In case of list of dicts the concept is the same:\n",
    "import datetime\n",
    "l = [{'name':'John Cena', 'birthday': datetime.date(1992, 9, 12),'height': 175},\n",
    "{'name': 'Chuck Norris', 'birthday': datetime.date(1990, 8, 28),'height': 180},\n",
    "{'name': 'Jon Skeet', 'birthday': datetime.date(1991, 7, 6), 'height': 185}]\n",
    "print(\"Initial List : \", l);\n",
    "l.sort(key=lambda item: item['name'])\n",
    "# l: [Chuck Norris, John Cena, Jon Skeet]\n",
    "print(\"Sorted List Based on, name:  \", l);\n",
    "l.sort(key=lambda item: item['birthday'])\n",
    "# l: [Chuck Norris, Jon Skeet, John Cena]\n",
    "print(\"Sorted List Based on, birthday:  \", l);\n",
    "l.sort(key=lambda item: item['height'])\n",
    "# l: [John Cena, Chuck Norris, Jon Skeet]\n",
    "print(\"Sorted List Based on, height:  \", l);"
   ]
  },
  {
   "cell_type": "code",
   "execution_count": 61,
   "metadata": {},
   "outputs": [
    {
     "name": "stdout",
     "output_type": "stream",
     "text": [
      "Initial List :  [{'name': 'John Cena', 'birthday': datetime.date(1992, 9, 12), 'size': {'height': 175, 'weight': 100}}, {'name': 'Chuck Norris', 'birthday': datetime.date(1990, 8, 28), 'size': {'height': 180, 'weight': 90}}, {'name': 'Jon Skeet', 'birthday': datetime.date(1991, 7, 6), 'size': {'height': 185, 'weight': 110}}]\n",
      "\n",
      "Sorted List Based on, size & height:   [{'name': 'John Cena', 'birthday': datetime.date(1992, 9, 12), 'size': {'height': 175, 'weight': 100}}, {'name': 'Chuck Norris', 'birthday': datetime.date(1990, 8, 28), 'size': {'height': 180, 'weight': 90}}, {'name': 'Jon Skeet', 'birthday': datetime.date(1991, 7, 6), 'size': {'height': 185, 'weight': 110}}]\n"
     ]
    }
   ],
   "source": [
    "#Sort by sub dict:\n",
    "import datetime\n",
    "l = [{'name':'John Cena', 'birthday': datetime.date(1992, 9, 12),'size': {'height': 175,\n",
    "'weight': 100}},\n",
    "{'name': 'Chuck Norris', 'birthday': datetime.date(1990, 8, 28),'size' : {'height': 180,\n",
    "'weight': 90}},\n",
    "{'name': 'Jon Skeet', 'birthday': datetime.date(1991, 7, 6), 'size': {'height': 185,\n",
    "'weight': 110}}]\n",
    "print(\"Initial List : \", l);\n",
    "l.sort(key=lambda item: item['size']['height'])\n",
    "# l: [John Cena, Chuck Norris, Jon Skeet]\n",
    "print(\"\\nSorted List Based on, size & height:  \", l);"
   ]
  },
  {
   "cell_type": "code",
   "execution_count": 62,
   "metadata": {},
   "outputs": [
    {
     "name": "stdout",
     "output_type": "stream",
     "text": [
      "List :  [{'name': 'chandan', 'age': 20, 'salary': 2000}, {'name': 'chetan', 'age': 18, 'salary': 5000}, {'name': 'guru', 'age': 30, 'salary': 3000}]\n",
      "\n",
      "Sorted based on age :  [{'name': 'chetan', 'age': 18, 'salary': 5000}, {'name': 'chandan', 'age': 20, 'salary': 2000}, {'name': 'guru', 'age': 30, 'salary': 3000}]\n",
      "\n",
      "Sorted based on salary :  [{'name': 'chandan', 'age': 20, 'salary': 2000}, {'name': 'guru', 'age': 30, 'salary': 3000}, {'name': 'chetan', 'age': 18, 'salary': 5000}]\n"
     ]
    }
   ],
   "source": [
    "\"\"\"\n",
    "Better way to sort using attrgetter and itemgetter\n",
    "---------------------------------------------------\n",
    "Lists can also be sorted using attrgetter and itemgetter functions from the operator module. These can help\n",
    "improve readability and reusability. Here are some examples,\n",
    "\"\"\"\n",
    "\n",
    "from operator import itemgetter,attrgetter\n",
    "\n",
    "people = [{'name':'chandan','age':20,'salary':2000},\n",
    "{'name':'chetan','age':18,'salary':5000},\n",
    "{'name':'guru','age':30,'salary':3000}]\n",
    "print(\"List : \", people )\n",
    "by_age = itemgetter('age')\n",
    "by_salary = itemgetter('salary')\n",
    "people.sort(key=by_age) #in-place sorting by age\n",
    "print(\"\\nSorted based on age : \", people)\n",
    "people.sort(key=by_salary) #in-place sorting by salary\n",
    "print(\"\\nSorted based on salary : \", people)"
   ]
  },
  {
   "cell_type": "code",
   "execution_count": 64,
   "metadata": {},
   "outputs": [
    {
     "name": "stdout",
     "output_type": "stream",
     "text": [
      "List :  [(1, 2), (3, 4), (5, 0)]\n",
      "Sorted List :  [(5, 0), (1, 2), (3, 4)]\n"
     ]
    }
   ],
   "source": [
    "#itemgetter can also be given an index. This is helpful if you want to sort based on indices of a tuple.\n",
    "\n",
    "from operator import itemgetter\n",
    "\n",
    "list_of_tuples = [(1,2), (3,4), (5,0)]\n",
    "print(\"List : \", list_of_tuples )\n",
    "list_of_tuples.sort(key=itemgetter(1))\n",
    "print(\"Sorted List : \", list_of_tuples) #[(5, 0), (1, 2), (3, 4)]\n",
    "\n"
   ]
  },
  {
   "cell_type": "code",
   "execution_count": 66,
   "metadata": {},
   "outputs": [
    {
     "name": "stdout",
     "output_type": "stream",
     "text": [
      "List :  [John Cena, Chuck Norris, Jon Skeet]\n",
      "\n",
      "Sort List by name :   [Chuck Norris, John Cena, Jon Skeet]\n",
      "\n",
      "Sort List by birthday :   [Chuck Norris, Jon Skeet, John Cena]\n"
     ]
    }
   ],
   "source": [
    "#Use the attrgetter if you want to sort by attributes of an object,\n",
    "\n",
    "from operator import attrgetter\n",
    "\n",
    "persons = [Person(\"John Cena\", datetime.date(1992, 9, 12), 175),\n",
    "Person(\"Chuck Norris\", datetime.date(1990, 8, 28), 180),\n",
    "Person(\"Jon Skeet\", datetime.date(1991, 7, 6), 185)] #reusing Person class from above\n",
    "print(\"List : \", persons)\n",
    "persons.sort(key=attrgetter('name')) #sort by name\n",
    "print(\"\\nSort List by name :  \", persons)\n",
    "by_birthday = attrgetter('birthday')\n",
    "persons.sort(key=by_birthday) #sort by birthday\n",
    "print(\"\\nSort List by birthday :  \", persons)"
   ]
  },
  {
   "cell_type": "code",
   "execution_count": 67,
   "metadata": {},
   "outputs": [
    {
     "name": "stdout",
     "output_type": "stream",
     "text": [
      "['blah', 'blah', 'blah']\n",
      "[1, 3, 5, 1, 3, 5, 1, 3, 5, 1, 3, 5, 1, 3, 5]\n"
     ]
    }
   ],
   "source": [
    "\"\"\"\n",
    "Replication – multiplying an existing list by an integer will produce a larger list consisting of that many copies\n",
    "of the original. This can be useful for example for list initialization:\n",
    "\n",
    "Take care doing this if your list contains references to objects (eg a list of lists), see Common Pitfalls - List\n",
    "multiplication and common references.\n",
    "\"\"\"\n",
    "\n",
    "b = [\"blah\"] * 3\n",
    "# b = [\"blah\", \"blah\", \"blah\"]\n",
    "print(b)\n",
    "b = [1, 3, 5] * 5\n",
    "# [1, 3, 5, 1, 3, 5, 1, 3, 5, 1, 3, 5, 1, 3, 5]\n",
    "print(b)"
   ]
  },
  {
   "cell_type": "code",
   "execution_count": 70,
   "metadata": {},
   "outputs": [
    {
     "name": "stdout",
     "output_type": "stream",
     "text": [
      "list is empty\n"
     ]
    }
   ],
   "source": [
    "#Checking if list is empty\n",
    "\"\"\"\n",
    "The emptiness of a list is associated to the boolean False, so you don't have to check len(lst) == 0, but just lst\n",
    "or not lst\n",
    "\"\"\"\n",
    "\n",
    "lst = []\n",
    "if not lst:\n",
    "    print(\"list is empty\")\n",
    "# Output: list is empty"
   ]
  },
  {
   "cell_type": "code",
   "execution_count": 71,
   "metadata": {},
   "outputs": [
    {
     "name": "stdout",
     "output_type": "stream",
     "text": [
      "foo\n",
      "bar\n",
      "baz\n",
      "The item in position 0 is: foo\n",
      "The item in position 1 is: bar\n",
      "The item in position 2 is: baz\n",
      "foo\n",
      "bar\n",
      "baz\n",
      "foo\n",
      "baz\n"
     ]
    }
   ],
   "source": [
    "\"\"\"\n",
    "Iterating over a list:\n",
    "Python supports using a for loop directly on a list\n",
    "\"\"\"\n",
    "my_list = ['foo', 'bar', 'baz']\n",
    "for item in my_list:\n",
    "    print(item)\n",
    "    \n",
    "#You can also get the position of each item at the same time:\n",
    "for (index, item) in enumerate(my_list):\n",
    "    print('The item in position {} is: {}'.format(index, item))\n",
    "\n",
    "#The other way of iterating a list based on the index value:\n",
    "for i in range(0,len(my_list)):\n",
    "    print(my_list[i])\n",
    "\n",
    "#Note that changing items in a list while iterating on it may have unexpected results:\n",
    "for item in my_list:\n",
    "    if item == 'foo':\n",
    "        del my_list[0]\n",
    "    print(item)\n",
    "#we deleted the first item at the first iteration, but that caused bar to be skipped."
   ]
  },
  {
   "cell_type": "code",
   "execution_count": 73,
   "metadata": {},
   "outputs": [
    {
     "name": "stdout",
     "output_type": "stream",
     "text": [
      "True\n",
      "False\n"
     ]
    },
    {
     "data": {
      "text/plain": [
       "True"
      ]
     },
     "execution_count": 73,
     "metadata": {},
     "output_type": "execute_result"
    }
   ],
   "source": [
    "\"\"\"\n",
    "Checking whether an item is in a list\n",
    "Python makes it very simple to check whether an item is in a list. Simply use the in operator.\n",
    "\"\"\"\n",
    "\n",
    "lst = ['test', 'twest', 'tweast', 'treast']\n",
    "print('test' in lst)\n",
    "# Out: True\n",
    "print('toast' in lst)\n",
    "# Out: False\n",
    "\n",
    "\"\"\"\n",
    "Note: the in operator on sets is asymptotically faster than on lists. If you need to use it many times on\n",
    "potentially large lists, you may want to convert your list to a set, and test the presence of elements on\n",
    "the set.\n",
    "\"\"\"\n",
    "slst = set(lst)\n",
    "'test' in slst\n",
    "# Out: True\n"
   ]
  },
  {
   "cell_type": "code",
   "execution_count": 74,
   "metadata": {},
   "outputs": [
    {
     "name": "stdout",
     "output_type": "stream",
     "text": [
      "False\n",
      "True\n",
      "True\n",
      "False\n",
      "False\n",
      "True\n"
     ]
    }
   ],
   "source": [
    "#Any and All\n",
    "#You can use all() to determine if all the values in an iterable evaluate to True\n",
    "\n",
    "nums = [1, 1, 0, 1]\n",
    "print(all(nums))\n",
    "# False\n",
    "chars = ['a', 'b', 'c', 'd']\n",
    "print(all(chars))\n",
    "# True\n",
    "\n",
    "#Likewise, any() determines if one or more values in an iterable evaluate to True\n",
    "\n",
    "nums = [1, 1, 0, 1]\n",
    "print(any(nums))\n",
    "# True\n",
    "vals = [None, None, None, False]\n",
    "print(any(vals))\n",
    "# False\n",
    "\n",
    "#While this example uses a list, it is important to note these built-ins work with any iterable, including generators.\n",
    "\n",
    "vals = [1, 2, 3, 4]\n",
    "print(any(val > 12 for val in vals))\n",
    "# False\n",
    "print(any((val * 2) > 6 for val in vals))\n",
    "# True"
   ]
  },
  {
   "cell_type": "code",
   "execution_count": 78,
   "metadata": {},
   "outputs": [
    {
     "name": "stdout",
     "output_type": "stream",
     "text": [
      "a1 b1\n",
      "a2 b2\n",
      "a3 b3\n"
     ]
    }
   ],
   "source": [
    "\"\"\"\n",
    "Concatenate and Merge lists\n",
    "\n",
    "1. The simplest way to concatenate list1 and list2:\n",
    "merged = list1 + list2\n",
    "2. zip returns a list of tuples, where the i-th tuple contains the i-th element from each of the argument\n",
    "sequences or iterables:\n",
    "\n",
    "\"\"\"\n",
    "\n",
    "alist = ['a1', 'a2', 'a3']\n",
    "blist = ['b1', 'b2', 'b3']\n",
    "for a, b in zip(alist, blist):\n",
    "    print(a, b)\n",
    "# Output:\n",
    "# a1 b1\n",
    "# a2 b2\n",
    "# a3 b3\n",
    "\n",
    "#If the lists have different lengths then the result will include only as many elements as the shortest one:\n",
    "alist = ['a1', 'a2', 'a3']\n",
    "blist = ['b1', 'b2', 'b3', 'b4']\n",
    "for a, b in zip(alist, blist):\n",
    "    print(a, b)\n",
    "\n",
    "# Output:\n",
    "# a1 b1\n",
    "# a2 b2\n",
    "# a3 b3\n",
    "\n",
    "\n",
    "alist = []\n",
    "len(list(zip(alist, blist)))\n",
    "# Output:\n",
    "# 0\n",
    "\n"
   ]
  },
  {
   "cell_type": "code",
   "execution_count": 79,
   "metadata": {},
   "outputs": [
    {
     "data": {
      "text/plain": [
       "['edik', 'duke', 'tofp', 'aixk']"
      ]
     },
     "execution_count": 79,
     "metadata": {},
     "output_type": "execute_result"
    }
   ],
   "source": [
    "#Remove duplicate values in list\n",
    "\n",
    "\"\"\"\n",
    "Removing duplicate values in a list can be done by converting the list to a set (that is an unordered collection of\n",
    "distinct objects). If a list data structure is needed, then the set can be converted back to a list using the function\n",
    "list():\n",
    "\"\"\"\n",
    "\n",
    "names = [\"aixk\", \"duke\", \"edik\", \"tofp\", \"duke\"]\n",
    "list(set(names))\n",
    "# Out: ['duke', 'tofp', 'aixk', 'edik']\n"
   ]
  },
  {
   "cell_type": "code",
   "execution_count": 80,
   "metadata": {},
   "outputs": [
    {
     "data": {
      "text/plain": [
       "odict_keys(['aixk', 'duke', 'edik', 'tofp'])"
      ]
     },
     "execution_count": 80,
     "metadata": {},
     "output_type": "execute_result"
    }
   ],
   "source": [
    "\"\"\"\n",
    "Note that by converting a list to a set the original ordering is lost.\n",
    "To preserve the order of the list one can use an OrderedDict\n",
    "\"\"\"\n",
    "import collections\n",
    "names = [\"aixk\", \"duke\", \"edik\", \"tofp\", \"duke\"]\n",
    "collections.OrderedDict.fromkeys(names).keys()\n",
    "# Out: ['aixk', 'duke', 'edik', 'tofp']"
   ]
  },
  {
   "cell_type": "code",
   "execution_count": 83,
   "metadata": {},
   "outputs": [
    {
     "name": "stdout",
     "output_type": "stream",
     "text": [
      "[1, 10, 100] < [2, 10, 100] :  True\n",
      "[1, 10, 100] < [1, 10, 100] :  False\n",
      "[1, 10, 100] <= [1, 10, 100] :  True\n",
      "[1, 10, 100] < [1, 10, 101] :  True\n",
      "[1, 10, 100] < [0, 10, 100] :  False\n",
      "[1, 10] < [1, 10, 100] :  True\n"
     ]
    }
   ],
   "source": [
    "\"\"\"\n",
    "Comparison of lists\n",
    "It's possible to compare lists and other sequences lexicographically using comparison operators. Both operands\n",
    "must be of the same type.\n",
    "\n",
    "\"\"\"\n",
    "# True, because 1 < 2\n",
    "print(\"[1, 10, 100] < [2, 10, 100] : \",[1, 10, 100] < [2, 10, 100])\n",
    "\n",
    "# False, because the lists are equal\n",
    "print(\"[1, 10, 100] < [1, 10, 100] : \", [1, 10, 100] < [1, 10, 100])\n",
    "\n",
    "# True, because the lists are equal\n",
    "print(\"[1, 10, 100] <= [1, 10, 100] : \", [1, 10, 100] <= [1, 10, 100])\n",
    "\n",
    "# True, because 100 < 101\n",
    "print(\"[1, 10, 100] < [1, 10, 101] : \", [1, 10, 100] < [1, 10, 101]);\n",
    "\n",
    "# False, because 0 < 1\n",
    "print(\"[1, 10, 100] < [0, 10, 100] : \", [1, 10, 100] < [0, 10, 100])\n",
    "\n",
    "\n",
    "#If one of the lists is contained at the start of the other, the shortest list wins.\n",
    "# True\n",
    "print(\"[1, 10] < [1, 10, 100] : \", [1, 10] < [1, 10, 100])\n"
   ]
  },
  {
   "cell_type": "code",
   "execution_count": 84,
   "metadata": {},
   "outputs": [
    {
     "name": "stdout",
     "output_type": "stream",
     "text": [
      "Three Dimensional List :  [[[1, 2], [3, 4]], [[5, 6, 7], [8, 9, 10], [12, 13, 14]]]\n",
      "2\n",
      "10\n",
      "11\n",
      "[1, 2, 11]\n",
      "[3, 4]\n",
      "[5, 6, 7]\n",
      "[8, 9, 10]\n",
      "[12, 13, 14]\n"
     ]
    },
    {
     "data": {
      "text/plain": [
       "[[1, 2, 11], [3, 4], [5, 6, 7], [8, 9, 10], [12, 13, 14]]"
      ]
     },
     "execution_count": 84,
     "metadata": {},
     "output_type": "execute_result"
    }
   ],
   "source": [
    "#Accessing values in nested list\n",
    "\n",
    "#Three-dimensional list:\n",
    "alist = [[[1,2],[3,4]], [[5,6,7],[8,9,10], [12, 13, 14]]]\n",
    "print(\"Three Dimensional List : \", alist)\n",
    "\n",
    "#Accessing items in the list:\n",
    "print(alist[0][0][1])\n",
    "#2\n",
    "#Accesses second element in the first list in the first list\n",
    "print(alist[1][1][2])\n",
    "#10\n",
    "#Accesses the third element in the second list in the second list\n",
    "\n",
    "#Performing support operations:\n",
    "alist[0][0].append(11)\n",
    "print(alist[0][0][2])\n",
    "#11\n",
    "#Appends 11 to the end of the first list in the first list\n",
    "\n",
    "#Using nested for loops to print the list:\n",
    "for row in alist: #One way to loop through nested lists\n",
    "    for col in row:\n",
    "        print(col)\n",
    "#[1, 2, 11]\n",
    "#[3, 4]\n",
    "#[5, 6, 7]\n",
    "#[8, 9, 10]\n",
    "#[12, 13, 14]\n",
    "\n",
    "#Note that this operation can be used in a list comprehension or even as a generator to produce efficiencies, e.g.:\n",
    "[col for row in alist for col in row]\n",
    "#[[1, 2, 11], [3, 4], [5, 6, 7], [8, 9, 10], [12, 13, 14]]\n",
    "\n"
   ]
  },
  {
   "cell_type": "code",
   "execution_count": 86,
   "metadata": {},
   "outputs": [
    {
     "name": "stdout",
     "output_type": "stream",
     "text": [
      "[1, 2]\n",
      "[3, 4]\n",
      "[5, 6, 7]\n",
      "[8, 9, 10]\n",
      "[12, 13, 14]\n",
      "[[8, 9, 10], [12, 13, 14]]\n",
      "Final List :  [[[1, 2], [3, 4]], [[5, 6, 7], [8, 9, 10], [12, 13, 14]]]\n"
     ]
    }
   ],
   "source": [
    "alist = [[[1,2],[3,4]], [[5,6,7],[8,9,10], [12, 13, 14]]]\n",
    "for row in range(len(alist)): #A less Pythonic way to loop through lists\n",
    "    for col in range(len(alist[row])):\n",
    "        print(alist[row][col])\n",
    "#[1, 2, 11]\n",
    "#[3, 4]\n",
    "#[5, 6, 7]\n",
    "#[8, 9, 10]\n",
    "#15\n",
    "#[12, 13, 14]\n",
    "\n",
    "#Using slices in nested list:\n",
    "print(alist[1][1:])\n",
    "#[[8, 9, 10], 15, [12, 13, 14]]\n",
    "#Slices still work\n",
    "\n",
    "#The final list:\n",
    "print(\"Final List : \", alist)\n",
    "#[[[1, 2, 11], [3, 4]], [[5, 6, 7], [8, 9, 10], 15, [12, 13, 14]]]"
   ]
  },
  {
   "cell_type": "code",
   "execution_count": 88,
   "metadata": {},
   "outputs": [
    {
     "name": "stdout",
     "output_type": "stream",
     "text": [
      "[None, None, None, None, None, None, None, None, None, None]\n",
      "['test', 'test', 'test', 'test', 'test', 'test', 'test', 'test', 'test', 'test']\n",
      "[{1}, {1}, {1}, {1}, {1}, {1}, {1}, {1}, {1}, {1}]\n",
      "[{1, 2}, {1, 2}, {1, 2}, {1, 2}, {1, 2}, {1, 2}, {1, 2}, {1, 2}, {1, 2}, {1, 2}]\n",
      "[{1}, {1}, {1}, {1}, {1}, {1}, {1}, {1}, {1}, {1}]\n"
     ]
    }
   ],
   "source": [
    "\"\"\"\n",
    "Initializing a List to a Fixed Number of Elements\n",
    "For immutable elements (e.g. None, string literals etc.):\n",
    "\"\"\"\n",
    "\n",
    "my_list = [None] * 10\n",
    "print(my_list)\n",
    "\n",
    "my_list = ['test'] * 10\n",
    "print(my_list)\n",
    "\n",
    "\"\"\"\n",
    "For mutable elements, the same construct will result in all elements of the list referring to the same object, for\n",
    "example, for a set:\n",
    "\"\"\"\n",
    "\n",
    "my_list=[{1}] * 10\n",
    "print(my_list)\n",
    "\n",
    "my_list[0].add(2)\n",
    "print(my_list)\n",
    "\n",
    "# Instead, to initialize the list with a fixed number of different mutable objects, use:\n",
    "my_list=[{1} for _ in range(10)]\n",
    "print(my_list)"
   ]
  },
  {
   "cell_type": "code",
   "execution_count": 93,
   "metadata": {},
   "outputs": [
    {
     "name": "stdout",
     "output_type": "stream",
     "text": [
      "Squares of [1, 2, 3, 4] using List Comprehensions :  [1, 4, 9, 16]\n",
      "Squares of [1, 2, 3, 4] using normal for-loop :  [1, 4, 9, 16]\n"
     ]
    }
   ],
   "source": [
    "# List Comprehensions\n",
    "\"\"\"\n",
    "A list comprehension creates a new list by applying an expression to each element of an iterable. The most basic\n",
    "form is:\n",
    "[ <expression> for <element> in <iterable> ]\n",
    "There's also an optional 'if' condition:\n",
    "[ <expression> for <element> in <iterable> if <condition> ]\n",
    "Each <element> in the <iterable> is plugged in to the <expression> if the (optional) <condition> evaluates to true\n",
    ". All results are returned at once in the new list. Generator expressions are evaluated lazily, but list comprehensions\n",
    "evaluate the entire iterator immediately - consuming memory proportional to the iterator's length.\n",
    "\"\"\"\n",
    "\n",
    "#To create a list of squared integers:\n",
    "squares = [x * x for x in (1, 2, 3, 4)]\n",
    "# squares: [1, 4, 9, 16]\n",
    "print(\"Squares of [1, 2, 3, 4] using List Comprehensions : \", squares)\n",
    "\n",
    "#a list comprehension is roughly equivalent to the following for-loop:\n",
    "squares = []\n",
    "for x in (1, 2, 3, 4):\n",
    "    squares.append(x * x)\n",
    "print(\"Squares of [1, 2, 3, 4] using normal for-loop : \", squares)\n",
    "# squares: [1, 4, 9, 16]"
   ]
  },
  {
   "cell_type": "code",
   "execution_count": 97,
   "metadata": {},
   "outputs": [
    {
     "name": "stdout",
     "output_type": "stream",
     "text": [
      "Upper case characers for a string :  ['H', 'E', 'L', 'L', 'O', ' ', 'W', 'O', 'R', 'L', 'D']\n",
      "Strip of commas in a string :  ['these', 'words', 'mostly', 'have,commas']\n",
      "\n",
      "Sentence :  Beautiful is better than ugly\n",
      "Organize letters in a sentence, alphabetical order :  ['aBefiltuu', 'is', 'beertt', 'ahnt', 'gluy']\n"
     ]
    }
   ],
   "source": [
    "#List Comprehension\n",
    "\n",
    "#The expression applied to each element can be as complex as needed:\n",
    "\n",
    "# Get a list of uppercase characters from a string\n",
    "uc = [s.upper() for s in \"Hello World\"]\n",
    "# ['H', 'E', 'L', 'L', 'O', ' ', 'W', 'O', 'R', 'L', 'D']\n",
    "print(\"Upper case characers for a string : \", uc);\n",
    "\n",
    "# Strip off any commas from the end of strings in a list\n",
    "soff = [w.strip(',') for w in ['these,', 'words,,', 'mostly', 'have,commas,']]\n",
    "# ['these', 'words', 'mostly', 'have,commas']\n",
    "print(\"Strip of commas in a string : \", soff)\n",
    "\n",
    "# Organize letters in words more reasonably - in an alphabetical order\n",
    "sentence = \"Beautiful is better than ugly\"\n",
    "aorder = [\"\".join(sorted(word, key = lambda x: x.lower())) for word in sentence.split()]\n",
    "# ['aBefiltuu', 'is', 'beertt', 'ahnt', 'gluy']\n",
    "print(\"\\nSentence : \", sentence)\n",
    "print(\"Organize letters in a sentence, alphabetical order : \", aorder )"
   ]
  },
  {
   "cell_type": "code",
   "execution_count": 100,
   "metadata": {},
   "outputs": [
    {
     "name": "stdout",
     "output_type": "stream",
     "text": [
      "List(characters in apple, replacing non vowels with *) ['a', '*', '*', '*', 'e']\n"
     ]
    }
   ],
   "source": [
    "\"\"\"\n",
    "else can be used in List comprehension constructs, but be careful regarding the syntax. The if/else clauses should\n",
    "be used before for loop, not after:\n",
    "\"\"\"\n",
    "\n",
    "# create a list of characters in apple, replacing non vowels with '*'\n",
    "# Ex - 'apple' --> ['a', '*', '*', '*' ,'e']\n",
    "\n",
    "# When using if/else together use them before the loop\n",
    "listNV = [x if x in 'aeiou' else '*' for x in 'apple']\n",
    "#['a', '*', '*', '*', 'e']\n",
    "print(\"List(characters in apple, replacing non vowels with *)\", listNV)\n",
    "\n",
    "#listNV2 = [x for x in 'apple' if x in 'aeiou' else '*']\n",
    "#print(\"List(characters in apple, replacing non vowels with *)\", listNV2)\n",
    "#SyntaxError: invalid syntax\n"
   ]
  },
  {
   "cell_type": "code",
   "execution_count": 102,
   "metadata": {},
   "outputs": [
    {
     "name": "stdout",
     "output_type": "stream",
     "text": [
      "['0', '0.5', '1', '1.5', '2', '2.5']\n"
     ]
    }
   ],
   "source": [
    "#List Comprehension\n",
    "\n",
    "#Double Iteration\n",
    "\n",
    "\"\"\"\n",
    "Order of double iteration [... for x in ... for y in ...] is either natural or counter-intuitive. The rule of\n",
    "thumb is to follow an equivalent for loop:\n",
    "\"\"\"\n",
    "def foo(i):\n",
    "    return i, i + 0.5\n",
    "\n",
    "list = [str(x) for i in range(3) for x in foo(i)]\n",
    "print(list)\n"
   ]
  },
  {
   "cell_type": "code",
   "execution_count": 108,
   "metadata": {},
   "outputs": [
    {
     "name": "stdout",
     "output_type": "stream",
     "text": [
      "[None, None, None]\n",
      "[[1, 2], [3, 4], [0, 1]]\n",
      "1\n",
      "2\n",
      "3\n",
      "Side Effect List :  [None, None, None]\n",
      "Normal List : \n",
      "1\n",
      "2\n",
      "3\n"
     ]
    }
   ],
   "source": [
    "#In-place Mutation and Other Side Effects\n",
    "\n",
    "\"\"\"\n",
    "Before using list comprehension, understand the difference between functions called for their side effects\n",
    "(mutating, or in-place functions) which usually return None, and functions that return an interesting value.\n",
    "\n",
    "Many functions (especially pure functions) simply take an object and return some object. An in-place function\n",
    "modifies the existing object, which is called a side effect. Other examples include input and output operations such\n",
    "as printing.\n",
    "\n",
    "list.sort() sorts a list in-place (meaning that it modifies the original list) and returns the value None. \n",
    "Therefore, it won't work as expected in a list comprehension:\n",
    "\n",
    "\"\"\"\n",
    "\n",
    "sl = [x.sort() for x in [[2, 1], [4, 3], [0, 1]]]\n",
    "# [None, None, None]\n",
    "print(sl)\n",
    "\n",
    "#Instead, sorted() returns a sorted list rather than sorting in-place:\n",
    "sl = [sorted(x) for x in [[2, 1], [4, 3], [0, 1]]]\n",
    "# [[1, 2], [3, 4], [0, 1]]\n",
    "print(sl)\n",
    "\"\"\"\n",
    "Using comprehensions for side-effects is possible, such as I/O or in-place functions. Yet a for loop is usually more\n",
    "readable. While this works in Python 3:\n",
    "\"\"\"\n",
    "sideEffectList = [print(x) for x in (1, 2, 3)]\n",
    "print(\"Side Effect List : \", sideEffectList)\n",
    "\n",
    "#Instead use:\n",
    "print(\"Normal List : \")\n",
    "for x in (1, 2, 3):\n",
    "    print(x)"
   ]
  },
  {
   "cell_type": "code",
   "execution_count": 109,
   "metadata": {},
   "outputs": [
    {
     "name": "stdout",
     "output_type": "stream",
     "text": [
      "[5, 3, 5, 1, 2, 5, 2, 4, 1, 4]\n"
     ]
    }
   ],
   "source": [
    "\"\"\"\n",
    "\n",
    "In some situations, side effect functions are suitable for list comprehension. random.randrange() has the side\n",
    "effect of changing the state of the random number generator, but it also returns an interesting value. Additionally,\n",
    "next() can be called on an iterator.\n",
    "The following random value generator is not pure, yet makes sense as the random generator is reset every time the\n",
    "expression is evaluated:\n",
    "\n",
    "\"\"\"\n",
    "from random import randrange\n",
    "\n",
    "myList = [randrange(1, 7) for _ in range(10)]\n",
    "\n",
    "\n",
    "print(myList)"
   ]
  },
  {
   "cell_type": "code",
   "execution_count": 111,
   "metadata": {},
   "outputs": [
    {
     "name": "stdout",
     "output_type": "stream",
     "text": [
      "[0, 2, 4, 6, 8]\n",
      "[0, 2, 4, 6, 8]\n"
     ]
    }
   ],
   "source": [
    "#Conditional List Comprehensions\n",
    "\"\"\"\n",
    "[<expression> for <element> in <iterable> if <condition>]\n",
    "For each <element> in <iterable>; if <condition> evaluates to True, add <expression> (usually a function of\n",
    "<element>) to the returned list.\n",
    "\n",
    "\"\"\"\n",
    "#this can be used to extract only even numbers from a sequence of integers:\n",
    "\n",
    "sList = [x for x in range(10) if x % 2 == 0]\n",
    "# Out: [0, 2, 4, 6, 8]\n",
    "print(\"Using Conditional List comprehension : \", sList)\n",
    "\n",
    "#The above code is equivalent to:\n",
    "even_numbers = []\n",
    "for x in range(10):\n",
    "    if x % 2 == 0:\n",
    "        even_numbers.append(x)\n",
    "print(even_numbers)\n",
    "# Out: [0, 2, 4, 6, 8]"
   ]
  },
  {
   "cell_type": "code",
   "execution_count": null,
   "metadata": {},
   "outputs": [],
   "source": []
  }
 ],
 "metadata": {
  "kernelspec": {
   "display_name": "Python 3",
   "language": "python",
   "name": "python3"
  },
  "language_info": {
   "codemirror_mode": {
    "name": "ipython",
    "version": 3
   },
   "file_extension": ".py",
   "mimetype": "text/x-python",
   "name": "python",
   "nbconvert_exporter": "python",
   "pygments_lexer": "ipython3",
   "version": "3.8.2"
  }
 },
 "nbformat": 4,
 "nbformat_minor": 2
}
