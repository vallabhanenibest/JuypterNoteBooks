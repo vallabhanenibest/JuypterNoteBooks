{
 "cells": [
  {
   "cell_type": "code",
   "execution_count": 72,
   "metadata": {},
   "outputs": [
    {
     "name": "stdout",
     "output_type": "stream",
     "text": [
      "Hello\n",
      "Hello\n"
     ]
    }
   ],
   "source": [
    "\"\"\"\n",
    "String Literals\n",
    "\n",
    "String literals in python are surrounded by either single quotation marks, or double quotation marks.\n",
    "\n",
    "'hello' is the same as \"hello\".\n",
    "\n",
    "You can display a string literal with the print() function\n",
    "\"\"\"\n",
    "print(\"Hello\")\n",
    "print('Hello')"
   ]
  },
  {
   "cell_type": "code",
   "execution_count": 2,
   "metadata": {},
   "outputs": [
    {
     "name": "stdout",
     "output_type": "stream",
     "text": [
      "Hello\n"
     ]
    }
   ],
   "source": [
    "\"\"\"\n",
    "Assign String to a Variable\n",
    "Assigning a string to a variable is done with the variable name followed by an equal sign and the string\n",
    "\"\"\"\n",
    "a = \"Hello\"\n",
    "print(a) "
   ]
  },
  {
   "cell_type": "code",
   "execution_count": 5,
   "metadata": {},
   "outputs": [
    {
     "name": "stdout",
     "output_type": "stream",
     "text": [
      "Lorem ipsum dolor sit amet,\n",
      "consectetur adipiscing elit,\n",
      "sed do eiusmod tempor incididunt\n",
      "ut labore et dolore magna aliqua.\n",
      "Lorem ipsum dolor sit amet,\n",
      "consectetur adipiscing elit,\n",
      "sed do eiusmod tempor incididunt\n",
      "ut labore et dolore magna aliqua.\n"
     ]
    }
   ],
   "source": [
    "\"\"\"Multiline Strings\n",
    "You can assign a multiline string to a variable by using three quotes:\n",
    "Example You can use three double quotes\n",
    "\"\"\"\n",
    "a = \"\"\"Lorem ipsum dolor sit amet,\n",
    "consectetur adipiscing elit,\n",
    "sed do eiusmod tempor incididunt\n",
    "ut labore et dolore magna aliqua.\"\"\"\n",
    "print(a)\n",
    "\"\"\"\n",
    "Or three single quotes example\n",
    "Note: in the result, the line breaks are inserted at the same position as in the code.\n",
    "\n",
    "\"\"\"\n",
    "a = '''Lorem ipsum dolor sit amet,\n",
    "consectetur adipiscing elit,\n",
    "sed do eiusmod tempor incididunt\n",
    "ut labore et dolore magna aliqua.'''\n",
    "print(a)\n",
    "\n"
   ]
  },
  {
   "cell_type": "code",
   "execution_count": 6,
   "metadata": {},
   "outputs": [
    {
     "name": "stdout",
     "output_type": "stream",
     "text": [
      "e\n"
     ]
    }
   ],
   "source": [
    "\"\"\"Strings are Arrays\n",
    "Like many other popular programming languages, strings in Python are arrays of bytes representing unicode characters.\n",
    "However, Python does not have a character data type, a single character is simply a string with a length of 1.\n",
    "Square brackets can be used to access elements of the string.\n",
    "Example\n",
    "Get the character at position 1 (remember that the first character has the position 0)\n",
    "\"\"\"\n",
    "a = \"Hello, World!\"\n",
    "print(a[1])\n",
    "\n"
   ]
  },
  {
   "cell_type": "code",
   "execution_count": 7,
   "metadata": {},
   "outputs": [
    {
     "name": "stdout",
     "output_type": "stream",
     "text": [
      "llo\n"
     ]
    }
   ],
   "source": [
    "\"\"\"Slicing\n",
    "You can return a range of characters by using the slice syntax.\n",
    "Specify the start index and the end index, separated by a colon, to return a part of the string.\n",
    "Example\n",
    "Get the characters from position 2 to position 5 (not included)\n",
    "\"\"\"\n",
    "b = \"Hello, World!\"\n",
    "print(b[2:5])\n",
    "\n"
   ]
  },
  {
   "cell_type": "code",
   "execution_count": 8,
   "metadata": {},
   "outputs": [
    {
     "name": "stdout",
     "output_type": "stream",
     "text": [
      "orl\n"
     ]
    }
   ],
   "source": [
    "\"\"\"\n",
    "Negative Indexing\n",
    "Use negative indexes to start the slice from the end of the string:\n",
    "Example\n",
    "Get the characters from position 5 to position 1, starting the count from the end of the string\n",
    "\"\"\"\n",
    "b = \"Hello, World!\"\n",
    "print(b[-5:-2])\n",
    "\n"
   ]
  },
  {
   "cell_type": "code",
   "execution_count": 9,
   "metadata": {},
   "outputs": [
    {
     "name": "stdout",
     "output_type": "stream",
     "text": [
      "13\n"
     ]
    }
   ],
   "source": [
    "\"\"\"String Length\n",
    "To get the length of a string, use the len() function.\n",
    "Example\n",
    "The len() function returns the length of a string:\n",
    "\"\"\"\n",
    "a = \"Hello, World!\"\n",
    "print(len(a))\n",
    "\n"
   ]
  },
  {
   "cell_type": "code",
   "execution_count": 10,
   "metadata": {},
   "outputs": [
    {
     "name": "stdout",
     "output_type": "stream",
     "text": [
      "Hello, World!\n",
      "hello, world!\n",
      "HELLO, WORLD!\n",
      "Jello, World!\n",
      "['Hello', ' World!']\n"
     ]
    }
   ],
   "source": [
    "\"\"\"String Methods\n",
    "Python has a set of built-in methods that you can use on strings.\n",
    "Example\n",
    "The strip() method removes any whitespace from the beginning or the end:\n",
    "\"\"\"\n",
    "a = \" Hello, World! \"\n",
    "print(a.strip()) # returns \"Hello, World!\"\n",
    "\n",
    "#The lower() method returns the string in lower case:\n",
    "a = \"Hello, World!\"\n",
    "print(a.lower())\n",
    "\n",
    "#The upper() method returns the string in upper case:\n",
    "a = \"Hello, World!\"\n",
    "print(a.upper())\n",
    "\n",
    "#The replace() method replaces a string with another string:\n",
    "a = \"Hello, World!\"\n",
    "print(a.replace(\"H\", \"J\"))\n",
    "\n",
    "#The split() method splits the string into substrings if it finds instances of the separator:\n",
    "a = \"Hello, World!\"\n",
    "print(a.split(\",\")) # returns ['Hello', ' World!']\n"
   ]
  },
  {
   "cell_type": "code",
   "execution_count": 11,
   "metadata": {},
   "outputs": [
    {
     "name": "stdout",
     "output_type": "stream",
     "text": [
      "True\n",
      "False\n"
     ]
    }
   ],
   "source": [
    "\"\"\"Check String\n",
    "To check if a certain phrase or character is present in a string, we can use the keywords in or not in.\n",
    "Example\n",
    "Check if the phrase \"ain\" is present in the following text\n",
    "\"\"\"\n",
    "txt = \"The rain in Spain stays mainly in the plain\"\n",
    "x = \"ain\" in txt\n",
    "print(x)\n",
    "\n",
    "#Check if the phrase \"ain\" is NOT present in the following text:\n",
    "txt = \"The rain in Spain stays mainly in the plain\"\n",
    "x = \"ain\" not in txt\n",
    "print(x) \n"
   ]
  },
  {
   "cell_type": "code",
   "execution_count": 12,
   "metadata": {},
   "outputs": [
    {
     "name": "stdout",
     "output_type": "stream",
     "text": [
      "HelloWorld\n",
      "Hello World\n"
     ]
    }
   ],
   "source": [
    "\"\"\"\n",
    "String Concatenation\n",
    "To concatenate, or combine, two strings you can use the + operator.\n",
    "Example\n",
    "Merge variable a with variable b into variable c:\n",
    "\"\"\"\n",
    "a = \"Hello\"\n",
    "b = \"World\"\n",
    "c = a + b\n",
    "print(c)\n",
    "\n",
    "#To add a space between them, add a \" \":\n",
    "a = \"Hello\"\n",
    "b = \"World\"\n",
    "c = a + \" \" + b\n",
    "print(c)\n"
   ]
  },
  {
   "cell_type": "code",
   "execution_count": 13,
   "metadata": {},
   "outputs": [
    {
     "ename": "TypeError",
     "evalue": "can only concatenate str (not \"int\") to str",
     "output_type": "error",
     "traceback": [
      "\u001b[1;31m---------------------------------------------------------------------------\u001b[0m",
      "\u001b[1;31mTypeError\u001b[0m                                 Traceback (most recent call last)",
      "\u001b[1;32m<ipython-input-13-e890b069180b>\u001b[0m in \u001b[0;36m<module>\u001b[1;34m\u001b[0m\n\u001b[0;32m      5\u001b[0m \"\"\"\n\u001b[0;32m      6\u001b[0m \u001b[0mage\u001b[0m \u001b[1;33m=\u001b[0m \u001b[1;36m36\u001b[0m\u001b[1;33m\u001b[0m\u001b[1;33m\u001b[0m\u001b[0m\n\u001b[1;32m----> 7\u001b[1;33m \u001b[0mtxt\u001b[0m \u001b[1;33m=\u001b[0m \u001b[1;34m\"My name is John, I am \"\u001b[0m \u001b[1;33m+\u001b[0m \u001b[0mage\u001b[0m\u001b[1;33m\u001b[0m\u001b[1;33m\u001b[0m\u001b[0m\n\u001b[0m\u001b[0;32m      8\u001b[0m \u001b[0mprint\u001b[0m\u001b[1;33m(\u001b[0m\u001b[0mtxt\u001b[0m\u001b[1;33m)\u001b[0m\u001b[1;33m\u001b[0m\u001b[1;33m\u001b[0m\u001b[0m\n\u001b[0;32m      9\u001b[0m \u001b[1;33m\u001b[0m\u001b[0m\n",
      "\u001b[1;31mTypeError\u001b[0m: can only concatenate str (not \"int\") to str"
     ]
    }
   ],
   "source": [
    "\"\"\"\n",
    "String Format\n",
    "As we learned in the Python Variables chapter, we cannot combine strings and numbers like this:\n",
    "Example\n",
    "\"\"\"\n",
    "age = 36\n",
    "txt = \"My name is John, I am \" + age\n",
    "print(txt)\n",
    "\n"
   ]
  },
  {
   "cell_type": "code",
   "execution_count": 14,
   "metadata": {},
   "outputs": [
    {
     "name": "stdout",
     "output_type": "stream",
     "text": [
      "My name is John, and I am 36\n",
      "I want 3 pieces of item 567 for 49.95 dollars.\n",
      "I want to pay 49.95 dollars for 3 pieces of item 567.\n"
     ]
    }
   ],
   "source": [
    "\"\"\"\n",
    "But we can combine strings and numbers by using the format() method!\n",
    "The format() method takes the passed arguments, formats them, and places them in the string where the placeholders {} are:\n",
    "Examples\n",
    "\"\"\"\n",
    "#Use the format() method to insert numbers into strings:\n",
    "age = 36\n",
    "txt = \"My name is John, and I am {}\"\n",
    "print(txt.format(age))\n",
    "\n",
    "#Use format() method takes unlimited number of arguments, and are placed into the respective placeholders:\n",
    "\n",
    "quantity = 3\n",
    "itemno = 567\n",
    "price = 49.95\n",
    "myorder = \"I want {} pieces of item {} for {} dollars.\"\n",
    "print(myorder.format(quantity, itemno, price))\n",
    "\n",
    "#You can use index numbers {0} to be sure the arguments are placed in the correct placeholders:\n",
    "\n",
    "quantity = 3\n",
    "itemno = 567\n",
    "price = 49.95\n",
    "myorder = \"I want to pay {2} dollars for {0} pieces of item {1}.\"\n",
    "print(myorder.format(quantity, itemno, price))\n"
   ]
  },
  {
   "cell_type": "code",
   "execution_count": 15,
   "metadata": {},
   "outputs": [
    {
     "name": "stdout",
     "output_type": "stream",
     "text": [
      "It's alright.\n",
      "This will insert one \\ (backslash).\n",
      "Hello\n",
      "World!\n",
      "Hello\r",
      "World!\n",
      "Hello\tWorld!\n",
      "Hello\bWorld!\n",
      "Hello\n",
      "Hello\n"
     ]
    }
   ],
   "source": [
    "\"\"\"\n",
    "Escape Characters\n",
    "\"\"\"\n",
    "# \\' \tSingle Quote\n",
    "txt = 'It\\'s alright.'\n",
    "print(txt)\n",
    "#\\\\ \tBackslash\n",
    "txt = \"This will insert one \\\\ (backslash).\"\n",
    "print(txt)\n",
    "#\\n \tNew Line\n",
    "txt = \"Hello\\nWorld!\"\n",
    "print(txt)\n",
    "#\\r \tCarriage Return \n",
    "txt = \"Hello\\rWorld!\"\n",
    "print(txt) \n",
    "#\\t \tTab \n",
    "txt = \"Hello\\tWorld!\"\n",
    "print(txt) \n",
    "#\\b \tBackspace \n",
    "txt = \"Hello\\bWorld!\"\n",
    "print(txt) \n",
    "#\\f \tForm Feed \n",
    "\n",
    "#\\ooo \tOctal value \n",
    "#A backslash followed by three integers will result in a octal value:\n",
    "txt = \"\\110\\145\\154\\154\\157\"\n",
    "print(txt) \n",
    "\n",
    "#\\xhh \tHex value\n",
    "#A backslash followed by an 'x' and a hex number represents a hex value:\n",
    "txt = \"\\x48\\x65\\x6c\\x6c\\x6f\"\n",
    "print(txt) \n"
   ]
  },
  {
   "cell_type": "code",
   "execution_count": 16,
   "metadata": {},
   "outputs": [
    {
     "name": "stdout",
     "output_type": "stream",
     "text": [
      "Hello, and welcome to my world.\n",
      "36 is my age.\n"
     ]
    }
   ],
   "source": [
    "\"\"\"\n",
    "Python String capitalize() Method\n",
    "The capitalize() method returns a string where the first character is upper case.\n",
    "Syntax\n",
    "string.capitalize()\n",
    "\n",
    "Upper case the first letter in this sentence:\n",
    "\"\"\"\n",
    "txt = \"hello, and welcome to my world.\"\n",
    "\n",
    "x = txt.capitalize()\n",
    "\n",
    "print (x) \n",
    "\n",
    "#See what happens if the first character is a number:\n",
    "\n",
    "txt = \"36 is my age.\"\n",
    "\n",
    "x = txt.capitalize()\n",
    "\n",
    "print (x) \n"
   ]
  },
  {
   "cell_type": "code",
   "execution_count": 17,
   "metadata": {},
   "outputs": [
    {
     "name": "stdout",
     "output_type": "stream",
     "text": [
      "hello, and welcome to my world!\n"
     ]
    }
   ],
   "source": [
    "\"\"\"\n",
    "Python String casefold() Method\n",
    "\n",
    "The casefold() method returns a string where all the characters are lower case.\n",
    "\n",
    "This method is similar to the lower() method, but the casefold() method is stronger, more aggressive, meaning that it will convert more characters into lower case, and will find more matches when comparing two strings and both are converted using the casefold() method.\n",
    "Syntax\n",
    "string.casefold()\n",
    "\n",
    "\"\"\"\n",
    "\n",
    "#Make the string lower case:\n",
    "txt = \"Hello, And Welcome To My World!\"\n",
    "\n",
    "x = txt.casefold()\n",
    "\n",
    "print(x) "
   ]
  },
  {
   "cell_type": "code",
   "execution_count": 18,
   "metadata": {},
   "outputs": [
    {
     "name": "stdout",
     "output_type": "stream",
     "text": [
      "       banana       \n",
      "OOOOOOObananaOOOOOOO\n"
     ]
    }
   ],
   "source": [
    "\"\"\"\n",
    "Python String center() Method\n",
    "\n",
    "The center() method will center align the string, using a specified character (space is default) as the fill character.\n",
    "Syntax\n",
    "string.center(length, character)\n",
    "\n",
    "Parameter Values\n",
    "---------------\n",
    "Parameter                Description\n",
    "length                   Required. The length of the returned string\n",
    "character                Optional. The character to fill the missing space on each side. Default is \" \" (space)\n",
    "\"\"\"\n",
    "\n",
    "#Print the word \"banana\", taking up the space of 20 characters, with \"banana\" in the middle\n",
    "txt = \"banana\"\n",
    "\n",
    "x = txt.center(20)\n",
    "\n",
    "print(x) \n",
    "\n",
    "#Using the letter \"O\" as the padding character:\n",
    "txt = \"banana\"\n",
    "\n",
    "x = txt.center(20, \"O\")\n",
    "\n",
    "print(x) \n",
    "\n",
    "\n"
   ]
  },
  {
   "cell_type": "code",
   "execution_count": 19,
   "metadata": {},
   "outputs": [
    {
     "name": "stdout",
     "output_type": "stream",
     "text": [
      "2\n",
      "1\n"
     ]
    }
   ],
   "source": [
    "\"\"\"\n",
    "Python String count() Method\n",
    "\n",
    "Definition and Usage\n",
    "\n",
    "The count() method returns the number of times a specified value appears in the string.\n",
    "Syntax\n",
    "string.count(value, start, end)\n",
    "\n",
    "Parameter Values\n",
    "----------------\n",
    "Parameter             Description\n",
    "value              Required. A String. The string to value to search for\n",
    "start              Optional. An Integer. The position to start the search. Default is 0\n",
    "end                Optional. An Integer. The position to end the search. Default is the end of the string\n",
    "\n",
    "\"\"\"\n",
    "\n",
    "#Return the number of times the value \"apple\" appears in the string:\n",
    "txt = \"I love apples, apple are my favorite fruit\"\n",
    "\n",
    "x = txt.count(\"apple\")\n",
    "\n",
    "print(x) \n",
    "\n",
    "#Search from position 10 to 24:\n",
    "txt = \"I love apples, apple are my favorite fruit\"\n",
    "\n",
    "x = txt.count(\"apple\", 10, 24)\n",
    "\n",
    "print(x) "
   ]
  },
  {
   "cell_type": "code",
   "execution_count": 22,
   "metadata": {},
   "outputs": [
    {
     "name": "stdout",
     "output_type": "stream",
     "text": [
      "b'My name is St\\xc3\\xa5le'\n",
      "b'My name is St\\\\xe5le'\n",
      "b'My name is Stle'\n",
      "b'My name is St\\\\N{LATIN SMALL LETTER A WITH RING ABOVE}le'\n",
      "b'My name is St?le'\n",
      "b'My name is St&#229;le'\n"
     ]
    },
    {
     "ename": "UnicodeEncodeError",
     "evalue": "'ascii' codec can't encode character '\\xe5' in position 13: ordinal not in range(128)",
     "output_type": "error",
     "traceback": [
      "\u001b[1;31m---------------------------------------------------------------------------\u001b[0m",
      "\u001b[1;31mUnicodeEncodeError\u001b[0m                        Traceback (most recent call last)",
      "\u001b[1;32m<ipython-input-22-d2450ee302a0>\u001b[0m in \u001b[0;36m<module>\u001b[1;34m\u001b[0m\n\u001b[0;32m     36\u001b[0m \u001b[0mprint\u001b[0m\u001b[1;33m(\u001b[0m\u001b[0mtxt\u001b[0m\u001b[1;33m.\u001b[0m\u001b[0mencode\u001b[0m\u001b[1;33m(\u001b[0m\u001b[0mencoding\u001b[0m\u001b[1;33m=\u001b[0m\u001b[1;34m\"ascii\"\u001b[0m\u001b[1;33m,\u001b[0m\u001b[0merrors\u001b[0m\u001b[1;33m=\u001b[0m\u001b[1;34m\"replace\"\u001b[0m\u001b[1;33m)\u001b[0m\u001b[1;33m)\u001b[0m\u001b[1;33m\u001b[0m\u001b[1;33m\u001b[0m\u001b[0m\n\u001b[0;32m     37\u001b[0m \u001b[0mprint\u001b[0m\u001b[1;33m(\u001b[0m\u001b[0mtxt\u001b[0m\u001b[1;33m.\u001b[0m\u001b[0mencode\u001b[0m\u001b[1;33m(\u001b[0m\u001b[0mencoding\u001b[0m\u001b[1;33m=\u001b[0m\u001b[1;34m\"ascii\"\u001b[0m\u001b[1;33m,\u001b[0m\u001b[0merrors\u001b[0m\u001b[1;33m=\u001b[0m\u001b[1;34m\"xmlcharrefreplace\"\u001b[0m\u001b[1;33m)\u001b[0m\u001b[1;33m)\u001b[0m\u001b[1;33m\u001b[0m\u001b[1;33m\u001b[0m\u001b[0m\n\u001b[1;32m---> 38\u001b[1;33m \u001b[0mprint\u001b[0m\u001b[1;33m(\u001b[0m\u001b[0mtxt\u001b[0m\u001b[1;33m.\u001b[0m\u001b[0mencode\u001b[0m\u001b[1;33m(\u001b[0m\u001b[0mencoding\u001b[0m\u001b[1;33m=\u001b[0m\u001b[1;34m\"ascii\"\u001b[0m\u001b[1;33m,\u001b[0m\u001b[0merrors\u001b[0m\u001b[1;33m=\u001b[0m\u001b[1;34m\"strict\"\u001b[0m\u001b[1;33m)\u001b[0m\u001b[1;33m)\u001b[0m  \u001b[1;31m# Throwing Error\u001b[0m\u001b[1;33m\u001b[0m\u001b[1;33m\u001b[0m\u001b[0m\n\u001b[0m",
      "\u001b[1;31mUnicodeEncodeError\u001b[0m: 'ascii' codec can't encode character '\\xe5' in position 13: ordinal not in range(128)"
     ]
    }
   ],
   "source": [
    "\"\"\"\n",
    "Python String encode() Method\n",
    "Definition and Usage\n",
    "\n",
    "The encode() method encodes the string, using the specified encoding. If no encoding is specified, UTF-8 will be used.\n",
    "Syntax\n",
    "string.encode(encoding=encoding, errors=errors)\n",
    "\n",
    "Parameter Values\n",
    "---------------\n",
    "Parameter             Description\n",
    "encoding              Optional. A String specifying the encoding to use. Default is UTF-8\n",
    "errors                Optional. A String specifying the error method. Legal values are:\n",
    "                      'backslashreplace' - uses a backslash instead of the character that could not be encoded\n",
    "                      'ignore'           - ignores the characters that cannot be encoded\n",
    "                      'namereplace'      - replaces the character with a text explaining the character\n",
    "                      'strict'           - Default, raises an error on failure\n",
    "                      'replace'          - replaces the character with a questionmark\n",
    "                      'xmlcharrefreplace'- replaces the character with an xml character\n",
    "\n",
    "\"\"\"\n",
    "\n",
    "#UTF-8 encode the string:\n",
    "txt = \"My name is Ståle\"\n",
    "\n",
    "x = txt.encode()\n",
    "\n",
    "print(x) \n",
    "\n",
    "#These examples uses ascii encoding, and a character that cannot be encoded, showing the result with different errors:\n",
    "txt = \"My name is Ståle\"\n",
    "\n",
    "print(txt.encode(encoding=\"ascii\",errors=\"backslashreplace\"))\n",
    "print(txt.encode(encoding=\"ascii\",errors=\"ignore\"))\n",
    "print(txt.encode(encoding=\"ascii\",errors=\"namereplace\"))\n",
    "print(txt.encode(encoding=\"ascii\",errors=\"replace\"))\n",
    "print(txt.encode(encoding=\"ascii\",errors=\"xmlcharrefreplace\"))\n",
    "print(txt.encode(encoding=\"ascii\",errors=\"strict\"))  # Throwing Error "
   ]
  },
  {
   "cell_type": "code",
   "execution_count": 23,
   "metadata": {},
   "outputs": [
    {
     "name": "stdout",
     "output_type": "stream",
     "text": [
      "True\n",
      "True\n",
      "False\n"
     ]
    }
   ],
   "source": [
    "\"\"\"\n",
    "Python String endswith() Method\n",
    "The endswith() method returns True if the string ends with the specified value, otherwise False.\n",
    "Syntax\n",
    "string.endswith(value, start, end)\n",
    "\n",
    "Parameter Values\n",
    "----------------\n",
    "Parameter    Description\n",
    "value        Required. The value to check if the string ends with\n",
    "start        Optional. An Integer specifying at which position to start the search\n",
    "end          Optional. An Integer specifying at which position to end the search\n",
    "\n",
    "\"\"\"\n",
    "#Check if the string ends with a punctuation sign (.):\n",
    "txt = \"Hello, welcome to my world.\"\n",
    "\n",
    "x = txt.endswith(\".\")\n",
    "\n",
    "print(x) \n",
    "\n",
    "#Check if the string ends with the phrase \"my world.\":\n",
    "txt = \"Hello, welcome to my world.\"\n",
    "\n",
    "x = txt.endswith(\"my world.\")\n",
    "\n",
    "print(x) \n",
    "\n",
    "#Check if position 5 to 11 ends with the phrase \"my world.\":\n",
    "txt = \"Hello, welcome to my world.\"\n",
    "\n",
    "x = txt.endswith(\"my world.\", 5, 11)\n",
    "\n",
    "print(x) \n",
    "\n"
   ]
  },
  {
   "cell_type": "code",
   "execution_count": 24,
   "metadata": {},
   "outputs": [
    {
     "name": "stdout",
     "output_type": "stream",
     "text": [
      "H e l l o\n",
      "H\te\tl\tl\to\n",
      "H       e       l       l       o\n",
      "H e l l o\n",
      "H   e   l   l   o\n",
      "H         e         l         l         o\n"
     ]
    }
   ],
   "source": [
    "\"\"\"\n",
    "Python String expandtabs() Method\n",
    "\n",
    "The expandtabs() method sets the tab size to the specified number of whitespaces.\n",
    "Syntax\n",
    "string.exandtabs(tabsize)\n",
    "Parameter Values\n",
    "----------------\n",
    "Parameter       Description\n",
    "tabsize         Optional. A number specifying the tabsize. Default tabsize is 8\n",
    "\"\"\"\n",
    "#Set the tab size to 2 whitespaces:\n",
    "txt = \"H\\te\\tl\\tl\\to\"\n",
    "\n",
    "x =  txt.expandtabs(2)\n",
    "\n",
    "print(x)\n",
    "\n",
    "#See the result using different tab sizes:\n",
    "txt = \"H\\te\\tl\\tl\\to\"\n",
    "\n",
    "print(txt)\n",
    "print(txt.expandtabs())\n",
    "print(txt.expandtabs(2))\n",
    "print(txt.expandtabs(4))\n",
    "print(txt.expandtabs(10)) "
   ]
  },
  {
   "cell_type": "code",
   "execution_count": 25,
   "metadata": {},
   "outputs": [
    {
     "name": "stdout",
     "output_type": "stream",
     "text": [
      "7\n",
      "1\n",
      "8\n",
      "-1\n"
     ]
    },
    {
     "ename": "ValueError",
     "evalue": "substring not found",
     "output_type": "error",
     "traceback": [
      "\u001b[1;31m---------------------------------------------------------------------------\u001b[0m",
      "\u001b[1;31mValueError\u001b[0m                                Traceback (most recent call last)",
      "\u001b[1;32m<ipython-input-25-21289959a132>\u001b[0m in \u001b[0;36m<module>\u001b[1;34m\u001b[0m\n\u001b[0;32m     42\u001b[0m \u001b[1;33m\u001b[0m\u001b[0m\n\u001b[0;32m     43\u001b[0m \u001b[0mprint\u001b[0m\u001b[1;33m(\u001b[0m\u001b[0mtxt\u001b[0m\u001b[1;33m.\u001b[0m\u001b[0mfind\u001b[0m\u001b[1;33m(\u001b[0m\u001b[1;34m\"q\"\u001b[0m\u001b[1;33m)\u001b[0m\u001b[1;33m)\u001b[0m\u001b[1;33m\u001b[0m\u001b[1;33m\u001b[0m\u001b[0m\n\u001b[1;32m---> 44\u001b[1;33m \u001b[0mprint\u001b[0m\u001b[1;33m(\u001b[0m\u001b[0mtxt\u001b[0m\u001b[1;33m.\u001b[0m\u001b[0mindex\u001b[0m\u001b[1;33m(\u001b[0m\u001b[1;34m\"q\"\u001b[0m\u001b[1;33m)\u001b[0m\u001b[1;33m)\u001b[0m\u001b[1;33m\u001b[0m\u001b[1;33m\u001b[0m\u001b[0m\n\u001b[0m",
      "\u001b[1;31mValueError\u001b[0m: substring not found"
     ]
    }
   ],
   "source": [
    "\"\"\"\n",
    "Python String find() Method\n",
    "\n",
    "The find() method finds the first occurrence of the specified value.\n",
    "\n",
    "The find() method returns -1 if the value is not found.\n",
    "\n",
    "The find() method is almost the same as the index() method, the only difference is that the index() method raises an exception if the value is not found. (See example below)\n",
    "Syntax\n",
    "string.find(value, start, end)\n",
    "Parameter Values\n",
    "----------------\n",
    "Parameter       Description\n",
    "value           Required. The value to search for\n",
    "start           Optional. Where to start the search. Default is 0\n",
    "end             Optional. Where to end the search. Default is to the end of the string\n",
    "\"\"\"\n",
    "\n",
    "#Where in the text is the word \"welcome\"?:\n",
    "txt = \"Hello, welcome to my world.\"\n",
    "\n",
    "x = txt.find(\"welcome\")\n",
    "\n",
    "print(x) \n",
    "\n",
    "#Where in the text is the first occurrence of the letter \"e\"?:\n",
    "txt = \"Hello, welcome to my world.\"\n",
    "\n",
    "x = txt.find(\"e\")\n",
    "\n",
    "print(x) \n",
    "\n",
    "#Where in the text is the first occurrence of the letter \"e\" when you only search between position 5 and 10?:\n",
    "txt = \"Hello, welcome to my world.\"\n",
    "\n",
    "x = txt.find(\"e\", 5, 10)\n",
    "\n",
    "print(x) \n",
    "\n",
    "#If the value is not found, the find() method returns -1, but the index() method will raise an exception:\n",
    "txt = \"Hello, welcome to my world.\"\n",
    "\n",
    "print(txt.find(\"q\"))\n",
    "print(txt.index(\"q\")) # Throws Exception"
   ]
  },
  {
   "cell_type": "code",
   "execution_count": 33,
   "metadata": {},
   "outputs": [
    {
     "name": "stdout",
     "output_type": "stream",
     "text": [
      "For only 49.00 dollars!\n",
      "My name is John, I'am 36\n",
      "My name is John, I'am 36\n",
      "My name is John, I'am 36\n",
      "We have 49       chickens.\n",
      "We have       49 chickens.\n",
      "We have    49    chickens.\n",
      "The temperature is -      5 degrees celsius.\n",
      "The temperature is between -3 and +7 degrees celsius.\n",
      "The temperature is between -3 and 7 degrees celsius.\n",
      "The temperature is between -3 and  7 degrees celsius.\n",
      "The universe is 13,800,000,000 years old.\n",
      "The universe is 13_800_000_000 years old.\n",
      "The binary version of 5 is 101\n",
      "We have 5 chickens.\n",
      "We have 5.000000e+00 chickens.\n",
      "We have 5.000000E+00 chickens.\n",
      "The price is 45.00 dollars.\n",
      "The price is 45.000000 dollars.\n",
      "The price is INF dollars.\n",
      "The price is inf dollars.\n",
      "The octal version of 10 is 12\n",
      "The Hexadecimal version of 255 is ff\n",
      "The Hexadecimal version of 255 is FF\n",
      "You scored 25.000000%\n",
      "You scored 25%\n"
     ]
    }
   ],
   "source": [
    "\"\"\"\n",
    "Python String format() Method\n",
    "\n",
    "The format() method formats the specified value(s) and insert them inside the string's placeholder.\n",
    "\n",
    "The placeholder is defined using curly brackets: {}. Read more about the placeholders in the Placeholder section below.\n",
    "\n",
    "The format() method returns the formatted string.\n",
    "Syntax\n",
    "string.format(value1, value2...)\n",
    "Parameter Values\n",
    "----------------\n",
    "Parameter           Description\n",
    "value1, value2...   Required. One or more values that should be formatted and inserted in the string. The values can be A number specifying the position of the element you want to remove.\n",
    "\n",
    "The values are either a list of values separated by commas, a key=value list, or a combination of both.\n",
    "\n",
    "The values can be of any data type.\n",
    "\"\"\"\n",
    "\n",
    "#Insert the price inside the placeholder, the price should be in fixed point, two-decimal format:\n",
    "txt = \"For only {price:.2f} dollars!\"\n",
    "print(txt.format(price = 49)) \n",
    "\n",
    "\"\"\"\n",
    "The placeholders can be identified using named indexes {price}, numbered indexes {0}, or even empty placeholders {}.\n",
    "\n",
    "\n",
    "Using different placeholder values:\n",
    "\"\"\"\n",
    "txt1 = \"My name is {fname}, I'am {age}\".format(fname = \"John\", age = 36)\n",
    "txt2 = \"My name is {0}, I'am {1}\".format(\"John\",36)\n",
    "txt3 = \"My name is {}, I'am {}\".format(\"John\",36) \n",
    "print(txt1)\n",
    "print(txt2)\n",
    "print(txt3)\n",
    "\"\"\"\n",
    "Formatting Types\n",
    "\n",
    "Inside the placeholders you can add a formatting type to format the result:\n",
    "\n",
    "\"\"\"\n",
    "\n",
    "#To demonstrate, we insert the number 8 to set the available space for the value to 8 characters.\n",
    "\n",
    "#Use \"<\" to left-align the value:\n",
    "\n",
    "txt = \"We have {:<8} chickens.\"\n",
    "print(txt.format(49))\n",
    "\n",
    "#To demonstrate, we insert the number 8 to set the available space for the value to 8 characters.\n",
    "\n",
    "#Use \">\" to right-align the value:\n",
    "\n",
    "txt = \"We have {:>8} chickens.\"\n",
    "print(txt.format(49))\n",
    "\n",
    "#To demonstrate, we insert the number 8 to set the available space for the value to 8 characters.\n",
    "\n",
    "#Use \"^\" to center-align the value:\n",
    "\n",
    "txt = \"We have {:^8} chickens.\"\n",
    "print(txt.format(49))\n",
    "\n",
    "#To demonstrate, we insert the number 8 to specify the available space for the value.\n",
    "\n",
    "#Use \"=\" to place the plus/minus sign at the left most position:\n",
    "\n",
    "txt = \"The temperature is {:=8} degrees celsius.\"\n",
    "\n",
    "print(txt.format(-5))\n",
    "\n",
    "#Use \"+\" to always indicate if the number is positive or negative:\n",
    "\n",
    "txt = \"The temperature is between {:+} and {:+} degrees celsius.\"\n",
    "\n",
    "print(txt.format(-3, 7))\n",
    "\n",
    "#Use \"-\" to always indicate if the number is negative (positive numbers are displayed without any sign):\n",
    "\n",
    "txt = \"The temperature is between {:-} and {:-} degrees celsius.\"\n",
    "\n",
    "print(txt.format(-3, 7))\n",
    "\n",
    "#Use \" \" (a space) to insert a space before positive numbers and a minus sign before negative numbers:\n",
    "\n",
    "txt = \"The temperature is between {: } and {: } degrees celsius.\"\n",
    "\n",
    "print(txt.format(-3, 7))\n",
    "\n",
    "#Use \",\" to add a comma as a thousand separator:\n",
    "\n",
    "txt = \"The universe is {:,} years old.\"\n",
    "\n",
    "print(txt.format(13800000000))\n",
    "\n",
    "#Use \"_\" to add a underscore character as a thousand separator:\n",
    "\n",
    "txt = \"The universe is {:_} years old.\"\n",
    "\n",
    "print(txt.format(13800000000))\n",
    "\n",
    "#Use \"b\" to convert the number into binary format:\n",
    "\n",
    "txt = \"The binary version of {0} is {0:b}\"\n",
    "\n",
    "print(txt.format(5))\n",
    "      \n",
    "#:c   -  Converts the value into the corresponding unicode character\n",
    "#Todo:____\n",
    "      \n",
    "#Use \"d\" to convert a number, in this case a binary number, into decimal number format:\n",
    "\n",
    "txt = \"We have {:d} chickens.\"\n",
    "print(txt.format(0b101))\n",
    "      \n",
    "#Use \"e\" to convert a number into scientific number format (with a lower-case e):\n",
    "\n",
    "txt = \"We have {:e} chickens.\"\n",
    "print(txt.format(5))\n",
    "      \n",
    "#Use \"E\" to convert a number into scientific number format (with an upper-case E):\n",
    "\n",
    "txt = \"We have {:E} chickens.\"\n",
    "print(txt.format(5))\n",
    "      \n",
    "#Use \"f\" to convert a number into a fixed point number, default with 6 decimals, but use a period followed by a number to specify the number of decimals:\n",
    "\n",
    "txt = \"The price is {:.2f} dollars.\"\n",
    "print(txt.format(45))\n",
    "\n",
    "#without the \".2\" inside the placeholder, this number will be displayed like this:\n",
    "\n",
    "txt = \"The price is {:f} dollars.\"\n",
    "print(txt.format(45))\n",
    "      \n",
    "#Use \"F\" to convert a number into a fixed point number, but display inf and nan as INF and NAN:\n",
    "\n",
    "x = float('inf')\n",
    "\n",
    "txt = \"The price is {:F} dollars.\"\n",
    "print(txt.format(x))\n",
    "\n",
    "#same example, but with a lower case f:\n",
    "\n",
    "txt = \"The price is {:f} dollars.\"\n",
    "print(txt.format(x))\n",
    "\n",
    "#:g - General format\n",
    "      # Todo:\n",
    "#:G - General format (using a upper case E for scientific notations)\n",
    "      #Todo:\n",
    "\n",
    "#Use \"o\" to convert the number into octal format:\n",
    "\n",
    "txt = \"The octal version of {0} is {0:o}\"\n",
    "\n",
    "print(txt.format(10))\n",
    "\n",
    "#Use \"x\" to convert the number into Hex format:\n",
    "\n",
    "txt = \"The Hexadecimal version of {0} is {0:x}\"\n",
    "\n",
    "print(txt.format(255))\n",
    "      \n",
    "#Use \"X\" to convert the number into upper-case Hex format:\n",
    "\n",
    "txt = \"The Hexadecimal version of {0} is {0:X}\"\n",
    "\n",
    "print(txt.format(255))\n",
    "      \n",
    "#:n  - Number format\n",
    "      #Todo:\n",
    "\n",
    "#Use \"%\" to convert the number into a percentage format:\n",
    "\n",
    "txt = \"You scored {:%}\"\n",
    "print(txt.format(0.25))\n",
    "\n",
    "#Or, without any decimals:\n",
    "\n",
    "txt = \"You scored {:.0%}\"\n",
    "print(txt.format(0.25))   \n",
    "      \n",
    "      \n"
   ]
  },
  {
   "cell_type": "code",
   "execution_count": 34,
   "metadata": {},
   "outputs": [
    {
     "name": "stdout",
     "output_type": "stream",
     "text": [
      "7\n",
      "1\n",
      "8\n",
      "-1\n"
     ]
    },
    {
     "ename": "ValueError",
     "evalue": "substring not found",
     "output_type": "error",
     "traceback": [
      "\u001b[1;31m---------------------------------------------------------------------------\u001b[0m",
      "\u001b[1;31mValueError\u001b[0m                                Traceback (most recent call last)",
      "\u001b[1;32m<ipython-input-34-720cf4f08f3f>\u001b[0m in \u001b[0;36m<module>\u001b[1;34m\u001b[0m\n\u001b[0;32m     41\u001b[0m \u001b[1;33m\u001b[0m\u001b[0m\n\u001b[0;32m     42\u001b[0m \u001b[0mprint\u001b[0m\u001b[1;33m(\u001b[0m\u001b[0mtxt\u001b[0m\u001b[1;33m.\u001b[0m\u001b[0mfind\u001b[0m\u001b[1;33m(\u001b[0m\u001b[1;34m\"q\"\u001b[0m\u001b[1;33m)\u001b[0m\u001b[1;33m)\u001b[0m\u001b[1;33m\u001b[0m\u001b[1;33m\u001b[0m\u001b[0m\n\u001b[1;32m---> 43\u001b[1;33m \u001b[0mprint\u001b[0m\u001b[1;33m(\u001b[0m\u001b[0mtxt\u001b[0m\u001b[1;33m.\u001b[0m\u001b[0mindex\u001b[0m\u001b[1;33m(\u001b[0m\u001b[1;34m\"q\"\u001b[0m\u001b[1;33m)\u001b[0m\u001b[1;33m)\u001b[0m\u001b[1;33m\u001b[0m\u001b[1;33m\u001b[0m\u001b[0m\n\u001b[0m",
      "\u001b[1;31mValueError\u001b[0m: substring not found"
     ]
    }
   ],
   "source": [
    "\"\"\"\n",
    "Python String index() Method\n",
    "\n",
    "The index() method finds the first occurrence of the specified value.\n",
    "\n",
    "The index() method raises an exception if the value is not found.\n",
    "\n",
    "The index() method is almost the same as the find() method, the only difference is that the find() method returns -1 if the value is not found. (See example below)\n",
    "Syntax\n",
    "string.index(value, start, end)\n",
    "Parameter Values\n",
    "----------------\n",
    "Parameter    Description\n",
    "value        Required. The value to search for\n",
    "start        Optional. Where to start the search. Default is 0\n",
    "end          Optional. Where to end the search. Default is to the end of the string\n",
    "\"\"\"\n",
    "#Where in the text is the word \"welcome\"?:\n",
    "txt = \"Hello, welcome to my world.\"\n",
    "\n",
    "x = txt.index(\"welcome\")\n",
    "\n",
    "print(x) \n",
    "\n",
    "#Where in the text is the first occurrence of the letter \"e\"?:\n",
    "txt = \"Hello, welcome to my world.\"\n",
    "\n",
    "x = txt.index(\"e\")\n",
    "\n",
    "print(x) \n",
    "\n",
    "#Where in the text is the first occurrence of the letter \"e\" when you only search between position 5 and 10?:\n",
    "txt = \"Hello, welcome to my world.\"\n",
    "\n",
    "x = txt.index(\"e\", 5, 10)\n",
    "\n",
    "print(x) \n",
    "\n",
    "#If the value is not found, the find() method returns -1, but the index() method will raise an exception:\n",
    "txt = \"Hello, welcome to my world.\"\n",
    "\n",
    "print(txt.find(\"q\"))\n",
    "print(txt.index(\"q\")) "
   ]
  },
  {
   "cell_type": "code",
   "execution_count": 35,
   "metadata": {},
   "outputs": [
    {
     "name": "stdout",
     "output_type": "stream",
     "text": [
      "True\n",
      "False\n"
     ]
    }
   ],
   "source": [
    "\"\"\"\n",
    "Python String isalnum() Method\n",
    "\n",
    "The isalnum() method returns True if all the characters are alphanumeric, meaning alphabet letter (a-z) and numbers (0-9).\n",
    "\n",
    "Example of characters that are not alphanumeric: (space)!#%&? etc.\n",
    "Syntax\n",
    "string.isalnum()\n",
    "\n",
    "\"\"\"\n",
    "#Check if all the characters in the text are alphanumeric:\n",
    "txt = \"Company12\"\n",
    "\n",
    "x = txt.isalnum()\n",
    "\n",
    "print(x) \n",
    "\n",
    "#Check if all the characters in the text is alphanumeric:\n",
    "txt = \"Company 12\"\n",
    "\n",
    "x = txt.isalnum()\n",
    "\n",
    "print(x) \n"
   ]
  },
  {
   "cell_type": "code",
   "execution_count": 36,
   "metadata": {},
   "outputs": [
    {
     "name": "stdout",
     "output_type": "stream",
     "text": [
      "True\n",
      "False\n"
     ]
    }
   ],
   "source": [
    "\"\"\"\n",
    "Python String isalpha() Method\n",
    "The isalpha() method returns True if all the characters are alphabet letters (a-z).\n",
    "\n",
    "Example of characters that are not alphabet letters: (space)!#%&? etc.\n",
    "Syntax\n",
    "string.isalpha()\n",
    "\n",
    "\"\"\"\n",
    "\n",
    "#Check if all the characters in the text are letters:\n",
    "txt = \"CompanyX\"\n",
    "\n",
    "x = txt.isalpha()\n",
    "\n",
    "print(x) \n",
    "\n",
    "#Check if all the characters in the text is alphabetic:\n",
    "txt = \"Company10\"\n",
    "\n",
    "x = txt.isalpha()\n",
    "\n",
    "print(x) \n",
    "\n"
   ]
  },
  {
   "cell_type": "code",
   "execution_count": 37,
   "metadata": {},
   "outputs": [
    {
     "name": "stdout",
     "output_type": "stream",
     "text": [
      "True\n",
      "True\n",
      "False\n"
     ]
    }
   ],
   "source": [
    "\"\"\"\n",
    "Python String isdecimal() Method\n",
    "\n",
    "The isdecimal() method returns True if all the characters are decimals (0-9).\n",
    "\n",
    "This method is used on unicode objects.\n",
    "Syntax\n",
    "string.isdecimal()\n",
    "\n",
    "\"\"\"\n",
    "\n",
    "#Check if all the characters in the unicode object are decimals:\n",
    "txt = \"\\u0033\" #unicode for 3\n",
    "\n",
    "x = txt.isdecimal()\n",
    "\n",
    "print(x) \n",
    "\n",
    "#Check if all the characters in the unicode are decimals:\n",
    "a = \"\\u0030\" #unicode for 0\n",
    "b = \"\\u0047\" #unicode for G\n",
    "\n",
    "print(a.isdecimal())\n",
    "print(b.isdecimal()) "
   ]
  },
  {
   "cell_type": "code",
   "execution_count": 38,
   "metadata": {},
   "outputs": [
    {
     "name": "stdout",
     "output_type": "stream",
     "text": [
      "True\n",
      "True\n",
      "True\n"
     ]
    }
   ],
   "source": [
    "\"\"\"\n",
    "Python String isdigit() Method\n",
    "\n",
    "The isdigit() method returns True if all the characters are digits, otherwise False.\n",
    "\n",
    "Exponents, like ², are also considered to be a digit.\n",
    "Syntax\n",
    "string.isdigit()\n",
    "\n",
    "\n",
    "\"\"\"\n",
    "\n",
    "#Check if all the characters in the text are digits:\n",
    "txt = \"50800\"\n",
    "\n",
    "x = txt.isdigit()\n",
    "\n",
    "print(x) \n",
    "\n",
    "#Check if all the characters in the text is alphabetic:\n",
    "a = \"\\u0030\" #unicode for 0\n",
    "b = \"\\u00B2\" #unicode for ²\n",
    "\n",
    "print(a.isdigit())\n",
    "print(b.isdigit()) "
   ]
  },
  {
   "cell_type": "code",
   "execution_count": 39,
   "metadata": {},
   "outputs": [
    {
     "name": "stdout",
     "output_type": "stream",
     "text": [
      "True\n",
      "True\n",
      "True\n",
      "False\n",
      "False\n"
     ]
    }
   ],
   "source": [
    "\"\"\"\n",
    "Python String isidentifier() Method\n",
    "The isidentifier() method returns True if the string is a valid identifier, otherwise False.\n",
    "\n",
    "A string is considered a valid identifier if it only contains alphanumeric letters (a-z) and (0-9), or underscores (_). A valid identifier cannot start with a number, or contain any spaces.\n",
    "Syntax\n",
    "string.isidentifier()\n",
    "\n",
    "\"\"\"\n",
    "\n",
    "#Check if the string is a valid identifier:\n",
    "txt = \"Demo\"\n",
    "\n",
    "x = txt.isidentifier()\n",
    "\n",
    "print(x) \n",
    "\n",
    "#Check if the strings are valid identifiers:\n",
    "a = \"MyFolder\"\n",
    "b = \"Demo002\"\n",
    "c = \"2bring\"\n",
    "d = \"my demo\"\n",
    "\n",
    "print(a.isidentifier())\n",
    "print(b.isidentifier())\n",
    "print(c.isidentifier())\n",
    "print(d.isidentifier())\n",
    "\n"
   ]
  },
  {
   "cell_type": "code",
   "execution_count": 40,
   "metadata": {},
   "outputs": [
    {
     "name": "stdout",
     "output_type": "stream",
     "text": [
      "True\n",
      "False\n",
      "True\n",
      "False\n"
     ]
    }
   ],
   "source": [
    "\"\"\"\n",
    "Python String islower() Method\n",
    "\n",
    "The islower() method returns True if all the characters are in lower case, otherwise False.\n",
    "\n",
    "Numbers, symbols and spaces are not checked, only alphabet characters.\n",
    "Syntax\n",
    "string.islower()\n",
    "\n",
    "\"\"\"\n",
    "\n",
    "#Check if all the characters in the text are in lower case:\n",
    "txt = \"hello world!\"\n",
    "\n",
    "x = txt.islower()\n",
    "\n",
    "print(x) \n",
    "\n",
    "#Check if all the characters in the texts are in lower case:\n",
    "a = \"Hello world!\"\n",
    "b = \"hello 123\"\n",
    "c = \"mynameisPeter\"\n",
    "\n",
    "print(a.islower())\n",
    "print(b.islower())\n",
    "print(c.islower()) "
   ]
  },
  {
   "cell_type": "code",
   "execution_count": 41,
   "metadata": {},
   "outputs": [
    {
     "name": "stdout",
     "output_type": "stream",
     "text": [
      "True\n",
      "True\n",
      "True\n",
      "False\n"
     ]
    }
   ],
   "source": [
    "\"\"\"\n",
    "Python String isnumeric() Method\n",
    "\n",
    "The isnumeric() method returns True if all the characters are numeric (0-9), otherwise False.\n",
    "\n",
    "Exponents, like ² and ¾ are also considered to be numeric values.\n",
    "Syntax\n",
    "string.isnumeric()\n",
    "\n",
    "\"\"\"\n",
    "\n",
    "#Check if all the characters in the text are numeric:\n",
    "txt = \"565543\"\n",
    "\n",
    "x = txt.isnumeric()\n",
    "\n",
    "print(x) \n",
    "\n",
    "#Check if the characters are numeric:\n",
    "a = \"\\u0030\" #unicode for 0\n",
    "b = \"\\u00B2\" #unicode for &sup2;\n",
    "c = \"10km2\"\n",
    "\n",
    "print(a.isnumeric())\n",
    "print(b.isnumeric())\n",
    "print(c.isnumeric()) "
   ]
  },
  {
   "cell_type": "code",
   "execution_count": 42,
   "metadata": {},
   "outputs": [
    {
     "name": "stdout",
     "output_type": "stream",
     "text": [
      "True\n",
      "False\n"
     ]
    }
   ],
   "source": [
    "\"\"\"\n",
    "Python String isprintable() Method\n",
    "Definition and Usage\n",
    "\n",
    "The isprintable() method returns True if all the characters are printable, otherwise False.\n",
    "\n",
    "Example of none printable character can be carriage return and line feed.\n",
    "Syntax\n",
    "string.isprintable()\n",
    "\n",
    "\"\"\"\n",
    "\n",
    "#Check if all the characters in the text are printable:\n",
    "txt = \"Hello! Are you #1?\"\n",
    "\n",
    "x = txt.isprintable()\n",
    "\n",
    "print(x) \n",
    "\n",
    "#Check if all the characters in the text are printable:\n",
    "txt = \"Hello!\\nAre you #1?\"\n",
    "\n",
    "x = txt.isprintable()\n",
    "\n",
    "print(x) \n",
    "\n"
   ]
  },
  {
   "cell_type": "code",
   "execution_count": 43,
   "metadata": {},
   "outputs": [
    {
     "name": "stdout",
     "output_type": "stream",
     "text": [
      "True\n",
      "False\n"
     ]
    }
   ],
   "source": [
    "\"\"\"\n",
    "Python String isspace() Method\n",
    "The isspace() method returns True if all the characters in a string are whitespaces, otherwise False.\n",
    "Syntax\n",
    "string.isspace()\n",
    "\n",
    "\"\"\"\n",
    "\n",
    "#Check if all the characters in the text are whitespaces:\n",
    "txt = \"   \"\n",
    "\n",
    "x = txt.isspace()\n",
    "\n",
    "print(x) \n",
    "\n",
    "#Check if all the characters in the text are whitespaces:\n",
    "txt = \"   s   \"\n",
    "\n",
    "x = txt.isspace()\n",
    "\n",
    "print(x) "
   ]
  },
  {
   "cell_type": "code",
   "execution_count": 44,
   "metadata": {},
   "outputs": [
    {
     "name": "stdout",
     "output_type": "stream",
     "text": [
      "True\n",
      "False\n",
      "True\n",
      "True\n",
      "True\n"
     ]
    }
   ],
   "source": [
    "\"\"\"\n",
    "Python String istitle() Method\n",
    "\n",
    "The istitle() method returns True if all words in a text start with a upper case letter, AND the rest of the word are lower case letters, otherwise False.\n",
    "\n",
    "Symbols and numbers are ignored.\n",
    "Syntax\n",
    "string.istitle()\n",
    "\n",
    "\"\"\"\n",
    "\n",
    "#Check if each word start with an upper case letter:\n",
    "txt = \"Hello, And Welcome To My World!\"\n",
    "\n",
    "x = txt.istitle()\n",
    "\n",
    "print(x) \n",
    "\n",
    "#Check if each word start with an upper case letter:\n",
    "a = \"HELLO, AND WELCOME TO MY WORLD\"\n",
    "b = \"Hello\"\n",
    "c = \"22 Names\"\n",
    "d = \"This Is %'!?\"\n",
    "\n",
    "print(a.istitle())\n",
    "print(b.istitle())\n",
    "print(c.istitle())\n",
    "print(d.istitle())"
   ]
  },
  {
   "cell_type": "code",
   "execution_count": 45,
   "metadata": {},
   "outputs": [
    {
     "name": "stdout",
     "output_type": "stream",
     "text": [
      "True\n",
      "False\n",
      "False\n",
      "True\n"
     ]
    }
   ],
   "source": [
    "\"\"\"\n",
    "Python String isupper() Method\n",
    "\n",
    "The isupper() method returns True if all the characters are in upper case, otherwise False.\n",
    "\n",
    "Numbers, symbols and spaces are not checked, only alphabet characters.\n",
    "Syntax\n",
    "string.isupper()\n",
    "\n",
    "\"\"\"\n",
    "\n",
    "#Check if all the characters in the text are in upper case:\n",
    "txt = \"THIS IS NOW!\"\n",
    "\n",
    "x = txt.isupper()\n",
    "\n",
    "print(x) \n",
    "\n",
    "#Check if all the characters in the texts are in upper case:\n",
    "a = \"Hello World!\"\n",
    "b = \"hello 123\"\n",
    "c = \"MY NAME IS PETER\"\n",
    "\n",
    "print(a.isupper())\n",
    "print(b.isupper())\n",
    "print(c.isupper()) "
   ]
  },
  {
   "cell_type": "code",
   "execution_count": 46,
   "metadata": {},
   "outputs": [
    {
     "name": "stdout",
     "output_type": "stream",
     "text": [
      "John#Peter#Vicky\n",
      "nameTESTcountry\n"
     ]
    }
   ],
   "source": [
    "\"\"\"\n",
    "Python String join() Method\n",
    "The join() method takes all items in an iterable and joins them into one string.\n",
    "\n",
    "A string must be specified as the separator.\n",
    "Syntax\n",
    "string.join(iterable)\n",
    "Parameter Values\n",
    "----------------\n",
    "Parameter     Description\n",
    "iterable      Required. Any iterable object where all the returned values are strings\n",
    "\"\"\"\n",
    "\n",
    "#Join all items in a tuple into a string, using a hash character as separator:\n",
    "myTuple = (\"John\", \"Peter\", \"Vicky\")\n",
    "\n",
    "x = \"#\".join(myTuple)\n",
    "\n",
    "print(x) \n",
    "\n",
    "#Join all items in a dictionary into a string, using a the word \"TEST\" as separator:\n",
    "myDict = {\"name\": \"John\", \"country\": \"Norway\"}\n",
    "mySeparator = \"TEST\"\n",
    "\n",
    "x = mySeparator.join(myDict)\n",
    "\n",
    "print(x)\n",
    "\n"
   ]
  },
  {
   "cell_type": "code",
   "execution_count": 47,
   "metadata": {},
   "outputs": [
    {
     "name": "stdout",
     "output_type": "stream",
     "text": [
      "banana               is my favorite fruit.\n",
      "bananaOOOOOOOOOOOOOO\n"
     ]
    }
   ],
   "source": [
    "\"\"\"\n",
    "Python String ljust() Method\n",
    "\n",
    "The ljust() method will left align the string, using a specified character (space is default) as the fill character.\n",
    "Syntax\n",
    "string.ljust(length, character)\n",
    "Parameter Values\n",
    "----------------\n",
    "Parameter       Description\n",
    "length          Required. The length of the returned string\n",
    "character       Optional. A character to fill the missing space (to the right of the string). Default is \" \" (space).\n",
    "\"\"\"\n",
    "\n",
    "#Return a 20 characters long, left justified version of the word \"banana\":\n",
    "#Note: In the result, there are actually 14 whitespaces to the right of the word banana.\n",
    "txt = \"banana\"\n",
    "\n",
    "x = txt.ljust(20)\n",
    "\n",
    "print(x, \"is my favorite fruit.\") \n",
    "\n",
    "#Using the letter \"O\" as the padding character:\n",
    "txt = \"banana\"\n",
    "\n",
    "x = txt.ljust(20, \"O\")\n",
    "\n",
    "print(x) "
   ]
  },
  {
   "cell_type": "code",
   "execution_count": 48,
   "metadata": {},
   "outputs": [
    {
     "name": "stdout",
     "output_type": "stream",
     "text": [
      "hello my friends\n"
     ]
    }
   ],
   "source": [
    "\"\"\"\n",
    "Python String lower() Method\n",
    "The lower() method returns a string where all characters are lower case.\n",
    "\n",
    " Symbols and Numbers are ignored.\n",
    "Syntax\n",
    "string.lower()\n",
    "\n",
    "\"\"\"\n",
    "#Lower case the string:\n",
    "txt = \"Hello my FRIENDS\"\n",
    "\n",
    "x = txt.lower()\n",
    "\n",
    "print(x) \n"
   ]
  },
  {
   "cell_type": "code",
   "execution_count": 49,
   "metadata": {},
   "outputs": [
    {
     "name": "stdout",
     "output_type": "stream",
     "text": [
      "of all fruits banana      is my favorite\n",
      "banana\n"
     ]
    }
   ],
   "source": [
    "\"\"\"\n",
    "Python String lstrip() Method\n",
    "\n",
    "The lstrip() method removes any leading characters (space is the default leading character to remove)\n",
    "Syntax\n",
    "string.lstrip(characters)\n",
    "Parameter Values\n",
    "----------------\n",
    "Parameter        Description\n",
    "characters       Optional. A set of characters to remove as leading characters\n",
    "\n",
    "\"\"\"\n",
    "\n",
    "#Remove spaces to the left of the string:\n",
    "txt = \"     banana     \"\n",
    "\n",
    "x = txt.lstrip()\n",
    "\n",
    "print(\"of all fruits\", x, \"is my favorite\") \n",
    "\n",
    "#Remove the leading characters:\n",
    "txt = \",,,,,ssaaww.....banana\"\n",
    "\n",
    "x = txt.lstrip(\",.asw\")\n",
    "\n",
    "print(x) "
   ]
  },
  {
   "cell_type": "code",
   "execution_count": 50,
   "metadata": {},
   "outputs": [
    {
     "name": "stdout",
     "output_type": "stream",
     "text": [
      "('I could eat ', 'bananas', ' all day')\n",
      "('I could eat bananas all day', '', '')\n"
     ]
    }
   ],
   "source": [
    "\"\"\"\n",
    "Python String partition() Method\n",
    "\n",
    "The partition() method searches for a specified string, and splits the string into a tuple containing three elements.\n",
    "\n",
    "The first element contains the part before the specified string.\n",
    "\n",
    "The second element contains the specified string.\n",
    "\n",
    "The third element contains the part after the string.\n",
    "\n",
    "Note: This method search for the first occurrence of the specified string.\n",
    "Syntax\n",
    "string.partition(value)\n",
    "Parameter Values\n",
    "---------------\n",
    "Parameter   Description\n",
    "value       Required. The string to search for\n",
    "\"\"\"\n",
    "\"\"\"\n",
    "Search for the word \"bananas\", and return a tuple with three elements:\n",
    "\n",
    "1 - everything before the \"match\"\n",
    "2 - the \"match\"\n",
    "3 - everything after the \"match\"\n",
    "\"\"\"\n",
    "txt = \"I could eat bananas all day\"\n",
    "\n",
    "x = txt.partition(\"bananas\")\n",
    "\n",
    "print(x) \n",
    "\n",
    "#If the specified value is not found, the partition() method returns a tuple containing: 1 - the whole string, 2 - an empty string, 3 - an empty string:\n",
    "txt = \"I could eat bananas all day\"\n",
    "\n",
    "x = txt.partition(\"apples\")\n",
    "\n",
    "print(x) "
   ]
  },
  {
   "cell_type": "code",
   "execution_count": 51,
   "metadata": {},
   "outputs": [
    {
     "name": "stdout",
     "output_type": "stream",
     "text": [
      "I like apples\n",
      "three three was a race horse, two two was three too.\n",
      "three three was a race horse, two two was one too.\n"
     ]
    }
   ],
   "source": [
    "\"\"\"\n",
    "Python String replace() Method\n",
    "\n",
    "The replace() method replaces a specified phrase with another specified phrase.\n",
    "\n",
    "Note: All occurrences of the specified phrase will be replaced, if nothing else is specified.\n",
    "Syntax\n",
    "string.replace(oldvalue, newvalue, count)\n",
    "Parameter Values\n",
    "----------------\n",
    "Parameter        Description\n",
    "oldvalue         Required. The string to search for\n",
    "newvalue         Required. The string to replace the old value with\n",
    "count            Optional. A number specifying how many occurrences of the old value you want to replace. Default is all occurrences\n",
    "\"\"\"\n",
    "#Replace the word \"bananas\":\n",
    "txt = \"I like bananas\"\n",
    "\n",
    "x = txt.replace(\"bananas\", \"apples\")\n",
    "\n",
    "print(x) \n",
    "#Replace all occurrence of the word \"one\":\n",
    "txt = \"one one was a race horse, two two was one too.\"\n",
    "\n",
    "x = txt.replace(\"one\", \"three\")\n",
    "\n",
    "print(x) \n",
    "#Replace the two first occurrence of the word \"one\":\n",
    "txt = \"one one was a race horse, two two was one too.\"\n",
    "\n",
    "x = txt.replace(\"one\", \"three\", 2)\n",
    "\n",
    "print(x) "
   ]
  },
  {
   "cell_type": "code",
   "execution_count": 54,
   "metadata": {},
   "outputs": [
    {
     "name": "stdout",
     "output_type": "stream",
     "text": [
      "12\n",
      "13\n",
      "8\n",
      "-1\n"
     ]
    },
    {
     "ename": "ValueError",
     "evalue": "substring not found",
     "output_type": "error",
     "traceback": [
      "\u001b[1;31m---------------------------------------------------------------------------\u001b[0m",
      "\u001b[1;31mValueError\u001b[0m                                Traceback (most recent call last)",
      "\u001b[1;32m<ipython-input-54-95acc6555a78>\u001b[0m in \u001b[0;36m<module>\u001b[1;34m\u001b[0m\n\u001b[0;32m     39\u001b[0m \u001b[1;33m\u001b[0m\u001b[0m\n\u001b[0;32m     40\u001b[0m \u001b[0mprint\u001b[0m\u001b[1;33m(\u001b[0m\u001b[0mtxt\u001b[0m\u001b[1;33m.\u001b[0m\u001b[0mrfind\u001b[0m\u001b[1;33m(\u001b[0m\u001b[1;34m\"q\"\u001b[0m\u001b[1;33m)\u001b[0m\u001b[1;33m)\u001b[0m\u001b[1;33m\u001b[0m\u001b[1;33m\u001b[0m\u001b[0m\n\u001b[1;32m---> 41\u001b[1;33m \u001b[0mprint\u001b[0m\u001b[1;33m(\u001b[0m\u001b[0mtxt\u001b[0m\u001b[1;33m.\u001b[0m\u001b[0mrindex\u001b[0m\u001b[1;33m(\u001b[0m\u001b[1;34m\"q\"\u001b[0m\u001b[1;33m)\u001b[0m\u001b[1;33m)\u001b[0m \u001b[1;31m# Throws Error\u001b[0m\u001b[1;33m\u001b[0m\u001b[1;33m\u001b[0m\u001b[0m\n\u001b[0m",
      "\u001b[1;31mValueError\u001b[0m: substring not found"
     ]
    }
   ],
   "source": [
    "\"\"\"\n",
    "#Python String rfind() Method\n",
    "\n",
    "The rfind() method finds the last occurrence of the specified value.\n",
    "\n",
    "The rfind() method returns -1 if the value is not found.\n",
    "\n",
    "The rfind() method is almost the same as the rindex() method. See example below.\n",
    "Syntax\n",
    "string.rfind(value, start, end)\n",
    "Parameter Values\n",
    "----------------\n",
    "Parameter      Description\n",
    "value          Required. The value to search for\n",
    "start          Optional. Where to start the search. Default is 0\n",
    "end            Optional. Where to end the search. Default is to the end of the string\n",
    "\n",
    "\"\"\"\n",
    "#Where in the text is the last occurrence of the string \"casa\"?:\n",
    "txt = \"Mi casa, su casa.\"\n",
    "\n",
    "x = txt.rfind(\"casa\")\n",
    "\n",
    "print(x) \n",
    "\n",
    "#Where in the text is the last occurrence of the letter \"e\"?:\n",
    "txt = \"Hello, welcome to my world.\"\n",
    "\n",
    "x = txt.rfind(\"e\")\n",
    "\n",
    "print(x) \n",
    "#Where in the text is the last occurrence of the letter \"e\" when you only search between position 5 and 10?:\n",
    "txt = \"Hello, welcome to my world.\"\n",
    "\n",
    "x = txt.rfind(\"e\", 5, 10)\n",
    "\n",
    "print(x) \n",
    "#If the value is not found, the rfind() method returns -1, but the rindex() method will raise an exception:\n",
    "txt = \"Hello, welcome to my world.\"\n",
    "\n",
    "print(txt.rfind(\"q\"))\n",
    "print(txt.rindex(\"q\")) # Throws Error"
   ]
  },
  {
   "cell_type": "code",
   "execution_count": 55,
   "metadata": {},
   "outputs": [
    {
     "name": "stdout",
     "output_type": "stream",
     "text": [
      "12\n",
      "13\n",
      "8\n",
      "-1\n"
     ]
    },
    {
     "ename": "ValueError",
     "evalue": "substring not found",
     "output_type": "error",
     "traceback": [
      "\u001b[1;31m---------------------------------------------------------------------------\u001b[0m",
      "\u001b[1;31mValueError\u001b[0m                                Traceback (most recent call last)",
      "\u001b[1;32m<ipython-input-55-d4717d9a78be>\u001b[0m in \u001b[0;36m<module>\u001b[1;34m\u001b[0m\n\u001b[0;32m     41\u001b[0m \u001b[1;33m\u001b[0m\u001b[0m\n\u001b[0;32m     42\u001b[0m \u001b[0mprint\u001b[0m\u001b[1;33m(\u001b[0m\u001b[0mtxt\u001b[0m\u001b[1;33m.\u001b[0m\u001b[0mrfind\u001b[0m\u001b[1;33m(\u001b[0m\u001b[1;34m\"q\"\u001b[0m\u001b[1;33m)\u001b[0m\u001b[1;33m)\u001b[0m\u001b[1;33m\u001b[0m\u001b[1;33m\u001b[0m\u001b[0m\n\u001b[1;32m---> 43\u001b[1;33m \u001b[0mprint\u001b[0m\u001b[1;33m(\u001b[0m\u001b[0mtxt\u001b[0m\u001b[1;33m.\u001b[0m\u001b[0mrindex\u001b[0m\u001b[1;33m(\u001b[0m\u001b[1;34m\"q\"\u001b[0m\u001b[1;33m)\u001b[0m\u001b[1;33m)\u001b[0m\u001b[1;33m\u001b[0m\u001b[1;33m\u001b[0m\u001b[0m\n\u001b[0m",
      "\u001b[1;31mValueError\u001b[0m: substring not found"
     ]
    }
   ],
   "source": [
    "\"\"\"\n",
    "Python String rindex() Method\n",
    "\n",
    "The rindex() method finds the last occurrence of the specified value.\n",
    "\n",
    "The rindex() method raises an exception if the value is not found.\n",
    "\n",
    "The rindex() method is almost the same as the rfind() method. See example below.\n",
    "Syntax\n",
    "string.rindex(value, start, end)\n",
    "Parameter Values\n",
    "----------------\n",
    "Parameter   Description\n",
    "value       Required. The value to search for\n",
    "start       Optional. Where to start the search. Default is 0\n",
    "end         Optional. Where to end the search. Default is to the end of the string\n",
    "\"\"\"\n",
    "#Where in the text is the last occurrence of the string \"casa\"?:\n",
    "txt = \"Mi casa, su casa.\"\n",
    "\n",
    "x = txt.rindex(\"casa\")\n",
    "\n",
    "print(x) \n",
    "\n",
    "#Where in the text is the last occurrence of the letter \"e\"?:\n",
    "txt = \"Hello, welcome to my world.\"\n",
    "\n",
    "x = txt.rindex(\"e\")\n",
    "\n",
    "print(x) \n",
    "\n",
    "#Where in the text is the last occurrence of the letter \"e\" when you only search between position 5 and 10?:\n",
    "txt = \"Hello, welcome to my world.\"\n",
    "\n",
    "x = txt.rindex(\"e\", 5, 10)\n",
    "\n",
    "print(x) \n",
    "\n",
    "#If the value is not found, the rfind() method returns -1, but the rindex() method will raise an exception:\n",
    "txt = \"Hello, welcome to my world.\"\n",
    "\n",
    "print(txt.rfind(\"q\"))\n",
    "print(txt.rindex(\"q\")) "
   ]
  },
  {
   "cell_type": "code",
   "execution_count": 56,
   "metadata": {},
   "outputs": [
    {
     "name": "stdout",
     "output_type": "stream",
     "text": [
      "              banana is my favorite fruit.\n",
      "OOOOOOOOOOOOOObanana\n"
     ]
    }
   ],
   "source": [
    "\"\"\"\n",
    "Python String rjust() Method\n",
    "\n",
    "The rjust() method will right align the string, using a specified character (space is default) as the fill character.\n",
    "Syntax\n",
    "string.rjust(length, character)\n",
    "Parameter Values\n",
    "----------------\n",
    "Parameter      Description\n",
    "length         Required. The length of the returned string\n",
    "character      Optional. A character to fill the missing space (to the left of the string). Default is \" \" (space).\n",
    "\"\"\"\n",
    "#Return a 20 characters long, right justified version of the word \"banana\":\n",
    "#Note: In the result, there are actually 14 whitespaces to the left of the word banana.\n",
    "txt = \"banana\"\n",
    "\n",
    "x = txt.rjust(20)\n",
    "\n",
    "print(x, \"is my favorite fruit.\") \n",
    "\n",
    "#Using the letter \"O\" as the padding character:\n",
    "txt = \"banana\"\n",
    "\n",
    "x = txt.rjust(20, \"O\")\n",
    "\n",
    "print(x) "
   ]
  },
  {
   "cell_type": "code",
   "execution_count": 57,
   "metadata": {},
   "outputs": [
    {
     "name": "stdout",
     "output_type": "stream",
     "text": [
      "('I could eat bananas all day, ', 'bananas', ' are my favorite fruit')\n",
      "('', '', 'I could eat bananas all day, bananas are my favorite fruit')\n"
     ]
    }
   ],
   "source": [
    "\"\"\"\n",
    "Python String rpartition() Method\n",
    "\n",
    "The rpartition() method searches for the last occurrence of a specified string, and splits the string into a tuple containing three elements.\n",
    "\n",
    "The first element contains the part before the specified string.\n",
    "\n",
    "The second element contains the specified string.\n",
    "\n",
    "The third element contains the part after the string.\n",
    "\n",
    "Syntax\n",
    "string.rpartition(value)\n",
    "Parameter Values\n",
    "----------------\n",
    "Parameter    Description\n",
    "value        Required. The string to search for\n",
    "\"\"\"\n",
    "\"\"\"\n",
    "Search for the last occurrence of the word \"bananas\", and return a tuple with three elements:\n",
    "\n",
    "1 - everything before the \"match\"\n",
    "2 - the \"match\"\n",
    "3 - everything after the \"match\"\n",
    "\"\"\"\n",
    "txt = \"I could eat bananas all day, bananas are my favorite fruit\"\n",
    "\n",
    "x = txt.rpartition(\"bananas\")\n",
    "\n",
    "print(x) \n",
    "\n",
    "#If the specified value is not found, the rpartition() method returns a tuple containing: 1 - the whole string, 2 - an empty string, 3 - an empty string:\n",
    "txt = \"I could eat bananas all day, bananas are my favorite fruit\"\n",
    "\n",
    "x = txt.rpartition(\"apples\")\n",
    "\n",
    "print(x) "
   ]
  },
  {
   "cell_type": "code",
   "execution_count": 58,
   "metadata": {},
   "outputs": [
    {
     "name": "stdout",
     "output_type": "stream",
     "text": [
      "['apple', 'banana', 'cherry']\n",
      "['apple, banana', 'cherry']\n"
     ]
    }
   ],
   "source": [
    "\"\"\"\n",
    "Python String rsplit() Method\n",
    "\n",
    "The rsplit() method splits a string into a list, starting from the right.\n",
    "\n",
    "If no \"max\" is specified, this method will return the same as the split() method.\n",
    "\n",
    "Note: When maxsplit is specified, the list will contain the specified number of elements plus one.\n",
    "Syntax\n",
    "string.rsplit(separator, maxsplit)\n",
    "Parameter Values\n",
    "----------------\n",
    "Parameter    Description\n",
    "separator    Optional. Specifies the separator to use when splitting the string. By default any whitespace is a separator\n",
    "maxsplit     Optional. Specifies how many splits to do. Default value is -1, which is \"all occurrences\"\n",
    "\n",
    "\"\"\"\n",
    "\n",
    "#Split a string into a list, using comma, followed by a space (, ) as the separator:\n",
    "txt = \"apple, banana, cherry\"\n",
    "\n",
    "x = txt.rsplit(\", \")\n",
    "\n",
    "print(x) \n",
    "\n",
    "#Split the string into a list with maximum 2 items:\n",
    "txt = \"apple, banana, cherry\"\n",
    "\n",
    "# setting the maxsplit parameter to 1, will return a list with 2 elements!\n",
    "x = txt.rsplit(\", \", 1)\n",
    "\n",
    "print(x) "
   ]
  },
  {
   "cell_type": "code",
   "execution_count": 59,
   "metadata": {},
   "outputs": [
    {
     "name": "stdout",
     "output_type": "stream",
     "text": [
      "of all fruits      banana is my favorite\n",
      "banan\n"
     ]
    }
   ],
   "source": [
    "\"\"\"\n",
    "Python String rstrip() Method\n",
    "The rstrip() method removes any trailing characters (characters at the end a string), space is the default trailing character to remove.\n",
    "Syntax\n",
    "string.rstrip(characters)\n",
    "Parameter Values\n",
    "----------------\n",
    "Parameter   Description\n",
    "characters  Optional. A set of characters to remove as trailing characters\n",
    "\"\"\"\n",
    "\n",
    "#Remove spaces to the right of the string:\n",
    "txt = \"     banana     \"\n",
    "\n",
    "x = txt.rstrip()\n",
    "\n",
    "print(\"of all fruits\", x, \"is my favorite\") \n",
    "\n",
    "#Remove the trailing characters:\n",
    "txt = \"banana,,,,,ssaaww.....\"\n",
    "\n",
    "x = txt.rstrip(\",.asw\")\n",
    "\n",
    "print(x) "
   ]
  },
  {
   "cell_type": "code",
   "execution_count": 60,
   "metadata": {},
   "outputs": [
    {
     "name": "stdout",
     "output_type": "stream",
     "text": [
      "['welcome', 'to', 'the', 'jungle']\n",
      "['hello', 'my name is Peter', 'I am 26 years old']\n",
      "['apple', 'banana', 'cherry', 'orange']\n",
      "['apple', 'banana#cherry#orange']\n"
     ]
    }
   ],
   "source": [
    "\"\"\"\n",
    "Python String split() Method\n",
    "\n",
    "The split() method splits a string into a list.\n",
    "\n",
    "You can specify the separator, default separator is any whitespace.\n",
    "\n",
    "Note: When maxsplit is specified, the list will contain the specified number of elements plus one.\n",
    "Syntax\n",
    "string.split(separator, maxsplit)\n",
    "Parameter Values\n",
    "----------------\n",
    "#Parameter   Description\n",
    "separator   Optional. Specifies the separator to use when splitting the string. By default any whitespace is a separator\n",
    "maxsplit    Optional. Specifies how many splits to do. Default value is -1, which is \"all occurrences\"\n",
    "\"\"\"\n",
    "\n",
    "#Split a string into a list where each word is a list item:\n",
    "txt = \"welcome to the jungle\"\n",
    "\n",
    "x = txt.split()\n",
    "\n",
    "print(x) \n",
    "\n",
    "#Split the string, using comma, followed by a space, as a separator:\n",
    "txt = \"hello, my name is Peter, I am 26 years old\"\n",
    "\n",
    "x = txt.split(\", \")\n",
    "\n",
    "print(x) \n",
    "\n",
    "#Use a hash character as a separator:\n",
    "txt = \"apple#banana#cherry#orange\"\n",
    "\n",
    "x = txt.split(\"#\")\n",
    "\n",
    "print(x) \n",
    "\n",
    "#Split the string into a list with max 2 items:\n",
    "txt = \"apple#banana#cherry#orange\"\n",
    "\n",
    "# setting the maxsplit parameter to 1, will return a list with 2 elements!\n",
    "x = txt.split(\"#\", 1)\n",
    "\n",
    "print(x) \n"
   ]
  },
  {
   "cell_type": "code",
   "execution_count": 61,
   "metadata": {},
   "outputs": [
    {
     "name": "stdout",
     "output_type": "stream",
     "text": [
      "['Thank you for the music', 'Welcome to the jungle']\n",
      "['Thank you for the music\\n', 'Welcome to the jungle']\n"
     ]
    }
   ],
   "source": [
    "\"\"\"\n",
    "Python String splitlines() Method\n",
    "\n",
    "The splitlines() method splits a string into a list. The splitting is done at line breaks.\n",
    "Syntax\n",
    "string.splitlines(keeplinebreaks)\n",
    "Parameter Values\n",
    "-----------------\n",
    "Parameter       Description\n",
    "keeplinebreaks  Optional. Specifies if the line breaks should be included (True), or not (False). Default value is not (False)\n",
    "\"\"\"\n",
    "\n",
    "#Split a string into a list where each line is a list item:\n",
    "txt = \"Thank you for the music\\nWelcome to the jungle\"\n",
    "\n",
    "x = txt.splitlines()\n",
    "\n",
    "print(x) \n",
    "\n",
    "#Split the string, but keep the line breaks:\n",
    "txt = \"Thank you for the music\\nWelcome to the jungle\"\n",
    "\n",
    "x = txt.splitlines(True)\n",
    "\n",
    "print(x) \n",
    "\n"
   ]
  },
  {
   "cell_type": "code",
   "execution_count": 62,
   "metadata": {},
   "outputs": [
    {
     "name": "stdout",
     "output_type": "stream",
     "text": [
      "True\n",
      "True\n"
     ]
    }
   ],
   "source": [
    "\"\"\"\n",
    "Python String startswith() Method\n",
    "\n",
    "The startswith() method returns True if the string starts with the specified value, otherwise False.\n",
    "Syntax\n",
    "string.startswith(value, start, end)\n",
    "Parameter Values\n",
    "-----------------\n",
    "Parameter   Description\n",
    "value       Required. The value to check if the string starts with\n",
    "start       Optional. An Integer specifying at which position to start the search\n",
    "end         Optional. An Integer specifying at which position to end the search\n",
    "\"\"\"\n",
    "\n",
    "#Check if the string starts with \"Hello\":\n",
    "txt = \"Hello, welcome to my world.\"\n",
    "\n",
    "x = txt.startswith(\"Hello\")\n",
    "\n",
    "print(x) \n",
    "\n",
    "#Check if position 7 to 20 starts with the characters \"wel\":\n",
    "txt = \"Hello, welcome to my world.\"\n",
    "\n",
    "x = txt.startswith(\"wel\", 7, 20)\n",
    "\n",
    "print(x) "
   ]
  },
  {
   "cell_type": "code",
   "execution_count": 63,
   "metadata": {},
   "outputs": [
    {
     "name": "stdout",
     "output_type": "stream",
     "text": [
      "of all fruits banana is my favorite\n",
      "banana\n"
     ]
    }
   ],
   "source": [
    "\"\"\"\n",
    "Python String strip() Method\n",
    "\n",
    "The strip() method removes any leading (spaces at the beginning) and trailing (spaces at the end) characters (space is the default leading character to remove)\n",
    "Syntax\n",
    "string.strip(characters)\n",
    "Parameter Values\n",
    "---------------\n",
    "Parameter   Description\n",
    "characters  Optional. A set of characters to remove as leading/trailing characters\n",
    "\n",
    "\"\"\"\n",
    "\n",
    "#Remove spaces at the beginning and at the end of the string:\n",
    "txt = \"     banana     \"\n",
    "\n",
    "x = txt.strip()\n",
    "\n",
    "print(\"of all fruits\", x, \"is my favorite\") \n",
    "\n",
    "#Remove the leading and trailing characters:\n",
    "txt = \",,,,,rrttgg.....banana....rrr\"\n",
    "\n",
    "x = txt.strip(\",.grt\")\n",
    "\n",
    "print(x) "
   ]
  },
  {
   "cell_type": "code",
   "execution_count": 64,
   "metadata": {},
   "outputs": [
    {
     "name": "stdout",
     "output_type": "stream",
     "text": [
      "hELLO mY nAME iS peter\n"
     ]
    }
   ],
   "source": [
    "\"\"\"\n",
    "Python String swapcase() Method\n",
    "\n",
    "The swapcase() method returns a string where all the upper case letters are lower case and vice versa.\n",
    "Syntax\n",
    "string.swapcase()\n",
    "\n",
    "\"\"\"\n",
    "\n",
    "#Make the lower case letters upper case and the upper case letters lower case:\n",
    "txt = \"Hello My Name Is PETER\"\n",
    "\n",
    "x = txt.swapcase()\n",
    "\n",
    "print(x) "
   ]
  },
  {
   "cell_type": "code",
   "execution_count": 66,
   "metadata": {},
   "outputs": [
    {
     "name": "stdout",
     "output_type": "stream",
     "text": [
      "Welcome To My World\n",
      "Welcome To My 2Nd World\n",
      "Hello B2B2B2 And 3G3G3G\n"
     ]
    }
   ],
   "source": [
    "\"\"\"\n",
    "Python String title() Method\n",
    "\n",
    "The title() method returns a string where the first character in every word is upper case. Like a header, or a title.\n",
    "\n",
    "If the word contains a number or a symbol, the first letter after that will be converted to upper case.\n",
    "Syntax\n",
    "string.title()\n",
    "\n",
    "\n",
    "\"\"\"\n",
    "\n",
    "#Make the first letter in each word upper case:\n",
    "txt = \"Welcome to my world\"\n",
    "\n",
    "x = txt.title()\n",
    "\n",
    "print(x) \n",
    "\n",
    "#Make the first letter in each word upper case:\n",
    "txt = \"Welcome to my 2nd world\"\n",
    "\n",
    "x = txt.title()\n",
    "\n",
    "print(x) \n",
    "\n",
    "#Note that the first letter after a non-alphabet letter is converted into a upper case letter:\n",
    "txt = \"hello b2b2b2 and 3g3g3g\"\n",
    "\n",
    "x = txt.title()\n",
    "\n",
    "print(x) "
   ]
  },
  {
   "cell_type": "code",
   "execution_count": 67,
   "metadata": {},
   "outputs": [
    {
     "name": "stdout",
     "output_type": "stream",
     "text": [
      "HELLO MY FRIENDS\n"
     ]
    }
   ],
   "source": [
    "\"\"\"\n",
    "Python String upper() Method\n",
    "\n",
    "The upper() method returns a string where all characters are in upper case.\n",
    "\n",
    " Symbols and Numbers are ignored.\n",
    "Syntax\n",
    "string.upper()\n",
    "\n",
    "\"\"\"\n",
    "\n",
    "#Upper case the string:\n",
    "txt = \"Hello my friends\"\n",
    "\n",
    "x = txt.upper()\n",
    "\n",
    "print(x) "
   ]
  },
  {
   "cell_type": "code",
   "execution_count": 69,
   "metadata": {
    "scrolled": true
   },
   "outputs": [
    {
     "name": "stdout",
     "output_type": "stream",
     "text": [
      "0000000050\n",
      "00000hello\n",
      "welcome to the jungle\n",
      "000010.000\n"
     ]
    }
   ],
   "source": [
    "\"\"\"\n",
    "Python String zfill() Method\n",
    "\n",
    "The zfill() method adds zeros (0) at the beginning of the string, until it reaches the specified length.\n",
    "\n",
    "If the value of the len parameter is less than the length of the string, no filling is done.\n",
    "Syntax\n",
    "string.zfill(len)\n",
    "Parameter Values\n",
    "----------------\n",
    "Parameter   Description\n",
    "len         Required. A number specifying the position of the element you want to remove\n",
    "\n",
    "\"\"\"\n",
    "\n",
    "#Fill the string with zeros until it is 10 characters long:\n",
    "txt = \"50\"\n",
    "\n",
    "x = txt.zfill(10)\n",
    "\n",
    "print(x) \n",
    "\n",
    "#Fill the strings with zeros until they are 10 characters long:\n",
    "a = \"hello\"\n",
    "b = \"welcome to the jungle\"\n",
    "c = \"10.000\"\n",
    "\n",
    "print(a.zfill(10))\n",
    "print(b.zfill(10))\n",
    "print(c.zfill(10)) "
   ]
  },
  {
   "cell_type": "code",
   "execution_count": null,
   "metadata": {},
   "outputs": [],
   "source": []
  }
 ],
 "metadata": {
  "kernelspec": {
   "display_name": "Python 3",
   "language": "python",
   "name": "python3"
  },
  "language_info": {
   "codemirror_mode": {
    "name": "ipython",
    "version": 3
   },
   "file_extension": ".py",
   "mimetype": "text/x-python",
   "name": "python",
   "nbconvert_exporter": "python",
   "pygments_lexer": "ipython3",
   "version": "3.7.4"
  }
 },
 "nbformat": 4,
 "nbformat_minor": 2
}
