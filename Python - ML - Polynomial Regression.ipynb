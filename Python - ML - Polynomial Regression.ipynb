{
 "cells": [
  {
   "cell_type": "code",
   "execution_count": 1,
   "metadata": {},
   "outputs": [
    {
     "data": {
      "image/png": "[encoded data removed]",
      "text/plain": [
       "<Figure size 432x288 with 1 Axes>"
      ]
     },
     "metadata": {
      "needs_background": "light"
     },
     "output_type": "display_data"
    }
   ],
   "source": [
    "\"\"\"\n",
    "Polynomial Regression\n",
    "*********************\n",
    "If your data points clearly will not fit a linear regression (a straight line through all data points), \n",
    "it might be ideal for polynomial regression.\n",
    "\n",
    "Polynomial regression, like linear regression, uses the relationship between the variables x and y to find \n",
    "the best way to draw a line through the data points.\n",
    "\n",
    "How Does it Work?\n",
    "----------------\n",
    "Python has methods for finding a relationship between data-points and to draw a line of polynomial regression. We will show you how to use these methods instead of going through the mathematic formula.\n",
    "\n",
    "In the example below, we have registered 18 cars as they were passing a certain tollbooth.\n",
    "\n",
    "We have registered the car's speed, and the time of day (hour) the passing occurred.\n",
    "\n",
    "The x-axis represents the hours of the day and the y-axis represents the speed:\n",
    "Example\n",
    "\"\"\"\n",
    "\n",
    "#Start by drawing a scatter plot:\n",
    "import matplotlib.pyplot as plt\n",
    "\n",
    "x = [1,2,3,5,6,7,8,9,10,12,13,14,15,16,18,19,21,22]\n",
    "y = [100,90,80,60,60,55,60,65,70,70,75,76,78,79,90,99,99,100]\n",
    "\n",
    "plt.scatter(x, y)\n",
    "plt.show() "
   ]
  },
  {
   "cell_type": "code",
   "execution_count": 3,
   "metadata": {},
   "outputs": [
    {
     "data": {
      "image/png": "[encoded data removed]",
      "text/plain": [
       "<Figure size 432x288 with 1 Axes>"
      ]
     },
     "metadata": {
      "needs_background": "light"
     },
     "output_type": "display_data"
    },
    {
     "name": "stdout",
     "output_type": "stream",
     "text": [
      "Polynomail Regression\n"
     ]
    }
   ],
   "source": [
    "#Import numpy and sklearn then draw the line of Polynomial Regression:\n",
    "import numpy\n",
    "import matplotlib.pyplot as plt\n",
    "\n",
    "x = [1,2,3,5,6,7,8,9,10,12,13,14,15,16,18,19,21,22]\n",
    "y = [100,90,80,60,60,55,60,65,70,70,75,76,78,79,90,99,99,100]\n",
    "\n",
    "mymodel = numpy.poly1d(numpy.polyfit(x, y, 3))\n",
    "\n",
    "myline = numpy.linspace(1, 22, 100)\n",
    "\n",
    "plt.scatter(x, y)\n",
    "plt.plot(myline, mymodel(myline))\n",
    "plt.show() \n",
    "\n",
    "\"\"\"\n",
    "Example Explained\n",
    "\n",
    "Import the modules you need:\n",
    "\n",
    "import numpy\n",
    "import matplotlib.pyplot as plt\n",
    "\n",
    "Create the arrays that represents the values of the x and y axis:\n",
    "\n",
    "x = [1,2,3,5,6,7,8,9,10,12,13,14,15,16,18,19,21,22]\n",
    "y = [100,90,80,60,60,55,60,65,70,70,75,76,78,79,90,99,99,100]\n",
    "\n",
    "NumPy has a method that lets us make a polynomial model:\n",
    "\n",
    "mymodel = numpy.poly1d(numpy.polyfit(x, y, 3))\n",
    "\n",
    "Then specify how the line will display, we start at position 2, and end at position 22:\n",
    "\n",
    "myline = numpy.linspace(1, 22, 100)\n",
    "\n",
    "Draw the original scatter plot:\n",
    "\n",
    "plt.scatter(x, y)\n",
    "\n",
    "Draw the line of polynomial regression:\n",
    "\n",
    "plt.plot(myline, mymodel(myline))\n",
    "\n",
    "Display the diagram:\n",
    "\n",
    "plt.show()\n",
    "\"\"\"\n",
    "print(\"Polynomail Regression\")"
   ]
  },
  {
   "cell_type": "code",
   "execution_count": 6,
   "metadata": {},
   "outputs": [
    {
     "name": "stdout",
     "output_type": "stream",
     "text": [
      "0.9432150416451027\n"
     ]
    }
   ],
   "source": [
    "\"\"\"\n",
    "R-Squared\n",
    "\n",
    "It is important to know how well the relationship between the values of the x- and y-axis is, if there are \n",
    "no relationship the polynomial regression can not be used to predict anything.\n",
    "\n",
    "The relationship is measured with a value called the r-squared.\n",
    "\n",
    "The r-squared value ranges from 0 to 1, where 0 means no relationship, and 1 means 100% related.\n",
    "\n",
    "Python and the Sklearn module will computed this value for you, all you have to do is feed it with the x and y arrays:\n",
    "\n",
    "To install this package with conda run:\n",
    "conda install -c anaconda scikit-learn\n",
    "\n",
    "Example Program\n",
    "\"\"\"\n",
    "#How well does my data fit in a polynomial regression?\n",
    "import numpy\n",
    "from sklearn.metrics import r2_score\n",
    "\n",
    "x = [1,2,3,5,6,7,8,9,10,12,13,14,15,16,18,19,21,22]\n",
    "y = [100,90,80,60,60,55,60,65,70,70,75,76,78,79,90,99,99,100]\n",
    "\n",
    "mymodel = numpy.poly1d(numpy.polyfit(x, y, 3))\n",
    "\"\"\"\n",
    "Note: The result 0.94 shows that there is a very good relationship, \n",
    "    and we can use polynomial regression in future predictions.\n",
    "\"\"\"\n",
    "print(r2_score(y, mymodel(x))) "
   ]
  },
  {
   "cell_type": "code",
   "execution_count": 8,
   "metadata": {},
   "outputs": [
    {
     "name": "stdout",
     "output_type": "stream",
     "text": [
      "Predicted Speed :  88.87331269697987\n"
     ]
    }
   ],
   "source": [
    "\"\"\"\n",
    "Predict Future Values\n",
    "\n",
    "Now we can use the information we have gathered to predict future values.\n",
    "\n",
    "Example: Let us try to predict the speed of a car that passes the tollbooth at around 17 P.M:\n",
    "\n",
    "To do so, we need the same mymodel array from the example above:\n",
    "\n",
    "mymodel = numpy.poly1d(numpy.polyfit(x, y, 3))\n",
    "Example\n",
    "\"\"\"\n",
    "#Predict the speed of a car passing at 17 P.M:\n",
    "import numpy\n",
    "from sklearn.metrics import r2_score\n",
    "\n",
    "x = [1,2,3,5,6,7,8,9,10,12,13,14,15,16,18,19,21,22]\n",
    "y = [100,90,80,60,60,55,60,65,70,70,75,76,78,79,90,99,99,100]\n",
    "\n",
    "mymodel = numpy.poly1d(numpy.polyfit(x, y, 3))\n",
    "\n",
    "speed = mymodel(17)\n",
    "print(\"Predicted Speed : \", speed) "
   ]
  },
  {
   "cell_type": "code",
   "execution_count": 9,
   "metadata": {},
   "outputs": [
    {
     "data": {
      "image/png": "[encoded data removed]",
      "text/plain": [
       "<Figure size 432x288 with 1 Axes>"
      ]
     },
     "metadata": {
      "needs_background": "light"
     },
     "output_type": "display_data"
    }
   ],
   "source": [
    "\"\"\"\n",
    "Bad Fit?\n",
    "\n",
    "Let us create an example where polynomial regression would not be the best method to predict future values.\n",
    "Example\n",
    "\"\"\"\n",
    "#These values for the x- and y-axis should result in a very bad fit for polynomial regression:\n",
    "import numpy\n",
    "import matplotlib.pyplot as plt\n",
    "\n",
    "x = [89,43,36,36,95,10,66,34,38,20,26,29,48,64,6,5,36,66,72,40]\n",
    "y = [21,46,3,35,67,95,53,72,58,10,26,34,90,33,38,20,56,2,47,15]\n",
    "\n",
    "mymodel = numpy.poly1d(numpy.polyfit(x, y, 3))\n",
    "\n",
    "myline = numpy.linspace(2, 95, 100)\n",
    "\n",
    "plt.scatter(x, y)\n",
    "plt.plot(myline, mymodel(myline))\n",
    "plt.show() "
   ]
  },
  {
   "cell_type": "code",
   "execution_count": 12,
   "metadata": {},
   "outputs": [
    {
     "name": "stdout",
     "output_type": "stream",
     "text": [
      "0.009952707566680652\n",
      "The result: 0.00995 indicates a very bad relationship, and tells us that this data set is not suitable for polynomial regression.\n"
     ]
    }
   ],
   "source": [
    "\"\"\"\n",
    "And the r-squared value?\n",
    "Example\n",
    "\"\"\"\n",
    "#You should get a very low r-squared value.\n",
    "import numpy\n",
    "from sklearn.metrics import r2_score\n",
    "\n",
    "x = [89,43,36,36,95,10,66,34,38,20,26,29,48,64,6,5,36,66,72,40]\n",
    "y = [21,46,3,35,67,95,53,72,58,10,26,34,90,33,38,20,56,2,47,15]\n",
    "\n",
    "mymodel = numpy.poly1d(numpy.polyfit(x, y, 3))\n",
    "\n",
    "print(r2_score(y, mymodel(x)))\n",
    "print(\"The result: 0.00995 indicates a very bad relationship, and tells us that this data set is not suitable for polynomial regression.\")"
   ]
  },
  {
   "cell_type": "code",
   "execution_count": null,
   "metadata": {},
   "outputs": [],
   "source": []
  }
 ],
 "metadata": {
  "kernelspec": {
   "display_name": "Python 3",
   "language": "python",
   "name": "python3"
  },
  "language_info": {
   "codemirror_mode": {
    "name": "ipython",
    "version": 3
   },
   "file_extension": ".py",
   "mimetype": "text/x-python",
   "name": "python",
   "nbconvert_exporter": "python",
   "pygments_lexer": "ipython3",
   "version": "3.7.5"
  }
 },
 "nbformat": 4,
 "nbformat_minor": 2
}
