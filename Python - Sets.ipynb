{
 "cells": [
  {
   "cell_type": "code",
   "execution_count": 1,
   "metadata": {},
   "outputs": [
    {
     "name": "stdout",
     "output_type": "stream",
     "text": [
      "{'cherry', 'apple', 'banana'}\n"
     ]
    }
   ],
   "source": [
    "\"\"\"\n",
    "Python Sets\n",
    "\n",
    "Set\n",
    "\n",
    "A set is a collection which is unordered and unindexed. In Python sets are written with curly brackets.\n",
    "\n",
    "Set is an unordered collection of data type that is iterable, mutable and has no duplicate elements. \n",
    "The order of elements in a set is undefined though it may consist of various elements.\n",
    "\n",
    "The major advantage of using a set, as opposed to a list, is that it has a highly optimized method\n",
    "for checking whether a specific element is contained in the set.\n",
    "\n",
    "Example\n",
    "\n",
    "Note: Sets are unordered, so you cannot be sure in which order the items will appear.    \n",
    "\n",
    "\"\"\"\n",
    "#Create a Set:\n",
    "thisset = {\"apple\", \"banana\", \"cherry\"}\n",
    "print(thisset) \n"
   ]
  },
  {
   "cell_type": "code",
   "execution_count": 2,
   "metadata": {},
   "outputs": [
    {
     "name": "stdout",
     "output_type": "stream",
     "text": [
      "cherry\n",
      "apple\n",
      "banana\n"
     ]
    }
   ],
   "source": [
    "\"\"\"\n",
    "Access Items\n",
    "\n",
    "You cannot access items in a set by referring to an index, since sets are unordered the items has no index.\n",
    "\n",
    "But you can loop through the set items using a for loop, or ask if a specified value is present in a set, by using the in keyword.\n",
    "Example\n",
    "\"\"\"\n",
    "#Loop through the set, and print the values:\n",
    "thisset = {\"apple\", \"banana\", \"cherry\"}\n",
    "\n",
    "for x in thisset:\n",
    "  print(x) "
   ]
  },
  {
   "cell_type": "code",
   "execution_count": 3,
   "metadata": {},
   "outputs": [
    {
     "name": "stdout",
     "output_type": "stream",
     "text": [
      "True\n"
     ]
    }
   ],
   "source": [
    "#Check if \"banana\" is present in the set:\n",
    "thisset = {\"apple\", \"banana\", \"cherry\"}\n",
    "\n",
    "print(\"banana\" in thisset) "
   ]
  },
  {
   "cell_type": "code",
   "execution_count": 4,
   "metadata": {},
   "outputs": [
    {
     "name": "stdout",
     "output_type": "stream",
     "text": [
      "{'orange', 'cherry', 'apple', 'banana'}\n"
     ]
    }
   ],
   "source": [
    "\"\"\"\n",
    "Change Items\n",
    "\n",
    "Once a set is created, you cannot change its items, but you can add new items.\n",
    "Add Items\n",
    "\n",
    "To add one item to a set use the add() method.\n",
    "\n",
    "To add more than one item to a set use the update() method.\n",
    "Example\n",
    "\"\"\"\n",
    "#Add an item to a set, using the add() method:\n",
    "thisset = {\"apple\", \"banana\", \"cherry\"}\n",
    "\n",
    "thisset.add(\"orange\")\n",
    "\n",
    "print(thisset) "
   ]
  },
  {
   "cell_type": "code",
   "execution_count": 5,
   "metadata": {},
   "outputs": [
    {
     "name": "stdout",
     "output_type": "stream",
     "text": [
      "{'orange', 'grapes', 'banana', 'mango', 'apple', 'cherry'}\n"
     ]
    }
   ],
   "source": [
    "#Add multiple items to a set, using the update() method:\n",
    "thisset = {\"apple\", \"banana\", \"cherry\"}\n",
    "\n",
    "thisset.update([\"orange\", \"mango\", \"grapes\"])\n",
    "\n",
    "print(thisset) "
   ]
  },
  {
   "cell_type": "code",
   "execution_count": 6,
   "metadata": {},
   "outputs": [
    {
     "name": "stdout",
     "output_type": "stream",
     "text": [
      "3\n"
     ]
    }
   ],
   "source": [
    "\"\"\"\n",
    "Get the Length of a Set\n",
    "\n",
    "To determine how many items a set has, use the len() method.\n",
    "Example\n",
    "\"\"\"\n",
    "#Get the number of items in a set:\n",
    "thisset = {\"apple\", \"banana\", \"cherry\"}\n",
    "\n",
    "print(len(thisset)) "
   ]
  },
  {
   "cell_type": "code",
   "execution_count": 8,
   "metadata": {},
   "outputs": [
    {
     "name": "stdout",
     "output_type": "stream",
     "text": [
      "{'cherry', 'apple'}\n"
     ]
    }
   ],
   "source": [
    "\"\"\"\n",
    "Remove Item\n",
    "\n",
    "To remove an item in a set, use the remove(), or the discard() method.\n",
    "Example\n",
    "Note: If the item to remove does not exist, remove() will raise an error.\n",
    "\"\"\"\n",
    "#Remove \"banana\" by using the remove() method:\n",
    "thisset = {\"apple\", \"banana\", \"cherry\"}\n",
    "\n",
    "thisset.remove(\"banana\")\n",
    "\n",
    "print(thisset) "
   ]
  },
  {
   "cell_type": "code",
   "execution_count": 9,
   "metadata": {},
   "outputs": [
    {
     "name": "stdout",
     "output_type": "stream",
     "text": [
      "{'cherry', 'apple'}\n"
     ]
    }
   ],
   "source": [
    "#Remove \"banana\" by using the discard() method:\n",
    "#Note: If the item to remove does not exist, discard() will NOT raise an error.\n",
    "thisset = {\"apple\", \"banana\", \"cherry\"}\n",
    "\n",
    "thisset.discard(\"banana\")\n",
    "\n",
    "print(thisset) "
   ]
  },
  {
   "cell_type": "code",
   "execution_count": 10,
   "metadata": {},
   "outputs": [
    {
     "name": "stdout",
     "output_type": "stream",
     "text": [
      "cherry\n",
      "{'apple', 'banana'}\n"
     ]
    }
   ],
   "source": [
    "\"\"\"\n",
    "You can also use the pop(), method to remove an item, but this method will remove the last item. \n",
    "Remember that sets are unordered, so you will not know what item that gets removed.\n",
    "\n",
    "The return value of the pop() method is the removed item.\n",
    "Example\n",
    "Note: Sets are unordered, so when using the pop() method, you will not know which item that gets removed.\n",
    "\"\"\"\n",
    "#Remove the last item by using the pop() method:\n",
    "thisset = {\"apple\", \"banana\", \"cherry\"}\n",
    "\n",
    "x = thisset.pop()\n",
    "\n",
    "print(x)\n",
    "\n",
    "print(thisset) "
   ]
  },
  {
   "cell_type": "code",
   "execution_count": 11,
   "metadata": {},
   "outputs": [
    {
     "ename": "NameError",
     "evalue": "name 'thisset' is not defined",
     "output_type": "error",
     "traceback": [
      "\u001b[1;31m---------------------------------------------------------------------------\u001b[0m",
      "\u001b[1;31mNameError\u001b[0m                                 Traceback (most recent call last)",
      "\u001b[1;32m<ipython-input-11-f097ce11fc79>\u001b[0m in \u001b[0;36m<module>\u001b[1;34m\u001b[0m\n\u001b[0;32m      4\u001b[0m \u001b[1;32mdel\u001b[0m \u001b[0mthisset\u001b[0m\u001b[1;33m\u001b[0m\u001b[1;33m\u001b[0m\u001b[0m\n\u001b[0;32m      5\u001b[0m \u001b[1;33m\u001b[0m\u001b[0m\n\u001b[1;32m----> 6\u001b[1;33m \u001b[0mprint\u001b[0m\u001b[1;33m(\u001b[0m\u001b[0mthisset\u001b[0m\u001b[1;33m)\u001b[0m\u001b[1;33m\u001b[0m\u001b[1;33m\u001b[0m\u001b[0m\n\u001b[0m",
      "\u001b[1;31mNameError\u001b[0m: name 'thisset' is not defined"
     ]
    }
   ],
   "source": [
    "#The del keyword will delete the set completely:\n",
    "thisset = {\"apple\", \"banana\", \"cherry\"}\n",
    "\n",
    "del thisset\n",
    "\n",
    "print(thisset) "
   ]
  },
  {
   "cell_type": "code",
   "execution_count": 12,
   "metadata": {},
   "outputs": [
    {
     "name": "stdout",
     "output_type": "stream",
     "text": [
      "{1, 2, 3, 'a', 'c', 'b'}\n"
     ]
    }
   ],
   "source": [
    "\"\"\"\n",
    "Join Two Sets\n",
    "\n",
    "There are several ways to join two or more sets in Python.\n",
    "\n",
    "You can use the union() method that returns a new set containing all items from both sets, or the update() method that inserts all the items from one set into another:\n",
    "Example\n",
    "\"\"\"\n",
    "#The union() method returns a new set with all items from both sets:\n",
    "set1 = {\"a\", \"b\" , \"c\"}\n",
    "set2 = {1, 2, 3}\n",
    "\n",
    "set3 = set1.union(set2)\n",
    "print(set3) "
   ]
  },
  {
   "cell_type": "code",
   "execution_count": 14,
   "metadata": {},
   "outputs": [
    {
     "name": "stdout",
     "output_type": "stream",
     "text": [
      "{1, 2, 3, 'a', 'c', 'b'}\n"
     ]
    }
   ],
   "source": [
    "#The update() method inserts the items in set2 into set1:\n",
    "#Note: Both union() and update() will exclude any duplicate items.\n",
    "set1 = {\"a\", \"b\" , \"c\"}\n",
    "set2 = {1, 2, 3}\n",
    "\n",
    "set1.update(set2)\n",
    "print(set1) "
   ]
  },
  {
   "cell_type": "code",
   "execution_count": 15,
   "metadata": {},
   "outputs": [
    {
     "name": "stdout",
     "output_type": "stream",
     "text": [
      "{'cherry', 'apple', 'banana'}\n"
     ]
    }
   ],
   "source": [
    "\"\"\"\n",
    "The set() Constructor\n",
    "\n",
    "It is also possible to use the set() constructor to make a set.\n",
    "Example\n",
    "\"\"\"\n",
    "#Using the set() constructor to make a set:\n",
    "thisset = set((\"apple\", \"banana\", \"cherry\")) # note the double round-brackets\n",
    "print(thisset) "
   ]
  },
  {
   "cell_type": "code",
   "execution_count": 16,
   "metadata": {},
   "outputs": [
    {
     "name": "stdout",
     "output_type": "stream",
     "text": [
      "{'orange', 'cherry', 'apple', 'banana'}\n",
      "{'cherry', 'apple', 'banana'}\n"
     ]
    }
   ],
   "source": [
    "\"\"\"\n",
    "Python Set add() Method\n",
    "\n",
    "The add() method adds an element to the set.\n",
    "\n",
    "If the element already exists, the add() method does not add the element.\n",
    "Syntax\n",
    "set.add(elmnt)\n",
    "Parameter Values\n",
    "----------------\n",
    "Parameter     Description\n",
    "elmnt         Required. The element to add to the set\n",
    "\n",
    "\"\"\"\n",
    "#Add an element to the fruits set:\n",
    "fruits = {\"apple\", \"banana\", \"cherry\"}\n",
    "\n",
    "fruits.add(\"orange\")\n",
    "\n",
    "print(fruits) \n",
    "\n",
    "#Try to add an element that already exists:\n",
    "fruits = {\"apple\", \"banana\", \"cherry\"}\n",
    "\n",
    "fruits.add(\"apple\")\n",
    "\n",
    "print(fruits) "
   ]
  },
  {
   "cell_type": "code",
   "execution_count": 17,
   "metadata": {},
   "outputs": [
    {
     "name": "stdout",
     "output_type": "stream",
     "text": [
      "set()\n"
     ]
    }
   ],
   "source": [
    "\"\"\"\n",
    "Python Set clear() Method\n",
    "\n",
    "The clear() method removes all elements in a set.\n",
    "Syntax\n",
    "set.clear()\n",
    "\n",
    "\n",
    "Remove all elements from the fruits set:\n",
    "\"\"\"\n",
    "\n",
    "fruits = {\"apple\", \"banana\", \"cherry\"}\n",
    "\n",
    "fruits.clear()\n",
    "\n",
    "print(fruits) \n"
   ]
  },
  {
   "cell_type": "code",
   "execution_count": 18,
   "metadata": {},
   "outputs": [
    {
     "name": "stdout",
     "output_type": "stream",
     "text": [
      "{'cherry', 'apple', 'banana'}\n"
     ]
    }
   ],
   "source": [
    "\"\"\"\n",
    "Python Set copy() Method\n",
    "\n",
    "The copy() method copies the set.\n",
    "Syntax\n",
    "set.copy()\n",
    "\n",
    "\n",
    "\"\"\"\n",
    "#Copy the fruits set:\n",
    "fruits = {\"apple\", \"banana\", \"cherry\"}\n",
    "\n",
    "x = fruits.copy()\n",
    "\n",
    "print(x) "
   ]
  },
  {
   "cell_type": "code",
   "execution_count": 19,
   "metadata": {},
   "outputs": [
    {
     "name": "stdout",
     "output_type": "stream",
     "text": [
      "{'cherry', 'banana'}\n",
      "{'microsoft', 'google'}\n"
     ]
    }
   ],
   "source": [
    "\"\"\"\n",
    "Python Set difference() Method\n",
    "\n",
    "The difference() method returns a set that contains the difference between two sets.\n",
    "\n",
    "Meaning: The returned set contains items that exist only in the first set, and not in both sets.\n",
    "Syntax\n",
    "set.difference(set)\n",
    "Parameter Values\n",
    "----------------\n",
    "Parameter     Description\n",
    "set           Required. The set to check for differences in\n",
    "\n",
    "\"\"\"\n",
    "\n",
    "#Return a set that contains the items that only exist in set x, and not in set y:\n",
    "x = {\"apple\", \"banana\", \"cherry\"}\n",
    "y = {\"google\", \"microsoft\", \"apple\"}\n",
    "\n",
    "z = x.difference(y)\n",
    "\n",
    "print(z) \n",
    "\n",
    "#Reverse the first example. Return a set that contains the items that only exist in set y, and not in set x:\n",
    "x = {\"apple\", \"banana\", \"cherry\"}\n",
    "y = {\"google\", \"microsoft\", \"apple\"}\n",
    "\n",
    "z = y.difference(x)\n",
    "\n",
    "print(z) "
   ]
  },
  {
   "cell_type": "code",
   "execution_count": 20,
   "metadata": {},
   "outputs": [
    {
     "name": "stdout",
     "output_type": "stream",
     "text": [
      "{'cherry', 'banana'}\n"
     ]
    }
   ],
   "source": [
    "\"\"\"\n",
    "Python Set difference_update() Method\n",
    "\n",
    "The difference_update() method removes the items that exist in both sets.\n",
    "\n",
    "The difference_update() method is different from the difference() method, because the difference() method returns a new set, without the unwanted items, and the difference_update() method removes the unwanted items from the original set.\n",
    "Syntax\n",
    "set.difference_update(set)\n",
    "Parameter Values\n",
    "----------------\n",
    "Parameter        Description\n",
    "set              Required. The set to check for differences in\n",
    "\n",
    "\"\"\"\n",
    "\n",
    "#Remove the items that exist in both sets:\n",
    "x = {\"apple\", \"banana\", \"cherry\"}\n",
    "y = {\"google\", \"microsoft\", \"apple\"}\n",
    "\n",
    "x.difference_update(y)\n",
    "\n",
    "print(x) \n",
    "\n"
   ]
  },
  {
   "cell_type": "code",
   "execution_count": 21,
   "metadata": {},
   "outputs": [
    {
     "name": "stdout",
     "output_type": "stream",
     "text": [
      "{'cherry', 'apple'}\n"
     ]
    }
   ],
   "source": [
    "\"\"\"\n",
    "Python Set discard() Method\n",
    "\n",
    "The discard() method removes the specified item from the set.\n",
    "\n",
    "This method is different from the remove() method, because the remove() method will raise an error if the specified item does not exist, and the discard() method will not.\n",
    "Syntax\n",
    "set.discard(value)\n",
    "Parameter Values\n",
    "----------------\n",
    "Parameter    Description\n",
    "value        Required. The item to search for, and remove\n",
    "\n",
    "\"\"\"\n",
    "\n",
    "#Remove \"banana\" from the set:\n",
    "fruits = {\"apple\", \"banana\", \"cherry\"}\n",
    "\n",
    "fruits.discard(\"banana\")\n",
    "\n",
    "print(fruits) "
   ]
  },
  {
   "cell_type": "code",
   "execution_count": 22,
   "metadata": {},
   "outputs": [
    {
     "name": "stdout",
     "output_type": "stream",
     "text": [
      "{'apple'}\n",
      "{'c'}\n"
     ]
    }
   ],
   "source": [
    "\"\"\"\n",
    "Python Set intersection() Method\n",
    "\n",
    "The intersection() method returns a set that contains the similarity between two or more sets.\n",
    "\n",
    "Meaning: The returned set contains only items that exist in both sets, or in all sets if the comparison is done with more than two sets.\n",
    "Syntax\n",
    "set.intersection(set1, set2 ... etc)\n",
    "Parameter Values\n",
    "Parameter    Description\n",
    "set1         Required. The set to search for equal items in\n",
    "set2         Optional. The other set to search for equal items in.\n",
    "             You can compare as many sets you like.\n",
    "             Separate the sets with a comma\n",
    "\n",
    "\"\"\"\n",
    "\n",
    "#Return a set that contains the items that exist in both set x, and set y:\n",
    "x = {\"apple\", \"banana\", \"cherry\"}\n",
    "y = {\"google\", \"microsoft\", \"apple\"}\n",
    "\n",
    "z = x.intersection(y)\n",
    "\n",
    "print(z) \n",
    "\n",
    "#Compare 3 sets, and return a set with items that is present in all 3 sets:\n",
    "x = {\"a\", \"b\", \"c\"}\n",
    "y = {\"c\", \"d\", \"e\"}\n",
    "z = {\"f\", \"g\", \"c\"}\n",
    "\n",
    "result = x.intersection(y, z)\n",
    "\n",
    "print(result) "
   ]
  },
  {
   "cell_type": "code",
   "execution_count": 24,
   "metadata": {},
   "outputs": [
    {
     "name": "stdout",
     "output_type": "stream",
     "text": [
      "{'apple'}\n",
      "{'c'}\n"
     ]
    }
   ],
   "source": [
    "\"\"\"\n",
    "Python Set intersection_update() Method\n",
    "\n",
    "The intersection_update() method removes the items that is not present in both sets (or in all sets if the comparison is done between more than two sets).\n",
    "\n",
    "The intersection_update() method is different from the intersection() method, because the intersection() method returns a new set, without the unwanted items, and the intersection_update() method removes the unwanted items from the original set.\n",
    "Syntax\n",
    "set.intersection_update(set1, set2 ... etc)\n",
    "Parameter Values\n",
    "Parameter  Description\n",
    "set1       Required. The set to search for equal items in\n",
    "set2       Optional. The other set to search for equal items in.\n",
    "           You can compare as many sets you like.\n",
    "           Separate the sets with a comma\n",
    "\n",
    "\"\"\"\n",
    "\n",
    "#Remove the items that is not present in both x, and set y:\n",
    "x = {\"apple\", \"banana\", \"cherry\"}\n",
    "y = {\"google\", \"microsoft\", \"apple\"}\n",
    "\n",
    "x.intersection_update(y)\n",
    "\n",
    "print(x) \n",
    "\n",
    "#Compare 3 sets, and return a set with items that is present in all 3 sets:\n",
    "x = {\"a\", \"b\", \"c\"}\n",
    "y = {\"c\", \"d\", \"e\"}\n",
    "z = {\"f\", \"g\", \"c\"}\n",
    "\n",
    "x.intersection_update(y, z)\n",
    "\n",
    "print(x) "
   ]
  },
  {
   "cell_type": "code",
   "execution_count": 26,
   "metadata": {},
   "outputs": [
    {
     "name": "stdout",
     "output_type": "stream",
     "text": [
      "True\n",
      "False\n"
     ]
    }
   ],
   "source": [
    "\"\"\"\n",
    "Python Set isdisjoint() Method\n",
    "\n",
    "The isdisjoint() method returns True if none of the items are present in both sets, otherwise it returns False.\n",
    "Syntax\n",
    "set.isdisjoint(set)\n",
    "Parameter Values\n",
    "----------------\n",
    "Parameter   Description\n",
    "set         Required. The set to search for equal items in\n",
    "\n",
    "\"\"\"\n",
    "\n",
    "#Return True if no items in set x is present in set y:\n",
    "x = {\"apple\", \"banana\", \"cherry\"}\n",
    "y = {\"google\", \"microsoft\", \"facebook\"}\n",
    "\n",
    "z = x.isdisjoint(y)\n",
    "\n",
    "print(z) \n",
    "\n",
    "#What if no items are present in both sets?\n",
    "\n",
    "#Return False if one ore more items are present in both sets:\n",
    "x = {\"apple\", \"banana\", \"cherry\"}\n",
    "y = {\"google\", \"microsoft\", \"apple\"}\n",
    "\n",
    "z = x.isdisjoint(y)\n",
    "\n",
    "print(z) "
   ]
  },
  {
   "cell_type": "code",
   "execution_count": 27,
   "metadata": {},
   "outputs": [
    {
     "name": "stdout",
     "output_type": "stream",
     "text": [
      "True\n",
      "False\n"
     ]
    }
   ],
   "source": [
    "\"\"\"\n",
    "Python Set issubset() Method\n",
    "\n",
    "The issubset() method returns True if all items in the set exists in the specified set, otherwise it retuns False.\n",
    "Syntax\n",
    "set.issubset(set)\n",
    "Parameter Values\n",
    "----------------\n",
    "Parameter    Description\n",
    "set          Required. The set to search for equal items in\n",
    "\"\"\"\n",
    "\n",
    "#Return True if all items set x are present in set y:\n",
    "x = {\"a\", \"b\", \"c\"}\n",
    "y = {\"f\", \"e\", \"d\", \"c\", \"b\", \"a\"}\n",
    "\n",
    "z = x.issubset(y)\n",
    "\n",
    "print(z) \n",
    "\n",
    "#What if not all items are present in the specified set?\n",
    "\n",
    "#Return False if not all items in set x are present in set y:\n",
    "x = {\"a\", \"b\", \"c\"}\n",
    "y = {\"f\", \"e\", \"d\", \"c\", \"b\"}\n",
    "\n",
    "z = x.issubset(y)\n",
    "\n",
    "print(z) "
   ]
  },
  {
   "cell_type": "code",
   "execution_count": 29,
   "metadata": {},
   "outputs": [
    {
     "name": "stdout",
     "output_type": "stream",
     "text": [
      "True\n",
      "False\n"
     ]
    }
   ],
   "source": [
    "\"\"\"\n",
    "Python Set issuperset() Method\n",
    "\n",
    "The issuperset() method returns True if all items in the specified set exists in the original set, otherwise it retuns False.\n",
    "Syntax\n",
    "set.issuperset(set)\n",
    "Parameter Values\n",
    "----------------\n",
    "Parameter   Description\n",
    "set         Required. The set to search for equal items in\n",
    "\n",
    "\n",
    "\"\"\"\n",
    "\n",
    "#Return True if all items set y are present in set x:\n",
    "x = {\"f\", \"e\", \"d\", \"c\", \"b\", \"a\"}\n",
    "y = {\"a\", \"b\", \"c\"}\n",
    "\n",
    "z = x.issuperset(y)\n",
    "\n",
    "print(z) \n",
    "\n",
    "#What if not all items are present in the specified set?\n",
    "\n",
    "#Return False if not all items in set y are present in set x:\n",
    "x = {\"f\", \"e\", \"d\", \"c\", \"b\"}\n",
    "y = {\"a\", \"b\", \"c\"}\n",
    "\n",
    "z = x.issuperset(y)\n",
    "\n",
    "print(z) "
   ]
  },
  {
   "cell_type": "code",
   "execution_count": 30,
   "metadata": {},
   "outputs": [
    {
     "name": "stdout",
     "output_type": "stream",
     "text": [
      "{'apple', 'banana'}\n",
      "cherry\n"
     ]
    }
   ],
   "source": [
    "\"\"\"\n",
    "\n",
    "Python Set pop() Method\n",
    "\n",
    "The pop() method removes a random item from the set.\n",
    "\n",
    "This method returns the removed item.\n",
    "Syntax\n",
    "set.pop()\n",
    "\n",
    "\"\"\"\n",
    "\n",
    "#Remove a random item from the set:\n",
    "fruits = {\"apple\", \"banana\", \"cherry\"}\n",
    "\n",
    "fruits.pop()\n",
    "\n",
    "print(fruits) \n",
    "\n",
    "#Return the removed element:\n",
    "fruits = {\"apple\", \"banana\", \"cherry\"}\n",
    "#Note: The pop() method returns removed value.\n",
    "\n",
    "x = fruits.pop()\n",
    "\n",
    "print(x) "
   ]
  },
  {
   "cell_type": "code",
   "execution_count": 31,
   "metadata": {},
   "outputs": [
    {
     "name": "stdout",
     "output_type": "stream",
     "text": [
      "{'cherry', 'apple'}\n"
     ]
    }
   ],
   "source": [
    "\"\"\"\n",
    "Python Set remove() Method\n",
    "\n",
    "The remove() method removes the specified element from the set.\n",
    "\n",
    "This method is different from the discard() method, because the remove() method will raise an error if the specified item does not exist, and the discard() method will not.\n",
    "Syntax\n",
    "set.remove(item)\n",
    "Parameter Values\n",
    "----------------\n",
    "Parameter   Description\n",
    "item        Required. The item to search for, and remove\n",
    "\n",
    "\"\"\"\n",
    "\n",
    "#Remove \"banana\" from the set:\n",
    "fruits = {\"apple\", \"banana\", \"cherry\"}\n",
    "\n",
    "fruits.remove(\"banana\")\n",
    "\n",
    "print(fruits) "
   ]
  },
  {
   "cell_type": "code",
   "execution_count": 32,
   "metadata": {},
   "outputs": [
    {
     "name": "stdout",
     "output_type": "stream",
     "text": [
      "{'microsoft', 'google', 'banana', 'cherry'}\n"
     ]
    }
   ],
   "source": [
    "\"\"\"\n",
    "Python Set symmetric_difference() Method\n",
    "\n",
    "The symmetric_difference() method returns a set that contains all items from both set, but not the items that are present in both sets.\n",
    "\n",
    "Meaning: The returned set contains a mix of items that are not present in both sets.\n",
    "Syntax\n",
    "set.symmetric_difference(set)\n",
    "Parameter Values\n",
    "----------------\n",
    "Parameter   Description\n",
    "set         Required. The set to check for matches in\n",
    "\n",
    "\"\"\"\n",
    "\n",
    "#Return a set that contains all items from both sets, except items that are present in both sets:\n",
    "x = {\"apple\", \"banana\", \"cherry\"}\n",
    "y = {\"google\", \"microsoft\", \"apple\"}\n",
    "\n",
    "z = x.symmetric_difference(y)\n",
    "\n",
    "print(z) "
   ]
  },
  {
   "cell_type": "code",
   "execution_count": 33,
   "metadata": {},
   "outputs": [
    {
     "name": "stdout",
     "output_type": "stream",
     "text": [
      "{'microsoft', 'google', 'banana', 'cherry'}\n"
     ]
    }
   ],
   "source": [
    "\"\"\"\n",
    "Python Set symmetric_difference_update() Method\n",
    "\n",
    "The symmetric_difference_update() method updates the original set by removing items that are present in both sets, \n",
    "and inserting the other items.\n",
    "Syntax\n",
    "set.symmetric_difference_update(set)\n",
    "Parameter Values\n",
    "----------------\n",
    "Parameter   Description\n",
    "set         Required. The set to check for matches in\n",
    "\n",
    "\n",
    "\"\"\"\n",
    "\n",
    "#Remove the items that are present in both sets, AND insert the items that is not present in both sets:\n",
    "x = {\"apple\", \"banana\", \"cherry\"}\n",
    "y = {\"google\", \"microsoft\", \"apple\"}\n",
    "\n",
    "x.symmetric_difference_update(y)\n",
    "\n",
    "print(x) "
   ]
  },
  {
   "cell_type": "code",
   "execution_count": 34,
   "metadata": {},
   "outputs": [
    {
     "name": "stdout",
     "output_type": "stream",
     "text": [
      "{'microsoft', 'google', 'apple', 'cherry', 'banana'}\n",
      "{'d', 'f', 'e', 'a', 'c', 'b'}\n"
     ]
    }
   ],
   "source": [
    "\"\"\"\n",
    "Python Set union() Method\n",
    "The union() method returns a set that contains all items from the original set, and all items from the specified sets.\n",
    "\n",
    "You can specify as many sets you want, separated by commas.\n",
    "\n",
    "If an item is present in more than one set, the result will contain only one appearance of this item.\n",
    "Syntax\n",
    "set.union(set1, set2...)\n",
    "Parameter Values\n",
    "---------------\n",
    "Parameter   Description\n",
    "set1        Required. The set to unify with\n",
    "set2        Optional. The other set to unify with.\n",
    "            You can compare as many sets as you like.\n",
    "            Separate each set with a comma\n",
    "\n",
    "\"\"\"\n",
    "\n",
    "#Return a set that contains all items from both sets, duplicates are excluded:\n",
    "x = {\"apple\", \"banana\", \"cherry\"}\n",
    "y = {\"google\", \"microsoft\", \"apple\"}\n",
    "\n",
    "z = x.union(y)\n",
    "\n",
    "print(z) \n",
    "\n",
    "#Unify more than 2 sets:\n",
    "x = {\"a\", \"b\", \"c\"}\n",
    "y = {\"f\", \"d\", \"a\"}\n",
    "z = {\"c\", \"d\", \"e\"}\n",
    "\n",
    "result = x.union(y, z)\n",
    "\n",
    "print(result) "
   ]
  },
  {
   "cell_type": "code",
   "execution_count": 35,
   "metadata": {},
   "outputs": [
    {
     "name": "stdout",
     "output_type": "stream",
     "text": [
      "{'microsoft', 'google', 'apple', 'cherry', 'banana'}\n"
     ]
    }
   ],
   "source": [
    "\"\"\"\n",
    "Python Set update() Method\n",
    "\n",
    "The update() method updates the current set, by adding items from another set.\n",
    "\n",
    "If an item is present in both sets, only one appearance of this item will be present in the updated set.\n",
    "Syntax\n",
    "set.update(set)\n",
    "Parameter Values\n",
    "----------------\n",
    "Parameter    Description\n",
    "set          Required. The set insert into the current set\n",
    "\n",
    "\"\"\"\n",
    "\n",
    "#Insert the items from set y into set x:\n",
    "x = {\"apple\", \"banana\", \"cherry\"}\n",
    "y = {\"google\", \"microsoft\", \"apple\"}\n",
    "\n",
    "x.update(y)\n",
    "\n",
    "print(x) "
   ]
  },
  {
   "cell_type": "code",
   "execution_count": 1,
   "metadata": {},
   "outputs": [
    {
     "name": "stdout",
     "output_type": "stream",
     "text": [
      "Intial blank Set: \n",
      "set()\n",
      "\n",
      "Set with the use of String: \n",
      "{'F', 'G', 'e', 'r', 'k', 'o', 's'}\n",
      "\n",
      "Set with the use of an Object: \n",
      "{'F', 'G', 'e', 'r', 'k', 'o', 's'}\n",
      "\n",
      "Set with the use of List: \n",
      "{'Geeks', 'For'}\n"
     ]
    }
   ],
   "source": [
    "\"\"\"\n",
    "Creating a Set\n",
    "Sets can be created by using the built-in set() function with an iterable object or a sequence by \n",
    "placing the sequence inside curly braces, separated by ‘comma’.\n",
    "\n",
    "Note – A set cannot have mutable elements like a list, set or dictionary, as its elements.\n",
    "\"\"\"\n",
    "\n",
    "# Python program to demonstrate \n",
    "# Creation of Set in Python \n",
    "\n",
    "# Creating a Set \n",
    "set1 = set() \n",
    "print(\"Intial blank Set: \") \n",
    "print(set1) \n",
    "\n",
    "# Creating a Set with \n",
    "# the use of a String \n",
    "set1 = set(\"GeeksForGeeks\") \n",
    "print(\"\\nSet with the use of String: \") \n",
    "print(set1) \n",
    "\n",
    "# Creating a Set with \n",
    "# the use of Constructor \n",
    "# (Using object to Store String) \n",
    "String = 'GeeksForGeeks'\n",
    "set1 = set(String) \n",
    "print(\"\\nSet with the use of an Object: \" ) \n",
    "print(set1) \n",
    "\n",
    "# Creating a Set with \n",
    "# the use of a List \n",
    "set1 = set([\"Geeks\", \"For\", \"Geeks\"]) \n",
    "print(\"\\nSet with the use of List: \") \n",
    "print(set1) \n"
   ]
  },
  {
   "cell_type": "code",
   "execution_count": 2,
   "metadata": {},
   "outputs": [
    {
     "name": "stdout",
     "output_type": "stream",
     "text": [
      "\n",
      "Set with the use of Numbers: \n",
      "{1, 2, 3, 4, 5, 6}\n",
      "\n",
      "Set with the use of Mixed Values\n",
      "{1, 2, 4, 6, 'For', 'Geeks'}\n"
     ]
    }
   ],
   "source": [
    "\"\"\"\n",
    "A set contains only unique elements but at the time of set creation, multiple duplicate values can also be passed. \n",
    "Order of elements in a set is undefined and is unchangeable. Type of elements in a set need not be the same, \n",
    "various mixed up data type values can also be passed to the set.\n",
    "\n",
    "\"\"\"\n",
    "\n",
    "# Creating a Set with \n",
    "# a List of Numbers \n",
    "# (Having duplicate values) \n",
    "set1 = set([1, 2, 4, 4, 3, 3, 3, 6, 5]) \n",
    "print(\"\\nSet with the use of Numbers: \") \n",
    "print(set1) \n",
    "\n",
    "# Creating a Set with \n",
    "# a mixed type of values \n",
    "# (Having numbers and strings) \n",
    "set1 = set([1, 2, 'Geeks', 4, 'For', 6, 'Geeks']) \n",
    "print(\"\\nSet with the use of Mixed Values\") \n",
    "print(set1) \n"
   ]
  },
  {
   "cell_type": "code",
   "execution_count": 3,
   "metadata": {},
   "outputs": [
    {
     "name": "stdout",
     "output_type": "stream",
     "text": [
      "Intial blank Set: \n",
      "set()\n",
      "\n",
      "Set after Addition of Three elements: \n",
      "{8, 9, (6, 7)}\n",
      "\n",
      "Set after Addition of elements from 1-5: \n",
      "{1, 2, 3, (6, 7), 4, 5, 8, 9}\n"
     ]
    }
   ],
   "source": [
    "\"\"\"\n",
    "Adding Elements to a Set\n",
    "Using add() method\n",
    "Elements can be added to the Set by using built-in add() function. Only one element at a time can be added \n",
    "to the set by using add() method, loops are used to add multiple elements at a time with the use of add() method.\n",
    "\n",
    "Note – Lists cannot be added to a set as elements because Lists are not hashable whereas Tuples can be added \n",
    "because tuples are immutable and hence Hashable.\n",
    "\n",
    "\"\"\"\n",
    "\n",
    "# Python program to demonstrate \n",
    "# Addition of elements in a Set \n",
    "\n",
    "# Creating a Set \n",
    "set1 = set() \n",
    "print(\"Intial blank Set: \") \n",
    "print(set1) \n",
    "\n",
    "# Adding element and tuple to the Set \n",
    "set1.add(8) \n",
    "set1.add(9) \n",
    "set1.add((6,7)) \n",
    "print(\"\\nSet after Addition of Three elements: \") \n",
    "print(set1) \n",
    "\n",
    "# Adding elements to the Set \n",
    "# using Iterator \n",
    "for i in range(1, 6): \n",
    "    set1.add(i) \n",
    "print(\"\\nSet after Addition of elements from 1-5: \") \n",
    "print(set1) \n"
   ]
  },
  {
   "cell_type": "code",
   "execution_count": 4,
   "metadata": {},
   "outputs": [
    {
     "name": "stdout",
     "output_type": "stream",
     "text": [
      "\n",
      "Set after Addition of elements using Update: \n",
      "{4, 5, (6, 7), 10, 11}\n"
     ]
    }
   ],
   "source": [
    "\"\"\"\n",
    "Using update() method\n",
    "For addition of two or more elements Update() method is used. The update() method accepts lists,\n",
    "strings, tuples as well as other sets as its arguments. In all of these cases, duplicate elements are avoided.\n",
    "\n",
    "\"\"\"\n",
    "\n",
    "# Python program to demonstrate \n",
    "# Addition of elements in a Set \n",
    "\n",
    "# Addition of elements to the Set \n",
    "# using Update function \n",
    "set1 = set([ 4, 5, (6, 7)]) \n",
    "set1.update([10, 11]) \n",
    "print(\"\\nSet after Addition of elements using Update: \") \n",
    "print(set1) \n"
   ]
  },
  {
   "cell_type": "code",
   "execution_count": 5,
   "metadata": {},
   "outputs": [
    {
     "name": "stdout",
     "output_type": "stream",
     "text": [
      "\n",
      "Initial set\n",
      "{'Geeks', 'For'}\n",
      "\n",
      "Elements of set: \n",
      "Geeks For True\n"
     ]
    }
   ],
   "source": [
    "\"\"\"\n",
    "Accessing a Set\n",
    "Set items cannot be accessed by referring to an index, since sets are unordered the items has no index. \n",
    "But you can loop through the set items using a for loop, or ask if a specified value is present in a set, \n",
    "by using the in keyword.\n",
    "\n",
    "\n",
    "\"\"\"\n",
    "\n",
    "# Python program to demonstrate \n",
    "# Accessing of elements in a set \n",
    "\n",
    "# Creating a set \n",
    "set1 = set([\"Geeks\", \"For\", \"Geeks\"]) \n",
    "print(\"\\nInitial set\") \n",
    "print(set1) \n",
    "\n",
    "# Accessing element using \n",
    "# for loop \n",
    "print(\"\\nElements of set: \") \n",
    "for i in set1: \n",
    "    print(i, end=\" \") \n",
    "\n",
    "# Checking the element \n",
    "# using in keyword \n",
    "print(\"Geeks\" in set1) \n"
   ]
  },
  {
   "cell_type": "code",
   "execution_count": 6,
   "metadata": {},
   "outputs": [
    {
     "name": "stdout",
     "output_type": "stream",
     "text": [
      "Intial Set: \n",
      "{1, 2, 3, 4, 5, 6, 7, 8, 9, 10, 11, 12}\n",
      "\n",
      "Set after Removal of two elements: \n",
      "{1, 2, 3, 4, 7, 8, 9, 10, 11, 12}\n",
      "\n",
      "Set after Discarding two elements: \n",
      "{1, 2, 3, 4, 7, 10, 11, 12}\n",
      "\n",
      "Set after Removing a range of elements: \n",
      "{7, 10, 11, 12}\n"
     ]
    }
   ],
   "source": [
    "\"\"\"\n",
    "Removing elements from the Set\n",
    "Using remove() method or discard() method\n",
    "Elements can be removed from the Set by using built-in remove() function but a KeyError arises if element\n",
    "doesn’t exist in the set. To remove elements from a set without KeyError, use discard(), if the element doesn’t \n",
    "exist in the set, it remains unchanged.\n",
    "\n",
    "\n",
    "\"\"\"\n",
    "\n",
    "# Python program to demonstrate \n",
    "# Deletion of elements in a Set \n",
    "\n",
    "# Creating a Set \n",
    "set1 = set([1, 2, 3, 4, 5, 6, 7, 8, 9, 10, 11, 12]) \n",
    "print(\"Intial Set: \") \n",
    "print(set1) \n",
    "\n",
    "# Removing elements from Set \n",
    "# using Remove() method \n",
    "set1.remove(5) \n",
    "set1.remove(6) \n",
    "print(\"\\nSet after Removal of two elements: \") \n",
    "print(set1) \n",
    "\n",
    "# Removing elements from Set \n",
    "# using Discard() method \n",
    "set1.discard(8) \n",
    "set1.discard(9) \n",
    "print(\"\\nSet after Discarding two elements: \") \n",
    "print(set1) \n",
    "\n",
    "# Removing elements from Set \n",
    "# using iterator method \n",
    "for i in range(1, 5): \n",
    "    set1.remove(i) \n",
    "print(\"\\nSet after Removing a range of elements: \") \n",
    "print(set1) \n"
   ]
  },
  {
   "cell_type": "code",
   "execution_count": 7,
   "metadata": {},
   "outputs": [
    {
     "name": "stdout",
     "output_type": "stream",
     "text": [
      "Intial Set: \n",
      "{1, 2, 3, 4, 5, 6, 7, 8, 9, 10, 11, 12}\n",
      "\n",
      "Set after popping an element: \n",
      "{2, 3, 4, 5, 6, 7, 8, 9, 10, 11, 12}\n"
     ]
    }
   ],
   "source": [
    "\"\"\"\n",
    "Using pop() method\n",
    "Pop() function can also be used to remove and return an element from the set, but it removes only the last \n",
    "element of the set.\n",
    "\n",
    "Note – If the set is unordered then there’s no such way to determine which element is popped by using \n",
    "the pop() function.\n",
    "\n",
    "\n",
    "\"\"\"\n",
    "\n",
    "# Python program to demonstrate \n",
    "# Deletion of elements in a Set \n",
    "\n",
    "# Creating a Set \n",
    "set1 = set([1, 2, 3, 4, 5, 6, 7, 8, 9, 10, 11, 12]) \n",
    "print(\"Intial Set: \") \n",
    "print(set1) \n",
    "\n",
    "# Removing element from the \n",
    "# Set using the pop() method \n",
    "set1.pop() \n",
    "print(\"\\nSet after popping an element: \") \n",
    "print(set1) \n"
   ]
  },
  {
   "cell_type": "code",
   "execution_count": 8,
   "metadata": {},
   "outputs": [
    {
     "name": "stdout",
     "output_type": "stream",
     "text": [
      "\n",
      " Initial set: \n",
      "{1, 2, 3, 4, 5}\n",
      "\n",
      "Set after clearing all the elements: \n",
      "set()\n"
     ]
    }
   ],
   "source": [
    "\"\"\"\n",
    "Using clear() method\n",
    "To remove all the elements from the set, clear() function is used.\n",
    "\"\"\"\n",
    "#Creating a set \n",
    "set1 = set([1,2,3,4,5]) \n",
    "print(\"\\n Initial set: \") \n",
    "print(set1) \n",
    "\n",
    "\n",
    "# Removing all the elements from \n",
    "# Set using clear() method \n",
    "set1.clear() \n",
    "print(\"\\nSet after clearing all the elements: \") \n",
    "print(set1) \n"
   ]
  },
  {
   "cell_type": "code",
   "execution_count": 9,
   "metadata": {},
   "outputs": [
    {
     "name": "stdout",
     "output_type": "stream",
     "text": [
      "The FrozenSet is: \n",
      "frozenset({'F', 'G', 'e', 'r', 'k', 'o', 's'})\n",
      "\n",
      "Empty FrozenSet: \n",
      "frozenset()\n"
     ]
    }
   ],
   "source": [
    "\"\"\"\n",
    "Frozen sets in Python are immutable objects that only support methods and operators that produce a result \n",
    "without affecting the frozen set or sets to which they are applied. While elements of a set can be modified \n",
    "at any time, elements of the frozen set remain the same after creation.\n",
    "\n",
    "If no parameters are passed, it returns an empty frozenset.\n",
    "\n",
    "\"\"\"\n",
    "# Python program to demonstrate \n",
    "# working of a FrozenSet \n",
    "\n",
    "# Creating a Set \n",
    "String = ('G', 'e', 'e', 'k', 's', 'F', 'o', 'r') \n",
    "\n",
    "Fset1 = frozenset(String) \n",
    "print(\"The FrozenSet is: \") \n",
    "print(Fset1) \n",
    "\n",
    "# To print Empty Frozen Set \n",
    "# No parameter is passed \n",
    "print(\"\\nEmpty FrozenSet: \") \n",
    "print(frozenset()) \n"
   ]
  },
  {
   "cell_type": "code",
   "execution_count": null,
   "metadata": {},
   "outputs": [],
   "source": []
  }
 ],
 "metadata": {
  "kernelspec": {
   "display_name": "Python 3",
   "language": "python",
   "name": "python3"
  },
  "language_info": {
   "codemirror_mode": {
    "name": "ipython",
    "version": 3
   },
   "file_extension": ".py",
   "mimetype": "text/x-python",
   "name": "python",
   "nbconvert_exporter": "python",
   "pygments_lexer": "ipython3",
   "version": "3.7.6"
  }
 },
 "nbformat": 4,
 "nbformat_minor": 2
}
