{
 "cells": [
  {
   "cell_type": "code",
   "execution_count": 2,
   "metadata": {},
   "outputs": [
    {
     "ename": "UnboundLocalError",
     "evalue": "local variable 'num' referenced before assignment",
     "output_type": "error",
     "traceback": [
      "\u001b[1;31m---------------------------------------------------------------------------\u001b[0m",
      "\u001b[1;31mUnboundLocalError\u001b[0m                         Traceback (most recent call last)",
      "\u001b[1;32m<ipython-input-2-e167a456ee30>\u001b[0m in \u001b[0;36m<module>\u001b[1;34m\u001b[0m\n\u001b[0;32m     16\u001b[0m         \u001b[1;32mreturn\u001b[0m \u001b[0mnum\u001b[0m\u001b[1;33m\u001b[0m\u001b[1;33m\u001b[0m\u001b[0m\n\u001b[0;32m     17\u001b[0m     \u001b[1;32mreturn\u001b[0m \u001b[0mincrementer\u001b[0m\u001b[1;33m(\u001b[0m\u001b[1;33m)\u001b[0m\u001b[1;33m\u001b[0m\u001b[1;33m\u001b[0m\u001b[0m\n\u001b[1;32m---> 18\u001b[1;33m \u001b[0mc\u001b[0m \u001b[1;33m=\u001b[0m \u001b[0mcounter\u001b[0m\u001b[1;33m(\u001b[0m\u001b[1;33m)\u001b[0m\u001b[1;33m\u001b[0m\u001b[1;33m\u001b[0m\u001b[0m\n\u001b[0m\u001b[0;32m     19\u001b[0m \u001b[0mprint\u001b[0m\u001b[1;33m(\u001b[0m\u001b[0mc\u001b[0m\u001b[1;33m)\u001b[0m\u001b[1;33m\u001b[0m\u001b[1;33m\u001b[0m\u001b[0m\n",
      "\u001b[1;32m<ipython-input-2-e167a456ee30>\u001b[0m in \u001b[0;36mcounter\u001b[1;34m()\u001b[0m\n\u001b[0;32m     15\u001b[0m         \u001b[0mnum\u001b[0m \u001b[1;33m+=\u001b[0m \u001b[1;36m1\u001b[0m   \u001b[1;31m#UnboundLocalError\u001b[0m\u001b[1;33m\u001b[0m\u001b[1;33m\u001b[0m\u001b[0m\n\u001b[0;32m     16\u001b[0m         \u001b[1;32mreturn\u001b[0m \u001b[0mnum\u001b[0m\u001b[1;33m\u001b[0m\u001b[1;33m\u001b[0m\u001b[0m\n\u001b[1;32m---> 17\u001b[1;33m     \u001b[1;32mreturn\u001b[0m \u001b[0mincrementer\u001b[0m\u001b[1;33m(\u001b[0m\u001b[1;33m)\u001b[0m\u001b[1;33m\u001b[0m\u001b[1;33m\u001b[0m\u001b[0m\n\u001b[0m\u001b[0;32m     18\u001b[0m \u001b[0mc\u001b[0m \u001b[1;33m=\u001b[0m \u001b[0mcounter\u001b[0m\u001b[1;33m(\u001b[0m\u001b[1;33m)\u001b[0m\u001b[1;33m\u001b[0m\u001b[1;33m\u001b[0m\u001b[0m\n\u001b[0;32m     19\u001b[0m \u001b[0mprint\u001b[0m\u001b[1;33m(\u001b[0m\u001b[0mc\u001b[0m\u001b[1;33m)\u001b[0m\u001b[1;33m\u001b[0m\u001b[1;33m\u001b[0m\u001b[0m\n",
      "\u001b[1;32m<ipython-input-2-e167a456ee30>\u001b[0m in \u001b[0;36mincrementer\u001b[1;34m()\u001b[0m\n\u001b[0;32m     13\u001b[0m     \u001b[0mnum\u001b[0m \u001b[1;33m=\u001b[0m \u001b[1;36m0\u001b[0m\u001b[1;33m\u001b[0m\u001b[1;33m\u001b[0m\u001b[0m\n\u001b[0;32m     14\u001b[0m     \u001b[1;32mdef\u001b[0m \u001b[0mincrementer\u001b[0m\u001b[1;33m(\u001b[0m\u001b[1;33m)\u001b[0m\u001b[1;33m:\u001b[0m\u001b[1;33m\u001b[0m\u001b[1;33m\u001b[0m\u001b[0m\n\u001b[1;32m---> 15\u001b[1;33m         \u001b[0mnum\u001b[0m \u001b[1;33m+=\u001b[0m \u001b[1;36m1\u001b[0m   \u001b[1;31m#UnboundLocalError\u001b[0m\u001b[1;33m\u001b[0m\u001b[1;33m\u001b[0m\u001b[0m\n\u001b[0m\u001b[0;32m     16\u001b[0m         \u001b[1;32mreturn\u001b[0m \u001b[0mnum\u001b[0m\u001b[1;33m\u001b[0m\u001b[1;33m\u001b[0m\u001b[0m\n\u001b[0;32m     17\u001b[0m     \u001b[1;32mreturn\u001b[0m \u001b[0mincrementer\u001b[0m\u001b[1;33m(\u001b[0m\u001b[1;33m)\u001b[0m\u001b[1;33m\u001b[0m\u001b[1;33m\u001b[0m\u001b[0m\n",
      "\u001b[1;31mUnboundLocalError\u001b[0m: local variable 'num' referenced before assignment"
     ]
    }
   ],
   "source": [
    "\"\"\"\n",
    "Variable Scope and Binding\n",
    "\n",
    "Non local variables:\n",
    "\n",
    "Python 3 added a new keyword called nonlocal. The nonlocal keyword adds a scope override to the inner scope.  \n",
    "\n",
    "\"\"\"\n",
    "#If you try running this code, you will receive an UnboundLocalError because the num variable is referenced before\n",
    "#it is assigned in the innermost function.\n",
    "\n",
    "def counter():\n",
    "    num = 0\n",
    "    def incrementer():\n",
    "        num += 1   #UnboundLocalError\n",
    "        return num\n",
    "    return incrementer()\n",
    "c = counter()\n",
    "print(c)"
   ]
  },
  {
   "cell_type": "code",
   "execution_count": 3,
   "metadata": {},
   "outputs": [
    {
     "name": "stdout",
     "output_type": "stream",
     "text": [
      "1\n"
     ]
    }
   ],
   "source": [
    "\"\"\"\n",
    "Add the nonlocal to the above example.\n",
    "\"\"\"\n",
    "\n",
    "def counter():\n",
    "    num = 0\n",
    "    def incrementer():\n",
    "        \"\"\"\n",
    "        Basically nonlocal will allow you to assign to variables in an outer scope, but not a global scope. \n",
    "        So you can't use nonlocal in our counter function because then it would try to assign to a global scope. \n",
    "        Give it a try and you will quickly get a SyntaxError. Instead you must use nonlocal in a nested function.\n",
    "        \"\"\"\n",
    "        nonlocal num\n",
    "        num += 1   \n",
    "        return num\n",
    "    return incrementer()\n",
    "c = counter()\n",
    "print(c)"
   ]
  },
  {
   "cell_type": "code",
   "execution_count": 6,
   "metadata": {},
   "outputs": [
    {
     "ename": "SyntaxError",
     "evalue": "no binding for nonlocal 'num' found (<ipython-input-6-f946bcb32c6a>, line 3)",
     "output_type": "error",
     "traceback": [
      "\u001b[1;36m  File \u001b[1;32m\"<ipython-input-6-f946bcb32c6a>\"\u001b[1;36m, line \u001b[1;32m3\u001b[0m\n\u001b[1;33m    nonlocal num\u001b[0m\n\u001b[1;37m    ^\u001b[0m\n\u001b[1;31mSyntaxError\u001b[0m\u001b[1;31m:\u001b[0m no binding for nonlocal 'num' found\n"
     ]
    }
   ],
   "source": [
    "num = 1\n",
    "def counter():\n",
    "    nonlocal num \n",
    "    def incrementer():\n",
    "        num += 1   \n",
    "        return num\n",
    "    return incrementer()\n",
    "c = counter()\n",
    "print(c)"
   ]
  },
  {
   "cell_type": "code",
   "execution_count": 7,
   "metadata": {},
   "outputs": [
    {
     "name": "stdout",
     "output_type": "stream",
     "text": [
      "Hi\n"
     ]
    },
    {
     "ename": "NameError",
     "evalue": "name 'y' is not defined",
     "output_type": "error",
     "traceback": [
      "\u001b[1;31m---------------------------------------------------------------------------\u001b[0m",
      "\u001b[1;31mNameError\u001b[0m                                 Traceback (most recent call last)",
      "\u001b[1;32m<ipython-input-7-e132d2ab8b37>\u001b[0m in \u001b[0;36m<module>\u001b[1;34m\u001b[0m\n\u001b[0;32m     17\u001b[0m     \u001b[0mprint\u001b[0m\u001b[1;33m(\u001b[0m\u001b[0my\u001b[0m\u001b[1;33m)\u001b[0m \u001b[1;31m# here y is just referenced, therefore assumed global\u001b[0m\u001b[1;33m\u001b[0m\u001b[1;33m\u001b[0m\u001b[0m\n\u001b[0;32m     18\u001b[0m \u001b[1;33m\u001b[0m\u001b[0m\n\u001b[1;32m---> 19\u001b[1;33m \u001b[0mread_y\u001b[0m\u001b[1;33m(\u001b[0m\u001b[1;33m)\u001b[0m \u001b[1;31m# NameError: global name 'y' is not defined\u001b[0m\u001b[1;33m\u001b[0m\u001b[1;33m\u001b[0m\u001b[0m\n\u001b[0m",
      "\u001b[1;32m<ipython-input-7-e132d2ab8b37>\u001b[0m in \u001b[0;36mread_y\u001b[1;34m()\u001b[0m\n\u001b[0;32m     15\u001b[0m \u001b[1;33m\u001b[0m\u001b[0m\n\u001b[0;32m     16\u001b[0m \u001b[1;32mdef\u001b[0m \u001b[0mread_y\u001b[0m\u001b[1;33m(\u001b[0m\u001b[1;33m)\u001b[0m\u001b[1;33m:\u001b[0m\u001b[1;33m\u001b[0m\u001b[1;33m\u001b[0m\u001b[0m\n\u001b[1;32m---> 17\u001b[1;33m     \u001b[0mprint\u001b[0m\u001b[1;33m(\u001b[0m\u001b[0my\u001b[0m\u001b[1;33m)\u001b[0m \u001b[1;31m# here y is just referenced, therefore assumed global\u001b[0m\u001b[1;33m\u001b[0m\u001b[1;33m\u001b[0m\u001b[0m\n\u001b[0m\u001b[0;32m     18\u001b[0m \u001b[1;33m\u001b[0m\u001b[0m\n\u001b[0;32m     19\u001b[0m \u001b[0mread_y\u001b[0m\u001b[1;33m(\u001b[0m\u001b[1;33m)\u001b[0m \u001b[1;31m# NameError: global name 'y' is not defined\u001b[0m\u001b[1;33m\u001b[0m\u001b[1;33m\u001b[0m\u001b[0m\n",
      "\u001b[1;31mNameError\u001b[0m: name 'y' is not defined"
     ]
    }
   ],
   "source": [
    "\"\"\"\n",
    "Global Variables\n",
    "\n",
    "In Python, variables inside functions are considered local if and only if they appear in the left side of an assignment\n",
    "statement, or some other binding occurrence; otherwise such a binding is looked up in enclosing functions, up to\n",
    "the global scope. This is true even if the assignment statement is never executed.\n",
    "\n",
    "\"\"\"\n",
    "\n",
    "x = 'Hi'\n",
    "def read_x():\n",
    "    print(x) # x is just referenced, therefore assumed global\n",
    "\n",
    "read_x() # prints Hi\n",
    "\n",
    "def read_y():\n",
    "    print(y) # here y is just referenced, therefore assumed global\n",
    "\n",
    "read_y() # NameError: global name 'y' is not defined\n"
   ]
  },
  {
   "cell_type": "code",
   "execution_count": 8,
   "metadata": {},
   "outputs": [
    {
     "name": "stdout",
     "output_type": "stream",
     "text": [
      "Hey\n"
     ]
    },
    {
     "ename": "UnboundLocalError",
     "evalue": "local variable 'x' referenced before assignment",
     "output_type": "error",
     "traceback": [
      "\u001b[1;31m---------------------------------------------------------------------------\u001b[0m",
      "\u001b[1;31mUnboundLocalError\u001b[0m                         Traceback (most recent call last)",
      "\u001b[1;32m<ipython-input-8-00ad18e6b139>\u001b[0m in \u001b[0;36m<module>\u001b[1;34m\u001b[0m\n\u001b[0;32m     10\u001b[0m     \u001b[0mprint\u001b[0m\u001b[1;33m(\u001b[0m\u001b[0mx\u001b[0m\u001b[1;33m)\u001b[0m \u001b[1;31m# will look for the _local_ z, which is not assigned, and will not be found\u001b[0m\u001b[1;33m\u001b[0m\u001b[1;33m\u001b[0m\u001b[0m\n\u001b[0;32m     11\u001b[0m \u001b[1;33m\u001b[0m\u001b[0m\n\u001b[1;32m---> 12\u001b[1;33m \u001b[0mread_x_local_fail\u001b[0m\u001b[1;33m(\u001b[0m\u001b[1;33m)\u001b[0m \u001b[1;31m# UnboundLocalError: local variable 'x' referenced before assignment\u001b[0m\u001b[1;33m\u001b[0m\u001b[1;33m\u001b[0m\u001b[0m\n\u001b[0m",
      "\u001b[1;32m<ipython-input-8-00ad18e6b139>\u001b[0m in \u001b[0;36mread_x_local_fail\u001b[1;34m()\u001b[0m\n\u001b[0;32m      8\u001b[0m     \u001b[1;32mif\u001b[0m \u001b[1;32mFalse\u001b[0m\u001b[1;33m:\u001b[0m\u001b[1;33m\u001b[0m\u001b[1;33m\u001b[0m\u001b[0m\n\u001b[0;32m      9\u001b[0m         \u001b[0mx\u001b[0m \u001b[1;33m=\u001b[0m \u001b[1;34m'Hey'\u001b[0m \u001b[1;31m# x appears in an assignment, therefore it's local\u001b[0m\u001b[1;33m\u001b[0m\u001b[1;33m\u001b[0m\u001b[0m\n\u001b[1;32m---> 10\u001b[1;33m     \u001b[0mprint\u001b[0m\u001b[1;33m(\u001b[0m\u001b[0mx\u001b[0m\u001b[1;33m)\u001b[0m \u001b[1;31m# will look for the _local_ z, which is not assigned, and will not be found\u001b[0m\u001b[1;33m\u001b[0m\u001b[1;33m\u001b[0m\u001b[0m\n\u001b[0m\u001b[0;32m     11\u001b[0m \u001b[1;33m\u001b[0m\u001b[0m\n\u001b[0;32m     12\u001b[0m \u001b[0mread_x_local_fail\u001b[0m\u001b[1;33m(\u001b[0m\u001b[1;33m)\u001b[0m \u001b[1;31m# UnboundLocalError: local variable 'x' referenced before assignment\u001b[0m\u001b[1;33m\u001b[0m\u001b[1;33m\u001b[0m\u001b[0m\n",
      "\u001b[1;31mUnboundLocalError\u001b[0m: local variable 'x' referenced before assignment"
     ]
    }
   ],
   "source": [
    "def read_y():\n",
    "    y = 'Hey' # y appears in an assignment, therefore it's local\n",
    "    print(y) # will find the local y\n",
    "\n",
    "read_y() # prints Hey\n",
    "\n",
    "def read_x_local_fail():\n",
    "    if False:\n",
    "        x = 'Hey' # x appears in an assignment, therefore it's local\n",
    "    print(x) # will look for the _local_ z, which is not assigned, and will not be found\n",
    "\n",
    "read_x_local_fail() # UnboundLocalError: local variable 'x' referenced before assignment\n"
   ]
  },
  {
   "cell_type": "code",
   "execution_count": 9,
   "metadata": {},
   "outputs": [
    {
     "name": "stdout",
     "output_type": "stream",
     "text": [
      "Bye\n",
      "Hi\n"
     ]
    }
   ],
   "source": [
    "#Normally, an assignment inside a scope will shadow any outer variables of the same name:\n",
    "x = 'Hi'\n",
    "def change_local_x():\n",
    "    x = 'Bye'\n",
    "    print(x)\n",
    "change_local_x() # prints Bye\n",
    "print(x) # prints Hi"
   ]
  },
  {
   "cell_type": "code",
   "execution_count": 10,
   "metadata": {},
   "outputs": [
    {
     "name": "stdout",
     "output_type": "stream",
     "text": [
      "Bye\n",
      "Bye\n"
     ]
    }
   ],
   "source": [
    "\"\"\"\n",
    "Declaring a name global means that, for the rest of the scope, any assignments to the name will happen at the\n",
    "module's top level\n",
    "\n",
    "The global keyword means that assignments will happen at the module's top level, not at the program's top level.\n",
    "Other modules will still need the usual dotted access to variables within the module.\n",
    "To summarize: in order to know whether a variable x is local to a function, you should read the entire function:\n",
    "1. if you've found global x, then x is a global variable\n",
    "2. If you've found nonlocal x, then x belongs to an enclosing function, and is neither local nor global\n",
    "3. If you've found x = 5 or for x in range(3) or some other binding, then x is a local variable\n",
    "4. Otherwise x belongs to some enclosing scope (function scope, global scope, or builtins)\n",
    "\"\"\"\n",
    "\n",
    "x = 'Hi'\n",
    "def change_global_x():\n",
    "    global x\n",
    "    x = 'Bye'\n",
    "    print(x)\n",
    "\n",
    "change_global_x() # prints Bye\n",
    "print(x) # prints Bye"
   ]
  },
  {
   "cell_type": "code",
   "execution_count": 11,
   "metadata": {},
   "outputs": [
    {
     "ename": "NameError",
     "evalue": "name 'a' is not defined",
     "output_type": "error",
     "traceback": [
      "\u001b[1;31m---------------------------------------------------------------------------\u001b[0m",
      "\u001b[1;31mNameError\u001b[0m                                 Traceback (most recent call last)",
      "\u001b[1;32m<ipython-input-11-c6569bad5a8f>\u001b[0m in \u001b[0;36m<module>\u001b[1;34m\u001b[0m\n\u001b[0;32m      8\u001b[0m     \u001b[0ma\u001b[0m \u001b[1;33m=\u001b[0m \u001b[1;36m5\u001b[0m\u001b[1;33m\u001b[0m\u001b[1;33m\u001b[0m\u001b[0m\n\u001b[0;32m      9\u001b[0m     \u001b[0mprint\u001b[0m\u001b[1;33m(\u001b[0m\u001b[0ma\u001b[0m\u001b[1;33m)\u001b[0m \u001b[1;31m# ok\u001b[0m\u001b[1;33m\u001b[0m\u001b[1;33m\u001b[0m\u001b[0m\n\u001b[1;32m---> 10\u001b[1;33m \u001b[0mprint\u001b[0m\u001b[1;33m(\u001b[0m\u001b[0ma\u001b[0m\u001b[1;33m)\u001b[0m \u001b[1;31m# NameError: name 'a' is not defined\u001b[0m\u001b[1;33m\u001b[0m\u001b[1;33m\u001b[0m\u001b[0m\n\u001b[0m",
      "\u001b[1;31mNameError\u001b[0m: name 'a' is not defined"
     ]
    }
   ],
   "source": [
    "\"\"\"\n",
    "Local Variables\n",
    "\n",
    "If a name is bound inside a function, it is by default accessible only within the function\n",
    "\n",
    "\"\"\"\n",
    "def foo():\n",
    "    a = 5\n",
    "    print(a) # ok\n",
    "print(a) # NameError: name 'a' is not defined\n"
   ]
  },
  {
   "cell_type": "code",
   "execution_count": 13,
   "metadata": {},
   "outputs": [
    {
     "name": "stdout",
     "output_type": "stream",
     "text": [
      "5\n"
     ]
    },
    {
     "ename": "UnboundLocalError",
     "evalue": "local variable 'b' referenced before assignment",
     "output_type": "error",
     "traceback": [
      "\u001b[1;31m---------------------------------------------------------------------------\u001b[0m",
      "\u001b[1;31mUnboundLocalError\u001b[0m                         Traceback (most recent call last)",
      "\u001b[1;32m<ipython-input-13-a4c23adf0ce3>\u001b[0m in \u001b[0;36m<module>\u001b[1;34m\u001b[0m\n\u001b[0;32m     16\u001b[0m         \u001b[0mb\u001b[0m \u001b[1;33m=\u001b[0m \u001b[1;36m5\u001b[0m\u001b[1;33m\u001b[0m\u001b[1;33m\u001b[0m\u001b[0m\n\u001b[0;32m     17\u001b[0m     \u001b[0mprint\u001b[0m\u001b[1;33m(\u001b[0m\u001b[0mb\u001b[0m\u001b[1;33m)\u001b[0m \u001b[1;31m# UnboundLocalError: local variable 'b' referenced before assignment\u001b[0m\u001b[1;33m\u001b[0m\u001b[1;33m\u001b[0m\u001b[0m\n\u001b[1;32m---> 18\u001b[1;33m \u001b[0mbar\u001b[0m\u001b[1;33m(\u001b[0m\u001b[1;33m)\u001b[0m\u001b[1;33m\u001b[0m\u001b[1;33m\u001b[0m\u001b[0m\n\u001b[0m\u001b[0;32m     19\u001b[0m \u001b[1;31m#Common binding operations are assignments, for loops, and augmented assignments such as a += 5\u001b[0m\u001b[1;33m\u001b[0m\u001b[1;33m\u001b[0m\u001b[1;33m\u001b[0m\u001b[0m\n",
      "\u001b[1;32m<ipython-input-13-a4c23adf0ce3>\u001b[0m in \u001b[0;36mbar\u001b[1;34m()\u001b[0m\n\u001b[0;32m     15\u001b[0m     \u001b[1;32mif\u001b[0m \u001b[1;32mFalse\u001b[0m\u001b[1;33m:\u001b[0m\u001b[1;33m\u001b[0m\u001b[1;33m\u001b[0m\u001b[0m\n\u001b[0;32m     16\u001b[0m         \u001b[0mb\u001b[0m \u001b[1;33m=\u001b[0m \u001b[1;36m5\u001b[0m\u001b[1;33m\u001b[0m\u001b[1;33m\u001b[0m\u001b[0m\n\u001b[1;32m---> 17\u001b[1;33m     \u001b[0mprint\u001b[0m\u001b[1;33m(\u001b[0m\u001b[0mb\u001b[0m\u001b[1;33m)\u001b[0m \u001b[1;31m# UnboundLocalError: local variable 'b' referenced before assignment\u001b[0m\u001b[1;33m\u001b[0m\u001b[1;33m\u001b[0m\u001b[0m\n\u001b[0m\u001b[0;32m     18\u001b[0m \u001b[0mbar\u001b[0m\u001b[1;33m(\u001b[0m\u001b[1;33m)\u001b[0m\u001b[1;33m\u001b[0m\u001b[1;33m\u001b[0m\u001b[0m\n\u001b[0;32m     19\u001b[0m \u001b[1;31m#Common binding operations are assignments, for loops, and augmented assignments such as a += 5\u001b[0m\u001b[1;33m\u001b[0m\u001b[1;33m\u001b[0m\u001b[1;33m\u001b[0m\u001b[0m\n",
      "\u001b[1;31mUnboundLocalError\u001b[0m: local variable 'b' referenced before assignment"
     ]
    }
   ],
   "source": [
    "\"\"\"\n",
    "\n",
    "Control flow constructs have no impact on the scope (with the exception of except), but accessing variable that was\n",
    "not assigned yet is an error:\n",
    "\n",
    "Note : Common binding operations are assignments, for loops, and augmented assignments such as a += 5\n",
    "\"\"\"\n",
    "\n",
    "def foo():\n",
    "    if True:\n",
    "        a = 5\n",
    "    print(a) # ok\n",
    "foo()    \n",
    "b = 3\n",
    "def bar():\n",
    "    if False:\n",
    "        b = 5\n",
    "    print(b) # UnboundLocalError: local variable 'b' referenced before assignment\n",
    "bar()\n"
   ]
  },
  {
   "cell_type": "code",
   "execution_count": 14,
   "metadata": {},
   "outputs": [
    {
     "name": "stdout",
     "output_type": "stream",
     "text": [
      "5\n"
     ]
    },
    {
     "ename": "NameError",
     "evalue": "name 'x' is not defined",
     "output_type": "error",
     "traceback": [
      "\u001b[1;31m---------------------------------------------------------------------------\u001b[0m",
      "\u001b[1;31mNameError\u001b[0m                                 Traceback (most recent call last)",
      "\u001b[1;32m<ipython-input-14-33eae4402a15>\u001b[0m in \u001b[0;36m<module>\u001b[1;34m\u001b[0m\n\u001b[0;32m     12\u001b[0m \u001b[0mprint\u001b[0m\u001b[1;33m(\u001b[0m\u001b[0mx\u001b[0m\u001b[1;33m)\u001b[0m \u001b[1;31m# out: 5\u001b[0m\u001b[1;33m\u001b[0m\u001b[1;33m\u001b[0m\u001b[0m\n\u001b[0;32m     13\u001b[0m \u001b[1;32mdel\u001b[0m \u001b[0mx\u001b[0m\u001b[1;33m\u001b[0m\u001b[1;33m\u001b[0m\u001b[0m\n\u001b[1;32m---> 14\u001b[1;33m \u001b[0mprint\u001b[0m\u001b[1;33m(\u001b[0m\u001b[0mx\u001b[0m\u001b[1;33m)\u001b[0m \u001b[1;31m# NameError: name 'f' is not defined\u001b[0m\u001b[1;33m\u001b[0m\u001b[1;33m\u001b[0m\u001b[0m\n\u001b[0m\u001b[0;32m     15\u001b[0m \u001b[1;33m\u001b[0m\u001b[0m\n\u001b[0;32m     16\u001b[0m \"\"\"\n",
      "\u001b[1;31mNameError\u001b[0m: name 'x' is not defined"
     ]
    }
   ],
   "source": [
    "\"\"\"\n",
    "The del command\n",
    "\n",
    "This command has several related yet distinct forms.\n",
    "Syntax: \n",
    "del v\n",
    "\n",
    "If v is a variable, the command del v removes the variable from its scope.\n",
    "\n",
    "\"\"\"\n",
    "x = 5\n",
    "print(x) # out: 5\n",
    "del x\n",
    "print(x) # NameError: name 'x' is not defined\n",
    "\n",
    "\"\"\"\n",
    "\n",
    "Note that del is a binding occurrence, which means that unless explicitly stated otherwise (using nonlocal\n",
    "or global), del v will make v local to the current scope. If you intend to delete v in an outer scope, use\n",
    "nonlocal v or global v in the same scope of the del v statement.\n",
    "\"\"\"\n",
    "\n"
   ]
  },
  {
   "cell_type": "code",
   "execution_count": 15,
   "metadata": {},
   "outputs": [
    {
     "name": "stdout",
     "output_type": "stream",
     "text": [
      "7\n"
     ]
    },
    {
     "ename": "AttributeError",
     "evalue": "'A' object has no attribute 'x'",
     "output_type": "error",
     "traceback": [
      "\u001b[1;31m---------------------------------------------------------------------------\u001b[0m",
      "\u001b[1;31mAttributeError\u001b[0m                            Traceback (most recent call last)",
      "\u001b[1;32m<ipython-input-15-c1a26ebe3da3>\u001b[0m in \u001b[0;36m<module>\u001b[1;34m\u001b[0m\n\u001b[0;32m     14\u001b[0m \u001b[0mprint\u001b[0m\u001b[1;33m(\u001b[0m\u001b[0ma\u001b[0m\u001b[1;33m.\u001b[0m\u001b[0mx\u001b[0m\u001b[1;33m)\u001b[0m \u001b[1;31m# out: 7\u001b[0m\u001b[1;33m\u001b[0m\u001b[1;33m\u001b[0m\u001b[0m\n\u001b[0;32m     15\u001b[0m \u001b[1;32mdel\u001b[0m \u001b[0ma\u001b[0m\u001b[1;33m.\u001b[0m\u001b[0mx\u001b[0m\u001b[1;33m\u001b[0m\u001b[1;33m\u001b[0m\u001b[0m\n\u001b[1;32m---> 16\u001b[1;33m \u001b[0mprint\u001b[0m\u001b[1;33m(\u001b[0m\u001b[0ma\u001b[0m\u001b[1;33m.\u001b[0m\u001b[0mx\u001b[0m\u001b[1;33m)\u001b[0m \u001b[1;31m# error: AttributeError: 'A' object has no attribute 'x'\u001b[0m\u001b[1;33m\u001b[0m\u001b[1;33m\u001b[0m\u001b[0m\n\u001b[0m\u001b[0;32m     17\u001b[0m \u001b[1;33m\u001b[0m\u001b[0m\n",
      "\u001b[1;31mAttributeError\u001b[0m: 'A' object has no attribute 'x'"
     ]
    }
   ],
   "source": [
    "\"\"\"\n",
    "In all the following, the intention of a command is a default behavior but is not enforced by the language. A class\n",
    "might be written in a way that invalidates this intention.\n",
    "del v.name\n",
    "This command triggers a call to v.__delattr__(name).\n",
    "The intention is to make the attribute name unavailable. For example:\n",
    "\n",
    "\"\"\"\n",
    "\n",
    "class A:\n",
    "    pass\n",
    "a = A()\n",
    "a.x = 7\n",
    "print(a.x) # out: 7\n",
    "del a.x\n",
    "print(a.x) # error: AttributeError: 'A' object has no attribute 'x'\n",
    "\n"
   ]
  },
  {
   "cell_type": "code",
   "execution_count": 16,
   "metadata": {},
   "outputs": [
    {
     "name": "stdout",
     "output_type": "stream",
     "text": [
      "{'b': 2}\n"
     ]
    },
    {
     "ename": "KeyError",
     "evalue": "'a'",
     "output_type": "error",
     "traceback": [
      "\u001b[1;31m---------------------------------------------------------------------------\u001b[0m",
      "\u001b[1;31mKeyError\u001b[0m                                  Traceback (most recent call last)",
      "\u001b[1;32m<ipython-input-16-3f222e4d1c4e>\u001b[0m in \u001b[0;36m<module>\u001b[1;34m\u001b[0m\n\u001b[0;32m      9\u001b[0m \u001b[1;32mdel\u001b[0m \u001b[0mx\u001b[0m\u001b[1;33m[\u001b[0m\u001b[1;34m'a'\u001b[0m\u001b[1;33m]\u001b[0m\u001b[1;33m\u001b[0m\u001b[1;33m\u001b[0m\u001b[0m\n\u001b[0;32m     10\u001b[0m \u001b[0mprint\u001b[0m\u001b[1;33m(\u001b[0m\u001b[0mx\u001b[0m\u001b[1;33m)\u001b[0m \u001b[1;31m# out: {'b': 2}\u001b[0m\u001b[1;33m\u001b[0m\u001b[1;33m\u001b[0m\u001b[0m\n\u001b[1;32m---> 11\u001b[1;33m \u001b[0mprint\u001b[0m\u001b[1;33m(\u001b[0m\u001b[0mx\u001b[0m\u001b[1;33m[\u001b[0m\u001b[1;34m'a'\u001b[0m\u001b[1;33m]\u001b[0m\u001b[1;33m)\u001b[0m \u001b[1;31m# error: KeyError: 'a'\u001b[0m\u001b[1;33m\u001b[0m\u001b[1;33m\u001b[0m\u001b[0m\n\u001b[0m",
      "\u001b[1;31mKeyError\u001b[0m: 'a'"
     ]
    }
   ],
   "source": [
    "\"\"\"\n",
    "del v[item]\n",
    "This command triggers a call to v.__delitem__(item).\n",
    "The intention is that item will not belong in the mapping implemented by the object v. For example:\n",
    "\n",
    "\"\"\"\n",
    "\n",
    "x = {'a': 1, 'b': 2}\n",
    "del x['a']\n",
    "print(x) # out: {'b': 2}\n",
    "print(x['a']) # error: KeyError: 'a'"
   ]
  },
  {
   "cell_type": "code",
   "execution_count": 17,
   "metadata": {},
   "outputs": [
    {
     "name": "stdout",
     "output_type": "stream",
     "text": [
      "[0, 3, 4]\n"
     ]
    }
   ],
   "source": [
    "\"\"\"\n",
    "del v[a:b]\n",
    "This actually calls v.__delslice__(a, b).\n",
    "The intention is similar to the one described above, but with slices - ranges of items instead of a single item. For\n",
    "example:\n",
    "\"\"\"\n",
    "x = [0, 1, 2, 3, 4]\n",
    "del x[1:3]\n",
    "print(x) # out: [0, 3, 4]"
   ]
  },
  {
   "cell_type": "code",
   "execution_count": 18,
   "metadata": {},
   "outputs": [
    {
     "name": "stdout",
     "output_type": "stream",
     "text": [
      "class\n",
      "global\n",
      "global\n",
      "class\n",
      "global\n",
      "class\n",
      "global\n"
     ]
    }
   ],
   "source": [
    "\"\"\"\n",
    "Functions skip class scope when looking up names\n",
    "\n",
    "Classes have a local scope during definition, but functions inside the class do not use that scope when looking up\n",
    "names. Because lambdas are functions, and comprehensions are implemented using function scope, this can lead\n",
    "to some surprising behavior.\n",
    "\"\"\"\n",
    "\n",
    "a = 'global'\n",
    "class Fred:\n",
    "    a = 'class' # class scope\n",
    "    b = (a for i in range(10)) # function scope\n",
    "    c = [a for i in range(10)] # function scope\n",
    "    d = a # class scope\n",
    "    e = lambda: a # function scope\n",
    "    f = lambda a=a: a # default argument uses class scope\n",
    "    \n",
    "    @staticmethod # or @classmethod, or regular instance method\n",
    "    def g(): # function scope\n",
    "        return a\n",
    "\n",
    "print(Fred.a) # class\n",
    "print(next(Fred.b)) # global\n",
    "print(Fred.c[0]) # class in Python 2, global in Python 3\n",
    "print(Fred.d) # class\n",
    "print(Fred.e()) # global\n",
    "print(Fred.f()) # class\n",
    "print(Fred.g()) # global"
   ]
  },
  {
   "cell_type": "code",
   "execution_count": 23,
   "metadata": {},
   "outputs": [
    {
     "ename": "SyntaxError",
     "evalue": "invalid syntax (<ipython-input-23-54cc37dc76a3>, line 16)",
     "output_type": "error",
     "traceback": [
      "\u001b[1;36m  File \u001b[1;32m\"<ipython-input-23-54cc37dc76a3>\"\u001b[1;36m, line \u001b[1;32m16\u001b[0m\n\u001b[1;33m    b = list(a + (for i in range(10)))\u001b[0m\n\u001b[1;37m                    ^\u001b[0m\n\u001b[1;31mSyntaxError\u001b[0m\u001b[1;31m:\u001b[0m invalid syntax\n"
     ]
    }
   ],
   "source": [
    "\"\"\"\n",
    "From PEP 227:\n",
    "Names in class scope are not accessible. Names are resolved in the innermost enclosing function scope.\n",
    "If a class definition occurs in a chain of nested scopes, the resolution process skips class definitions.\n",
    "\n",
    "From Python Documentation, naming and binding\n",
    "\n",
    "The scope of names defined in a class block is limited to the class block; it does not extend to the code\n",
    "blocks of methods – this includes comprehensions and generator expressions since they are\n",
    "implemented using a function scope. This means that the following will fail\n",
    "\n",
    "\"\"\"\n",
    "\n",
    "class A:\n",
    "    x = 4\n",
    "    y = list(x + i for i in range(10))\n",
    "v = A()\n",
    "print(v.x)\n",
    "print(v.y)"
   ]
  },
  {
   "cell_type": "code",
   "execution_count": 24,
   "metadata": {},
   "outputs": [
    {
     "name": "stdout",
     "output_type": "stream",
     "text": [
      "4\n",
      "[4]\n"
     ]
    }
   ],
   "source": [
    "\"\"\"\n",
    "The above example fails, New way below example works in v3.0\n",
    "\"\"\"\n",
    "class A:\n",
    "    x = 4\n",
    "    y = (lambda x=x: [x+i for i in range(1)])()\n",
    "v = A()\n",
    "print(v.x)\n",
    "print(v.y)   "
   ]
  },
  {
   "cell_type": "code",
   "execution_count": 28,
   "metadata": {},
   "outputs": [
    {
     "name": "stdout",
     "output_type": "stream",
     "text": [
      "1\n",
      "2\n"
     ]
    }
   ],
   "source": [
    "\"\"\"\n",
    "Local vs Global Scope\n",
    "\n",
    "What are local and global scope?\n",
    "All Python variables which are accessible at some point in code are either in local scope or in global scope.\n",
    "The explanation is that local scope includes all variables defined in the current function and global scope includes\n",
    "variables defined outside of the current function.\n",
    "\n",
    "\"\"\"\n",
    "foo = 1 # global\n",
    "def func():\n",
    "    bar = 2 # local\n",
    "    print(foo) # prints variable foo from global scope\n",
    "    print(bar) # prints variable bar from local scope\n",
    "func()"
   ]
  },
  {
   "cell_type": "code",
   "execution_count": 30,
   "metadata": {},
   "outputs": [
    {
     "name": "stdout",
     "output_type": "stream",
     "text": [
      "dict_keys(['__name__', '__doc__', '__package__', '__loader__', '__spec__', '__builtin__', '__builtins__', '_ih', '_oh', '_dh', 'In', 'Out', 'get_ipython', 'exit', 'quit', '_', '__', '___', '_i', '_ii', '_iii', '_i1', '_1', '_i2', 'counter', '_i3', 'c', '_i4', '_i5', 'num', '_i6', '_i7', 'read_x', 'read_y', '_i8', 'read_x_local_fail', '_i9', 'change_local_x', '_i10', 'change_global_x', '_i11', 'foo', '_i12', 'b', 'bar', '_i13', '_i14', '_i15', 'A', 'a', '_i16', 'x', '_i17', '_i18', 'Fred', '_i19', '_i20', '_i21', '_i22', '_i23', '_i24', 'v', '_i25', 'func', '_i26', '_i27', '_i28', '_i29', '_i30']) \n",
      "\n",
      "dict_keys(['bar'])\n"
     ]
    }
   ],
   "source": [
    "\"\"\"\n",
    "One can inspect which variables are in which scope. Built-in functions locals() and globals() return the whole\n",
    "scopes as dictionaries.\n",
    "\n",
    "\"\"\"\n",
    "foo = 1\n",
    "def func():\n",
    "    bar = 2\n",
    "    print(globals().keys(),\"\\n\") # prints all variable names in global scope\n",
    "    print(locals().keys()) # prints all variable names in local scope\n",
    "\n",
    "func()"
   ]
  },
  {
   "cell_type": "code",
   "execution_count": 31,
   "metadata": {},
   "outputs": [
    {
     "name": "stdout",
     "output_type": "stream",
     "text": [
      "2\n",
      "1\n",
      "2\n"
     ]
    }
   ],
   "source": [
    "\"\"\"\n",
    "What happens with name clashes?\n",
    "\n",
    "\"\"\"\n",
    "foo = 1\n",
    "def func():\n",
    "    foo = 2 # creates a new variable foo in local scope, global foo is not affected\n",
    "    print(foo) # prints 2\n",
    "    # global variable foo still exists, unchanged:\n",
    "    print(globals()['foo']) # prints 1\n",
    "    print(locals()['foo']) # prints 2\n",
    "func()"
   ]
  },
  {
   "cell_type": "code",
   "execution_count": 32,
   "metadata": {},
   "outputs": [
    {
     "name": "stdout",
     "output_type": "stream",
     "text": [
      "2\n",
      "2\n"
     ]
    }
   ],
   "source": [
    "#To modify a global variable, use keyword global:\n",
    "foo = 1\n",
    "def func():\n",
    "    global foo\n",
    "    foo = 2 # this modifies the global foo, rather than creating a local variable\n",
    "    print(foo)\n",
    "func()\n",
    "print(foo)"
   ]
  },
  {
   "cell_type": "code",
   "execution_count": 33,
   "metadata": {},
   "outputs": [
    {
     "ename": "UnboundLocalError",
     "evalue": "local variable 'foo' referenced before assignment",
     "output_type": "error",
     "traceback": [
      "\u001b[1;31m---------------------------------------------------------------------------\u001b[0m",
      "\u001b[1;31mUnboundLocalError\u001b[0m                         Traceback (most recent call last)",
      "\u001b[1;32m<ipython-input-33-cfc5a3e87544>\u001b[0m in \u001b[0;36m<module>\u001b[1;34m\u001b[0m\n\u001b[0;32m     11\u001b[0m     \u001b[0mfoo\u001b[0m \u001b[1;33m=\u001b[0m \u001b[1;36m7\u001b[0m\u001b[1;33m\u001b[0m\u001b[1;33m\u001b[0m\u001b[0m\n\u001b[0;32m     12\u001b[0m     \u001b[0mprint\u001b[0m\u001b[1;33m(\u001b[0m\u001b[0mfoo\u001b[0m\u001b[1;33m)\u001b[0m\u001b[1;33m\u001b[0m\u001b[1;33m\u001b[0m\u001b[0m\n\u001b[1;32m---> 13\u001b[1;33m \u001b[0mfunc\u001b[0m\u001b[1;33m(\u001b[0m\u001b[1;33m)\u001b[0m\u001b[1;33m\u001b[0m\u001b[1;33m\u001b[0m\u001b[0m\n\u001b[0m",
      "\u001b[1;32m<ipython-input-33-cfc5a3e87544>\u001b[0m in \u001b[0;36mfunc\u001b[1;34m()\u001b[0m\n\u001b[0;32m      8\u001b[0m     \u001b[1;31m# So, foo is local from this point. Global foo is hidden.\u001b[0m\u001b[1;33m\u001b[0m\u001b[1;33m\u001b[0m\u001b[1;33m\u001b[0m\u001b[0m\n\u001b[0;32m      9\u001b[0m \u001b[1;33m\u001b[0m\u001b[0m\n\u001b[1;32m---> 10\u001b[1;33m     \u001b[0mprint\u001b[0m\u001b[1;33m(\u001b[0m\u001b[0mfoo\u001b[0m\u001b[1;33m)\u001b[0m \u001b[1;31m# raises UnboundLocalError, because local foo is not yet initialized\u001b[0m\u001b[1;33m\u001b[0m\u001b[1;33m\u001b[0m\u001b[0m\n\u001b[0m\u001b[0;32m     11\u001b[0m     \u001b[0mfoo\u001b[0m \u001b[1;33m=\u001b[0m \u001b[1;36m7\u001b[0m\u001b[1;33m\u001b[0m\u001b[1;33m\u001b[0m\u001b[0m\n\u001b[0;32m     12\u001b[0m     \u001b[0mprint\u001b[0m\u001b[1;33m(\u001b[0m\u001b[0mfoo\u001b[0m\u001b[1;33m)\u001b[0m\u001b[1;33m\u001b[0m\u001b[1;33m\u001b[0m\u001b[0m\n",
      "\u001b[1;31mUnboundLocalError\u001b[0m: local variable 'foo' referenced before assignment"
     ]
    }
   ],
   "source": [
    "\"\"\"\n",
    "The scope is defined for the whole body of the function!\n",
    "What it means is that a variable will never be global for a half of the function and local afterwards, or vice-versa.\n",
    "\"\"\"\n",
    "foo = 1\n",
    "def func():\n",
    "    # This function has a local variable foo, because it is defined down below.\n",
    "    # So, foo is local from this point. Global foo is hidden.\n",
    "    \n",
    "    print(foo) # raises UnboundLocalError, because local foo is not yet initialized\n",
    "    foo = 7\n",
    "    print(foo)\n",
    "func()"
   ]
  },
  {
   "cell_type": "code",
   "execution_count": 37,
   "metadata": {},
   "outputs": [
    {
     "ename": "SyntaxError",
     "evalue": "name 'foo' is used prior to global declaration (<ipython-input-37-60118c8e48ec>, line 13)",
     "output_type": "error",
     "traceback": [
      "\u001b[1;36m  File \u001b[1;32m\"<ipython-input-37-60118c8e48ec>\"\u001b[1;36m, line \u001b[1;32m13\u001b[0m\n\u001b[1;31mSyntaxError\u001b[0m\u001b[1;31m:\u001b[0m name 'foo' is used prior to global declaration\n"
     ]
    }
   ],
   "source": [
    "#Likewise, the opposite:\n",
    "foo = 1\n",
    "def func():\n",
    "    # In this function, foo is a global variable from the beginning\n",
    "    foo = 7 # global foo is modified\n",
    "    \n",
    "    print(foo) # 7\n",
    "    print(globals()['foo']) # 7\n",
    "    \n",
    "    global foo # this could be anywhere within the function - Failed, before using it make it global\n",
    "    print(foo) # 7\n",
    "func()"
   ]
  },
  {
   "cell_type": "code",
   "execution_count": 38,
   "metadata": {},
   "outputs": [
    {
     "name": "stdout",
     "output_type": "stream",
     "text": [
      "In Function : f1()...............................................\n",
      "In Function : f2()...............................................\n",
      "dict_keys(['baz'])\n",
      "False\n",
      "True\n",
      "In Function : f3()...............................................\n",
      "1\n",
      "dict_keys(['baz', 'bar'])\n",
      "True\n",
      "True\n",
      "In Function : f4()...............................................\n",
      "4\n",
      "dict_keys(['bar', 'baz'])\n",
      "True\n",
      "True\n"
     ]
    }
   ],
   "source": [
    "\"\"\"\n",
    "Functions within functions\n",
    "There may be many levels of functions nested within functions, but within any one function there is only one local\n",
    "scope for that function and the global scope. There are no intermediate scopes.\n",
    "\n",
    "\"\"\"\n",
    "\n",
    "foo = 1\n",
    "def f1():\n",
    "    print(\"In Function : f1()...............................................\")\n",
    "    bar = 1\n",
    "    \n",
    "    def f2():\n",
    "        print(\"In Function : f2()...............................................\")\n",
    "        baz = 2\n",
    "        # here, foo is a global variable, baz is a local variable\n",
    "        # bar is not in either scope\n",
    "        print(locals().keys()) # ['baz']\n",
    "        print('bar' in locals()) # False\n",
    "        print('bar' in globals()) # False\n",
    "        \n",
    "    def f3():\n",
    "        print(\"In Function : f3()...............................................\")\n",
    "        baz = 3\n",
    "        print(bar) # bar from f1 is referenced so it enters local scope of f3 (closure)\n",
    "        print(locals().keys()) # ['bar', 'baz']\n",
    "        print('bar' in locals()) # True\n",
    "        print('bar' in globals()) # False\n",
    "    \n",
    "    def f4():\n",
    "        print(\"In Function : f4()...............................................\")\n",
    "        bar = 4 # a new local bar which hides bar from local scope of f1\n",
    "        baz = 4\n",
    "        print(bar)\n",
    "        print(locals().keys()) # ['bar', 'baz']\n",
    "        print('bar' in locals()) # True\n",
    "        print('bar' in globals()) # False\n",
    "    f2()\n",
    "    f3()\n",
    "    f4()\n",
    "        \n",
    "f1()"
   ]
  },
  {
   "cell_type": "code",
   "execution_count": 46,
   "metadata": {},
   "outputs": [
    {
     "name": "stdout",
     "output_type": "stream",
     "text": [
      "Initially, Global Scope, foo :   0\n",
      "In Function : f1() ->\n",
      "In f1(), foo :  1\n",
      "In Function : f1() -> f2() ->\n",
      "Initially, In f2(), foo :  2\n",
      "In Function : f1() -> f2() -> f3() ->\n",
      "foo :  3\n",
      "In Function : f1() -> f2() ->f4() ->\n",
      "foo :  0\n",
      "Now In f2(), foo :  2\n",
      "Global Scope, foo :   100\n"
     ]
    }
   ],
   "source": [
    "\"\"\"\n",
    "global vs nonlocal (Python 3 only)\n",
    "Both these keywords are used to gain write access to variables which are not local to the current functions.\n",
    "The global keyword declares that a name should be treated as a global variable.\n",
    "\n",
    "\"\"\"\n",
    "\n",
    "foo = 0 # global foo\n",
    "def f1():\n",
    "    print(\"In Function : f1() ->\")\n",
    "    foo = 1 # a new foo local in f1\n",
    "    def f2():\n",
    "        print(\"In Function : f1() -> f2() ->\")\n",
    "        foo = 2 # a new foo local in f2\n",
    "        print(\"Initially, In f2(), foo : \", foo )\n",
    "        def f3():\n",
    "            print(\"In Function : f1() -> f2() -> f3() ->\")\n",
    "            foo = 3 # a new foo local in f3\n",
    "            print(\"foo : \", foo) # 3\n",
    "            foo = 30 # modifies local foo in f3 only\n",
    "        def f4():\n",
    "            print(\"In Function : f1() -> f2() ->f4() ->\")\n",
    "            global foo\n",
    "            print(\"foo : \", foo) # 0\n",
    "            foo = 100 # modifies global foo\n",
    "        f3()\n",
    "        f4()\n",
    "        print(\"Now In f2(), foo : \", foo )\n",
    "    print(\"In f1(), foo : \", foo )\n",
    "    f2()\n",
    "print(\"Initially, Global Scope, foo :  \", foo)\n",
    "f1()\n",
    "print(\"Global Scope, foo :  \", foo)"
   ]
  },
  {
   "cell_type": "code",
   "execution_count": 47,
   "metadata": {},
   "outputs": [
    {
     "name": "stdout",
     "output_type": "stream",
     "text": [
      "2\n"
     ]
    }
   ],
   "source": [
    "\"\"\"\n",
    "nonlocal (see Nonlocal Variables ), available in Python 3, takes a local variable from an\n",
    "enclosing scope into the local scope of current function.\n",
    "From the Python documentation on nonlocal:\n",
    "The nonlocal statement causes the listed identifiers to refer to previously bound variables in the nearest\n",
    "enclosing scope excluding globals.\n",
    "Python 3.x Version ≥ 3.0\n",
    "\"\"\"\n",
    "def f1():\n",
    "    def f2():\n",
    "        foo = 2 # a new foo local in f2\n",
    "        def f3():\n",
    "            nonlocal foo # foo from f2, which is the nearest enclosing scope\n",
    "            print(foo) # 2\n",
    "            foo = 20 # modifies foo from f2!\n",
    "        f3()\n",
    "    f2()\n",
    "f1()\n",
    "\n"
   ]
  },
  {
   "cell_type": "code",
   "execution_count": 48,
   "metadata": {},
   "outputs": [
    {
     "ename": "NameError",
     "evalue": "name 'iterable' is not defined",
     "output_type": "error",
     "traceback": [
      "\u001b[1;31m---------------------------------------------------------------------------\u001b[0m",
      "\u001b[1;31mNameError\u001b[0m                                 Traceback (most recent call last)",
      "\u001b[1;32m<ipython-input-48-76ddbc10f28e>\u001b[0m in \u001b[0;36m<module>\u001b[1;34m\u001b[0m\n\u001b[0;32m      2\u001b[0m \u001b[0mx\u001b[0m \u001b[1;33m=\u001b[0m \u001b[1;36m5\u001b[0m\u001b[1;33m\u001b[0m\u001b[1;33m\u001b[0m\u001b[0m\n\u001b[0;32m      3\u001b[0m \u001b[0mx\u001b[0m \u001b[1;33m+=\u001b[0m \u001b[1;36m7\u001b[0m\u001b[1;33m\u001b[0m\u001b[1;33m\u001b[0m\u001b[0m\n\u001b[1;32m----> 4\u001b[1;33m \u001b[1;32mfor\u001b[0m \u001b[0mx\u001b[0m \u001b[1;32min\u001b[0m \u001b[0miterable\u001b[0m\u001b[1;33m:\u001b[0m \u001b[1;32mpass\u001b[0m\u001b[1;33m\u001b[0m\u001b[1;33m\u001b[0m\u001b[0m\n\u001b[0m\u001b[0;32m      5\u001b[0m \"\"\"\n\u001b[0;32m      6\u001b[0m \u001b[0mEach\u001b[0m \u001b[0mof\u001b[0m \u001b[0mthe\u001b[0m \u001b[0mabove\u001b[0m \u001b[0mstatements\u001b[0m \u001b[1;32mis\u001b[0m \u001b[0ma\u001b[0m \u001b[0mbinding\u001b[0m \u001b[0moccurrence\u001b[0m \u001b[1;33m-\u001b[0m \u001b[0mx\u001b[0m \u001b[0mbecome\u001b[0m \u001b[0mbound\u001b[0m \u001b[0mto\u001b[0m \u001b[0mthe\u001b[0m \u001b[0mobject\u001b[0m \u001b[0mdenoted\u001b[0m \u001b[0mby\u001b[0m \u001b[1;36m5.\u001b[0m \u001b[0mIf\u001b[0m \u001b[0mthis\u001b[0m \u001b[0mstatement\u001b[0m\u001b[1;33m\u001b[0m\u001b[1;33m\u001b[0m\u001b[0m\n",
      "\u001b[1;31mNameError\u001b[0m: name 'iterable' is not defined"
     ]
    }
   ],
   "source": [
    "#Binding Occurrence\n",
    "x = 5\n",
    "x += 7\n",
    "for x in iterable: pass\n",
    "\"\"\"\n",
    "Each of the above statements is a binding occurrence - x become bound to the object denoted by 5. If this statement\n",
    "appears inside a function, then x will be function-local by default. See the \"Syntax\" section for a list of binding\n",
    "statements.\n",
    "\"\"\""
   ]
  },
  {
   "cell_type": "code",
   "execution_count": null,
   "metadata": {},
   "outputs": [],
   "source": []
  }
 ],
 "metadata": {
  "kernelspec": {
   "display_name": "Python 3",
   "language": "python",
   "name": "python3"
  },
  "language_info": {
   "codemirror_mode": {
    "name": "ipython",
    "version": 3
   },
   "file_extension": ".py",
   "mimetype": "text/x-python",
   "name": "python",
   "nbconvert_exporter": "python",
   "pygments_lexer": "ipython3",
   "version": "3.8.2"
  }
 },
 "nbformat": 4,
 "nbformat_minor": 2
}
