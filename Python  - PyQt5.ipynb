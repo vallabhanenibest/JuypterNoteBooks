{
 "cells": [
  {
   "cell_type": "code",
   "execution_count": null,
   "metadata": {},
   "outputs": [],
   "source": [
    "from PyQt5.QtWidgets import *\n",
    "import sys\n",
    "class Window(QWidget):\n",
    "    def __init__(self):\n",
    "        QWidget.__init__(self)\n",
    "        self.setWindowTitle(\"Hello\")\n",
    "        layout = QGridLayout()\n",
    "        self.setLayout(layout)\n",
    "        label = QLabel(\"Hello, World!\")\n",
    "        layout.addWidget(label, 0, 0)\n",
    "app = QApplication(sys.argv)\n",
    "screen = Window()\n",
    "screen.show()\n",
    "sys.exit(app.exec_())"
   ]
  },
  {
   "cell_type": "code",
   "execution_count": null,
   "metadata": {},
   "outputs": [],
   "source": [
    "#!/usr/bin/env python3\n",
    "from PyQt5.QtCore import *\n",
    "from PyQt5.QtGui import *\n",
    "from PyQt5.QtWidgets import *\n",
    "import sys\n",
    "class Window(QWindow):\n",
    "    def __init__(self):\n",
    "        QWindow.__init__(self)\n",
    "        self.setTitle(\"Window\")\n",
    "        self.resize(400, 300)\n",
    "app = QApplication(sys.argv)\n",
    "screen = Window()\n",
    "screen.show()\n",
    "sys.exit(app.exec_())"
   ]
  },
  {
   "cell_type": "code",
   "execution_count": null,
   "metadata": {},
   "outputs": [],
   "source": [
    "#!/usr/bin/env python3\n",
    "from PyQt5.QtWidgets import *\n",
    "import sys\n",
    "class Window(QWidget):\n",
    "    def __init__(self):\n",
    "        QWidget.__init__(self)\n",
    "        layout = QBoxLayout(QBoxLayout.LeftToRight)\n",
    "        self.setLayout(layout)\n",
    "        label = QLabel(\"Label 1\")\n",
    "        layout.addWidget(label, 0)\n",
    "        label = QLabel(\"Label 2\")\n",
    "        layout.addWidget(label, 0)\n",
    "        layout2 = QBoxLayout(QBoxLayout.TopToBottom)\n",
    "        layout.addLayout(layout2)\n",
    "        label = QLabel(\"Label 3\")\n",
    "        layout2.addWidget(label, 0)\n",
    "        label = QLabel(\"Label 4\")\n",
    "        layout2.addWidget(label, 0)\n",
    "app = QApplication(sys.argv)\n",
    "screen = Window()\n",
    "screen.show()\n",
    "sys.exit(app.exec_())\n"
   ]
  }
 ],
 "metadata": {
  "kernelspec": {
   "display_name": "Python 3",
   "language": "python",
   "name": "python3"
  },
  "language_info": {
   "codemirror_mode": {
    "name": "ipython",
    "version": 3
   },
   "file_extension": ".py",
   "mimetype": "text/x-python",
   "name": "python",
   "nbconvert_exporter": "python",
   "pygments_lexer": "ipython3",
   "version": "3.7.6"
  }
 },
 "nbformat": 4,
 "nbformat_minor": 2
}
