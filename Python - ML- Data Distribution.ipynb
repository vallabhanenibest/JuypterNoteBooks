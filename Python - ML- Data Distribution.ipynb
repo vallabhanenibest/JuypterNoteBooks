{
 "cells": [
  {
   "cell_type": "code",
   "execution_count": 1,
   "metadata": {},
   "outputs": [
    {
     "name": "stdout",
     "output_type": "stream",
     "text": [
      "[1.63987475 2.59881588 4.81667939 2.95619959 0.73927255 1.3043623\n",
      " 3.24133201 2.77841901 2.79911402 0.29919557 4.83848448 2.97285738\n",
      " 4.24064397 2.84567215 2.3167133  0.67517388 4.27846884 0.11656055\n",
      " 0.41310625 2.77375746 1.95341835 1.27694698 2.11502239 4.86426536\n",
      " 0.73248909 4.20725031 0.79378307 4.24745395 3.76280591 3.4082468\n",
      " 3.58330197 2.86036382 4.39641458 3.78571091 4.37243355 2.87441203\n",
      " 4.04446433 2.74001261 1.29156144 3.87104182 3.83664936 4.79623623\n",
      " 4.6430733  3.37866846 3.00366002 1.5882118  2.84737639 1.75755712\n",
      " 0.15871035 2.85954159 0.82867788 1.07052661 3.83641075 4.55363438\n",
      " 1.30308727 2.19758831 2.76000701 4.68856131 1.92906847 1.74164755\n",
      " 3.70035337 4.00358064 4.11652312 4.08855784 1.10895873 2.78826518\n",
      " 2.15955573 4.40795844 4.49526855 4.74868296 2.25779266 2.17815602\n",
      " 0.34799202 2.6611533  2.10359425 2.48718546 1.97562101 3.92022187\n",
      " 3.14034284 3.72329475 4.68296839 3.95063414 3.5310548  4.47304786\n",
      " 3.05689934 4.27124241 0.52194343 2.5195069  4.02645842 4.45611546\n",
      " 3.21722529 2.69184735 2.81763839 4.107402   2.07631064 0.23814018\n",
      " 4.58997003 0.02198822 2.66130977 4.36367058 1.02492148 3.55692598\n",
      " 4.41010337 4.7535702  3.24088325 4.37571843 1.69398379 3.26532201\n",
      " 2.14298649 1.88778558 1.93619534 2.59693929 0.80475184 2.79108197\n",
      " 0.32189853 0.12880133 3.88538918 3.12470168 3.83153166 4.70411208\n",
      " 2.45162156 0.47008073 2.15738597 3.21190755 3.71401836 4.57349753\n",
      " 4.14953874 3.75747095 2.54533877 0.7972311  4.07648895 2.1920728\n",
      " 4.82350983 3.69856364 2.95714524 2.9520605  1.48218873 3.70701965\n",
      " 4.89204787 2.13125559 2.97523633 3.80955757 0.51056592 3.36264014\n",
      " 4.53927802 4.88291125 0.29486861 3.9318112  1.9695082  1.10493857\n",
      " 1.54986033 4.41801208 0.50112735 2.50540525 0.81209932 2.43622138\n",
      " 4.04841647 1.76016381 3.41543968 4.03357264 0.89485527 4.08930668\n",
      " 3.49629995 0.53851938 1.63590171 4.13524725 2.74214565 3.82617891\n",
      " 0.24393223 4.22733103 1.87245893 3.15694203 2.44672625 2.63889756\n",
      " 0.2321718  1.79068391 2.81029321 0.45862861 3.19522297 0.67661598\n",
      " 2.94309634 0.73627534 1.51070121 2.88284624 1.47685984 0.55758655\n",
      " 1.1990919  2.05209463 1.90439043 0.77024661 3.23638262 4.2325836\n",
      " 4.53448158 0.01389514 2.491393   1.33134096 3.34302279 3.99751377\n",
      " 4.57390288 0.87090368 2.91003438 3.28090386 4.98089478 2.46021832\n",
      " 3.06543567 0.8257334  2.65512209 0.0238829  0.42287273 3.9423211\n",
      " 1.60845168 2.61977018 3.94300506 0.33488377 4.78300974 3.81676928\n",
      " 3.60481206 3.14311    2.74246528 2.05505035 3.93658131 1.79333794\n",
      " 2.32267096 4.81083454 0.78036158 4.19438499 0.87719897 3.51192041\n",
      " 3.01425237 2.51361009 0.32329833 4.93564165 2.52879341 4.90811845\n",
      " 1.43161808 3.32548259 0.72663551 2.38736837 1.3212606  2.25362439\n",
      " 3.52787014 0.35999723 4.7890693  4.01259347 1.77918359 0.92300524\n",
      " 2.23752924 0.32613319 4.49729761 3.65225302]\n"
     ]
    }
   ],
   "source": [
    "\"\"\"\n",
    "Data Distribution\n",
    "\n",
    "Earlier in this tutorial we have worked with very small amounts of data in our examples, \n",
    "just to understand the different concepts.\n",
    "\n",
    "In the real world, the data sets are much bigger, but it can be difficult to gather real world data, \n",
    "at least at an early stage of a project.\n",
    "\n",
    "How Can we Get Big Data Sets?\n",
    "\n",
    "To create big data sets for testing, we use the Python module NumPy, which comes with a number of methods \n",
    "to create random data sets, of any size.\n",
    "\n",
    "\"\"\"\n",
    "\n",
    "#Create an array containing 250 random floats between 0 and 5:\n",
    "import numpy\n",
    "\n",
    "x = numpy.random.uniform(0.0, 5.0, 250)\n",
    "\n",
    "print(x) "
   ]
  },
  {
   "cell_type": "code",
   "execution_count": 3,
   "metadata": {},
   "outputs": [
    {
     "data": {
      "image/png": "[encoded data removed]",
      "text/plain": [
       "<Figure size 432x288 with 1 Axes>"
      ]
     },
     "metadata": {
      "needs_background": "light"
     },
     "output_type": "display_data"
    },
    {
     "name": "stdout",
     "output_type": "stream",
     "text": [
      "Histogram Example\n"
     ]
    }
   ],
   "source": [
    "\"\"\"\n",
    "Histogram\n",
    "\n",
    "To visualize the data set we can draw a histogram with the data we collected.\n",
    "\n",
    "We will use the Python module Matplotlib to draw a histogram:#\n",
    "Example\n",
    "\"\"\"\n",
    "#Draw a histogram:\n",
    "import numpy\n",
    "import matplotlib.pyplot as plt\n",
    "\n",
    "x = numpy.random.uniform(0.0, 5.0, 250)\n",
    "\n",
    "plt.hist(x, 5)\n",
    "plt.show() \n",
    "\n",
    "\n",
    "\n",
    "\"\"\"\n",
    "Histogram Explained\n",
    "\n",
    "We use the array from the example above to draw a histogram with 5 bars.\n",
    "\n",
    "The first bar represents how many values in the array are between 0 and 1.\n",
    "\n",
    "The second bar represents how many values are between 1 and 2.\n",
    "\n",
    "Etc.\n",
    "\n",
    "Which gives us this result:\n",
    "\n",
    "    52 values are between 0 and 1\n",
    "    48 values are between 1 and 2\n",
    "    49 values are between 2 and 3\n",
    "    51 values are between 3 and 4\n",
    "    50 values are between 4 and 5\n",
    "\n",
    "Note: The array values are random numbers and will not show the exact same result on your computer.\n",
    "\n",
    "\n",
    "\"\"\"\n",
    "print(\"Histogram Example\")"
   ]
  },
  {
   "cell_type": "code",
   "execution_count": 4,
   "metadata": {},
   "outputs": [
    {
     "data": {
      "image/png": "[encoded data removed]",
      "text/plain": [
       "<Figure size 432x288 with 1 Axes>"
      ]
     },
     "metadata": {
      "needs_background": "light"
     },
     "output_type": "display_data"
    }
   ],
   "source": [
    "\"\"\"\n",
    "Big Data Distributions\n",
    "\n",
    "An array containing 250 values is not considered very big, but now you know how to create a random set of values, \n",
    "and by changing the parameters, you can create the data set as big as you want.\n",
    "\n",
    "Example\n",
    "\"\"\"\n",
    "#Create an array with 100000 random numbers, and display them using a histogram with 100 bars:\n",
    "import numpy\n",
    "import matplotlib.pyplot as plt\n",
    "\n",
    "x = numpy.random.uniform(0.0, 5.0, 100000)\n",
    "\n",
    "plt.hist(x, 100)\n",
    "plt.show() "
   ]
  },
  {
   "cell_type": "code",
   "execution_count": 5,
   "metadata": {},
   "outputs": [
    {
     "data": {
      "image/png": "[encoded data removed]",
      "text/plain": [
       "<Figure size 432x288 with 1 Axes>"
      ]
     },
     "metadata": {
      "needs_background": "light"
     },
     "output_type": "display_data"
    }
   ],
   "source": [
    "\"\"\"\n",
    "Normal Data Distribution\n",
    "\n",
    "In the previous chapter we learned how to create a completely random array, of a given size, and between \n",
    "two given values.\n",
    "\n",
    "Here we will learn how to create an array where the values are concentrated around a given value.\n",
    "\n",
    "In probability theory this kind of data distribution is known as the normal data distribution, \n",
    "or the Gaussian data distribution, after the mathematician Carl Friedrich Gauss who came up with the formula \n",
    "of this data distribution.\n",
    "Example\n",
    "\"\"\"\n",
    "#A typical normal data distribution:\n",
    "import numpy\n",
    "import matplotlib.pyplot as plt\n",
    "\n",
    "x = numpy.random.normal(5.0, 1.0, 100000)\n",
    "\n",
    "plt.hist(x, 100)\n",
    "#Note: A normal distribution graph is also known as the bell curve because of it's characteristic shape of a bell.\n",
    "plt.show() "
   ]
  },
  {
   "cell_type": "code",
   "execution_count": 6,
   "metadata": {},
   "outputs": [
    {
     "name": "stdout",
     "output_type": "stream",
     "text": [
      "Histogram Explained\n"
     ]
    }
   ],
   "source": [
    "\"\"\"\n",
    "Histogram Explained\n",
    "\n",
    "We use the array from the numpy.random.normal() method, with 100000 values,  to draw a histogram with 100 bars.\n",
    "\n",
    "We specify that the mean value is 5.0, and the standard deviation is 1.0.\n",
    "\n",
    "Meaning that the values should be consentrated around 5.0, and rarely further away than 1.0 from the mean.\n",
    "\n",
    "And as you can see from the histogram, most values are between 4.0 and 6.0, with a top at approximately 5.0.\n",
    "\"\"\"\n",
    "print(\"Histogram Explained\")"
   ]
  },
  {
   "cell_type": "code",
   "execution_count": null,
   "metadata": {},
   "outputs": [],
   "source": []
  }
 ],
 "metadata": {
  "kernelspec": {
   "display_name": "Python 3",
   "language": "python",
   "name": "python3"
  },
  "language_info": {
   "codemirror_mode": {
    "name": "ipython",
    "version": 3
   },
   "file_extension": ".py",
   "mimetype": "text/x-python",
   "name": "python",
   "nbconvert_exporter": "python",
   "pygments_lexer": "ipython3",
   "version": "3.7.5"
  }
 },
 "nbformat": 4,
 "nbformat_minor": 2
}
