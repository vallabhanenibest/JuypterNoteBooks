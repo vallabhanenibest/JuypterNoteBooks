{
 "cells": [
  {
   "cell_type": "code",
   "execution_count": 2,
   "metadata": {},
   "outputs": [
    {
     "name": "stdout",
     "output_type": "stream",
     "text": [
      "Color.red\n",
      "Color.red\n",
      "Color.red\n"
     ]
    }
   ],
   "source": [
    "from enum import Enum\n",
    "class Color(Enum):\n",
    "    red = 1\n",
    "    green = 2\n",
    "    blue = 3\n",
    "print(Color.red) # Color.red\n",
    "print(Color(1)) # Color.red\n",
    "print(Color['red']) # Color.red"
   ]
  },
  {
   "cell_type": "code",
   "execution_count": 3,
   "metadata": {},
   "outputs": [
    {
     "data": {
      "text/plain": [
       "[<Color.red: 1>, <Color.green: 2>, <Color.blue: 3>]"
      ]
     },
     "execution_count": 3,
     "metadata": {},
     "output_type": "execute_result"
    }
   ],
   "source": [
    "class Color(Enum):\n",
    "    red = 1\n",
    "    green = 2\n",
    "    blue = 3\n",
    "[c for c in Color] # [<Color.red: 1>, <Color.green: 2>, <Color.blue: 3>]"
   ]
  },
  {
   "cell_type": "code",
   "execution_count": 4,
   "metadata": {},
   "outputs": [
    {
     "name": "stdout",
     "output_type": "stream",
     "text": [
      "The string representation of enum member is : Animal.dog\n",
      "The repr representation of enum member is : <Animal.dog: 1>\n",
      "The type of enum member is : <enum 'Animal'>\n",
      "The name of enum member is : dog\n"
     ]
    }
   ],
   "source": [
    "\"\"\"\n",
    "Enumerations in Python are implemented by using the module named “enum“.\n",
    "Enumerations are created using classes. Enums have names and values associated with them.\n",
    "\n",
    "Properties of enum:\n",
    "\n",
    "1. Enums can be displayed as string or repr.\n",
    "2. Enums can be checked for their types using type().\n",
    "3. “name” keyword is used to display the name of the enum member.\n",
    "4. Enumerations are iterable. They can be iterated using loops\n",
    "5. Enumerations support hashing. Enums can be used in dictionaries or sets.\n",
    "\n",
    "\n",
    "\"\"\"\n",
    "\n",
    "# Python code to demonstrate enumerations \n",
    "\n",
    "# importing enum for enumerations \n",
    "import enum \n",
    "\n",
    "# creating enumerations using class \n",
    "class Animal(enum.Enum): \n",
    "    dog = 1\n",
    "    cat = 2\n",
    "    lion = 3\n",
    "\n",
    "# printing enum member as string \n",
    "print (\"The string representation of enum member is : \",end=\"\") \n",
    "print (Animal.dog) \n",
    "\n",
    "# printing enum member as repr \n",
    "print (\"The repr representation of enum member is : \",end=\"\") \n",
    "print (repr(Animal.dog)) \n",
    "\n",
    "# printing the type of enum member using type() \n",
    "print (\"The type of enum member is : \",end =\"\") \n",
    "print (type(Animal.dog)) \n",
    "\n",
    "# printing name of enum member using \"name\" keyword \n",
    "print (\"The name of enum member is : \",end =\"\") \n",
    "print (Animal.dog.name) \n"
   ]
  },
  {
   "cell_type": "code",
   "execution_count": 5,
   "metadata": {},
   "outputs": [
    {
     "name": "stdout",
     "output_type": "stream",
     "text": [
      "All the enum values are : \n",
      "Animal.dog\n",
      "Animal.cat\n",
      "Animal.lion\n",
      "Enum is hashed\n"
     ]
    }
   ],
   "source": [
    "# Python code to demonstrate enumerations \n",
    "# iterations and hashing \n",
    "# importing enum for enumerations \n",
    "import enum \n",
    "\n",
    "# creating enumerations using class \n",
    "class Animal(enum.Enum): \n",
    "    dog = 1\n",
    "    cat = 2\n",
    "    lion = 3\n",
    "\n",
    "# printing all enum members using loop \n",
    "print (\"All the enum values are : \") \n",
    "for Anim in (Animal): \n",
    "    print(Anim) \n",
    "\n",
    "# Hashing enum member as dictionary \n",
    "di = {} \n",
    "di[Animal.dog] = 'bark'\n",
    "di[Animal.lion] = 'roar'\n",
    "\n",
    "# checking if enum values are hashed successfully \n",
    "if di=={Animal.dog : 'bark',Animal.lion : 'roar'}: \n",
    "    print (\"Enum is hashed\") \n",
    "else: \n",
    "    print (\"Enum is not hashed\") \n"
   ]
  },
  {
   "cell_type": "code",
   "execution_count": 6,
   "metadata": {},
   "outputs": [
    {
     "name": "stdout",
     "output_type": "stream",
     "text": [
      "The enum member associated with value 2 is : Animal.cat\n",
      "The enum member associated with name lion is : Animal.lion\n",
      "The value associated with dog is : 1\n",
      "The name associated with dog is : dog\n",
      "Dog and cat are different animals\n",
      "Lions and cat are different\n"
     ]
    }
   ],
   "source": [
    "\"\"\"\n",
    "Accessing Modes : Enum members can be accessed by two ways\n",
    "\n",
    "1. By value :- In this method, the value of enum member is passed.\n",
    "\n",
    "2. By name :- In this method, the name of enum member is passed.\n",
    "\n",
    "Seperate value or name can also be accessed using “name” or “value” keyword.\n",
    "\n",
    "Comparison : Enumerations supports two types of comparisons\n",
    "\n",
    "1. Identity :- These are checked using keywords “is” and “is not“.\n",
    "\n",
    "2. Equality :- Equality comparisons of “==” and “!=” types are also supported.\n",
    "\n",
    "\"\"\"\n",
    "\n",
    "# Python code to demonstrate enumerations \n",
    "# Access and comparison \n",
    "\n",
    "# importing enum for enumerations \n",
    "import enum \n",
    "\n",
    "# creating enumerations using class \n",
    "class Animal(enum.Enum): \n",
    "    dog = 1\n",
    "    cat = 2\n",
    "    lion = 3\n",
    "\n",
    "# Accessing enum member using value \n",
    "print (\"The enum member associated with value 2 is : \",end=\"\") \n",
    "print (Animal(2)) \n",
    "\n",
    "# Accessing enum member using name \n",
    "print (\"The enum member associated with name lion is : \",end=\"\") \n",
    "print (Animal['lion']) \n",
    "\n",
    "# Assigning enum member \n",
    "mem = Animal.dog \n",
    "\n",
    "# Displaying value \n",
    "print (\"The value associated with dog is : \",end=\"\") \n",
    "print (mem.value) \n",
    "\n",
    "# Displaying name \n",
    "print (\"The name associated with dog is : \",end=\"\") \n",
    "print (mem.name) \n",
    "\n",
    "# Comparison using \"is\" \n",
    "if Animal.dog is Animal.cat: \n",
    "    print (\"Dog and cat are same animals\") \n",
    "else : print (\"Dog and cat are different animals\") \n",
    "\n",
    "# Comparison using \"!=\" \n",
    "if Animal.lion != Animal.cat: \n",
    "    print (\"Lions and cat are different\") \n",
    "else : \n",
    "    print (\"Lions and cat are same\") \n"
   ]
  },
  {
   "cell_type": "code",
   "execution_count": null,
   "metadata": {},
   "outputs": [],
   "source": []
  }
 ],
 "metadata": {
  "kernelspec": {
   "display_name": "Python 3",
   "language": "python",
   "name": "python3"
  },
  "language_info": {
   "codemirror_mode": {
    "name": "ipython",
    "version": 3
   },
   "file_extension": ".py",
   "mimetype": "text/x-python",
   "name": "python",
   "nbconvert_exporter": "python",
   "pygments_lexer": "ipython3",
   "version": "3.7.6"
  }
 },
 "nbformat": 4,
 "nbformat_minor": 2
}
