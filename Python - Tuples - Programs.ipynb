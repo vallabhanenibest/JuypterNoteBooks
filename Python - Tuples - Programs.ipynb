{
 "cells": [
  {
   "cell_type": "code",
   "execution_count": 2,
   "metadata": {},
   "outputs": [
    {
     "name": "stdout",
     "output_type": "stream",
     "text": [
      "(1, 1, 1, 0, 0)\n",
      "(0, 1, 0, 0, 1)\n",
      "(1, 0, 1, 1, 0)\n"
     ]
    }
   ],
   "source": [
    "\"\"\"\n",
    "Print unique rows in a given boolean matrix using Set with tuples\n",
    "Given a binary matrix, print all unique rows of the given matrix. Order of row printing doesn’t matter.\n",
    "\n",
    "Examples:\n",
    "\n",
    "Input:\n",
    "    mat = [[0, 1, 0, 0, 1],\n",
    "             [1, 0, 1, 1, 0],\n",
    "             [0, 1, 0, 0, 1],\n",
    "             [1, 1, 1, 0, 0]]\n",
    "Output:\n",
    "          (1, 1, 1, 0, 0)\n",
    "          (0, 1, 0, 0, 1)\n",
    "          (1, 0, 1, 1, 0)\n",
    "          \n",
    "We have existing solution for this problem please refer link. We can solve this problem in python quickly using\n",
    "Set data structure. Approach is very simple.\n",
    "\n",
    "1. We are given list of boolean values list, put all rows (list) in set because set contains unique values.\n",
    "2. Since list is an unhashable type for set because it is mutable that’s why first we convert each row (list) \n",
    "into tuple then we put all tuple in set.\n",
    "3. Resultant set will contain only unique valued tuples (row).\n",
    "\n",
    "\n",
    "\"\"\"\n",
    "\n",
    "# Python program to Print unique rows in a \n",
    "# given boolean matrix using Set with tuples \n",
    "\n",
    "# Function to print unique rows in a given boolean matrix \n",
    "\n",
    "def uniqueRows(input): \n",
    "\n",
    "    # convert each row (list) into tuple \n",
    "    # we are mapping tuple function on each row of \n",
    "    # input matrix \n",
    "    input = map(tuple, input) \n",
    "\n",
    "    # put all rows in set \n",
    "    result = set(input) \n",
    "\n",
    "    # print all unique rows \n",
    "    for row in list(result): \n",
    "        print (row) \n",
    "\n",
    "# Driver program \n",
    "if __name__ == \"__main__\": \n",
    "    input = [[0, 1, 0, 0, 1], [1, 0, 1, 1, 0], [0, 1, 0, 0, 1], [1, 1, 1, 0, 0]] \n",
    "    uniqueRows(input) \n"
   ]
  },
  {
   "cell_type": "code",
   "execution_count": 3,
   "metadata": {
    "slideshow": {
     "slide_type": "notes"
    }
   },
   "outputs": [
    {
     "name": "stdout",
     "output_type": "stream",
     "text": [
      "['255.255.11.135', '255.255.111.35']\n",
      "[]\n"
     ]
    }
   ],
   "source": [
    "\"\"\"\n",
    "Program to generate all possible valid IP addresses from given string\n",
    "Given a string containing only digits, restore it by returning all possible valid IP address combinations.\n",
    "\n",
    "A valid IP address must be in the form of A.B.C.D, where A, B, C, and D are numbers from 0-255. \n",
    "The numbers cannot be 0 prefixed unless they are 0.\n",
    "\n",
    "Examples :\n",
    "\n",
    "Input : 25525511135\n",
    "Output : [“255.255.11.135”, “255.255.111.35”]\n",
    "Explanation: \n",
    "These are the only valid possible\n",
    "IP addresses.\n",
    "\n",
    "Input : \"25505011535\"\n",
    "Output : []\n",
    "Explanation : \n",
    "We cannot generate a valid IP\n",
    "address with this string. \n",
    "First, we will place 3 dots in the given string and then Try out all the possible combinations for the 3 dots.\n",
    "\n",
    "Corner case for validity :\n",
    "\n",
    "For string \"25011255255\"\n",
    "\n",
    "25.011.255.255 is not valid as 011 is not valid.\n",
    "25.11.255.255 is not valid either as you are not\n",
    "                   allowed to change the string.\n",
    "250.11.255.255 is valid.\n",
    "\n",
    "Approach :\n",
    "Split the string with ‘ . ‘ and then check for all corner cases. Before entering the loop, check the size of string. \n",
    "Generate all the possible combinations using looping through the string. If IP is found to be valid then return the \n",
    "IP address, else simply return empty list.\n",
    " \n",
    "Below is the implementation of above approach :\n",
    "\n",
    "\n",
    "\"\"\"\n",
    "# Python code to check valid possible IP \n",
    "\n",
    "# Function checks whether IP digits \n",
    "# are valid or not. \n",
    "def is_valid(ip): \n",
    "\n",
    "\t# Splitting by \".\" \n",
    "\tip = ip.split(\".\") \n",
    "\t\n",
    "\t# Checking for the corner cases \n",
    "\tfor i in ip: \n",
    "\t\tif len(i) > 3 or int(i) < 0 or int(i) > 255: \n",
    "\t\t\treturn False\n",
    "\t\tif len(i) > 1 and int(i) == 0: \n",
    "\t\t\treturn False\n",
    "\t\tif len(i) > 1 and int(i) != 0 and i[0] == '0': \n",
    "\t\t\treturn False\n",
    "\treturn True\n",
    "\n",
    "# Function converts string to IP address \n",
    "def convert(s): \n",
    "    sz = len(s) \n",
    "\n",
    "    # Check for string size \n",
    "    if sz > 12: \n",
    "        return [] \n",
    "    snew = s \n",
    "    l = [] \n",
    "\n",
    "    # Generating different combinations. \n",
    "    for i in range(1, sz - 2): \n",
    "        for j in range(i + 1, sz - 1): \n",
    "            for k in range(j + 1, sz): \n",
    "                snew = snew[:k] + \".\" + snew[k:] \n",
    "                snew = snew[:j] + \".\" + snew[j:] \n",
    "                snew = snew[:i] + \".\" + snew[i:] \n",
    "\n",
    "                # Check for the validity of combination \n",
    "                if is_valid(snew): \n",
    "                    l.append(snew) \n",
    "                snew = s \n",
    "    return l \n",
    "\n",
    "# Driver code\n",
    "A = \"25525511135\"\n",
    "B = \"25505011535\"\n",
    "print(convert(A)) \n",
    "print(convert(B)) \n",
    "\n"
   ]
  },
  {
   "cell_type": "code",
   "execution_count": 4,
   "metadata": {},
   "outputs": [
    {
     "name": "stdout",
     "output_type": "stream",
     "text": [
      "paizwlc\n"
     ]
    }
   ],
   "source": [
    "\"\"\"\n",
    "Python Dictionary to find mirror characters in a string\n",
    "\n",
    "Given a string and a number N, we need to mirror the characters from N-th position up to the length of \n",
    "the string in the alphabetical order. In mirror operation, we change ‘a’ to ‘z’, ‘b’ to ‘y’, and so on.\n",
    "\n",
    "Examples:\n",
    "\n",
    "Input : N = 3\n",
    "        paradox\n",
    "Output : paizwlc\n",
    "We mirror characters from position 3 to end.\n",
    "\n",
    "Input : N = 6\n",
    "        pneumonia\n",
    "Output : pnefnlmrz\n",
    "\n",
    "We have existing solution for this problem please refer Mirror characters of a string link. We can solve this \n",
    "problem in Python using Dictionary Data Structure. Mirror value of ‘a’ is ‘z’,’b’ is ‘y’ etc, so we create a \n",
    "dictionary data structure and one-to-one map reverse sequence of alphabets onto original sequence of alphabets. \n",
    "Now traverse characters from length k in given string and change characters into it’s mirror value using dictionary.\n",
    "\n",
    "\n",
    "\"\"\"\n",
    "\n",
    "# function to mirror characters of a string \n",
    "\n",
    "def mirrorChars(input,k): \n",
    "\n",
    "    # create dictionary \n",
    "    original = 'abcdefghijklmnopqrstuvwxyz'\n",
    "    reverse = 'zyxwvutsrqponmlkjihgfedcba'\n",
    "    dictChars = dict(zip(original,reverse)) \n",
    "\n",
    "    # separate out string after length k to change \n",
    "    # characters in mirror \n",
    "    prefix = input[0:k-1] \n",
    "    suffix = input[k-1:] \n",
    "    mirror = '' \n",
    "\n",
    "    # change into mirror \n",
    "    for i in range(0,len(suffix)): \n",
    "        mirror = mirror + dictChars[suffix[i]] \n",
    "\n",
    "    # concat prefix and mirrored part \n",
    "    print (prefix+mirror) \n",
    "\n",
    "# Driver program \n",
    "if __name__ == \"__main__\": \n",
    "    input = 'paradox'\n",
    "    k = 3\n",
    "    mirrorChars(input,k) \n"
   ]
  },
  {
   "cell_type": "code",
   "execution_count": 5,
   "metadata": {},
   "outputs": [
    {
     "name": "stdout",
     "output_type": "stream",
     "text": [
      "String with characters occurring once:\n",
      "for\n",
      "String with characters occurring multiple times:\n",
      "egks\n"
     ]
    }
   ],
   "source": [
    "\"\"\"\n",
    "Generate two output strings depending upon occurrence of character in input string in Python\n",
    "Given an input string str[], generate two output strings. One of which consists of those character \n",
    "which occurs only once in input string and second which consists of multi-time occurring characters. \n",
    "Output strings must be sorted.\n",
    "\n",
    "Examples:\n",
    "\n",
    "Input : str = \"geeksforgeeks\"\n",
    "Output : String with characters occurring once:\n",
    "\"for\".\n",
    "String with characters occurring multiple times:\n",
    "\"egks\"\n",
    "\n",
    "Input : str = \"geekspractice\"\n",
    "Output : String with characters occurring once:\n",
    "\"agikprst\"\n",
    "String with characters occurring multiple times:\n",
    "\"ce\"\n",
    "\n",
    "\n",
    "We have existing solution for this problem please refer Generate two output strings depending upon occurrence \n",
    "of character in input string link. We can solve this problem quickly in python using Counter(iterable) method. \n",
    "Approach is simple,\n",
    "\n",
    "1. Convert string into dictionary having characters as keys and their frequencies as value using counter() method.\n",
    "2. Now separate out list of characters having frequency 1 and having frequency more than 1.\n",
    "3. Sort characters in both lists to get output strings.\n",
    "\n",
    "\"\"\"\n",
    "\n",
    "# Function Generate two output strings depending upon \n",
    "# occurrence of character in input string \n",
    "\n",
    "from collections import Counter \n",
    "\n",
    "def generateStrings(input): \n",
    "\n",
    "    # convert string into dictionary \n",
    "    # having characters as keys and frequency as value \n",
    "    freqDict = Counter(input) \n",
    "\n",
    "    # separate out characters having frequency 1 and more than 1 \n",
    "    freq1 = [ key for (key,count) in freqDict.items() if count==1] \n",
    "    freqMore1 = [ key for (key,count) in freqDict.items() if count>1] \n",
    "\n",
    "    # sort lists and concatenate characters \n",
    "    # with out space to print resultant strings \n",
    "    freq1.sort() \n",
    "    freqMore1.sort() \n",
    "\n",
    "    # print output strings \n",
    "    print ('String with characters occurring once:') \n",
    "    print (''.join(freq1)) \n",
    "    print ('String with characters occurring multiple times:') \n",
    "    print (''.join(freqMore1)) \n",
    "\n",
    "# Driver program \n",
    "if __name__ == \"__main__\": \n",
    "    input = \"geeksforgeeks\"\n",
    "    generateStrings(input) \n",
    "\n"
   ]
  },
  {
   "cell_type": "code",
   "execution_count": 6,
   "metadata": {},
   "outputs": [
    {
     "name": "stdout",
     "output_type": "stream",
     "text": [
      "1 [1, 1, 1]\n",
      "3 [3, 3]\n",
      "2 [2, 2, 2]\n",
      "1 [1, 1]\n"
     ]
    }
   ],
   "source": [
    "\"\"\"\n",
    "Python groupby method to remove all consecutive duplicates\n",
    "Given a string S, remove all the consecutive duplicates.\n",
    "\n",
    "Examples:\n",
    "\n",
    "Input  : aaaaabbbbbb\n",
    "Output : ab\n",
    "\n",
    "Input : geeksforgeeks\n",
    "Output : geksforgeks\n",
    "\n",
    "Input : aabccba\n",
    "Output : abcba\n",
    "\n",
    "We have existing solution for this problem please refer Remove all consecutive duplicates from the string link.\n",
    "We can solve this problem in python quickly using itertools.groupby() method.\n",
    "\n",
    "How itertools.groupby(iterable,key[optional]) works in Python ?\n",
    "Group by method takes two input one is iterable (list,tuple,dictionary) and second is key function which \n",
    "calculates keys for each element present in iterable. It returns key and iterable of grouped items. \n",
    "If key function not specified or is None, key defaults to an identity function and returns the element unchanged. \n",
    "For example,\n",
    "\"\"\"\n",
    "\n",
    "numbers = [1, 1, 1, 3, 3, 2, 2, 2, 1, 1] \n",
    "import itertools \n",
    "for (key,group) in itertools.groupby(numbers): \n",
    "    print (key,list(group)) \n"
   ]
  },
  {
   "cell_type": "code",
   "execution_count": 7,
   "metadata": {},
   "outputs": [
    {
     "name": "stdout",
     "output_type": "stream",
     "text": [
      "ab\n"
     ]
    }
   ],
   "source": [
    "# function to remove all consecutive duplicates \n",
    "# from the string in Python \n",
    "\n",
    "from itertools import groupby \n",
    "def removeAllConsecutive(input): \n",
    "    \n",
    "    # group all consecutive characters based on their \n",
    "    # order in string and we are only concerned \n",
    "    # about first character of each consecutive substring \n",
    "    # in given string, so key value will work for us \n",
    "    # and we will join these keys without space to \n",
    "    # generate resultant string \n",
    "    result = [] \n",
    "    for (key,group) in groupby(input): \n",
    "        result.append(key) \n",
    "\n",
    "    print (''.join(result)) \n",
    "\n",
    "# Driver program \n",
    "if __name__ == \"__main__\": \n",
    "    input = 'aaaaabbbbbb'\n",
    "    removeAllConsecutive(input) \n"
   ]
  },
  {
   "cell_type": "code",
   "execution_count": 8,
   "metadata": {},
   "outputs": [
    {
     "name": "stdout",
     "output_type": "stream",
     "text": [
      "geeksforgeeks\n"
     ]
    }
   ],
   "source": [
    "\"\"\"\n",
    "Python | Convert a list of characters into a string\n",
    "\n",
    "Given a list of characters, merge all of them into a string.\n",
    "\n",
    "Examples:\n",
    "\n",
    "Input : ['g', 'e', 'e', 'k', 's', 'f', 'o', \n",
    "             'r', 'g', 'e', 'e', 'k', 's']\n",
    "Output : geeksforgeeks \n",
    "\n",
    "Input : ['p', 'r', 'o', 'g', 'r', 'a', 'm', \n",
    "                        'm', 'i', 'n', 'g']\n",
    "Output : programming \n",
    "\n",
    "Method 1 : Traversal of list\n",
    "\n",
    "Initialize an empty string at the beginning. Traverse in the list of characters, for every index add \n",
    "character to the initial string. After complete traversal, print the string which has been added with every character.\n",
    "\n",
    "\"\"\"\n",
    "\n",
    "# Python program to convert a list \n",
    "# of character \n",
    "\n",
    "def convert(s): \n",
    "\n",
    "    # initialization of string to \"\" \n",
    "    new = \"\" \n",
    "\n",
    "    # traverse in the string \n",
    "    for x in s: \n",
    "        new += x \n",
    "\n",
    "    # return string \n",
    "    return new \n",
    "\n",
    "\n",
    "# driver code \n",
    "s = ['g', 'e', 'e', 'k', 's', 'f', 'o', 'r', 'g', 'e', 'e', 'k', 's'] \n",
    "print(convert(s)) \n"
   ]
  },
  {
   "cell_type": "code",
   "execution_count": 9,
   "metadata": {},
   "outputs": [
    {
     "name": "stdout",
     "output_type": "stream",
     "text": [
      "geeksforgeeks\n"
     ]
    }
   ],
   "source": [
    "\"\"\"\n",
    "Method 2 : Using join() function\n",
    "\n",
    "By using join() function in python, all characters in the list can be joined. The syntax is:\n",
    "\n",
    "str = \"\"\n",
    "str1 = ( \"geeks\", \"for\", \"geeks\" )\n",
    "str.join(str1) \n",
    "The list of characters can be joined easily by initializing str=”” so that there are no spaces in between.\n",
    "\n",
    "\n",
    "\"\"\"\n",
    "# Python program to convert a list \n",
    "# of character \n",
    "\n",
    "def convert(s): \n",
    "\n",
    "    # initialization of string to \"\" \n",
    "    str1 = \"\" \n",
    "\n",
    "    # using join function join the list s by \n",
    "    # separating words by str1 \n",
    "    return(str1.join(s)) \n",
    "\n",
    "# driver code \n",
    "s = ['g', 'e', 'e', 'k', 's', 'f', 'o', 'r', 'g', 'e', 'e', 'k', 's'] \n",
    "print(convert(s)) \n"
   ]
  },
  {
   "cell_type": "code",
   "execution_count": 10,
   "metadata": {},
   "outputs": [
    {
     "name": "stdout",
     "output_type": "stream",
     "text": [
      "[('ram', '15', '8'), ('laxman', 'sita'), ('krishna', 'akbar', '45'), ('', '')]\n"
     ]
    }
   ],
   "source": [
    "\"\"\"\n",
    "Python | Remove empty tuples from a list\n",
    "In this article, we will see how can we remove an empty tuple from a given list of tuples. We will find various \n",
    "ways, in which we can perform this task of removing tuples using various methods and ways in Python.\n",
    "Examples:\n",
    "\n",
    "Input : tuples = [(), ('ram','15','8'), (), ('laxman', 'sita'), \n",
    "                  ('krishna', 'akbar', '45'), ('',''),()]\n",
    "Output : [('ram', '15', '8'), ('laxman', 'sita'), \n",
    "          ('krishna', 'akbar', '45'), ('', '')]\n",
    "\n",
    "Input : tuples = [('','','8'), (), ('0', '00', '000'), \n",
    "                 ('birbal', '', '45'), (''), (),  ('',''),()]\n",
    "Output : [('', '', '8'), ('0', '00', '000'), ('birbal', '', \n",
    "          '45'), ('', '')]\n",
    "\"\"\"\n",
    "#Method 1: Using the concept of List Comprehension\n",
    "\n",
    "# Python program to remove empty tuples from a \n",
    "# list of tuples function to remove empty tuples \n",
    "# using list comprehension \n",
    "def Remove(tuples): \n",
    "    tuples = [t for t in tuples if t] \n",
    "    return tuples \n",
    "\n",
    "# Driver Code \n",
    "tuples = [(), ('ram','15','8'), (), ('laxman', 'sita'), ('krishna', 'akbar', '45'), ('',''),()] \n",
    "print(Remove(tuples)) \n"
   ]
  },
  {
   "cell_type": "code",
   "execution_count": 12,
   "metadata": {},
   "outputs": [
    {
     "name": "stdout",
     "output_type": "stream",
     "text": [
      "<filter object at 0x00000153F9B5D408>\n"
     ]
    }
   ],
   "source": [
    "\"\"\"\n",
    "Method 2: Using the filter() method\n",
    "Using the inbuilt method filter() in Python, we can filter out the empty elements by passing the \n",
    "None as the parameter. This method works in both Python 2 and Python 3 and above, but the desired \n",
    "output is only shown in Python 2 because Python 3 returns a generator. filter() is the faster than \n",
    "the method of list comprehension. Let’s see what happens when we run the program in Python 2.\n",
    "\n",
    "\"\"\"\n",
    "# Python2 program to remove empty tuples \n",
    "# from a list of tuples function to remove \n",
    "# empty tuples using filter \n",
    "def Remove(tuples): \n",
    "    tuples = filter(None, tuples) \n",
    "    return tuples \n",
    "\n",
    "# Driver Code \n",
    "#Output in Python 2:\n",
    "#[('ram', '15', '8'), ('laxman', 'sita'), ('krishna', 'akbar', '45'), ('', '')]\n",
    "tuples = [(), ('ram','15','8'), (), ('laxman', 'sita'), ('krishna', 'akbar', '45'), ('',''),()] \n",
    "print (Remove(tuples) )\n",
    "\n"
   ]
  },
  {
   "cell_type": "code",
   "execution_count": 13,
   "metadata": {},
   "outputs": [
    {
     "name": "stdout",
     "output_type": "stream",
     "text": [
      "('k', 'e', 'e', 'g', 'f', 'd', 'a', 'z')\n"
     ]
    }
   ],
   "source": [
    "\"\"\"\n",
    "Python | Reversing a Tuple\n",
    "As we know that in Python, tuples are immutable, thus it cannot be changed or altered. \n",
    "This provides us with limited ways of reversing a tuple, unlike a list. We will go through \n",
    "few techniques on how a tuple in python can be reversed.\n",
    "Examples:\n",
    "\n",
    "Input : tuples = ('z','a','d','f','g','e','e','k')\n",
    "Output : ('k', 'e', 'e', 'g', 'f', 'd', 'a', 'z')\n",
    "\n",
    "Input : tuples = (10, 11, 12, 13, 14, 15)\n",
    "Output : (15, 14, 13, 12, 11, 10)\n",
    "\n",
    "Method 1: Using the slicing technique.\n",
    "In this technique, a copy of the tuple is made and the tuple is not sorted in-place. Since tuples are immutable, \n",
    "there is no way to reverse a tuple in-place. Creating a copy requires more space to hold all of the existing elements. \n",
    "Therefore, this exhausts memory.\n",
    "\n",
    "\"\"\"\n",
    "# Reversing a tuple using slicing technique \n",
    "# New tuple is created \n",
    "def Reverse(tuples): \n",
    "    new_tup = tuples[::-1] \n",
    "    return new_tup \n",
    "\n",
    "# Driver Code \n",
    "tuples = ('z','a','d','f','g','e','e','k') \n",
    "print(Reverse(tuples)) \n",
    "\n"
   ]
  },
  {
   "cell_type": "code",
   "execution_count": 15,
   "metadata": {},
   "outputs": [
    {
     "name": "stdout",
     "output_type": "stream",
     "text": [
      "(15, 14, 13, 12, 11, 10)\n"
     ]
    }
   ],
   "source": [
    "\"\"\"\n",
    "Method 2: Using the reversed() built-in function.\n",
    "In this method, we do not make any copy of the tuple. Instead, we get a reverse iterator which we use \n",
    "to cycle through the tuple, similar to the list.\n",
    "\"\"\"\n",
    "# Reversing a list using reversed() \n",
    "def Reverse(tuples): \n",
    "    new_tup = () \n",
    "    for k in reversed(tuples): \n",
    "        new_tup = new_tup + (k,) \n",
    "    print (new_tup) \n",
    "\n",
    "# Driver Code \n",
    "tuples = (10, 11, 12, 13, 14, 15) \n",
    "Reverse(tuples) \n"
   ]
  },
  {
   "cell_type": "code",
   "execution_count": 16,
   "metadata": {},
   "outputs": [
    {
     "name": "stdout",
     "output_type": "stream",
     "text": [
      "{'akash': [10], 'gaurav': [12], 'anand': [14], 'suraj': [20], 'akhil': [25], 'ashish': [30]}\n"
     ]
    }
   ],
   "source": [
    "\"\"\"\n",
    "Python | Convert a list of Tuples into Dictionary\n",
    "Sometimes you might need to convert a tuple to dict object to make it more readable.\n",
    "In this article, we will try to learn how to convert a list of tuples into a dictionary. Here we will \n",
    "find two methods of doing this.\n",
    "Examples:\n",
    "\n",
    "Input : [(\"akash\", 10), (\"gaurav\", 12), (\"anand\", 14), \n",
    "         (\"suraj\", 20), (\"akhil\", 25), (\"ashish\", 30)]\n",
    "Output : {'akash': [10], 'gaurav': [12], 'anand': [14], \n",
    "          'ashish': [30], 'akhil': [25], 'suraj': [20]}\n",
    "\n",
    "Input : [('A', 1), ('B', 2), ('C', 3)]\n",
    "Output : {'B': [2], 'A': [1], 'C': [3]}\n",
    "\n",
    "Method 1 : Use of setdefault()\n",
    "\n",
    "Here we have used the dictionary method setdefault() to convert the first parameter to key and the second to \n",
    "the value of the dictionary. setdefault(key, def_value) function searches for a key and displays its value and \n",
    "creates a new key with def_value if the key is not present. Using the append function we just added the values \n",
    "to the dictionary.\n",
    "\n",
    "\"\"\"\n",
    "# Python code to convert into dictionary \n",
    "\n",
    "def Convert(tup, di): \n",
    "    for a, b in tup: \n",
    "        di.setdefault(a, []).append(b) \n",
    "    return di \n",
    "\n",
    "# Driver Code\n",
    "tups = [(\"akash\", 10), (\"gaurav\", 12), (\"anand\", 14), (\"suraj\", 20), (\"akhil\", 25), (\"ashish\", 30)] \n",
    "dictionary = {} \n",
    "print (Convert(tups, dictionary)) \n",
    "\n"
   ]
  },
  {
   "cell_type": "code",
   "execution_count": 17,
   "metadata": {},
   "outputs": [
    {
     "name": "stdout",
     "output_type": "stream",
     "text": [
      "{'akash': 10, 'gaurav': 12, 'anand': 14, 'suraj': 20, 'akhil': 25, 'ashish': 30}\n"
     ]
    }
   ],
   "source": [
    "\"\"\"\n",
    "Method 2 : Use of dict() method\n",
    "\n",
    "This is a simple method of conversion from a list or tuple to a dictionary. Here we pass a tuple into \n",
    "the dict() method which converts the tuple into the corresponding dictionary.\n",
    "\n",
    "\"\"\"\n",
    "\n",
    "# Python code to convert into dictionary \n",
    "def Convert(tup, di): \n",
    "    di = dict(tup) \n",
    "    return di \n",
    "\n",
    "# Driver Code \n",
    "tups = [(\"akash\", 10), (\"gaurav\", 12), (\"anand\", 14), (\"suraj\", 20), (\"akhil\", 25), (\"ashish\", 30)] \n",
    "dictionary = {} \n",
    "print (Convert(tups, dictionary)) \n"
   ]
  },
  {
   "cell_type": "code",
   "execution_count": 18,
   "metadata": {},
   "outputs": [
    {
     "name": "stdout",
     "output_type": "stream",
     "text": [
      "[('akash', '24.541'), ('lucky', '18.265'), ('nikhil', '14.107'), ('gaurav', '10.365'), ('anand', '4.256')]\n"
     ]
    }
   ],
   "source": [
    "\"\"\"\n",
    "Python | Sort a tuple by its float element\n",
    "In this article, we will see how we can sort a tuple (consisting of float elements) using its float elements. \n",
    "Here we will see how to do this by using the built-in method sorted() and how can this be done using in place \n",
    "method of sorting.\n",
    "\n",
    "Examples:\n",
    "\n",
    "Input : tuple = [('lucky', '18.265'), ('nikhil', '14.107'), \n",
    "                  ('akash', '24.541'), ('anand', '4.256'), ('gaurav', '10.365')]\n",
    "Output : [('akash', '24.541'), ('lucky', '18.265'), \n",
    "          ('nikhil', '14.107'), ('gaurav', '10.365'), ('anand', '4.256')]\n",
    "\n",
    "Input : tuple = [('234', '9.4'), ('543', '16.9'), ('756', '5.5'), \n",
    "                  ('132', '4.2'), ('342', '7.3')]\n",
    "Output : [('543', '16.9'), ('234', '9.4'), ('342', '7.3'), \n",
    "          ('756', '5.5'), ('132', '4.2')]\n",
    "\n",
    "\n",
    "\n",
    "Method 1 : Use of sorted() method\n",
    "\n",
    "Sorted() sorts a tuple and always returns a tuple with the elements in a sorted manner, without modifying the \n",
    "original sequence. It takes three parameters from which two are optional, here we tried to use all of the three:\n",
    "\n",
    "1. Iterable : sequence (list, tuple, string) or collection (dictionary, set, frozenset) or any other iterator \n",
    "that needs to be sorted.\n",
    "2. Key(optional) : A function that would server as a key or a basis of sort comparison.\n",
    "3. Reverse(optional) : If set true, then the iterable would be sorted in reverse (descending) order, by default \n",
    "it is set as false.\n",
    "\n",
    "To sort this in ascending order we could have just ignored the third parameter.\n",
    "\n",
    "\"\"\"\n",
    "\n",
    "# Python code to sort the tuples using float element \n",
    "# Function to sort using sorted() \n",
    "def Sort(tup): \n",
    "    # reverse = True (Sorts in Descending order) \n",
    "    # key is set to sort using float elements \n",
    "    # lambda has been used \n",
    "    return(sorted(tup, key = lambda x: float(x[1]), reverse = True)) \n",
    "\n",
    "# Driver Code \n",
    "tup = [('lucky', '18.265'), ('nikhil', '14.107'), ('akash', '24.541'), ('anand', '4.256'), ('gaurav', '10.365')] \n",
    "print(Sort(tup)) \n"
   ]
  },
  {
   "cell_type": "code",
   "execution_count": 19,
   "metadata": {},
   "outputs": [
    {
     "name": "stdout",
     "output_type": "stream",
     "text": [
      "[('akash', '24.541'), ('lucky', '18.265'), ('nikhil', '14.107'), ('gaurav', '10.365'), ('anand', '4.256')]\n"
     ]
    }
   ],
   "source": [
    "\"\"\"\n",
    "Method 2 : In-place way of sorting using sort():\n",
    "\n",
    "While sorting via this method the actual content of the tuple is changed, while in the previous method the \n",
    "content of the original tuple remained the same.\n",
    "\n",
    "\n",
    "\"\"\"\n",
    "\n",
    "# Python code to sort the tuples using float element \n",
    "# Inplace way to sort using sort() \n",
    "def Sort(tup): \n",
    "    # reverse = True (Sorts in Descending order) \n",
    "    # key is set to sort using float elements \n",
    "    # lambda has been used \n",
    "    tup.sort(key = lambda x: float(x[1]), reverse = True) \n",
    "    print(tup) \n",
    "\n",
    "# Driver Code \n",
    "tup = [('lucky', '18.265'), ('nikhil', '14.107'), ('akash', '24.541'), ('anand', '4.256'), ('gaurav', '10.365')] \n",
    "Sort(tup) \n"
   ]
  },
  {
   "cell_type": "code",
   "execution_count": 20,
   "metadata": {},
   "outputs": [
    {
     "name": "stdout",
     "output_type": "stream",
     "text": [
      "0\n",
      "3\n",
      "4\n"
     ]
    }
   ],
   "source": [
    "\"\"\"\n",
    "Python | Count occurrences of an element in a Tuple\n",
    "In this program, we need to accept a tuple and then find the number of times an item is present in the tuple. \n",
    "This can be done in various ways, but in this article, we will see how this can be done using simple approach \n",
    "and how inbuilt functions can be used to solve this problem.\n",
    "\n",
    "Examples:\n",
    "\n",
    "Tuple: (10, 8, 5, 2, 10, 15, 10, 8, 5, 8, 8, 2)\n",
    "\n",
    "Input : 4\n",
    "Output : 0 times\n",
    "\n",
    "Input : 10\n",
    "Output : 3 times\n",
    "\n",
    "Input : 8\n",
    "Output : 4 times\n",
    "\n",
    "Method 1(Simple Approach):\n",
    "We keep a counter that keeps on increasing if the esquired element is found in the tuple.\n",
    "\n",
    "\"\"\"\n",
    "\n",
    "# Program to count the number of times an element \n",
    "# Present in the list \n",
    "def countX(tup, x): \n",
    "    count = 0\n",
    "    for ele in tup: \n",
    "        if (ele == x): \n",
    "            count = count + 1\n",
    "    return count \n",
    "\n",
    "# Driver Code \n",
    "tup = (10, 8, 5, 2, 10, 15, 10, 8, 5, 8, 8, 2) \n",
    "enq = 4\n",
    "enq1 = 10\n",
    "enq2 = 8\n",
    "print(countX(tup, enq)) \n",
    "print(countX(tup, enq1)) \n",
    "print(countX(tup, enq2)) \n"
   ]
  },
  {
   "cell_type": "code",
   "execution_count": 21,
   "metadata": {},
   "outputs": [
    {
     "name": "stdout",
     "output_type": "stream",
     "text": [
      "0 times\n",
      "3 times\n",
      "4 times\n"
     ]
    }
   ],
   "source": [
    "\"\"\"\n",
    "Method 2(Using count()):\n",
    "The idea is to use method count() to count number of occurrences.\n",
    "\"\"\"\n",
    "# Program to count the number of times an element \n",
    "# Present in the list \n",
    "# Count function is used \n",
    "def Count(tup, en): \n",
    "    return tup.count(en) \n",
    "\n",
    "# Driver Code \n",
    "tup = (10, 8, 5, 2, 10, 15, 10, 8, 5, 8, 8, 2) \n",
    "enq = 4\n",
    "enq1 = 10\n",
    "enq2 = 8\n",
    "print(Count(tup, enq), \"times\") \n",
    "print(Count(tup, enq1), \"times\") \n",
    "print(Count(tup, enq2), \"times\") \n"
   ]
  },
  {
   "cell_type": "code",
   "execution_count": 22,
   "metadata": {},
   "outputs": [
    {
     "name": "stdout",
     "output_type": "stream",
     "text": [
      "4\n"
     ]
    }
   ],
   "source": [
    "\"\"\"\n",
    "Python | Count the elements in a list until an element is a Tuple\n",
    "In this problem, we need to accept a list. The list can have nested tuples. We need to count the elements in a \n",
    "list until a tuple has been encountered.\n",
    "\n",
    "Examples:\n",
    "\n",
    "Input : [4, 5, 6, 10, (1, 2, 3), 11, 2, 4]\n",
    "Output : 4\n",
    "\n",
    "Input : [4, (5, 6), 10, (1, 2, 3), 11, 2, 4]\n",
    "Output : 1\n",
    "\n",
    "In this program we will use the concept of isinstance() to verify whether we are encountering a tuple or not in \n",
    "our path of count. For detailed guide on isinstance() visit isinstance in Python.\n",
    "\n",
    "\"\"\"\n",
    "# Python program to count the items \n",
    "# until a list is encountered \n",
    "def Count(li): \n",
    "    counter = 0\n",
    "    for num in li: \n",
    "        if isinstance(num, tuple): \n",
    "            break\n",
    "        counter = counter + 1\n",
    "    return counter \n",
    "\n",
    "# Driver Code \n",
    "li = [4, 5, 6, 10, (1, 2, 3), 11, 2, 4] \n",
    "print(Count(li)) \n",
    "\n"
   ]
  },
  {
   "cell_type": "code",
   "execution_count": 23,
   "metadata": {},
   "outputs": [
    {
     "name": "stdout",
     "output_type": "stream",
     "text": [
      "Sorted:\n",
      "[(23, 45, 20), (89, 40, 23), (25, 44, 39)]\n"
     ]
    }
   ],
   "source": [
    "\"\"\"\n",
    "Python | Sort Tuples in Increasing Order by any key\n",
    "Given a tuple, sort the list of tuples in increasing order by any key in tuple.\n",
    "\n",
    "Examples:\n",
    "\n",
    "Input : tuple = [(2, 5), (1, 2), (4, 4), (2, 3)] \n",
    "            m = 0\n",
    "Output : [(1, 2), (2, 3), (2, 5), (4, 4)]\n",
    "Explanation: Sorted using the 0th index key.\n",
    "\n",
    "Input :  [(23, 45, 20), (25, 44, 39), (89, 40, 23)]\n",
    "         m = 2\n",
    "Output : Sorted: [(23, 45, 20), (89, 40, 23), (25, 44, 39)] \n",
    "\n",
    "Explanation: Sorted using the 2nd index key\n",
    "Given tuples, we need to sort them according to any given key. This can be done using sorted() function where \n",
    "we sort them using key=last and store last as the key index according to which we have to sort the given tuples.\n",
    "\n",
    "Below is the Python implementation of the above approach:\n",
    "\"\"\"\n",
    "\n",
    "# Python code to sort a list of tuples \n",
    "# according to given key. \n",
    "\n",
    "# get the last key. \n",
    "def last(n): \n",
    "    return n[m] \n",
    "\n",
    "# function to sort the tuple \n",
    "def sort(tuples): \n",
    "\n",
    "    # We pass used defined function last \n",
    "    # as a parameter. \n",
    "    return sorted(tuples, key = last) \n",
    "\n",
    "# driver code \n",
    "a = [(23, 45, 20), (25, 44, 39), (89, 40, 23)] \n",
    "m = 2\n",
    "print(\"Sorted:\"), \n",
    "print(sort(a)) \n"
   ]
  },
  {
   "cell_type": "code",
   "execution_count": 24,
   "metadata": {},
   "outputs": [
    {
     "name": "stdout",
     "output_type": "stream",
     "text": [
      "The Student age using index is : 19\n",
      "The Student name using keyname is : Nandini\n",
      "The Student DOB using getattr() is : 2541997\n"
     ]
    }
   ],
   "source": [
    "\"\"\"\n",
    "Namedtuple in Python\n",
    "Python supports a type of container like dictionaries called “namedtuples()” present in module, “collection“. \n",
    "Like dictionaries they contain keys that are hashed to a particular value. But on contrary, it supports both \n",
    "access from key value and iteration, the functionality that dictionaries lack.\n",
    "\n",
    "Operations on namedtuple() :\n",
    "\n",
    "Access Operations\n",
    "-----------------\n",
    "1. Access by index : The attribute values of namedtuple() are ordered and can be accessed using the index number \n",
    "unlike dictionaries which are not accessible by index.\n",
    "2. Access by keyname : Access by keyname is also allowed as in dictionaries.\n",
    "3. using getattr() :- This is yet another way to access the value by giving namedtuple and key value as its argument.\n",
    "\n",
    "\"\"\"\n",
    "\n",
    "# Python code to demonstrate namedtuple() and \n",
    "# Access by name, index and getattr() \n",
    "\n",
    "# importing \"collections\" for namedtuple() \n",
    "import collections \n",
    "\n",
    "# Declaring namedtuple() \n",
    "Student = collections.namedtuple('Student',['name','age','DOB']) \n",
    "\n",
    "# Adding values \n",
    "S = Student('Nandini','19','2541997') \n",
    "\n",
    "# Access using index \n",
    "print (\"The Student age using index is : \",end =\"\") \n",
    "print (S[1]) \n",
    "\n",
    "# Access using name \n",
    "print (\"The Student name using keyname is : \",end =\"\") \n",
    "print (S.name) \n",
    "\n",
    "# Access using getattr() \n",
    "print (\"The Student DOB using getattr() is : \",end =\"\") \n",
    "print (getattr(S,'DOB')) \n"
   ]
  },
  {
   "cell_type": "code",
   "execution_count": 25,
   "metadata": {},
   "outputs": [
    {
     "name": "stdout",
     "output_type": "stream",
     "text": [
      "The namedtuple instance using iterable is : \n",
      "Student(name='Manjeet', age='19', DOB='411997')\n",
      "The OrderedDict instance using namedtuple is : \n",
      "OrderedDict([('name', 'Nandini'), ('age', '19'), ('DOB', '2541997')])\n",
      "The namedtuple instance from dict is : \n",
      "Student(name='Nikhil', age=19, DOB='1391997')\n"
     ]
    }
   ],
   "source": [
    "\"\"\"\n",
    "Conversion Operations\n",
    "1. _make() :- This function is used to return a namedtuple() from the iterable passed as argument.\n",
    "\n",
    "2. _asdict() :- This function returns the OrdereDict() as constructed from the mapped values of namedtuple().\n",
    "\n",
    "3. using “**” (double star) operator :- This function is used to convert a dictionary into the namedtuple().\n",
    "\n",
    "\"\"\"\n",
    "\n",
    "# Python code to demonstrate namedtuple() and \n",
    "# _make(), _asdict() and \"**\" operator \n",
    "\n",
    "# importing \"collections\" for namedtuple() \n",
    "import collections \n",
    "\n",
    "# Declaring namedtuple() \n",
    "Student = collections.namedtuple('Student',['name','age','DOB']) \n",
    "\n",
    "# Adding values \n",
    "S = Student('Nandini','19','2541997') \n",
    "\n",
    "# initializing iterable \n",
    "li = ['Manjeet', '19', '411997' ] \n",
    "\n",
    "# initializing dict \n",
    "di = { 'name' : \"Nikhil\", 'age' : 19 , 'DOB' : '1391997' } \n",
    "\n",
    "# using _make() to return namedtuple() \n",
    "print (\"The namedtuple instance using iterable is : \") \n",
    "print (Student._make(li)) \n",
    "\n",
    "# using _asdict() to return an OrderedDict() \n",
    "print (\"The OrderedDict instance using namedtuple is : \") \n",
    "print (S._asdict()) \n",
    "\n",
    "# using ** operator to return namedtuple from dictionary \n",
    "print (\"The namedtuple instance from dict is : \") \n",
    "print (Student(**di)) \n"
   ]
  },
  {
   "cell_type": "code",
   "execution_count": 26,
   "metadata": {},
   "outputs": [
    {
     "name": "stdout",
     "output_type": "stream",
     "text": [
      "All the fields of students are : \n",
      "('name', 'age', 'DOB')\n",
      "The modified namedtuple is : \n",
      "Student(name='Manjeet', age='19', DOB='2541997')\n"
     ]
    }
   ],
   "source": [
    "\"\"\"\n",
    "Additional Operations\n",
    "\n",
    "1. _fields :- This function is used to return all the keynames of the namespace declared.\n",
    "\n",
    "2. _replace() :- This function is used to change the values mapped with the passed keyname.\n",
    "\"\"\"\n",
    "\n",
    "# Python code to demonstrate namedtuple() and \n",
    "# _fields and _replace() \n",
    "\n",
    "# importing \"collections\" for namedtuple() \n",
    "import collections \n",
    "\n",
    "# Declaring namedtuple() \n",
    "Student = collections.namedtuple('Student',['name','age','DOB']) \n",
    "\n",
    "# Adding values \n",
    "S = Student('Nandini','19','2541997') \n",
    "\n",
    "# using _fields to display all the keynames of namedtuple() \n",
    "print (\"All the fields of students are : \") \n",
    "print (S._fields) \n",
    "\n",
    "# using _replace() to change the attribute values of namedtuple \n",
    "print (\"The modified namedtuple is : \") \n",
    "print(S._replace(name = 'Manjeet')) \n"
   ]
  },
  {
   "cell_type": "code",
   "execution_count": null,
   "metadata": {},
   "outputs": [],
   "source": []
  }
 ],
 "metadata": {
  "kernelspec": {
   "display_name": "Python 3",
   "language": "python",
   "name": "python3"
  },
  "language_info": {
   "codemirror_mode": {
    "name": "ipython",
    "version": 3
   },
   "file_extension": ".py",
   "mimetype": "text/x-python",
   "name": "python",
   "nbconvert_exporter": "python",
   "pygments_lexer": "ipython3",
   "version": "3.7.6"
  }
 },
 "nbformat": 4,
 "nbformat_minor": 4
}
