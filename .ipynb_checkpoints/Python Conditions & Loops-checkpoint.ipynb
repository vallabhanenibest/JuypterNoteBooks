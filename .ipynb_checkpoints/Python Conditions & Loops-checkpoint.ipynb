{
 "cells": [
  {
   "cell_type": "code",
   "execution_count": 1,
   "metadata": {},
   "outputs": [
    {
     "name": "stdout",
     "output_type": "stream",
     "text": [
      "b is greater than a\n"
     ]
    }
   ],
   "source": [
    "\"\"\"\n",
    "Python Conditions and If statements\n",
    "\n",
    "Conditional expressions, involving keywords such as if, elif, and else, provide Python programs with the ability to\n",
    "perform different actions depending on a boolean condition: True or False. This section covers the use of Python\n",
    "conditionals, boolean logic, and ternary statements.\n",
    "\n",
    "Python supports the usual logical conditions from mathematics:\n",
    "\n",
    "    Equals: a == b\n",
    "    Not Equals: a != b\n",
    "    Less than: a < b\n",
    "    Less than or equal to: a <= b\n",
    "    Greater than: a > b\n",
    "    Greater than or equal to: a >= b\n",
    "\n",
    "These conditions can be used in several ways, most commonly in \"if statements\" and loops.\n",
    "\n",
    "An \"if statement\" is written by using the if keyword.\n",
    "\n",
    "\"\"\"\n",
    "#If statement:\n",
    "\"\"\"\n",
    "In this example we use two variables, a and b, which are used as part of the if statement to test whether b is greater than a. \n",
    "As a is 33, and b is 200, we know that 200 is greater than 33, and so we print to screen that \"b is greater than a\".\n",
    "\"\"\"\n",
    "a = 33\n",
    "b = 200\n",
    "if b > a:\n",
    "  print(\"b is greater than a\")"
   ]
  },
  {
   "cell_type": "code",
   "execution_count": 2,
   "metadata": {},
   "outputs": [
    {
     "ename": "IndentationError",
     "evalue": "expected an indented block (<ipython-input-2-0afcc647cfe6>, line 12)",
     "output_type": "error",
     "traceback": [
      "\u001b[1;36m  File \u001b[1;32m\"<ipython-input-2-0afcc647cfe6>\"\u001b[1;36m, line \u001b[1;32m12\u001b[0m\n\u001b[1;33m    print(\"b is greater than a\") # you will get an error\u001b[0m\n\u001b[1;37m        ^\u001b[0m\n\u001b[1;31mIndentationError\u001b[0m\u001b[1;31m:\u001b[0m expected an indented block\n"
     ]
    }
   ],
   "source": [
    "\"\"\"\n",
    "Indentation\n",
    "\n",
    "Python relies on indentation (whitespace at the beginning of a line) to define scope in the code. \n",
    "Other programming languages often use curly-brackets for this purpose.\n",
    "Example\n",
    "\"\"\"\n",
    "#If statement, without indentation (will raise an error)\n",
    "a = 33\n",
    "b = 200\n",
    "if b > a:\n",
    "print(\"b is greater than a\") # you will get an error "
   ]
  },
  {
   "cell_type": "code",
   "execution_count": 3,
   "metadata": {},
   "outputs": [
    {
     "name": "stdout",
     "output_type": "stream",
     "text": [
      "a and b are equal\n"
     ]
    }
   ],
   "source": [
    "\"\"\"\n",
    "Elif\n",
    "\n",
    "The elif keyword is pythons way of saying \"if the previous conditions were not true, then try this condition\".\n",
    "Example\n",
    "In this example a is equal to b, so the first condition is not true, but the elif condition is true,\n",
    "so we print to screen that \"a and b are equal\".\n",
    "\"\"\"\n",
    "a = 33\n",
    "b = 33\n",
    "if b > a:\n",
    "  print(\"b is greater than a\")\n",
    "elif a == b:\n",
    "  print(\"a and b are equal\")"
   ]
  },
  {
   "cell_type": "code",
   "execution_count": 4,
   "metadata": {},
   "outputs": [
    {
     "name": "stdout",
     "output_type": "stream",
     "text": [
      "a is greater than b\n"
     ]
    }
   ],
   "source": [
    "\"\"\"\n",
    "Else\n",
    "\n",
    "The else keyword catches anything which isn't caught by the preceding conditions.\n",
    "\n",
    "In Python you can define a series of conditionals using if for the first one, elif for the rest, up until the final\n",
    "(optional) else for anything not caught by the other conditionals.\n",
    "\n",
    "Example\n",
    "In this example a is greater than b, so the first condition is not true, also the elif condition is not true, \n",
    "so we go to the else condition and print to screen that \"a is greater than b\".\n",
    "\"\"\"\n",
    "#Note : Using else if instead of elif will trigger a syntax error and is not allowed.\n",
    "a = 200\n",
    "b = 33\n",
    "if b > a:\n",
    "  print(\"b is greater than a\")\n",
    "elif a == b:\n",
    "  print(\"a and b are equal\")\n",
    "else:\n",
    "  print(\"a is greater than b\")"
   ]
  },
  {
   "cell_type": "code",
   "execution_count": 5,
   "metadata": {},
   "outputs": [
    {
     "name": "stdout",
     "output_type": "stream",
     "text": [
      "b is not greater than a\n"
     ]
    }
   ],
   "source": [
    "#You can also have an else without the elif:\n",
    "#Example\n",
    "a = 200\n",
    "b = 33\n",
    "if b > a:\n",
    "  print(\"b is greater than a\")\n",
    "else:\n",
    "  print(\"b is not greater than a\")"
   ]
  },
  {
   "cell_type": "code",
   "execution_count": 6,
   "metadata": {},
   "outputs": [
    {
     "name": "stdout",
     "output_type": "stream",
     "text": [
      "a is greater than b\n"
     ]
    }
   ],
   "source": [
    "\"\"\"\n",
    "Short Hand If\n",
    "\n",
    "If you have only one statement to execute, you can put it on the same line as the if statement.\n",
    "Example\n",
    "\"\"\"\n",
    "\n",
    "#One line if statement:\n",
    "if a > b: print(\"a is greater than b\")"
   ]
  },
  {
   "cell_type": "code",
   "execution_count": 33,
   "metadata": {},
   "outputs": [
    {
     "name": "stdout",
     "output_type": "stream",
     "text": [
      "B\n",
      "Greater than 2\n"
     ]
    },
    {
     "data": {
      "text/plain": [
       "'Good day'"
      ]
     },
     "execution_count": 33,
     "metadata": {},
     "output_type": "execute_result"
    }
   ],
   "source": [
    "\"\"\"\n",
    "Short Hand If ... Else\n",
    "\n",
    "Conditional Expression (or \"The Ternary Operator\")\n",
    "The ternary operator is used for inline conditional expressions. It is best used in simple, concise operations that are\n",
    "easily read.\n",
    "The order of the arguments is different from many other languages (such as C, Ruby, Java, etc.), which may\n",
    "lead to bugs when people unfamiliar with Python's \"surprising\" behaviour use it (they may reverse the order).\n",
    "Some find it \"unwieldy\", since it goes contrary to the normal flow of thought (thinking of the condition first\n",
    "and then the effects).\n",
    "\n",
    "If you have only one statement to execute, one for if, and one for else, you can put it all on the same line:\n",
    "\n",
    "\n",
    "Example\n",
    "\"\"\"\n",
    "#One line if else statement:\n",
    "# Example -1\n",
    "a = 2\n",
    "b = 330\n",
    "print(\"A\") if a > b else print(\"B\") \n",
    "\n",
    "# Example -2\n",
    "n = 5\n",
    "print(\"Greater than 2\") if n > 2 else print(\"Smaller than or equal to 2\")\n",
    "# Out: 'Greater than 2'\n",
    "\n"
   ]
  },
  {
   "cell_type": "code",
   "execution_count": 35,
   "metadata": {},
   "outputs": [
    {
     "name": "stdout",
     "output_type": "stream",
     "text": [
      "Good day\n",
      "=\n"
     ]
    }
   ],
   "source": [
    "\"\"\"\n",
    "You can also have multiple else statements on the same line\n",
    "\n",
    "The result of this expression will be as it is read in English - if the conditional expression is True, \n",
    "then it will evaluate to the expression on the left side, otherwise, the right side.\n",
    "Ternary operations can also be nested, as here:\n",
    "\n",
    "\"\"\"\n",
    "#One line if else statement, with 3 conditions:\n",
    "\n",
    "# Example -1\n",
    "n = 5\n",
    "output = \"Hello\" if n > 10 else \"Goodbye\" if n > 5 else \"Good day\"\n",
    "#They also provide a method of including conditionals in lambda functions.\n",
    "print(output)\n",
    "\n",
    "# Example -2\n",
    "\n",
    "a = 330\n",
    "b = 330\n",
    "print(\"A\") if a > b else print(\"=\") if a == b else print(\"B\") "
   ]
  },
  {
   "cell_type": "code",
   "execution_count": 9,
   "metadata": {},
   "outputs": [
    {
     "name": "stdout",
     "output_type": "stream",
     "text": [
      "Both conditions are True\n"
     ]
    }
   ],
   "source": [
    "\"\"\"\n",
    "Boolean logic expressions, in addition to evaluating to True or False, return the value that was interpreted as True\n",
    "or False. It is Pythonic way to represent logic that might otherwise require an if-else test.\n",
    "\n",
    "\n",
    "And operator\n",
    "\n",
    "The and operator evaluates all expressions and returns the last expression if all expressions evaluate to True.\n",
    "Otherwise it returns the first value that evaluates to False\n",
    "\n",
    "The and keyword is a logical operator, and is used to combine conditional statements:\n",
    "Example\n",
    "\"\"\"\n",
    "#Test if a is greater than b, AND if c is greater than a:\n",
    "a = 200\n",
    "b = 33\n",
    "c = 500\n",
    "if a > b and c > a:\n",
    "  print(\"Both conditions are True\")"
   ]
  },
  {
   "cell_type": "code",
   "execution_count": 10,
   "metadata": {},
   "outputs": [
    {
     "name": "stdout",
     "output_type": "stream",
     "text": [
      "At least one of the conditions is True\n"
     ]
    }
   ],
   "source": [
    "\"\"\"\n",
    "Or\n",
    "\n",
    "The or keyword is a logical operator, and is used to combine conditional statements.\n",
    "The or operator evaluates the expressions left to right and returns the first value that evaluates to True or the last\n",
    "value (if none are True).\n",
    "\n",
    "Example\n",
    "\"\"\"\n",
    "#Test if a is greater than b, OR if a is greater than c:\n",
    "a = 200\n",
    "b = 33\n",
    "c = 500\n",
    "if a > b or a > c:\n",
    "  print(\"At least one of the conditions is True\")"
   ]
  },
  {
   "cell_type": "code",
   "execution_count": 11,
   "metadata": {},
   "outputs": [
    {
     "name": "stdout",
     "output_type": "stream",
     "text": [
      "Above ten,\n",
      "and also above 20!\n"
     ]
    }
   ],
   "source": [
    "\"\"\"\n",
    "Nested If\n",
    "\n",
    "You can have if statements inside if statements, this is called nested if statements.\n",
    "Example\n",
    "\"\"\"\n",
    "x = 41\n",
    "\n",
    "if x > 10:\n",
    "  print(\"Above ten,\")\n",
    "  if x > 20:\n",
    "    print(\"and also above 20!\")\n",
    "  else:\n",
    "    print(\"but not above 20.\") "
   ]
  },
  {
   "cell_type": "code",
   "execution_count": 12,
   "metadata": {},
   "outputs": [],
   "source": [
    "\"\"\"\n",
    "The pass Statement\n",
    "\n",
    "if statements cannot be empty, but if you for some reason have an if statement with no content, \n",
    "put in the pass statement to avoid getting an error.\n",
    "Example\n",
    "\"\"\"\n",
    "a = 33\n",
    "b = 200\n",
    "\n",
    "if b > a:\n",
    "  pass "
   ]
  },
  {
   "cell_type": "code",
   "execution_count": 13,
   "metadata": {},
   "outputs": [
    {
     "name": "stdout",
     "output_type": "stream",
     "text": [
      "1\n",
      "2\n",
      "3\n",
      "4\n",
      "5\n"
     ]
    }
   ],
   "source": [
    "\"\"\"\n",
    "Python While Loops\n",
    "\n",
    "Python Loops\n",
    "\n",
    "Python has two primitive loop commands:\n",
    "\n",
    "    1. while loops\n",
    "    2. for loops\n",
    "\n",
    "The while Loop\n",
    "\n",
    "With the while loop we can execute a set of statements as long as a condition is true.\n",
    "\n",
    "\"\"\"\n",
    "#The while loop requires relevant variables to be ready, \n",
    "#in this example we need to define an indexing variable, i, which we set to 1.\n",
    "#Print i as long as i is less than 6:\n",
    "#Note: remember to increment i, or else the loop will continue forever.\n",
    "i = 1\n",
    "while i < 6:\n",
    "  print(i)\n",
    "  i += 1"
   ]
  },
  {
   "cell_type": "code",
   "execution_count": 14,
   "metadata": {},
   "outputs": [
    {
     "name": "stdout",
     "output_type": "stream",
     "text": [
      "1\n",
      "2\n",
      "3\n"
     ]
    }
   ],
   "source": [
    "\"\"\"\n",
    "The break Statement\n",
    "\n",
    "With the break statement we can stop the loop even if the while condition is true:\n",
    "Example\n",
    "\"\"\"\n",
    "#Exit the loop when i is 3:\n",
    "i = 1\n",
    "while i < 6:\n",
    "  print(i)\n",
    "  if i == 3:\n",
    "    break\n",
    "  i += 1 "
   ]
  },
  {
   "cell_type": "code",
   "execution_count": 15,
   "metadata": {},
   "outputs": [
    {
     "name": "stdout",
     "output_type": "stream",
     "text": [
      "1\n",
      "2\n",
      "4\n",
      "5\n",
      "6\n"
     ]
    }
   ],
   "source": [
    "\"\"\"\n",
    "The continue Statement\n",
    "\n",
    "With the continue statement we can stop the current iteration, and continue with the next:\n",
    "Example\n",
    "\"\"\"\n",
    "#Continue to the next iteration if i is 3:\n",
    "i = 0\n",
    "while i < 6:\n",
    "  i += 1\n",
    "  if i == 3:\n",
    "    continue\n",
    "  print(i)"
   ]
  },
  {
   "cell_type": "code",
   "execution_count": 16,
   "metadata": {},
   "outputs": [
    {
     "name": "stdout",
     "output_type": "stream",
     "text": [
      "1\n",
      "2\n",
      "3\n",
      "4\n",
      "5\n",
      "i is no longer less than 6\n"
     ]
    }
   ],
   "source": [
    "\"\"\"\n",
    "The else Statement\n",
    "\n",
    "With the else statement we can run a block of code once when the condition no longer is true:\n",
    "Example\n",
    "\"\"\"\n",
    "#Print a message once the condition is false:\n",
    "i = 1\n",
    "while i < 6:\n",
    "  print(i)\n",
    "  i += 1\n",
    "else:\n",
    "  print(\"i is no longer less than 6\")"
   ]
  },
  {
   "cell_type": "code",
   "execution_count": 17,
   "metadata": {},
   "outputs": [
    {
     "name": "stdout",
     "output_type": "stream",
     "text": [
      "apple\n",
      "banana\n",
      "cherry\n"
     ]
    }
   ],
   "source": [
    "\"\"\"\n",
    "Python For Loops\n",
    "\n",
    "A for loop is used for iterating over a sequence (that is either a list, a tuple, a dictionary, a set, or a string).\n",
    "\n",
    "This is less like the for keyword in other programming languages, and works more like an iterator method as found in \n",
    "other object-orientated programming languages.\n",
    "\n",
    "With the for loop we can execute a set of statements, once for each item in a list, tuple, set etc.\n",
    "Example\n",
    "\"\"\"\n",
    "# Note : The for loop does not require an indexing variable to set beforehand.\n",
    "\n",
    "#Print each fruit in a fruit list:\n",
    "fruits = [\"apple\", \"banana\", \"cherry\"]\n",
    "for x in fruits:\n",
    "  print(x)"
   ]
  },
  {
   "cell_type": "code",
   "execution_count": 18,
   "metadata": {},
   "outputs": [
    {
     "name": "stdout",
     "output_type": "stream",
     "text": [
      "b\n",
      "a\n",
      "n\n",
      "a\n",
      "n\n",
      "a\n"
     ]
    }
   ],
   "source": [
    "\"\"\"\n",
    "Looping Through a String\n",
    "\n",
    "Even strings are iterable objects, they contain a sequence of characters:\n",
    "Example\n",
    "\"\"\"\n",
    "#Loop through the letters in the word \"banana\":\n",
    "for x in \"banana\":\n",
    "  print(x)\n"
   ]
  },
  {
   "cell_type": "code",
   "execution_count": 19,
   "metadata": {},
   "outputs": [
    {
     "name": "stdout",
     "output_type": "stream",
     "text": [
      "apple\n",
      "banana\n"
     ]
    }
   ],
   "source": [
    "\"\"\"\n",
    "The break Statement\n",
    "\n",
    "With the break statement we can stop the loop before it has looped through all the items:\n",
    "Example\n",
    "\"\"\"\n",
    "#Exit the loop when x is \"banana\":\n",
    "fruits = [\"apple\", \"banana\", \"cherry\"]\n",
    "for x in fruits:\n",
    "  print(x)\n",
    "  if x == \"banana\":\n",
    "    break"
   ]
  },
  {
   "cell_type": "code",
   "execution_count": 20,
   "metadata": {},
   "outputs": [
    {
     "name": "stdout",
     "output_type": "stream",
     "text": [
      "apple\n"
     ]
    }
   ],
   "source": [
    "#Exit the loop when x is \"banana\", but this time the break comes before the print:\n",
    "fruits = [\"apple\", \"banana\", \"cherry\"]\n",
    "for x in fruits:\n",
    "  if x == \"banana\":\n",
    "    break\n",
    "  print(x)"
   ]
  },
  {
   "cell_type": "code",
   "execution_count": 21,
   "metadata": {},
   "outputs": [
    {
     "name": "stdout",
     "output_type": "stream",
     "text": [
      "apple\n",
      "cherry\n"
     ]
    }
   ],
   "source": [
    "\"\"\"The continue Statement\n",
    "\n",
    "With the continue statement we can stop the current iteration of the loop, and continue with the next:\n",
    "Exam#ple\n",
    "\"\"\"\n",
    "#Do not print banana:\n",
    "fruits = [\"apple\", \"banana\", \"cherry\"]\n",
    "for x in fruits:\n",
    "  if x == \"banana\":\n",
    "    continue\n",
    "  print(x)"
   ]
  },
  {
   "cell_type": "code",
   "execution_count": 23,
   "metadata": {},
   "outputs": [
    {
     "name": "stdout",
     "output_type": "stream",
     "text": [
      "0\n",
      "1\n",
      "2\n",
      "3\n",
      "4\n",
      "5\n"
     ]
    }
   ],
   "source": [
    "\"\"\"\n",
    "The range() Function\n",
    "To loop through a set of code a specified number of times, we can use the range() function,\n",
    "\n",
    "The range() function returns a sequence of numbers, starting from 0 by default, and increments by 1 (by default),\n",
    "and ends at a specified number.\n",
    "\n",
    "Note that range(6) is not the values of 0 to 6, but the values 0 to 5.\n",
    "\n",
    "Example\n",
    "\"\"\"\n",
    "#Using the range() function:\n",
    "for x in range(6):\n",
    "  print(x)"
   ]
  },
  {
   "cell_type": "code",
   "execution_count": 25,
   "metadata": {},
   "outputs": [
    {
     "name": "stdout",
     "output_type": "stream",
     "text": [
      "2\n",
      "3\n",
      "4\n",
      "5\n"
     ]
    }
   ],
   "source": [
    "\"\"\"\n",
    "The range() function defaults to 0 as a starting value, however it is possible to specify the starting\n",
    "value by adding a parameter: range(2, 6), which means values from 2 to 6 (but not including 6):\n",
    "Example\n",
    "\"\"\"\n",
    "#Using the start parameter:\n",
    "for x in range(2, 6):\n",
    "  print(x)"
   ]
  },
  {
   "cell_type": "code",
   "execution_count": 26,
   "metadata": {},
   "outputs": [
    {
     "name": "stdout",
     "output_type": "stream",
     "text": [
      "2\n",
      "5\n",
      "8\n",
      "11\n",
      "14\n",
      "17\n",
      "20\n",
      "23\n",
      "26\n",
      "29\n"
     ]
    }
   ],
   "source": [
    "\"\"\"\n",
    "The range() function defaults to increment the sequence by 1, however it is possible \n",
    "to specify the increment value by adding a third parameter: range(2, 30, 3):\n",
    "Example\n",
    "\"\"\"\n",
    "#Increment the sequence with 3 (default is 1):\n",
    "for x in range(2, 30, 3):\n",
    "  print(x)"
   ]
  },
  {
   "cell_type": "code",
   "execution_count": 27,
   "metadata": {},
   "outputs": [
    {
     "name": "stdout",
     "output_type": "stream",
     "text": [
      "0\n",
      "1\n",
      "2\n",
      "3\n",
      "4\n",
      "5\n",
      "Finally finished!\n"
     ]
    }
   ],
   "source": [
    "\"\"\"\n",
    "Else in For Loop\n",
    "\n",
    "The else keyword in a for loop specifies a block of code to be executed when the loop is finished:\n",
    "Example\n",
    "\"\"\"\n",
    "#Print all numbers from 0 to 5, and print a message when the loop has ended:\n",
    "for x in range(6):\n",
    "  print(x)\n",
    "else:\n",
    "  print(\"Finally finished!\") "
   ]
  },
  {
   "cell_type": "code",
   "execution_count": 28,
   "metadata": {},
   "outputs": [
    {
     "name": "stdout",
     "output_type": "stream",
     "text": [
      "red apple\n",
      "red banana\n",
      "red cherry\n",
      "big apple\n",
      "big banana\n",
      "big cherry\n",
      "tasty apple\n",
      "tasty banana\n",
      "tasty cherry\n"
     ]
    }
   ],
   "source": [
    "\"\"\"\n",
    "Nested Loops\n",
    "\n",
    "A nested loop is a loop inside a loop.\n",
    "\n",
    "The \"inner loop\" will be executed one time for each iteration of the \"outer loop\":\n",
    "Example\n",
    "\"\"\"\n",
    "#Print each adjective for every fruit:\n",
    "adj = [\"red\", \"big\", \"tasty\"]\n",
    "fruits = [\"apple\", \"banana\", \"cherry\"]\n",
    "\n",
    "for x in adj:\n",
    "  for y in fruits:\n",
    "    print(x, y) "
   ]
  },
  {
   "cell_type": "code",
   "execution_count": 29,
   "metadata": {},
   "outputs": [],
   "source": [
    "\"\"\"\n",
    "The pass Statement\n",
    "\n",
    "for loops cannot be empty, but if you for some reason have a for loop with no content, put in the pass statement \n",
    "to avoid getting an error.\n",
    "Example\n",
    "\"\"\"\n",
    "for x in [0, 1, 2]:\n",
    "  pass "
   ]
  },
  {
   "cell_type": "code",
   "execution_count": 37,
   "metadata": {},
   "outputs": [
    {
     "name": "stdout",
     "output_type": "stream",
     "text": [
      "Truth Values, explanation\n"
     ]
    }
   ],
   "source": [
    "\"\"\"\n",
    "Truth Values\n",
    "\n",
    "The following values are considered falsey, in that they evaluate to False when applied to a boolean operator.\n",
    "\n",
    "1. None\n",
    "2. False\n",
    "3. 0, or any numerical value equivalent to zero, for example 0L, 0.0, 0j\n",
    "4. Empty sequences: '', \"\", (), []\n",
    "5. Empty mappings: {}\n",
    "6. User-defined types where the __bool__ or __len__ methods return 0 or False\n",
    "\n",
    "All other values in Python evaluate to True.\n",
    "\n",
    "Note: A common mistake is to simply check for the Falseness of an operation which returns different Falsey values\n",
    "where the difference matters. For example, using if foo() rather than the more explicit if foo() is None\n",
    "\n",
    "\"\"\"\n",
    "print(\"Truth Values, explanation\")"
   ]
  },
  {
   "cell_type": "code",
   "execution_count": 38,
   "metadata": {},
   "outputs": [
    {
     "data": {
      "text/plain": [
       "0"
      ]
     },
     "execution_count": 38,
     "metadata": {},
     "output_type": "execute_result"
    }
   ],
   "source": [
    "\"\"\"\n",
    "Lazy evaluation\n",
    "When you use this approach, remember that the evaluation is lazy. Expressions that are not required to be\n",
    "evaluated to determine the result are not evaluated. \n",
    "\n",
    "For example:\n",
    "In the below example, print_me is never executed because Python can determine the entire expression is False\n",
    "when it encounters the 0 (False). Keep this in mind if print_me needs to execute to serve your program logic.\n",
    "\"\"\"\n",
    "\n",
    "def print_me():\n",
    "    print('I am here!')\n",
    "0 and print_me()"
   ]
  },
  {
   "cell_type": "code",
   "execution_count": 41,
   "metadata": {},
   "outputs": [
    {
     "ename": "NameError",
     "evalue": "name 'cmp' is not defined",
     "output_type": "error",
     "traceback": [
      "\u001b[1;31m---------------------------------------------------------------------------\u001b[0m",
      "\u001b[1;31mNameError\u001b[0m                                 Traceback (most recent call last)",
      "\u001b[1;32m<ipython-input-41-23fbdc127a99>\u001b[0m in \u001b[0;36m<module>\u001b[1;34m\u001b[0m\n\u001b[0;32m      8\u001b[0m \"\"\"\n\u001b[0;32m      9\u001b[0m \u001b[1;33m\u001b[0m\u001b[0m\n\u001b[1;32m---> 10\u001b[1;33m \u001b[1;33m[\u001b[0m\u001b[1;34m'equal'\u001b[0m\u001b[1;33m,\u001b[0m \u001b[1;34m'greater than'\u001b[0m\u001b[1;33m,\u001b[0m \u001b[1;34m'less than'\u001b[0m\u001b[1;33m,\u001b[0m \u001b[1;33m]\u001b[0m\u001b[1;33m[\u001b[0m\u001b[0mcmp\u001b[0m\u001b[1;33m(\u001b[0m\u001b[0mx\u001b[0m\u001b[1;33m,\u001b[0m\u001b[0my\u001b[0m\u001b[1;33m)\u001b[0m\u001b[1;33m]\u001b[0m\u001b[1;33m\u001b[0m\u001b[1;33m\u001b[0m\u001b[0m\n\u001b[0m\u001b[0;32m     11\u001b[0m \u001b[1;31m# x,y = 1,1 output: 'equal'\u001b[0m\u001b[1;33m\u001b[0m\u001b[1;33m\u001b[0m\u001b[1;33m\u001b[0m\u001b[0m\n\u001b[0;32m     12\u001b[0m \u001b[1;31m# x,y = 1,2 output: 'less than'\u001b[0m\u001b[1;33m\u001b[0m\u001b[1;33m\u001b[0m\u001b[1;33m\u001b[0m\u001b[0m\n",
      "\u001b[1;31mNameError\u001b[0m: name 'cmp' is not defined"
     ]
    }
   ],
   "source": [
    "\"\"\"\n",
    "Using the cmp function to get the comparison result of two objects\n",
    "\n",
    "Python 2 includes a cmp function which allows you to determine if one object is less than, equal to, or greater than\n",
    "another object. This function can be used to pick a choice out of a list based on one of those three options.\n",
    "\n",
    "Suppose you need to print 'greater than' if x > y, 'less than' if x < y and 'equal' if x == y\n",
    "\"\"\"\n",
    "\n",
    "['equal', 'greater than', 'less than', ][cmp(x,y)]\n",
    "# x,y = 1,1 output: 'equal'\n",
    "# x,y = 1,2 output: 'less than'\n",
    "# x,y = 2,1 output: 'greater than'\n",
    "\"\"\"\n",
    "This function is removed on Python 3. You can use the cmp_to_key(func) helper function located in functools in\n",
    "Python 3 to convert old comparison functions to key functions.\n",
    "\"\"\""
   ]
  },
  {
   "cell_type": "code",
   "execution_count": 48,
   "metadata": {},
   "outputs": [
    {
     "name": "stdout",
     "output_type": "stream",
     "text": [
      "True\n",
      "False\n",
      "True\n",
      "True\n",
      "True\n",
      "False\n",
      "Comparision of 'is' vs '==''\n"
     ]
    }
   ],
   "source": [
    "\"\"\"\n",
    "Comparison by `is` vs `==`\n",
    "A common pitfall is confusing the equality comparison operators is and ==.\n",
    "a == b compares the value of a and b.\n",
    "a is b will compare the identities of a and b.\n",
    "\"\"\"\n",
    "\n",
    "a = 'Python is fun!'\n",
    "b = 'Python is fun!'\n",
    "print(a == b) # returns True\n",
    "print(a is b) # returns False\n",
    "a = [1, 2, 3, 4, 5]\n",
    "b = a # b references a\n",
    "print(a == b) # True\n",
    "print(a is b) # True\n",
    "b = a[:] # b now references a copy of a\n",
    "print(a == b) # True\n",
    "print(a is b) # False [!!]\n",
    "\n",
    "\"\"\"\n",
    "Basically, is can be thought of as shorthand for id(a) == id(b).\n",
    "Beyond this, there are quirks of the run-time environment that further complicate things. Short strings and small\n",
    "integers will return True when compared with is, due to the Python machine attempting to use less memory for\n",
    "identical objects.\n",
    "\"\"\"\n",
    "print(\"Comparision of 'is' vs '==''\")"
   ]
  },
  {
   "cell_type": "code",
   "execution_count": null,
   "metadata": {},
   "outputs": [],
   "source": [
    "\"\"\"\n",
    "Comparing Objects\n",
    "In order to compare the equality of custom classes, you can override == and != by defining __eq__ and __ne__\n",
    "methods. You can also override __lt__ (<), __le__ (<=), __gt__ (>), and __ge__ (>). Note that you only need to\n",
    "override two comparison methods, and Python can handle the rest (== is the same as not < and not >, etc.)\n",
    "\"\"\"\n",
    "\n"
   ]
  }
 ],
 "metadata": {
  "kernelspec": {
   "display_name": "Python 3",
   "language": "python",
   "name": "python3"
  },
  "language_info": {
   "codemirror_mode": {
    "name": "ipython",
    "version": 3
   },
   "file_extension": ".py",
   "mimetype": "text/x-python",
   "name": "python",
   "nbconvert_exporter": "python",
   "pygments_lexer": "ipython3",
   "version": "3.8.2"
  }
 },
 "nbformat": 4,
 "nbformat_minor": 2
}
