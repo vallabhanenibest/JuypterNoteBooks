{
 "cells": [
  {
   "cell_type": "code",
   "execution_count": 1,
   "metadata": {},
   "outputs": [
    {
     "name": "stdout",
     "output_type": "stream",
     "text": [
      "('apple', 'banana', 'cherry')\n"
     ]
    }
   ],
   "source": [
    "\"\"\"\n",
    "Python Tuples\n",
    "\n",
    "Tuple\n",
    "\n",
    "A tuple is a collection which is ordered and unchangeable. In Python tuples are written with round brackets.\n",
    "Example\n",
    "\"\"\"\n",
    "#Create a Tuple:\n",
    "thistuple = (\"apple\", \"banana\", \"cherry\")\n",
    "print(thistuple)\n",
    "\n",
    "\"\"\"\n",
    "Tuple is a collection of Python objects much like a list. The sequence of values stored in a tuple can be of any type, \n",
    "and they are indexed by integers. The important difference between a list and a tuple is that tuples are immutable. \n",
    "Also, Tuples are hashable whereas lists are not.\n",
    "Values of a tuple are syntactically separated by ‘commas’. Although it is not necessary, it is more common to define \n",
    "a tuple by closing the sequence of values in parentheses. This helps in understanding the Python tuples more easily.\n",
    "\n",
    "Tuples are immutable, and usually, they contain a sequence of heterogeneous elements that are accessed via unpacking \n",
    "or indexing (or even by attribute in the case of named tuples). Lists are mutable, and their elements are usually \n",
    "homogeneous and are accessed by iterating over the list.\n",
    "\n",
    "\n",
    "\"\"\"\n",
    "prnt(\"Tuple Explanation\")\n"
   ]
  },
  {
   "cell_type": "code",
   "execution_count": 2,
   "metadata": {},
   "outputs": [
    {
     "name": "stdout",
     "output_type": "stream",
     "text": [
      "banana\n"
     ]
    }
   ],
   "source": [
    "\"\"\"Access Tuple Items\n",
    "\n",
    "You can access tuple items by referring to the index number, inside square brackets:\n",
    "Example\n",
    "\"\"\"\n",
    "#Print the second item in the tuple:\n",
    "thistuple = (\"apple\", \"banana\", \"cherry\")\n",
    "print(thistuple[1])"
   ]
  },
  {
   "cell_type": "code",
   "execution_count": 3,
   "metadata": {},
   "outputs": [
    {
     "name": "stdout",
     "output_type": "stream",
     "text": [
      "cherry\n"
     ]
    }
   ],
   "source": [
    "\"\"\"Negative Indexing\n",
    "\n",
    "Negative indexing means beginning from the end, -1 refers to the last item, -2 refers to the second last item etc#.\n",
    "Example\n",
    "\"\"\"\n",
    "#Print the last item of the tuple:\n",
    "thistuple = (\"apple\", \"banana\", \"cherry\")\n",
    "print(thistuple[-1])"
   ]
  },
  {
   "cell_type": "code",
   "execution_count": 5,
   "metadata": {},
   "outputs": [
    {
     "name": "stdout",
     "output_type": "stream",
     "text": [
      "('cherry', 'orange', 'kiwi')\n"
     ]
    }
   ],
   "source": [
    "\"\"\"\n",
    "Range of Indexes\n",
    "\n",
    "You can specify a range of indexes by specifying where to start and where to end the range.\n",
    "\n",
    "When specifying a range, the return value will be a new tuple with the specified items.\n",
    "Example\n",
    "Note: The search will start at index 2 (included) and end at index 5 (not included).\n",
    "\n",
    "Remember that the first item has index 0.\n",
    "\"\"\"\n",
    "#Return the third, fourth, and fifth item:\n",
    "thistuple = (\"apple\", \"banana\", \"cherry\", \"orange\", \"kiwi\", \"melon\", \"mango\")\n",
    "print(thistuple[2:5])"
   ]
  },
  {
   "cell_type": "code",
   "execution_count": 6,
   "metadata": {},
   "outputs": [
    {
     "name": "stdout",
     "output_type": "stream",
     "text": [
      "('orange', 'kiwi', 'melon')\n"
     ]
    }
   ],
   "source": [
    "\"\"\"Range of Negative Indexes\n",
    "\n",
    "Specify negative indexes if you want to start the search from the end of the tuple:\n",
    "Example\n",
    "\"\"\"\n",
    "#This example returns the items from index -4 (included) to index -1 (excluded)\n",
    "thistuple = (\"apple\", \"banana\", \"cherry\", \"orange\", \"kiwi\", \"melon\", \"mango\")\n",
    "print(thistuple[-4:-1])"
   ]
  },
  {
   "cell_type": "code",
   "execution_count": 7,
   "metadata": {},
   "outputs": [
    {
     "name": "stdout",
     "output_type": "stream",
     "text": [
      "('apple', 'kiwi', 'cherry')\n"
     ]
    }
   ],
   "source": [
    "\"\"\"\n",
    "Change Tuple Values\n",
    "\n",
    "Once a tuple is created, you cannot change its values. Tuples are unchangeable, or immutable as it also is called.\n",
    "\n",
    "But there is a workaround. You can convert the tuple into a list, change the list, and convert the list back into a tuple.\n",
    "Example\n",
    "\"\"\"\n",
    "#Convert the tuple into a list to be able to change it:\n",
    "x = (\"apple\", \"banana\", \"cherry\")\n",
    "y = list(x)\n",
    "y[1] = \"kiwi\"\n",
    "x = tuple(y)\n",
    "\n",
    "print(x) "
   ]
  },
  {
   "cell_type": "code",
   "execution_count": 8,
   "metadata": {},
   "outputs": [
    {
     "name": "stdout",
     "output_type": "stream",
     "text": [
      "apple\n",
      "banana\n",
      "cherry\n"
     ]
    }
   ],
   "source": [
    "\"\"\"Loop Through a Tuple\n",
    "\n",
    "You can loop through the tuple items by using a for loop.\n",
    "Example\n",
    "\"\"\"\n",
    "#Iterate through the items and print the values:\n",
    "thistuple = (\"apple\", \"banana\", \"cherry\")\n",
    "for x in thistuple:\n",
    "  print(x) "
   ]
  },
  {
   "cell_type": "code",
   "execution_count": 9,
   "metadata": {},
   "outputs": [
    {
     "name": "stdout",
     "output_type": "stream",
     "text": [
      "Yes, 'apple' is in the fruits tuple\n"
     ]
    }
   ],
   "source": [
    "\"\"\"\n",
    "Check if Item Exists\n",
    "\n",
    "To determine if a specified item is present in a tuple use the in keyword:\n",
    "Example\n",
    "\"\"\"\n",
    "#Check if \"apple\" is present in the tuple:\n",
    "thistuple = (\"apple\", \"banana\", \"cherry\")\n",
    "if \"apple\" in thistuple:\n",
    "  print(\"Yes, 'apple' is in the fruits tuple\") "
   ]
  },
  {
   "cell_type": "code",
   "execution_count": 10,
   "metadata": {},
   "outputs": [
    {
     "name": "stdout",
     "output_type": "stream",
     "text": [
      "3\n"
     ]
    }
   ],
   "source": [
    "\"\"\"\n",
    "Tuple Length\n",
    "\n",
    "To determine how many items a tuple has, use the len() method:\n",
    "Example\n",
    "\"\"\"\n",
    "#Print the number of items in the tuple:\n",
    "thistuple = (\"apple\", \"banana\", \"cherry\")\n",
    "print(len(thistuple)) \n"
   ]
  },
  {
   "cell_type": "code",
   "execution_count": 11,
   "metadata": {},
   "outputs": [
    {
     "ename": "TypeError",
     "evalue": "'tuple' object does not support item assignment",
     "output_type": "error",
     "traceback": [
      "\u001b[1;31m---------------------------------------------------------------------------\u001b[0m",
      "\u001b[1;31mTypeError\u001b[0m                                 Traceback (most recent call last)",
      "\u001b[1;32m<ipython-input-11-b6ad8b992584>\u001b[0m in \u001b[0;36m<module>\u001b[1;34m\u001b[0m\n\u001b[0;32m      7\u001b[0m \u001b[1;31m#You cannot add items to a tuple:\u001b[0m\u001b[1;33m\u001b[0m\u001b[1;33m\u001b[0m\u001b[1;33m\u001b[0m\u001b[0m\n\u001b[0;32m      8\u001b[0m \u001b[0mthistuple\u001b[0m \u001b[1;33m=\u001b[0m \u001b[1;33m(\u001b[0m\u001b[1;34m\"apple\"\u001b[0m\u001b[1;33m,\u001b[0m \u001b[1;34m\"banana\"\u001b[0m\u001b[1;33m,\u001b[0m \u001b[1;34m\"cherry\"\u001b[0m\u001b[1;33m)\u001b[0m\u001b[1;33m\u001b[0m\u001b[1;33m\u001b[0m\u001b[0m\n\u001b[1;32m----> 9\u001b[1;33m \u001b[0mthistuple\u001b[0m\u001b[1;33m[\u001b[0m\u001b[1;36m3\u001b[0m\u001b[1;33m]\u001b[0m \u001b[1;33m=\u001b[0m \u001b[1;34m\"orange\"\u001b[0m \u001b[1;31m# This will raise an error\u001b[0m\u001b[1;33m\u001b[0m\u001b[1;33m\u001b[0m\u001b[0m\n\u001b[0m\u001b[0;32m     10\u001b[0m \u001b[0mprint\u001b[0m\u001b[1;33m(\u001b[0m\u001b[0mthistuple\u001b[0m\u001b[1;33m)\u001b[0m\u001b[1;33m\u001b[0m\u001b[1;33m\u001b[0m\u001b[0m\n",
      "\u001b[1;31mTypeError\u001b[0m: 'tuple' object does not support item assignment"
     ]
    }
   ],
   "source": [
    "\"\"\"\n",
    "Add Items\n",
    "\n",
    "Once a tuple is created, you cannot add items to it. Tuples are unchangeable.\n",
    "Example\n",
    "\"\"\"\n",
    "#You cannot add items to a tuple:\n",
    "thistuple = (\"apple\", \"banana\", \"cherry\")\n",
    "thistuple[3] = \"orange\" # This will raise an error\n",
    "print(thistuple)"
   ]
  },
  {
   "cell_type": "code",
   "execution_count": 12,
   "metadata": {},
   "outputs": [
    {
     "name": "stdout",
     "output_type": "stream",
     "text": [
      "<class 'tuple'>\n",
      "<class 'str'>\n"
     ]
    }
   ],
   "source": [
    "\"\"\"\n",
    "Create Tuple With One Item\n",
    "\n",
    "To create a tuple with only one item, you have add a comma after the item, unless Python will not recognize the variable as a tuple.\n",
    "Example\n",
    "\"\"\"\n",
    "#One item tuple, remember the commma:\n",
    "thistuple = (\"apple\",)\n",
    "print(type(thistuple))\n",
    "\n",
    "#NOT a tuple\n",
    "thistuple = (\"apple\")\n",
    "print(type(thistuple)) "
   ]
  },
  {
   "cell_type": "code",
   "execution_count": 13,
   "metadata": {},
   "outputs": [
    {
     "ename": "NameError",
     "evalue": "name 'thistuple' is not defined",
     "output_type": "error",
     "traceback": [
      "\u001b[1;31m---------------------------------------------------------------------------\u001b[0m",
      "\u001b[1;31mNameError\u001b[0m                                 Traceback (most recent call last)",
      "\u001b[1;32m<ipython-input-13-58c189ec7a88>\u001b[0m in \u001b[0;36m<module>\u001b[1;34m\u001b[0m\n\u001b[0;32m     11\u001b[0m \u001b[0mthistuple\u001b[0m \u001b[1;33m=\u001b[0m \u001b[1;33m(\u001b[0m\u001b[1;34m\"apple\"\u001b[0m\u001b[1;33m,\u001b[0m \u001b[1;34m\"banana\"\u001b[0m\u001b[1;33m,\u001b[0m \u001b[1;34m\"cherry\"\u001b[0m\u001b[1;33m)\u001b[0m\u001b[1;33m\u001b[0m\u001b[1;33m\u001b[0m\u001b[0m\n\u001b[0;32m     12\u001b[0m \u001b[1;32mdel\u001b[0m \u001b[0mthistuple\u001b[0m\u001b[1;33m\u001b[0m\u001b[1;33m\u001b[0m\u001b[0m\n\u001b[1;32m---> 13\u001b[1;33m \u001b[0mprint\u001b[0m\u001b[1;33m(\u001b[0m\u001b[0mthistuple\u001b[0m\u001b[1;33m)\u001b[0m \u001b[1;31m#this will raise an error because the tuple no longer exists\u001b[0m\u001b[1;33m\u001b[0m\u001b[1;33m\u001b[0m\u001b[0m\n\u001b[0m",
      "\u001b[1;31mNameError\u001b[0m: name 'thistuple' is not defined"
     ]
    }
   ],
   "source": [
    "\"\"\"\n",
    "\n",
    "Remove Items\n",
    "\n",
    "Note: You cannot remove items in a tuple.\n",
    "\n",
    " Tuples are unchangeable, so you cannot remove items from it, but you can delete the tuple completely:\n",
    "Example\n",
    "\"\"\"\n",
    "#The del keyword can delete the tuple completely:\n",
    "thistuple = (\"apple\", \"banana\", \"cherry\")\n",
    "del thistuple\n",
    "print(thistuple) #this will raise an error because the tuple no longer exists "
   ]
  },
  {
   "cell_type": "code",
   "execution_count": 14,
   "metadata": {},
   "outputs": [
    {
     "name": "stdout",
     "output_type": "stream",
     "text": [
      "('a', 'b', 'c', 1, 2, 3)\n"
     ]
    }
   ],
   "source": [
    "\"\"\"\n",
    "Join Two Tuples\n",
    "\n",
    "To join two or more tuples you can use the + operator:\n",
    "Example\n",
    "\"\"\"\n",
    "#Join two tuples:\n",
    "tuple1 = (\"a\", \"b\" , \"c\")\n",
    "tuple2 = (1, 2, 3)\n",
    "\n",
    "tuple3 = tuple1 + tuple2\n",
    "print(tuple3) "
   ]
  },
  {
   "cell_type": "code",
   "execution_count": 15,
   "metadata": {},
   "outputs": [
    {
     "name": "stdout",
     "output_type": "stream",
     "text": [
      "('apple', 'banana', 'cherry')\n"
     ]
    }
   ],
   "source": [
    "\"\"\"\n",
    "The tuple() Constructor\n",
    "\n",
    "It is also possible to use the tuple() constructor to make a tuple.\n",
    "Example\n",
    "\"\"\"\n",
    "#Using the tuple() method to make a tuple:\n",
    "thistuple = tuple((\"apple\", \"banana\", \"cherry\")) # note the double round-brackets\n",
    "print(thistuple)"
   ]
  },
  {
   "cell_type": "code",
   "execution_count": 16,
   "metadata": {},
   "outputs": [
    {
     "name": "stdout",
     "output_type": "stream",
     "text": [
      "2\n"
     ]
    }
   ],
   "source": [
    "\"\"\"\n",
    "Python Tuple count() Method\n",
    "\n",
    "The count() method returns the number of times a specified value appears in the tuple.\n",
    "Syntax\n",
    "tuple.count(value)\n",
    "Parameter Values\n",
    "----------------\n",
    "Parameter   Description\n",
    "value       Required. The item to search for\n",
    "\n",
    "\"\"\"\n",
    "\n",
    "#Return the number of times the value 5 appears in the tuple:\n",
    "thistuple = (1, 3, 7, 8, 7, 5, 4, 6, 8, 5)\n",
    "\n",
    "x = thistuple.count(5)\n",
    "\n",
    "print(x) "
   ]
  },
  {
   "cell_type": "code",
   "execution_count": 17,
   "metadata": {},
   "outputs": [
    {
     "name": "stdout",
     "output_type": "stream",
     "text": [
      "3\n"
     ]
    }
   ],
   "source": [
    "\"\"\"\n",
    "Python Tuple index() Method\n",
    "\n",
    "The index() method finds the first occurrence of the specified value.\n",
    "\n",
    "The index() method raises an exception if the value is not found.\n",
    "Syntax\n",
    "tuple.index(value)\n",
    "Parameter Values\n",
    "----------------\n",
    "Parameter   Description\n",
    "value       Required. The item to search for\n",
    "\"\"\"\n",
    "\n",
    "#Search for the first occurrence of the value 8, and return its position:\n",
    "thistuple = (1, 3, 7, 8, 7, 5, 4, 6, 8, 5)\n",
    "\n",
    "x = thistuple.index(8)\n",
    "\n",
    "print(x) "
   ]
  },
  {
   "cell_type": "code",
   "execution_count": null,
   "metadata": {},
   "outputs": [],
   "source": [
    "\"\"\"\n",
    "Creating a Tuple\n",
    "In Python, tuples are created by placing sequence of values separated by ‘comma’ with or without the use of parentheses for grouping of data sequence. Tuples can contain any number of elements and of any datatype (like strings, integers, list, etc.). Tuples can also be created with a single element, but it is a bit tricky. Having one element in the parentheses is not sufficient, there must be a trailing ‘comma’ to make it a tuple.\n",
    "\n",
    "Note – Creation of Python tuple without the use of parentheses is known as Tuple Packing.\n",
    "\"\"\""
   ]
  }
 ],
 "metadata": {
  "kernelspec": {
   "display_name": "Python 3",
   "language": "python",
   "name": "python3"
  },
  "language_info": {
   "codemirror_mode": {
    "name": "ipython",
    "version": 3
   },
   "file_extension": ".py",
   "mimetype": "text/x-python",
   "name": "python",
   "nbconvert_exporter": "python",
   "pygments_lexer": "ipython3",
   "version": "3.7.6"
  }
 },
 "nbformat": 4,
 "nbformat_minor": 2
}
