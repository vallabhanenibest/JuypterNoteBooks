{
 "cells": [
  {
   "cell_type": "code",
   "execution_count": 1,
   "metadata": {},
   "outputs": [
    {
     "name": "stdout",
     "output_type": "stream",
     "text": [
      "15\n"
     ]
    }
   ],
   "source": [
    "\"\"\"\n",
    "Python Lambda\n",
    "\n",
    "A lambda function is a small anonymous function.\n",
    "\n",
    "A lambda function can take any number of arguments, but can only have one expression.\n",
    "\n",
    "Syntax\n",
    "lambda arguments : expression\n",
    "\n",
    "The expression is executed and the result is returned:\n",
    "\n",
    "\"\"\"\n",
    "#A lambda function that adds 10 to the number passed in as an argument, and print the result:\n",
    "x = lambda a : a + 10\n",
    "print(x(5)) \n"
   ]
  },
  {
   "cell_type": "code",
   "execution_count": 2,
   "metadata": {},
   "outputs": [
    {
     "name": "stdout",
     "output_type": "stream",
     "text": [
      "30\n"
     ]
    }
   ],
   "source": [
    "\"\"\"\n",
    "Lambda functions can take any number of arguments:\n",
    "Example\n",
    "\"\"\"\n",
    "#A lambda function that multiplies argument a with argument b and print the result:\n",
    "x = lambda a, b : a * b\n",
    "print(x(5, 6)) "
   ]
  },
  {
   "cell_type": "code",
   "execution_count": 3,
   "metadata": {},
   "outputs": [
    {
     "name": "stdout",
     "output_type": "stream",
     "text": [
      "13\n"
     ]
    }
   ],
   "source": [
    "#A lambda function that sums argument a, b, and c and print the result:\n",
    "x = lambda a, b, c : a + b + c\n",
    "print(x(5, 6, 2)) "
   ]
  },
  {
   "cell_type": "code",
   "execution_count": 4,
   "metadata": {},
   "outputs": [
    {
     "name": "stdout",
     "output_type": "stream",
     "text": [
      "22\n"
     ]
    }
   ],
   "source": [
    "\"\"\"\n",
    "Why Use Lambda Functions?\n",
    "\n",
    "The power of lambda is better shown when you use them as an anonymous function inside another function.\n",
    "\n",
    "Say you have a function definition that takes one argument, and that argument will be multiplied with an unknown number:\n",
    "def myfunc(n):\n",
    "  return lambda a : a * n\n",
    "\n",
    "Use that function definition to make a function that always doubles the number you send in:\n",
    "\n",
    "\"\"\"\n",
    "\n",
    "def myfunc(n):\n",
    "  return lambda a : a * n\n",
    "\n",
    "mydoubler = myfunc(2)\n",
    "\n",
    "print(mydoubler(11))"
   ]
  },
  {
   "cell_type": "code",
   "execution_count": 5,
   "metadata": {},
   "outputs": [
    {
     "name": "stdout",
     "output_type": "stream",
     "text": [
      "33\n"
     ]
    }
   ],
   "source": [
    "\"\"\"\n",
    "Or, use the same function definition to make a function that always triples the number you send in:\n",
    "Example\n",
    "\"\"\"\n",
    "def myfunc(n):\n",
    "  return lambda a : a * n\n",
    "\n",
    "mytripler = myfunc(3)\n",
    "\n",
    "print(mytripler(11))"
   ]
  },
  {
   "cell_type": "code",
   "execution_count": 6,
   "metadata": {},
   "outputs": [
    {
     "name": "stdout",
     "output_type": "stream",
     "text": [
      "22\n",
      "33\n"
     ]
    }
   ],
   "source": [
    "\"\"\"\n",
    "Or, use the same function definition to make both functions, in the same program:\n",
    "Example\n",
    "\"\"\"\n",
    "\n",
    "#Note : Use lambda functions when an anonymous function is required for a short period of time.\n",
    "\n",
    "def myfunc(n):\n",
    "  return lambda a : a * n\n",
    "\n",
    "mydoubler = myfunc(2)\n",
    "mytripler = myfunc(3)\n",
    "\n",
    "print(mydoubler(11))\n",
    "print(mytripler(11))\n"
   ]
  },
  {
   "cell_type": "code",
   "execution_count": 3,
   "metadata": {},
   "outputs": [
    {
     "name": "stdout",
     "output_type": "stream",
     "text": [
      "Print With Return, REGULAR CALL\n",
      "Print Only, REGULAR CALL \n",
      "\n",
      "Print With Return, LAMBDA CALL\n",
      "Print Only, LAMBDA CALL\n"
     ]
    }
   ],
   "source": [
    "#A REGULAR FUNCTION\n",
    "def regularFn( funct, *args ):\n",
    "    funct( *args )\n",
    "def printWithReturn( arg ):\n",
    "    return print (arg)\n",
    "def printOnly( arg ):\n",
    "    print(arg)\n",
    "#CALL A REGULAR FUNCTION \n",
    "regularFn( printWithReturn, 'Print With Return, REGULAR CALL' )\n",
    "regularFn( printOnly, 'Print Only, REGULAR CALL \\n' )\n",
    "#CALL A REGULAR FUNCTION THRU A LAMBDA\n",
    "regularFn(lambda: printWithReturn('Print With Return, LAMBDA CALL'))\n",
    "regularFn(lambda: printOnly('Print Only, LAMBDA CALL'))"
   ]
  },
  {
   "cell_type": "code",
   "execution_count": 5,
   "metadata": {},
   "outputs": [
    {
     "data": {
      "text/plain": [
       "4"
      ]
     },
     "execution_count": 5,
     "metadata": {},
     "output_type": "execute_result"
    }
   ],
   "source": [
    "# Using lambdas with Python built-ins : map(), filter(), reduce()\n",
    "# Lambda functions provide an elegant and powerful way to perform operations using built-in methods in Python. \n",
    "# It is possible because lambdas can be invoked immediately and passed as an argument to these functions. \n",
    "# IIFE in Python Lambda:\n",
    "#          IIFE stands for \"immediately invoked function execution\". It means that a lambda function is callable as \n",
    "# soon as it is defined. Let's understand this with an example; fire up your IDLE and type in the following: \n",
    "(lambda x: x + x)(2)"
   ]
  },
  {
   "cell_type": "code",
   "execution_count": 6,
   "metadata": {},
   "outputs": [
    {
     "name": "stdout",
     "output_type": "stream",
     "text": [
      "[10, 8, 7, 5, 11]\n"
     ]
    }
   ],
   "source": [
    "'''\n",
    "lambdas in filter()\n",
    "The filter function is used to select some particular elements from a sequence of elements. \n",
    "The sequence can be any iterator like lists, sets, tuples, etc. \n",
    "\n",
    "The elements which will be selected is based on some pre-defined constraint. It takes 2 parameters: \n",
    "1. A function that defines the filtering constraint\n",
    "2. A sequence (any iterator like lists, tuples, etc.)\n",
    "'''\n",
    "\n",
    "sequences = [10,2,8,7,5,4,3,11,0, 1]\n",
    "filtered_result = filter (lambda x: x > 4, sequences) \n",
    "print(list(filtered_result))\n",
    "\n",
    "\n",
    "# Code Explanation: \n",
    "# 1. In the first statement, we define a list called sequences which contains some numbers. \n",
    "# 2. Here, we declare a variable called filtered_result, which will store the filtered values \n",
    "#    returned by the filter() function. \n",
    "# 3. A lambda function which runs on each element of the list and returns true if it is greater than 4. \n",
    "# 4. Print the result returned by the filter function. "
   ]
  },
  {
   "cell_type": "code",
   "execution_count": null,
   "metadata": {},
   "outputs": [],
   "source": [
    "'''\n",
    "lambdas in map()\n",
    "The map function is used to apply a particular operation to every element in a sequence. \n",
    "Like filter(), it also takes 2 parameters: \n",
    "1. A function that defines the op to perform on the elements\n",
    "2. One or more sequences\n",
    "'''\n"
   ]
  }
 ],
 "metadata": {
  "kernelspec": {
   "display_name": "Python 3",
   "language": "python",
   "name": "python3"
  },
  "language_info": {
   "codemirror_mode": {
    "name": "ipython",
    "version": 3
   },
   "file_extension": ".py",
   "mimetype": "text/x-python",
   "name": "python",
   "nbconvert_exporter": "python",
   "pygments_lexer": "ipython3",
   "version": "3.8.2"
  }
 },
 "nbformat": 4,
 "nbformat_minor": 2
}
